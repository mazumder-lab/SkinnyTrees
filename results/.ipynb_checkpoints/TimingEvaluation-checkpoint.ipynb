{
 "cells": [
  {
   "cell_type": "code",
   "execution_count": null,
   "id": "b376aa3a",
   "metadata": {},
   "outputs": [
    {
     "name": "stderr",
     "output_type": "stream",
     "text": [
      "2023-10-08 22:32:00.311053: I tensorflow/core/util/util.cc:169] oneDNN custom operations are on. You may see slightly different numerical results due to floating-point round-off errors from different computation orders. To turn them off, set the environment variable `TF_ENABLE_ONEDNN_OPTS=0`.\n",
      "2023-10-08 22:32:05.921420: W tensorflow/stream_executor/platform/default/dso_loader.cc:64] Could not load dynamic library 'libcudart.so.11.0'; dlerror: libcudart.so.11.0: cannot open shared object file: No such file or directory\n",
      "2023-10-08 22:32:05.967078: I tensorflow/stream_executor/cuda/cudart_stub.cc:29] Ignore above cudart dlerror if you do not have a GPU set up on your machine.\n"
     ]
    }
   ],
   "source": [
    "import tensorflow as tf\n",
    "import tensorflow_probability as tfp\n",
    "from tensorflow.keras import backend as K\n",
    "from tensorflow.python.client import device_lib\n",
    "\n",
    "import os\n",
    "os.environ['TF_XLA_FLAGS'] = '--tf_xla_enable_xla_devices'\n",
    "import sys\n",
    "import pandas as pd, numpy as np,  matplotlib.pyplot as plt\n",
    "import optuna\n",
    "from optuna.samplers import RandomSampler\n",
    "import timeit\n",
    "import joblib\n",
    "from copy import deepcopy\n",
    "\n",
    "from sklearn.metrics import accuracy_score, roc_auc_score\n",
    "\n",
    "import pathlib\n",
    "sys.path.insert(0, os.path.abspath(os.getcwd()).split('src')[0])\n",
    "from src import utils_multitask\n",
    "\n",
    "from src.SoftTrees import losses\n",
    "from src.SoftTrees import models_multitask\n",
    "from src.SoftTrees import layers\n",
    "import sparse_soft_trees\n",
    "\n",
    "_DUMMY_RESPONSE = 1e8\n"
   ]
  },
  {
   "cell_type": "code",
   "execution_count": 2,
   "id": "71f2f923",
   "metadata": {},
   "outputs": [],
   "source": [
    "def get_available_gpus():\n",
    "    local_device_protos = device_lib.list_local_devices()\n",
    "    return [x.name for x in local_device_protos if x.device_type == 'GPU']\n",
    "\n",
    "def get_available_cpus():\n",
    "    local_device_protos = device_lib.list_local_devices()\n",
    "    return [x.name for x in local_device_protos if x.device_type == 'CPU']\n"
   ]
  },
  {
   "cell_type": "code",
   "execution_count": 3,
   "id": "d7b2f95b",
   "metadata": {},
   "outputs": [],
   "source": [
    "num_features = 22000\n",
    "num_train_samples = 1000\n",
    "num_valid_samples = 1000\n",
    "num_test_samples = 1000\n",
    "\n",
    "x_train = np.random.uniform(size=(num_train_samples, num_features))\n",
    "x_valid = np.random.uniform(size=(num_valid_samples, num_features))\n",
    "x_test = np.random.uniform(size=(num_test_samples, num_features))\n",
    "y_train = np.round(np.random.uniform(size=(num_train_samples, )))\n",
    "y_valid = np.round(np.random.uniform(size=(num_valid_samples, )))\n",
    "y_test = np.round(np.random.uniform(size=(num_test_samples, )))"
   ]
  },
  {
   "cell_type": "code",
   "execution_count": 4,
   "id": "4c524de6",
   "metadata": {},
   "outputs": [
    {
     "data": {
      "text/plain": [
       "((1000, 22000), (1000,), (1000, 22000), (1000,), (1000, 22000), (1000,))"
      ]
     },
     "execution_count": 4,
     "metadata": {},
     "output_type": "execute_result"
    }
   ],
   "source": [
    "x_train.shape, y_train.shape, x_valid.shape, y_valid.shape, x_test.shape, y_test.shape"
   ]
  },
  {
   "cell_type": "code",
   "execution_count": 39,
   "id": "8491f3e8",
   "metadata": {},
   "outputs": [
    {
     "name": "stdout",
     "output_type": "stream",
     "text": [
      "===========kernel_regularizer: <keras.regularizers.L2 object at 0x7f41e02f1b40>\n",
      "===========kernel_constraint: <sparse_soft_trees.ProximalGroupL0 object at 0x7f41e02f0940>\n",
      "Model: \"model_6\"\n",
      "_________________________________________________________________\n",
      " Layer (type)                Output Shape              Param #   \n",
      "=================================================================\n",
      " input (InputLayer)          [(None, 22000)]           0         \n",
      "                                                                 \n",
      " Classification (Functional)  (None, 2)                69309550  \n",
      "                                                                 \n",
      " activation_6 (Activation)   (None, 2)                 0         \n",
      "                                                                 \n",
      "=================================================================\n",
      "Total params: 69,309,550\n",
      "Trainable params: 69,309,550\n",
      "Non-trainable params: 0\n",
      "_________________________________________________________________\n"
     ]
    }
   ],
   "source": [
    "num_tasks = 1\n",
    "num_classes = 2\n",
    "constant_batch_size = 64\n",
    "batch_size_scaler = 16\n",
    "batch_size = constant_batch_size*batch_size_scaler\n",
    "constant_learning_rate = 1e0\n",
    "learning_rate_scheduling = True\n",
    "use_annealing = True\n",
    "epochs = 10\n",
    "kernel_l2 = 1e-1\n",
    "if use_annealing:\n",
    "    kernel_constraint = 100\n",
    "    temperature = 1e-3\n",
    "else:\n",
    "    kernel_constraint = 1e2\n",
    "early_stopping = False\n",
    "\n",
    "\n",
    "\n",
    "if num_train_samples % batch_size == 0:\n",
    "    epoch_step = num_train_samples / batch_size\n",
    "else:\n",
    "    epoch_step = int(num_train_samples / batch_size) + 1\n",
    "\n",
    "if learning_rate_scheduling:\n",
    "    learning_rate = np.sqrt(batch_size)*constant_learning_rate\n",
    "    max_steps = epoch_step * epochs\n",
    "    lr_schedule = sparse_soft_trees.LinearEpochGradualWarmupPolynomialDecayLearningRate(\n",
    "        1e-2,\n",
    "        learning_rate,\n",
    "        5*epoch_step,\n",
    "        max_steps,\n",
    "        power=2.0\n",
    "    )\n",
    "else:\n",
    "#         epochs = trial.suggest_int('epochs_new', 5, epochs)\n",
    "    print(\"==============No LR scheduler, Epochs:\", epochs, \"Batch-size:\", batch_size)\n",
    "    print(\"==============epochs:\", epochs)\n",
    "    learning_rate = constant_learning_rate\n",
    "    lr_schedule = sparse_soft_trees.ConstantLearningRate(\n",
    "        learning_rate\n",
    "    )\n",
    "optim = tf.keras.optimizers.SGD(lr_schedule)\n",
    "\n",
    "### Soft Decision Tree parameters \n",
    "num_trees = 50\n",
    "depth = 6\n",
    "num_layers = 1\n",
    "\n",
    "activation = tf.keras.activations.sigmoid\n",
    "group_sparsity = 'GroupL0L2'\n",
    "kernel_l2 = kernel_l2/(num_trees*(2**depth - 1))\n",
    "kernel_regularizer = tf.keras.regularizers.L2(kernel_l2)\n",
    "if use_annealing:\n",
    "    kernel_constraint = kernel_constraint/num_features\n",
    "    temperature = temperature\n",
    "    kernel_constraint=sparse_soft_trees.ProximalGroupL0(lr=lr_schedule, lam=kernel_constraint, temperature=temperature, use_annealing=True, name='ProximalGroupL0')\n",
    "else:\n",
    "    kernel_constraint = kernel_constraint/num_features\n",
    "    kernel_constraint=sparse_soft_trees.ProximalGroupL0(lr=lr_schedule, lam=kernel_constraint, use_annealing=False, name='ProximalGroupL0')\n",
    "print(\"===========kernel_regularizer:\", kernel_regularizer)\n",
    "print(\"===========kernel_constraint:\", kernel_constraint)\n",
    "\n",
    "### Loss parameters\n",
    "task_weights = np.ones(num_tasks)\n",
    "output_activation = 'linear'\n",
    "loss = losses.NegativeLogLikelihood()\n",
    "\n",
    "### Optimization parameters\n",
    "model_type = None\n",
    "\n",
    "leaf_dims = (num_classes, )\n",
    "x = tf.keras.layers.Input(name='input', shape=(num_features,))\n",
    "submodel = models_multitask.create_multitask_sparse_submodel(\n",
    "    x,\n",
    "    num_layers,\n",
    "    num_trees,\n",
    "    depth,\n",
    "    num_tasks,\n",
    "    leaf_dims,\n",
    "    \"Classification\",\n",
    "    activation=activation,\n",
    "    model_type=model_type,\n",
    "    kernel_regularizer=kernel_regularizer,\n",
    "    kernel_constraint=kernel_constraint,\n",
    ")\n",
    "x = submodel.input\n",
    "outputs = submodel(x)\n",
    "# print(outputs)\n",
    "ypred = tf.keras.layers.Activation('linear')(outputs)\n",
    "loss = tf.keras.losses.SparseCategoricalCrossentropy(from_logits=True)\n",
    "model = tf.keras.Model(inputs=x, outputs=ypred)\n",
    "model.summary()\n",
    "\n",
    "\n",
    "monitor = 'val_accuracy'\n",
    "metrics = ['accuracy']\n",
    "model.compile(loss=loss, optimizer=optim, metrics=metrics)\n"
   ]
  },
  {
   "cell_type": "code",
   "execution_count": 40,
   "id": "7af10891",
   "metadata": {},
   "outputs": [
    {
     "name": "stdout",
     "output_type": "stream",
     "text": [
      "Model: \"model_7\"\n",
      "_________________________________________________________________\n",
      " Layer (type)                Output Shape              Param #   \n",
      "=================================================================\n",
      " input (InputLayer)          [(None, 35)]              0         \n",
      "                                                                 \n",
      " Classification (Functional)  (None, 2)                119800    \n",
      "                                                                 \n",
      " activation_7 (Activation)   (None, 2)                 0         \n",
      "                                                                 \n",
      "=================================================================\n",
      "Total params: 119,800\n",
      "Trainable params: 119,800\n",
      "Non-trainable params: 0\n",
      "_________________________________________________________________\n"
     ]
    }
   ],
   "source": [
    "compression = 620\n",
    "xc = tf.keras.layers.Input(name='input', shape=((int)(num_features/compression),))\n",
    "submodelc = models_multitask.create_multitask_sparse_submodel(\n",
    "    xc,\n",
    "    num_layers,\n",
    "    num_trees,\n",
    "    depth,\n",
    "    num_tasks,\n",
    "    leaf_dims,\n",
    "    \"Classification\",\n",
    "    activation=activation,\n",
    "    model_type=model_type,\n",
    "    kernel_regularizer=kernel_regularizer,\n",
    "    kernel_constraint=kernel_constraint,\n",
    ")\n",
    "xc = submodelc.input\n",
    "outputsc = submodelc(xc)\n",
    "# print(outputs)\n",
    "ypredc = tf.keras.layers.Activation('linear')(outputsc)\n",
    "loss = tf.keras.losses.SparseCategoricalCrossentropy(from_logits=True)\n",
    "modelc = tf.keras.Model(inputs=xc, outputs=ypredc)\n",
    "modelc.summary()\n",
    "\n",
    "\n",
    "monitor = 'val_accuracy'\n",
    "metrics = ['accuracy']\n",
    "modelc.compile(loss=loss, optimizer=optim, metrics=metrics)\n"
   ]
  },
  {
   "cell_type": "code",
   "execution_count": 41,
   "id": "0c29a668",
   "metadata": {},
   "outputs": [
    {
     "name": "stderr",
     "output_type": "stream",
     "text": [
      "2023-10-08 22:30:20.911449: I tensorflow/core/common_runtime/gpu/gpu_device.cc:1532] Created device /device:GPU:0 with 30976 MB memory:  -> device: 0, name: Tesla V100-PCIE-32GB, pci bus id: 0000:d8:00.0, compute capability: 7.0\n",
      "2023-10-08 22:30:20.912650: I tensorflow/core/common_runtime/gpu/gpu_device.cc:1532] Created device /device:GPU:0 with 30976 MB memory:  -> device: 0, name: Tesla V100-PCIE-32GB, pci bus id: 0000:d8:00.0, compute capability: 7.0\n"
     ]
    },
    {
     "name": "stdout",
     "output_type": "stream",
     "text": [
      "Epoch 1/10\n",
      "1/1 [==============================] - 12s 12s/step - loss: 0.8722 - accuracy: 0.4960 - lam: 0.0000e+00 - nnz: 22000.0000 - group-l0-reg: 0.0000e+00 - val_loss: 0.8739 - val_accuracy: 0.4780 - val_lam: 4.5430e-06 - val_nnz: 22000.0000 - val_group-l0-reg: 0.0999\n",
      "Epoch 2/10\n",
      "1/1 [==============================] - 1s 1s/step - loss: 0.8712 - accuracy: 0.4940 - lam: 4.5430e-06 - nnz: 22000.0000 - group-l0-reg: 0.0999 - val_loss: 3.5716 - val_accuracy: 0.5110 - val_lam: 9.0819e-06 - val_nnz: 22000.0000 - val_group-l0-reg: 0.1998\n",
      "Epoch 3/10\n",
      "1/1 [==============================] - 1s 1s/step - loss: 3.5149 - accuracy: 0.4970 - lam: 9.0819e-06 - nnz: 22000.0000 - group-l0-reg: 0.1998 - val_loss: 35.1097 - val_accuracy: 0.4890 - val_lam: 1.3616e-05 - val_nnz: 22000.0000 - val_group-l0-reg: 0.2995\n",
      "Epoch 4/10\n",
      "1/1 [==============================] - 1s 1s/step - loss: 34.1981 - accuracy: 0.5030 - lam: 1.3616e-05 - nnz: 22000.0000 - group-l0-reg: 0.2995 - val_loss: 205.1458 - val_accuracy: 0.5110 - val_lam: 1.8146e-05 - val_nnz: 22000.0000 - val_group-l0-reg: 0.3992\n",
      "Epoch 5/10\n",
      "1/1 [==============================] - 1s 1s/step - loss: 210.9017 - accuracy: 0.4970 - lam: 1.8146e-05 - nnz: 22000.0000 - group-l0-reg: 0.3992 - val_loss: 745.1785 - val_accuracy: 0.4890 - val_lam: 2.2670e-05 - val_nnz: 22000.0000 - val_group-l0-reg: 0.4987\n",
      "Epoch 6/10\n",
      "1/1 [==============================] - 1s 1s/step - loss: 738.7454 - accuracy: 0.5030 - lam: 2.2670e-05 - nnz: 22000.0000 - group-l0-reg: 0.4987 - val_loss: 893.2675 - val_accuracy: 0.5110 - val_lam: 2.7191e-05 - val_nnz: 22000.0000 - val_group-l0-reg: 0.5982\n",
      "Epoch 7/10\n",
      "1/1 [==============================] - 1s 1s/step - loss: 904.2428 - accuracy: 0.4970 - lam: 2.7191e-05 - nnz: 22000.0000 - group-l0-reg: 0.5982 - val_loss: 598.7363 - val_accuracy: 0.4890 - val_lam: 3.1707e-05 - val_nnz: 22000.0000 - val_group-l0-reg: 0.6976\n",
      "Epoch 8/10\n",
      "1/1 [==============================] - 1s 1s/step - loss: 596.3132 - accuracy: 0.5030 - lam: 3.1707e-05 - nnz: 22000.0000 - group-l0-reg: 0.6976 - val_loss: 811.3458 - val_accuracy: 0.5110 - val_lam: 3.6219e-05 - val_nnz: 22000.0000 - val_group-l0-reg: 0.7968\n",
      "Epoch 9/10\n",
      "1/1 [==============================] - 1s 1s/step - loss: 816.4694 - accuracy: 0.4970 - lam: 3.6219e-05 - nnz: 22000.0000 - group-l0-reg: 0.7968 - val_loss: 705.1963 - val_accuracy: 0.5110 - val_lam: 4.0726e-05 - val_nnz: 22000.0000 - val_group-l0-reg: 0.8960\n",
      "Epoch 10/10\n",
      "1/1 [==============================] - 1s 1s/step - loss: 706.9350 - accuracy: 0.4970 - lam: 4.0726e-05 - nnz: 22000.0000 - group-l0-reg: 0.8960 - val_loss: 673.4668 - val_accuracy: 0.5110 - val_lam: 4.5228e-05 - val_nnz: 22000.0000 - val_group-l0-reg: 0.9950\n"
     ]
    }
   ],
   "source": [
    "cb = sparse_soft_trees.SparsityHistory()\n",
    "callbacks = [\n",
    "    tf.keras.callbacks.TerminateOnNaN(),\n",
    "    cb\n",
    "]    \n",
    "if early_stopping:\n",
    "    callbacks.append(\n",
    "        tf.keras.callbacks.EarlyStopping(\n",
    "            monitor=monitor, patience=50, verbose=1, mode='auto', restore_best_weights=True\n",
    "        ),\n",
    "    )\n",
    "# print(\"====================y.shape\", data_processed.y_train_processed.shape)\n",
    "if len(get_available_gpus())==0:\n",
    "    history = model.fit(x=x_train, \n",
    "              y=y_train,\n",
    "              epochs=1, \n",
    "              batch_size=batch_size, \n",
    "              shuffle=True,\n",
    "              callbacks=callbacks,\n",
    "              validation_data=(x_valid, y_valid),\n",
    "              verbose=1, \n",
    "              )  \n",
    "else:\n",
    "    with tf.device(get_available_gpus()[0]):\n",
    "        history = model.fit(x=x_train, \n",
    "                  y=y_train,\n",
    "                  epochs=epochs, \n",
    "                  batch_size=batch_size, \n",
    "                  shuffle=True,\n",
    "                  callbacks=callbacks,\n",
    "                  validation_data=(x_valid, y_valid),\n",
    "                  verbose=1, \n",
    "                  )  \n",
    "number_of_epochs_it_ran = len(history.history['loss'])\n"
   ]
  },
  {
   "cell_type": "code",
   "execution_count": 42,
   "id": "dc10f1e3",
   "metadata": {},
   "outputs": [
    {
     "name": "stdout",
     "output_type": "stream",
     "text": [
      "1/1 [==============================] - 1s 959ms/step\n",
      "1/1 [==============================] - 0s 58ms/step\n",
      "1/1 [==============================] - 0s 58ms/step\n",
      "1/1 [==============================] - 0s 58ms/step\n",
      "1/1 [==============================] - 0s 58ms/step\n",
      "1/1 [==============================] - 0s 59ms/step\n",
      "1/1 [==============================] - 0s 59ms/step\n",
      "1/1 [==============================] - 0s 58ms/step\n",
      "179 ms ± 1.1 ms per loop (mean ± std. dev. of 7 runs, 1 loop each)\n"
     ]
    }
   ],
   "source": [
    "%%timeit\n",
    "model.predict(x_valid, batch_size=num_test_samples)"
   ]
  },
  {
   "cell_type": "code",
   "execution_count": 43,
   "id": "77244629",
   "metadata": {},
   "outputs": [],
   "source": [
    "a = np.arange(num_features)\n",
    "np.random.shuffle(a) "
   ]
  },
  {
   "cell_type": "code",
   "execution_count": 44,
   "id": "bdc4111a",
   "metadata": {},
   "outputs": [],
   "source": [
    "weights = model.layers[1].layers[1].dense_layer.get_weights()\n",
    "beta = weights[0]\n",
    "bias = weights[1]\n",
    "betac = beta[a[:((int)(num_features/compression))],:]"
   ]
  },
  {
   "cell_type": "code",
   "execution_count": 45,
   "id": "f6e9cef2",
   "metadata": {},
   "outputs": [
    {
     "data": {
      "text/plain": [
       "(35, 3150)"
      ]
     },
     "execution_count": 45,
     "metadata": {},
     "output_type": "execute_result"
    }
   ],
   "source": [
    "betac.shape"
   ]
  },
  {
   "cell_type": "code",
   "execution_count": 46,
   "id": "349b5a8d",
   "metadata": {},
   "outputs": [],
   "source": [
    "modelc.layers[1].layers[1].dense_layer.set_weights([betac, bias]) "
   ]
  },
  {
   "cell_type": "code",
   "execution_count": 47,
   "id": "57038585",
   "metadata": {},
   "outputs": [
    {
     "name": "stdout",
     "output_type": "stream",
     "text": [
      "Model: \"model_6\"\n",
      "_________________________________________________________________\n",
      " Layer (type)                Output Shape              Param #   \n",
      "=================================================================\n",
      " input (InputLayer)          [(None, 22000)]           0         \n",
      "                                                                 \n",
      " Classification (Functional)  (None, 2)                69309550  \n",
      "                                                                 \n",
      " activation_6 (Activation)   (None, 2)                 0         \n",
      "                                                                 \n",
      "=================================================================\n",
      "Total params: 69,309,550\n",
      "Trainable params: 69,309,550\n",
      "Non-trainable params: 0\n",
      "_________________________________________________________________\n"
     ]
    }
   ],
   "source": [
    "model.summary()"
   ]
  },
  {
   "cell_type": "code",
   "execution_count": 48,
   "id": "6e1eaecd",
   "metadata": {},
   "outputs": [],
   "source": [
    "x_validc = x_valid[:,a[:((int)(num_features/compression))]]"
   ]
  },
  {
   "cell_type": "code",
   "execution_count": 49,
   "id": "5c4ff649",
   "metadata": {},
   "outputs": [
    {
     "name": "stdout",
     "output_type": "stream",
     "text": [
      "1/1 [==============================] - 1s 935ms/step\n",
      "1/1 [==============================] - 0s 23ms/step\n",
      "1/1 [==============================] - 0s 21ms/step\n",
      "1/1 [==============================] - 0s 24ms/step\n",
      "1/1 [==============================] - 0s 22ms/step\n",
      "1/1 [==============================] - 0s 22ms/step\n",
      "1/1 [==============================] - 0s 22ms/step\n",
      "1/1 [==============================] - 0s 23ms/step\n",
      "45.2 ms ± 1.3 ms per loop (mean ± std. dev. of 7 runs, 1 loop each)\n"
     ]
    }
   ],
   "source": [
    "%%timeit\n",
    "modelc.predict(x_validc, batch_size=num_test_samples)"
   ]
  },
  {
   "cell_type": "code",
   "execution_count": null,
   "id": "67b7ad41",
   "metadata": {},
   "outputs": [],
   "source": []
  },
  {
   "cell_type": "code",
   "execution_count": null,
   "id": "190a58ae",
   "metadata": {},
   "outputs": [],
   "source": []
  }
 ],
 "metadata": {
  "kernelspec": {
   "display_name": "Python [conda env:.conda-MOETF29]",
   "language": "python",
   "name": "conda-env-.conda-MOETF29-py"
  },
  "language_info": {
   "codemirror_mode": {
    "name": "ipython",
    "version": 3
   },
   "file_extension": ".py",
   "mimetype": "text/x-python",
   "name": "python",
   "nbconvert_exporter": "python",
   "pygments_lexer": "ipython3",
   "version": "3.10.11"
  },
  "toc": {
   "base_numbering": 1,
   "nav_menu": {},
   "number_sections": true,
   "sideBar": true,
   "skip_h1_title": false,
   "title_cell": "Table of Contents",
   "title_sidebar": "Contents",
   "toc_cell": false,
   "toc_position": {},
   "toc_section_display": true,
   "toc_window_display": false
  }
 },
 "nbformat": 4,
 "nbformat_minor": 5
}
