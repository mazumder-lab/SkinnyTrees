{
 "cells": [
  {
   "cell_type": "code",
   "execution_count": 1,
   "id": "583c5844",
   "metadata": {},
   "outputs": [],
   "source": [
    "import numpy as np\n",
    "import os\n",
    "import pandas as pd\n",
    "import matplotlib.pyplot as plt\n",
    "\n",
    "pd.set_option('display.max_rows', 5)"
   ]
  },
  {
   "cell_type": "code",
   "execution_count": 2,
   "id": "7c919f40",
   "metadata": {},
   "outputs": [],
   "source": [
    "from sklearn.preprocessing import StandardScaler\n",
    "from sklearn.impute import SimpleImputer\n",
    "from sklearn.model_selection import train_test_split\n",
    "from sklearn.pipeline import Pipeline\n",
    "from sklearn.preprocessing import StandardScaler, OneHotEncoder\n",
    "from sklearn.preprocessing import MinMaxScaler\n",
    "from sklearn.compose import ColumnTransformer\n"
   ]
  },
  {
   "cell_type": "markdown",
   "id": "5bb8122e",
   "metadata": {},
   "source": [
    "# SkinnyTrees Tuning"
   ]
  },
  {
   "cell_type": "code",
   "execution_count": 10,
   "id": "36beaff0",
   "metadata": {},
   "outputs": [],
   "source": [
    "budget = 0.25\n",
    "max_features = {\n",
    "    'churn': 33,\n",
    "    'texture': 40,\n",
    "    'satimage': 36,\n",
    "    'isolet': 617,\n",
    "    'mice-protein': 77,\n",
    "    'arcene': 10000,\n",
    "    'gisette': 5000,\n",
    "    'madelon': 500,\n",
    "    'dorothea': 100000,\n",
    "    'smk': 19993,\n",
    "    'cll': 11340,\n",
    "    'gli': 22283,\n",
    "    'lung': 3312,\n",
    "    'tox': 5748\n",
    "}"
   ]
  },
  {
   "cell_type": "code",
   "execution_count": 11,
   "id": "3ac81daa",
   "metadata": {},
   "outputs": [
    {
     "name": "stdout",
     "output_type": "stream",
     "text": [
      "======== Anneal:True\n",
      "Missing: /home/gridsan/shibal/SkinnyTrees/scripts/logs_trees/skinny_trees/publicdata/churn/cross-entropy/1.10/study-anneal-seed8.csv\n",
      "Missing: /home/gridsan/shibal/SkinnyTrees/scripts/logs_trees/skinny_trees/publicdata/churn/cross-entropy/1.11/study-anneal-seed8.csv\n",
      "Missing: /home/gridsan/shibal/SkinnyTrees/scripts/logs_trees/skinny_trees/publicdata/churn/cross-entropy/1.12/study-anneal-seed8.csv\n",
      "Missing: /home/gridsan/shibal/SkinnyTrees/scripts/logs_trees/skinny_trees/publicdata/churn/cross-entropy/1.13/study-anneal-seed8.csv\n",
      "Missing: /home/gridsan/shibal/SkinnyTrees/scripts/logs_trees/skinny_trees/publicdata/churn/cross-entropy/1.14/study-anneal-seed8.csv\n",
      "Missing: /home/gridsan/shibal/SkinnyTrees/scripts/logs_trees/skinny_trees/publicdata/churn/cross-entropy/1.15/study-anneal-seed8.csv\n",
      "Missing: /home/gridsan/shibal/SkinnyTrees/scripts/logs_trees/skinny_trees/publicdata/churn/cross-entropy/1.16/study-anneal-seed8.csv\n",
      "Missing: /home/gridsan/shibal/SkinnyTrees/scripts/logs_trees/skinny_trees/publicdata/churn/cross-entropy/1.17/study-anneal-seed8.csv\n",
      "Missing: /home/gridsan/shibal/SkinnyTrees/scripts/logs_trees/skinny_trees/publicdata/churn/cross-entropy/1.18/study-anneal-seed8.csv\n",
      "Missing: /home/gridsan/shibal/SkinnyTrees/scripts/logs_trees/skinny_trees/publicdata/churn/cross-entropy/1.19/study-anneal-seed8.csv\n",
      "Missing: /home/gridsan/shibal/SkinnyTrees/scripts/logs_trees/skinny_trees/publicdata/churn/cross-entropy/1.20/study-anneal-seed8.csv\n",
      "Missing: /home/gridsan/shibal/SkinnyTrees/scripts/logs_trees/skinny_trees/publicdata/churn/cross-entropy/1.21/study-anneal-seed8.csv\n",
      "Missing: /home/gridsan/shibal/SkinnyTrees/scripts/logs_trees/skinny_trees/publicdata/churn/cross-entropy/1.22/study-anneal-seed8.csv\n",
      "Missing: /home/gridsan/shibal/SkinnyTrees/scripts/logs_trees/skinny_trees/publicdata/churn/cross-entropy/1.23/study-anneal-seed8.csv\n",
      "Missing: /home/gridsan/shibal/SkinnyTrees/scripts/logs_trees/skinny_trees/publicdata/churn/cross-entropy/1.24/study-anneal-seed8.csv\n",
      "Missing: /home/gridsan/shibal/SkinnyTrees/scripts/logs_trees/skinny_trees/publicdata/churn/cross-entropy/1.25/study-anneal-seed8.csv\n",
      "Missing: /home/gridsan/shibal/SkinnyTrees/scripts/logs_trees/skinny_trees/publicdata/churn/cross-entropy/1.26/study-anneal-seed8.csv\n",
      "Missing: /home/gridsan/shibal/SkinnyTrees/scripts/logs_trees/skinny_trees/publicdata/churn/cross-entropy/1.27/study-anneal-seed8.csv\n",
      "Missing: /home/gridsan/shibal/SkinnyTrees/scripts/logs_trees/skinny_trees/publicdata/churn/cross-entropy/1.28/study-anneal-seed8.csv\n",
      "Missing: /home/gridsan/shibal/SkinnyTrees/scripts/logs_trees/skinny_trees/publicdata/churn/cross-entropy/1.29/study-anneal-seed8.csv\n",
      "Number of total trials: 2000\n",
      "Max number of features: 33\n",
      "Number of trials satisfying the feature sparsity budget: 307\n",
      "valid_auc: 0.9079362625755176\n",
      "test_auc: 0.8894310554083175\n",
      "test_aucs: [0.88943106]\n",
      "sparsity: [8]\n",
      "Mean sparsity: 8.0\n",
      "Epochs: [490]\n",
      "Depth: [4]\n",
      "Number of Trees: [15]\n",
      "LR: [0.51039556]\n",
      "L2: [0.0066109]\n",
      "T: [0.00276532]\n",
      "Batch-sizes: [64]\n"
     ]
    }
   ],
   "source": [
    "data = 'churn'\n",
    "annealing = [True]\n",
    "criteria = 'auc'\n",
    "tuning_seeds = [0,1,2,3,4,5,6,7,8,9,10,11,12,13,14,15,16,17,18,19,20,21,22,23,24,25,26,27,28,29]\n",
    "version = 1\n",
    "\n",
    "for anneal in annealing:\n",
    "    print(\"======== Anneal:{}\".format(anneal))\n",
    "\n",
    "    df = pd.DataFrame()\n",
    "    for tuning_seed in tuning_seeds:\n",
    "        path = \"/home/gridsan/shibal/SkinnyTrees/scripts/logs_trees/skinny_trees/publicdata/{}/cross-entropy/{}.{}/study\".format(data, version, tuning_seed)\n",
    "        if anneal:\n",
    "            path = path+\"-anneal\"\n",
    "#         path = path+\"-seed8.csv\"\n",
    "        try:\n",
    "            df_temp = pd.read_csv(path+\"-seed8.csv\")\n",
    "        except:\n",
    "            print(\"Missing:\", path+\"-seed8.csv\")\n",
    "            continue\n",
    "        df = pd.concat([df,df_temp],axis=0)\n",
    "        df.index = np.arange(len(df))\n",
    "    print(\"Number of total trials:\", df.shape[0])\n",
    "    print(\"Max number of features:\", max_features[data])\n",
    "    df_study = df.copy()\n",
    "    df = df[(df[\"user_attrs_feature_sparsity\"]<=budget*max_features[data])&(df[\"user_attrs_feature_sparsity\"]>0)]\n",
    "    print(\"Number of trials satisfying the feature sparsity budget:\", df.shape[0])\n",
    "    df = df.sort_values(by=[\"user_attrs_\"+criteria+\"_valid\"], ascending=False)\n",
    "    best_value = df[\"user_attrs_\"+criteria+\"_valid\"].values[0]\n",
    "    df_opt = df[df[\"user_attrs_\"+criteria+\"_valid\"]==best_value]\n",
    "\n",
    "    df_opt = df_opt.sort_values(by='user_attrs_feature_sparsity')\n",
    "    if criteria=='auc':\n",
    "        print(\"valid_auc:\", df_opt.user_attrs_auc_valid.mean())\n",
    "        print(\"test_auc:\", df_opt.user_attrs_auc_test.mean())\n",
    "        print(\"test_aucs:\", df_opt.user_attrs_auc_test.values)\n",
    "    elif criteria=='accuracy':\n",
    "        print(\"valid_accuracy:\", df_opt.user_attrs_accuracy_valid.mean())\n",
    "        print(\"test_accuracy:\", df_opt.user_attrs_accuracy_test.mean())\n",
    "        print(\"test_accuracies:\", df_opt.user_attrs_accuracy_test.values)\n",
    "    print(\"sparsity:\", df_opt.user_attrs_feature_sparsity.values)\n",
    "    print(\"Mean sparsity:\", df_opt.user_attrs_approximate_feature_sparsity.mean())\n",
    "#     print(\"Approx sparsity:\", df_opt.user_attrs_approximate_feature_sparsity.values)\n",
    "#     print(\"Mean approx sparsity:\", df_opt.user_attrs_feature_sparsity.mean())\n",
    "#     print(\"Batch-sizes:\", df_opt.params_constant_batch_size.values*df_opt.params_batch_size_scaler.values)\n",
    "    print(\"Epochs:\", df_opt.user_attrs_num_epochs.values)\n",
    "    print(\"Depth:\", df_opt.params_depth.values)\n",
    "    print(\"Number of Trees:\", df_opt.params_num_trees.values)\n",
    "    print(\"LR:\", df_opt.params_constant_learning_rate.values)\n",
    "    if \"params_kernel_constraint\" in df_opt.columns:\n",
    "        print(\"L1/L0:\", df_opt.params_kernel_constraint.values)\n",
    "    if \"params_kernel_l2\" in df_opt.columns:\n",
    "        print(\"L2:\", df_opt.params_kernel_l2.values)\n",
    "    if \"params_temperature\" in df_opt.columns:\n",
    "        print(\"T:\", df_opt.params_temperature.values)\n",
    "    if \"params_batch_size_scaler\" in df_opt.columns:\n",
    "        print(\"Batch-sizes:\", 16*df_opt.params_batch_size_scaler.values)"
   ]
  },
  {
   "cell_type": "code",
   "execution_count": 12,
   "id": "10844516",
   "metadata": {},
   "outputs": [
    {
     "data": {
      "text/plain": [
       "Index(['Unnamed: 0', 'number', 'value', 'datetime_start', 'datetime_complete',\n",
       "       'duration', 'params_batch_size_scaler', 'params_constant_learning_rate',\n",
       "       'params_depth', 'params_epochs', 'params_kernel_l2', 'params_num_trees',\n",
       "       'params_temperature', 'user_attrs_accuracy_test',\n",
       "       'user_attrs_accuracy_valid', 'user_attrs_approximate_feature_sparsity',\n",
       "       'user_attrs_approximate_feature_sparsity_history',\n",
       "       'user_attrs_approximate_weight_sparsity',\n",
       "       'user_attrs_approximate_weight_sparsity_history', 'user_attrs_auc_test',\n",
       "       'user_attrs_auc_valid', 'user_attrs_feature_sparsity',\n",
       "       'user_attrs_feature_sparsity_history', 'user_attrs_num_epochs',\n",
       "       'user_attrs_val_loss_history', 'user_attrs_weight_sparsity',\n",
       "       'user_attrs_weight_sparsity_history', 'state'],\n",
       "      dtype='object')"
      ]
     },
     "execution_count": 12,
     "metadata": {},
     "output_type": "execute_result"
    }
   ],
   "source": [
    "df_opt.columns"
   ]
  },
  {
   "cell_type": "code",
   "execution_count": 13,
   "id": "37087b80",
   "metadata": {},
   "outputs": [],
   "source": [
    "pd.set_option('display.max_rows', 100)"
   ]
  },
  {
   "cell_type": "code",
   "execution_count": 14,
   "id": "752d448e",
   "metadata": {},
   "outputs": [
    {
     "data": {
      "text/html": [
       "<div>\n",
       "<style scoped>\n",
       "    .dataframe tbody tr th:only-of-type {\n",
       "        vertical-align: middle;\n",
       "    }\n",
       "\n",
       "    .dataframe tbody tr th {\n",
       "        vertical-align: top;\n",
       "    }\n",
       "\n",
       "    .dataframe thead th {\n",
       "        text-align: right;\n",
       "    }\n",
       "</style>\n",
       "<table border=\"1\" class=\"dataframe\">\n",
       "  <thead>\n",
       "    <tr style=\"text-align: right;\">\n",
       "      <th></th>\n",
       "      <th>params_batch_size_scaler</th>\n",
       "      <th>params_constant_learning_rate</th>\n",
       "      <th>params_num_trees</th>\n",
       "      <th>params_depth</th>\n",
       "      <th>user_attrs_num_epochs</th>\n",
       "      <th>params_kernel_l2</th>\n",
       "      <th>params_temperature</th>\n",
       "    </tr>\n",
       "  </thead>\n",
       "  <tbody>\n",
       "    <tr>\n",
       "      <th>1486</th>\n",
       "      <td>4</td>\n",
       "      <td>0.510396</td>\n",
       "      <td>15</td>\n",
       "      <td>4</td>\n",
       "      <td>490</td>\n",
       "      <td>0.006611</td>\n",
       "      <td>0.002765</td>\n",
       "    </tr>\n",
       "  </tbody>\n",
       "</table>\n",
       "</div>"
      ],
      "text/plain": [
       "      params_batch_size_scaler  params_constant_learning_rate   \n",
       "1486                         4                       0.510396  \\\n",
       "\n",
       "      params_num_trees  params_depth  user_attrs_num_epochs  params_kernel_l2   \n",
       "1486                15             4                    490          0.006611  \\\n",
       "\n",
       "      params_temperature  \n",
       "1486            0.002765  "
      ]
     },
     "execution_count": 14,
     "metadata": {},
     "output_type": "execute_result"
    }
   ],
   "source": [
    "df_opt[[\n",
    "    'params_batch_size_scaler',\n",
    "    'params_constant_learning_rate',\n",
    "    'params_num_trees',\n",
    "    'params_depth',\n",
    "#     'params_use_annealing',\n",
    "    'user_attrs_num_epochs',\n",
    "    'params_kernel_l2',\n",
    "#     'params_kernel_constraint',\n",
    "    'params_temperature'\n",
    "]]\n"
   ]
  },
  {
   "cell_type": "code",
   "execution_count": 15,
   "id": "54137dfe",
   "metadata": {},
   "outputs": [
    {
     "data": {
      "text/plain": [
       "1486    120\n",
       "dtype: int64"
      ]
     },
     "execution_count": 15,
     "metadata": {},
     "output_type": "execute_result"
    }
   ],
   "source": [
    "(2**(df_opt['params_depth']-1)*df_opt['params_num_trees'])"
   ]
  },
  {
   "cell_type": "code",
   "execution_count": 16,
   "id": "ffbf2121",
   "metadata": {},
   "outputs": [
    {
     "data": {
      "text/plain": [
       "'--use_passed_hyperparameters --batch_size_scaler 4 --constant_learning_rate 0.5103955602403768 --num_trees 15 --depth 4 --epochs 490 --kernel_l2 0.006610902853073 --kernel_constraint 100 --anneal --temperature 0.0027653154228068'"
      ]
     },
     "execution_count": 16,
     "metadata": {},
     "output_type": "execute_result"
    }
   ],
   "source": [
    "i=0\n",
    "f\"--use_passed_hyperparameters --batch_size_scaler {df_opt['params_batch_size_scaler'].values[i]} --constant_learning_rate {df_opt['params_constant_learning_rate'].values[i]} --num_trees {df_opt['params_num_trees'].values[i]} --depth {df_opt['params_depth'].values[i]} --epochs {df_opt['user_attrs_num_epochs'].values[i]} --kernel_l2 {df_opt['params_kernel_l2'].values[i]} --kernel_constraint 100 --anneal --temperature {df_opt['params_temperature'].values[i]}\"\n"
   ]
  },
  {
   "cell_type": "code",
   "execution_count": 17,
   "id": "6bc44507",
   "metadata": {},
   "outputs": [
    {
     "data": {
      "text/plain": [
       "1486    [33, 33, 33, 33, 31, 21, 15, 13, 13, 13, 13, 1...\n",
       "Name: user_attrs_feature_sparsity_history, dtype: object"
      ]
     },
     "execution_count": 17,
     "metadata": {},
     "output_type": "execute_result"
    }
   ],
   "source": [
    "df_opt['user_attrs_feature_sparsity_history']"
   ]
  },
  {
   "cell_type": "code",
   "execution_count": 18,
   "id": "ad3f7939",
   "metadata": {},
   "outputs": [],
   "source": [
    "val_loss_history = [float(i) for i in df_opt['user_attrs_val_loss_history'].values[0][1:-1].split(', ')]\n",
    "feature_sparsity_history = [float(i) for i in df_opt['user_attrs_feature_sparsity_history'].values[0][1:-1].split(', ')]"
   ]
  },
  {
   "cell_type": "code",
   "execution_count": 19,
   "id": "a34d38b6",
   "metadata": {},
   "outputs": [
    {
     "data": {
      "image/png": "[encoded data removed]",
      "text/plain": [
       "<Figure size 640x480 with 1 Axes>"
      ]
     },
     "metadata": {},
     "output_type": "display_data"
    }
   ],
   "source": [
    "# plt.plot(val_loss_history)\n",
    "# plt.show()\n",
    "\n",
    "plt.plot(feature_sparsity_history)\n",
    "# plt.ylim([0,2000])\n",
    "plt.show()"
   ]
  },
  {
   "cell_type": "markdown",
   "id": "8f6c52a6",
   "metadata": {},
   "source": [
    "# SkinnyTrees Averages for Best Hyperparameters"
   ]
  },
  {
   "cell_type": "code",
   "execution_count": 9,
   "id": "980f559d",
   "metadata": {},
   "outputs": [
    {
     "name": "stdout",
     "output_type": "stream",
     "text": [
      "======== Anneal:True\n",
      "Number of total trials: 100\n",
      "Max number of features: 10000\n",
      "Number of trials satisfying the feature sparsity budget: 100\n",
      "valid_auc: 0.8718181818181816\n",
      "test_auc: 0.7219886363636364\n",
      "test_aucs: [0.70251623 0.75202922 0.72077922 0.72118506 0.69926948 0.7325487\n",
      " 0.72483766 0.74269481 0.70576299 0.72727273 0.71753247 0.75527597\n",
      " 0.72362013 0.72767857 0.71469156 0.73295455 0.7049513  0.70008117\n",
      " 0.76136364 0.72808442 0.72280844 0.73051948 0.74756494 0.70982143\n",
      " 0.71996753 0.75974026 0.68871753 0.68668831 0.71387987 0.69926948\n",
      " 0.73660714 0.74756494 0.69642857 0.73295455 0.69358766 0.66314935\n",
      " 0.75162338 0.68912338 0.68668831 0.66233766 0.73011364 0.72362013\n",
      " 0.7012987  0.71185065 0.70779221 0.70819805 0.7012987  0.70251623\n",
      " 0.75121753 0.70332792 0.72646104 0.7224026  0.73336039 0.71834416\n",
      " 0.73782468 0.76663961 0.7086039  0.78043831 0.71875    0.7325487\n",
      " 0.68547078 0.74107143 0.69683442 0.7150974  0.67532468 0.74675325\n",
      " 0.71266234 0.71753247 0.74512987 0.71144481 0.75689935 0.72564935\n",
      " 0.77435065 0.73336039 0.70982143 0.73457792 0.71225649 0.75771104\n",
      " 0.69277597 0.73295455 0.75730519 0.7288961  0.70819805 0.70657468\n",
      " 0.71347403 0.70211039 0.70698052 0.71550325 0.73660714 0.73092532\n",
      " 0.72686688 0.73498377 0.72564935 0.72808442 0.72767857 0.76907468\n",
      " 0.7325487  0.66112013 0.74878247 0.73904221]\n",
      "test_aucs (SE): 0.002380854411735276\n",
      "sparsity: [43 45 47 47 48 48 48 49 49 49 49 49 49 49 50 50 50 50 50 50 50 50 50 50\n",
      " 50 50 50 50 50 51 51 51 51 51 51 51 51 51 51 51 51 52 52 52 52 52 52 52\n",
      " 52 52 52 52 52 52 52 53 53 53 53 53 53 53 53 53 53 53 53 53 53 54 54 54\n",
      " 54 54 54 54 54 54 54 54 54 54 55 55 55 55 55 55 55 55 55 55 55 55 56 56\n",
      " 56 57 57 57]\n",
      "Mean sparsity: 52.02\n",
      "Standard Error sparsity: 0.2581910654198288\n"
     ]
    }
   ],
   "source": [
    "data = 'arcene'\n",
    "annealing = [True]\n",
    "criteria = 'auc'\n",
    "tuning_seeds = [0,1,2,3,4,5,6,7,8,9]\n",
    "version = 100\n",
    "\n",
    "for anneal in annealing:\n",
    "    print(\"======== Anneal:{}\".format(anneal))\n",
    "\n",
    "    df = pd.DataFrame()\n",
    "    for tuning_seed in tuning_seeds:\n",
    "        path = \"/home/gridsan/shibal/SkinnyTrees/scripts/logs_trees/skinny_trees/publicdata/{}/cross-entropy/{}.{}/study\".format(data, version, tuning_seed)\n",
    "        if anneal:\n",
    "            path = path+\"-anneal\"\n",
    "#         path = path+\"-seed8.csv\"\n",
    "        try:\n",
    "            df_temp = pd.read_csv(path+\"-seed8.csv\")\n",
    "        except:\n",
    "            print(\"Missing:\", path+\"-seed8.csv\")\n",
    "            continue\n",
    "        df = pd.concat([df,df_temp],axis=0)\n",
    "        df.index = np.arange(len(df))\n",
    "    print(\"Number of total trials:\", df.shape[0])\n",
    "    print(\"Max number of features:\", max_features[data])\n",
    "    df_study = df.copy()\n",
    "    print(\"Number of trials satisfying the feature sparsity budget:\", df.shape[0])\n",
    "    df_opt = df.sort_values(by='user_attrs_feature_sparsity')\n",
    "#     display(df_opt.T)\n",
    "    if criteria=='auc':\n",
    "        print(\"valid_auc:\", df_opt.user_attrs_auc_valid.mean())\n",
    "        print(\"test_auc:\", df_opt.user_attrs_auc_test.mean())\n",
    "        print(\"test_aucs:\", df_opt.user_attrs_auc_test.values)\n",
    "        print(\"test_aucs (SE):\", df_opt.user_attrs_auc_test.sem())\n",
    "    elif criteria=='accuracy':\n",
    "        print(\"valid_accuracy:\", df_opt.user_attrs_accuracy_valid.mean())\n",
    "        print(\"test_accuracy:\", df_opt.user_attrs_accuracy_test.mean())\n",
    "        print(\"test_accuracies:\", df_opt.user_attrs_accuracy_test.values)\n",
    "    print(\"sparsity:\", df_opt.user_attrs_feature_sparsity.values)\n",
    "    print(\"Mean sparsity:\", df_opt.user_attrs_approximate_feature_sparsity.mean())\n",
    "    print(\"Standard Error sparsity:\", df_opt.user_attrs_approximate_feature_sparsity.std()/np.sqrt(100))"
   ]
  },
  {
   "cell_type": "code",
   "execution_count": null,
   "id": "45f88126",
   "metadata": {},
   "outputs": [],
   "source": []
  }
 ],
 "metadata": {
  "kernelspec": {
   "display_name": "Python 3 (ipykernel)",
   "language": "python",
   "name": "python3"
  },
  "language_info": {
   "codemirror_mode": {
    "name": "ipython",
    "version": 3
   },
   "file_extension": ".py",
   "mimetype": "text/x-python",
   "name": "python",
   "nbconvert_exporter": "python",
   "pygments_lexer": "ipython3",
   "version": "3.8.15"
  },
  "latex_envs": {
   "LaTeX_envs_menu_present": true,
   "autoclose": false,
   "autocomplete": true,
   "bibliofile": "biblio.bib",
   "cite_by": "apalike",
   "current_citInitial": 1,
   "eqLabelWithNumbers": true,
   "eqNumInitial": 1,
   "hotkeys": {
    "equation": "Ctrl-E",
    "itemize": "Ctrl-I"
   },
   "labels_anchors": false,
   "latex_user_defs": false,
   "report_style_numbering": false,
   "user_envs_cfg": false
  },
  "toc": {
   "base_numbering": 1,
   "nav_menu": {},
   "number_sections": true,
   "sideBar": true,
   "skip_h1_title": false,
   "title_cell": "Table of Contents",
   "title_sidebar": "Contents",
   "toc_cell": false,
   "toc_position": {},
   "toc_section_display": true,
   "toc_window_display": false
  },
  "varInspector": {
   "cols": {
    "lenName": 16,
    "lenType": 16,
    "lenVar": 40
   },
   "kernels_config": {
    "python": {
     "delete_cmd_postfix": "",
     "delete_cmd_prefix": "del ",
     "library": "var_list.py",
     "varRefreshCmd": "print(var_dic_list())"
    },
    "r": {
     "delete_cmd_postfix": ") ",
     "delete_cmd_prefix": "rm(",
     "library": "var_list.r",
     "varRefreshCmd": "cat(var_dic_list()) "
    }
   },
   "types_to_exclude": [
    "module",
    "function",
    "builtin_function_or_method",
    "instance",
    "_Feature"
   ],
   "window_display": false
  }
 },
 "nbformat": 4,
 "nbformat_minor": 5
}
