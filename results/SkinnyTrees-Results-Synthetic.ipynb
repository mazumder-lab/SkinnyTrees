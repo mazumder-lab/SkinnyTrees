{
 "cells": [
  {
   "cell_type": "code",
   "execution_count": 1,
   "id": "794718d1",
   "metadata": {},
   "outputs": [],
   "source": [
    "import numpy as np\n",
    "import os\n",
    "import pandas as pd\n",
    "import matplotlib.pyplot as plt\n",
    "\n",
    "pd.set_option('display.max_rows', 5)"
   ]
  },
  {
   "cell_type": "markdown",
   "id": "bc259a63",
   "metadata": {},
   "source": [
    "# Performance Comparison"
   ]
  },
  {
   "cell_type": "code",
   "execution_count": 74,
   "id": "c71bc585",
   "metadata": {},
   "outputs": [],
   "source": [
    "dataset = 'synthetic'\n",
    "train_size = 1000\n",
    "sigma = 0.7\n",
    "max_features = {\n",
    "    'synthetic': 512,\n",
    "}\n",
    "\n",
    "PATH = \"/home/gridsan/shibal/MultiTaskSoftTrees/src/SoftTrees\"\n",
    "RUN = 3"
   ]
  },
  {
   "cell_type": "code",
   "execution_count": 75,
   "id": "ed9ad288",
   "metadata": {
    "scrolled": true
   },
   "outputs": [
    {
     "name": "stdout",
     "output_type": "stream",
     "text": [
      "=============Sparsity:GroupL0L2, ======== Anneal:True ====== LR Schedule:True\n"
     ]
    }
   ],
   "source": [
    "annealing = [True]\n",
    "criteria = 'auc'\n",
    "tuning_seeds = [0]\n",
    "seeds = np.arange(1,26)\n",
    "\n",
    "for anneal in annealing:\n",
    "    print(\"=============Sparsity:{}, ======== Anneal:{}\".format(anneal))\n",
    "    \n",
    "    result_df = pd.DataFrame()\n",
    "    for seed in seeds: \n",
    "        for tuning_seed in tuning_seeds:\n",
    "            path = f\"{PATH}/logs/soft_trees/publicdata/{dataset}/{sigma}/{max_features[dataset]}/{sparsity}/mse/{RUN}.{tuning_seed}/anneal{anneal}/learning_rate_scheduling{lr_schedule}/train_size_{train_size}/results/seed{seed}/study-sigmoid.csv\"\n",
    "            try:\n",
    "                df_temp = pd.read_csv(path)\n",
    "                df_temp['seed'] = seed\n",
    "            except:\n",
    "                print(\"Missing:\", path)\n",
    "                continue\n",
    "            result_df = pd.concat([result_df,df_temp],axis=0)\n",
    "            result_df.index = np.arange(len(result_df))"
   ]
  },
  {
   "cell_type": "code",
   "execution_count": 76,
   "id": "29920690",
   "metadata": {},
   "outputs": [],
   "source": [
    "# result_df = result_df[result_df['params_depth']<=4]\n",
    "# result_df = result_df[result_df['user_attrs_feature_sparsity']<=100]"
   ]
  },
  {
   "cell_type": "code",
   "execution_count": 77,
   "id": "ebcf086e",
   "metadata": {},
   "outputs": [],
   "source": [
    "best_ = dict()\n",
    "for seed, df in result_df.groupby('seed'):\n",
    "    if len(df) == 0:\n",
    "        best_[seed] = pd.Series()\n",
    "        continue\n",
    "    best_[seed]=df.iloc[df['user_attrs_mse_valid'].argmin()].copy()"
   ]
  },
  {
   "cell_type": "code",
   "execution_count": 78,
   "id": "5c021258",
   "metadata": {},
   "outputs": [],
   "source": [
    "best_df = pd.DataFrame(best_).T"
   ]
  },
  {
   "cell_type": "code",
   "execution_count": 79,
   "id": "fd28d63f",
   "metadata": {},
   "outputs": [],
   "source": [
    "metrics = [\n",
    "    'params_batch_size_scaler', 'params_constant_batch_size',\n",
    "    'params_constant_learning_rate', 'params_depth', 'params_epochs', \n",
    "#     'params_kernel_constraint',\n",
    "    'params_kernel_l2',\n",
    "    'params_num_trees',\n",
    "    'params_temperature',\n",
    "    'params_use_annealing',\n",
    "    'user_attrs_feature_sparsity',\n",
    "    'user_attrs_feature_support',\n",
    "    'user_attrs_feature_support_truth',\n",
    "    'user_attrs_fnr', 'user_attrs_fpr',\n",
    "    'user_attrs_mse_test',\n",
    "    'user_attrs_mse_valid', \n",
    "    'user_attrs_num_epochs', 'user_attrs_tnr',\n",
    "    'user_attrs_tpr',    \n",
    "    'user_attrs_f1',    \n",
    "]\n",
    "best_df = best_df[metrics]"
   ]
  },
  {
   "cell_type": "code",
   "execution_count": 80,
   "id": "f7df6990",
   "metadata": {},
   "outputs": [
    {
     "data": {
      "text/html": [
       "<div>\n",
       "<style scoped>\n",
       "    .dataframe tbody tr th:only-of-type {\n",
       "        vertical-align: middle;\n",
       "    }\n",
       "\n",
       "    .dataframe tbody tr th {\n",
       "        vertical-align: top;\n",
       "    }\n",
       "\n",
       "    .dataframe thead th {\n",
       "        text-align: right;\n",
       "    }\n",
       "</style>\n",
       "<table border=\"1\" class=\"dataframe\">\n",
       "  <thead>\n",
       "    <tr style=\"text-align: right;\">\n",
       "      <th></th>\n",
       "      <th>params_batch_size_scaler</th>\n",
       "      <th>params_constant_batch_size</th>\n",
       "      <th>params_constant_learning_rate</th>\n",
       "      <th>params_depth</th>\n",
       "      <th>params_epochs</th>\n",
       "      <th>params_kernel_l2</th>\n",
       "      <th>params_learning_rate_scheduling</th>\n",
       "      <th>params_num_trees</th>\n",
       "      <th>params_temperature</th>\n",
       "      <th>params_use_annealing</th>\n",
       "      <th>...</th>\n",
       "      <th>user_attrs_feature_support</th>\n",
       "      <th>user_attrs_feature_support_truth</th>\n",
       "      <th>user_attrs_fnr</th>\n",
       "      <th>user_attrs_fpr</th>\n",
       "      <th>user_attrs_mse_test</th>\n",
       "      <th>user_attrs_mse_valid</th>\n",
       "      <th>user_attrs_num_epochs</th>\n",
       "      <th>user_attrs_tnr</th>\n",
       "      <th>user_attrs_tpr</th>\n",
       "      <th>user_attrs_f1</th>\n",
       "    </tr>\n",
       "  </thead>\n",
       "  <tbody>\n",
       "    <tr>\n",
       "      <th>1</th>\n",
       "      <td>11</td>\n",
       "      <td>16</td>\n",
       "      <td>0.015032</td>\n",
       "      <td>1</td>\n",
       "      <td>480</td>\n",
       "      <td>0.108619</td>\n",
       "      <td>True</td>\n",
       "      <td>9</td>\n",
       "      <td>0.072758</td>\n",
       "      <td>True</td>\n",
       "      <td>...</td>\n",
       "      <td>[False False False False False False False Fal...</td>\n",
       "      <td>[0. 0. 0. 0. 0. 0. 0. 0. 0. 0. 0. 0. 0. 0. 0. ...</td>\n",
       "      <td>0.0</td>\n",
       "      <td>0.0</td>\n",
       "      <td>0.260599</td>\n",
       "      <td>0.272429</td>\n",
       "      <td>480</td>\n",
       "      <td>1.0</td>\n",
       "      <td>1.0</td>\n",
       "      <td>1.0</td>\n",
       "    </tr>\n",
       "    <tr>\n",
       "      <th>2</th>\n",
       "      <td>2</td>\n",
       "      <td>16</td>\n",
       "      <td>0.025633</td>\n",
       "      <td>1</td>\n",
       "      <td>455</td>\n",
       "      <td>0.134015</td>\n",
       "      <td>True</td>\n",
       "      <td>6</td>\n",
       "      <td>0.007012</td>\n",
       "      <td>True</td>\n",
       "      <td>...</td>\n",
       "      <td>[False False False False False False False Fal...</td>\n",
       "      <td>[0. 0. 0. 0. 0. 0. 0. 0. 0. 0. 0. 0. 0. 0. 0. ...</td>\n",
       "      <td>0.0</td>\n",
       "      <td>0.0</td>\n",
       "      <td>0.257461</td>\n",
       "      <td>0.258573</td>\n",
       "      <td>455</td>\n",
       "      <td>1.0</td>\n",
       "      <td>1.0</td>\n",
       "      <td>1.0</td>\n",
       "    </tr>\n",
       "    <tr>\n",
       "      <th>...</th>\n",
       "      <td>...</td>\n",
       "      <td>...</td>\n",
       "      <td>...</td>\n",
       "      <td>...</td>\n",
       "      <td>...</td>\n",
       "      <td>...</td>\n",
       "      <td>...</td>\n",
       "      <td>...</td>\n",
       "      <td>...</td>\n",
       "      <td>...</td>\n",
       "      <td>...</td>\n",
       "      <td>...</td>\n",
       "      <td>...</td>\n",
       "      <td>...</td>\n",
       "      <td>...</td>\n",
       "      <td>...</td>\n",
       "      <td>...</td>\n",
       "      <td>...</td>\n",
       "      <td>...</td>\n",
       "      <td>...</td>\n",
       "      <td>...</td>\n",
       "    </tr>\n",
       "    <tr>\n",
       "      <th>24</th>\n",
       "      <td>2</td>\n",
       "      <td>16</td>\n",
       "      <td>0.03088</td>\n",
       "      <td>2</td>\n",
       "      <td>465</td>\n",
       "      <td>0.003652</td>\n",
       "      <td>True</td>\n",
       "      <td>1</td>\n",
       "      <td>0.00372</td>\n",
       "      <td>True</td>\n",
       "      <td>...</td>\n",
       "      <td>[False False False False False False False Fal...</td>\n",
       "      <td>[0. 0. 0. 0. 0. 0. 0. 0. 0. 0. 0. 0. 0. 0. 0. ...</td>\n",
       "      <td>0.0</td>\n",
       "      <td>0.0</td>\n",
       "      <td>0.259641</td>\n",
       "      <td>0.258361</td>\n",
       "      <td>465</td>\n",
       "      <td>1.0</td>\n",
       "      <td>1.0</td>\n",
       "      <td>1.0</td>\n",
       "    </tr>\n",
       "    <tr>\n",
       "      <th>25</th>\n",
       "      <td>2</td>\n",
       "      <td>16</td>\n",
       "      <td>0.025633</td>\n",
       "      <td>1</td>\n",
       "      <td>455</td>\n",
       "      <td>0.134015</td>\n",
       "      <td>True</td>\n",
       "      <td>6</td>\n",
       "      <td>0.007012</td>\n",
       "      <td>True</td>\n",
       "      <td>...</td>\n",
       "      <td>[False False False False False False False Fal...</td>\n",
       "      <td>[0. 0. 0. 0. 0. 0. 0. 0. 0. 0. 0. 0. 0. 0. 0. ...</td>\n",
       "      <td>0.0</td>\n",
       "      <td>0.0</td>\n",
       "      <td>0.260466</td>\n",
       "      <td>0.258385</td>\n",
       "      <td>455</td>\n",
       "      <td>1.0</td>\n",
       "      <td>1.0</td>\n",
       "      <td>1.0</td>\n",
       "    </tr>\n",
       "  </tbody>\n",
       "</table>\n",
       "<p>25 rows × 21 columns</p>\n",
       "</div>"
      ],
      "text/plain": [
       "   params_batch_size_scaler params_constant_batch_size  \\\n",
       "1                        11                         16   \n",
       "2                         2                         16   \n",
       "..                      ...                        ...   \n",
       "24                        2                         16   \n",
       "25                        2                         16   \n",
       "\n",
       "   params_constant_learning_rate params_depth params_epochs params_kernel_l2  \\\n",
       "1                       0.015032            1           480         0.108619   \n",
       "2                       0.025633            1           455         0.134015   \n",
       "..                           ...          ...           ...              ...   \n",
       "24                       0.03088            2           465         0.003652   \n",
       "25                      0.025633            1           455         0.134015   \n",
       "\n",
       "   params_learning_rate_scheduling params_num_trees params_temperature  \\\n",
       "1                             True                9           0.072758   \n",
       "2                             True                6           0.007012   \n",
       "..                             ...              ...                ...   \n",
       "24                            True                1            0.00372   \n",
       "25                            True                6           0.007012   \n",
       "\n",
       "   params_use_annealing  ...  \\\n",
       "1                  True  ...   \n",
       "2                  True  ...   \n",
       "..                  ...  ...   \n",
       "24                 True  ...   \n",
       "25                 True  ...   \n",
       "\n",
       "                           user_attrs_feature_support  \\\n",
       "1   [False False False False False False False Fal...   \n",
       "2   [False False False False False False False Fal...   \n",
       "..                                                ...   \n",
       "24  [False False False False False False False Fal...   \n",
       "25  [False False False False False False False Fal...   \n",
       "\n",
       "                     user_attrs_feature_support_truth user_attrs_fnr  \\\n",
       "1   [0. 0. 0. 0. 0. 0. 0. 0. 0. 0. 0. 0. 0. 0. 0. ...            0.0   \n",
       "2   [0. 0. 0. 0. 0. 0. 0. 0. 0. 0. 0. 0. 0. 0. 0. ...            0.0   \n",
       "..                                                ...            ...   \n",
       "24  [0. 0. 0. 0. 0. 0. 0. 0. 0. 0. 0. 0. 0. 0. 0. ...            0.0   \n",
       "25  [0. 0. 0. 0. 0. 0. 0. 0. 0. 0. 0. 0. 0. 0. 0. ...            0.0   \n",
       "\n",
       "   user_attrs_fpr user_attrs_mse_test user_attrs_mse_valid  \\\n",
       "1             0.0            0.260599             0.272429   \n",
       "2             0.0            0.257461             0.258573   \n",
       "..            ...                 ...                  ...   \n",
       "24            0.0            0.259641             0.258361   \n",
       "25            0.0            0.260466             0.258385   \n",
       "\n",
       "   user_attrs_num_epochs user_attrs_tnr user_attrs_tpr user_attrs_f1  \n",
       "1                    480            1.0            1.0           1.0  \n",
       "2                    455            1.0            1.0           1.0  \n",
       "..                   ...            ...            ...           ...  \n",
       "24                   465            1.0            1.0           1.0  \n",
       "25                   455            1.0            1.0           1.0  \n",
       "\n",
       "[25 rows x 21 columns]"
      ]
     },
     "execution_count": 80,
     "metadata": {},
     "output_type": "execute_result"
    }
   ],
   "source": [
    "best_df"
   ]
  },
  {
   "cell_type": "code",
   "execution_count": 81,
   "id": "cce15107",
   "metadata": {},
   "outputs": [
    {
     "data": {
      "text/plain": [
       "Index(['params_batch_size_scaler', 'params_constant_batch_size',\n",
       "       'params_constant_learning_rate', 'params_depth', 'params_epochs',\n",
       "       'params_kernel_l2', 'params_learning_rate_scheduling',\n",
       "       'params_num_trees', 'params_temperature', 'params_use_annealing',\n",
       "       'user_attrs_feature_sparsity', 'user_attrs_feature_support',\n",
       "       'user_attrs_feature_support_truth', 'user_attrs_fnr', 'user_attrs_fpr',\n",
       "       'user_attrs_mse_test', 'user_attrs_mse_valid', 'user_attrs_num_epochs',\n",
       "       'user_attrs_tnr', 'user_attrs_tpr', 'user_attrs_f1'],\n",
       "      dtype='object')"
      ]
     },
     "execution_count": 81,
     "metadata": {},
     "output_type": "execute_result"
    }
   ],
   "source": [
    "best_df.columns"
   ]
  },
  {
   "cell_type": "code",
   "execution_count": 82,
   "id": "fd66232d",
   "metadata": {},
   "outputs": [
    {
     "data": {
      "text/plain": [
       "Index([ 1,  2,  3,  4,  5,  6,  7,  8,  9, 10, 11, 12, 13, 14, 15, 16, 17, 18,\n",
       "       19, 20, 21, 22, 23, 24, 25],\n",
       "      dtype='int64')"
      ]
     },
     "execution_count": 82,
     "metadata": {},
     "output_type": "execute_result"
    }
   ],
   "source": [
    "best_df.index"
   ]
  },
  {
   "cell_type": "code",
   "execution_count": 83,
   "id": "31d5e39c",
   "metadata": {},
   "outputs": [],
   "source": [
    "sparse_df = result_df[result_df['user_attrs_feature_sparsity']<=100]"
   ]
  },
  {
   "cell_type": "code",
   "execution_count": 84,
   "id": "2b230778",
   "metadata": {},
   "outputs": [
    {
     "data": {
      "text/plain": [
       "<matplotlib.collections.PathCollection at 0x7ff6c297ef10>"
      ]
     },
     "execution_count": 84,
     "metadata": {},
     "output_type": "execute_result"
    },
    {
     "data": {
      "image/png": "[encoded data removed]",
      "text/plain": [
       "<Figure size 640x480 with 1 Axes>"
      ]
     },
     "metadata": {},
     "output_type": "display_data"
    }
   ],
   "source": [
    "plt.scatter(sparse_df['params_depth'], sparse_df['user_attrs_feature_sparsity'])"
   ]
  },
  {
   "cell_type": "code",
   "execution_count": null,
   "id": "669e20f2",
   "metadata": {},
   "outputs": [],
   "source": []
  },
  {
   "cell_type": "code",
   "execution_count": 85,
   "id": "42378ea0",
   "metadata": {},
   "outputs": [
    {
     "data": {
      "text/plain": [
       "array([ 55,  55,  55,  55,  55,  55,  55,  55,  55,  55,  55,  55,  55,\n",
       "        55,  55,  55,  55,  55,  55,  55,  55,  55,  55,  55,  65,  65,\n",
       "        65,  65,  65,  65,  65,  65,  65,  65,  65,  65,  65,  65,  65,\n",
       "        65,  65,  65,  65,  65,  65,  65,  65,  65,  65,  75,  75,  75,\n",
       "        75,  75,  75,  75,  75,  75,  75,  75,  75,  75,  75,  75,  75,\n",
       "        75,  75,  75,  75,  75,  75,  75,  75,  75,  80,  80,  80,  80,\n",
       "        80,  80,  80,  80,  80,  80,  80,  80,  80,  80,  80,  80,  80,\n",
       "        80,  80,  80,  80,  80,  80,  80,  80,  95,  95,  95,  95,  95,\n",
       "        95,  95,  95,  95,  95,  95,  95,  95,  95,  95,  95,  95,  95,\n",
       "        95,  95,  95,  95,  95,  95,  95, 100, 100, 100, 100, 100, 100,\n",
       "       100, 100, 100, 100, 100, 100, 100, 100, 100, 100, 100, 100, 100,\n",
       "       100, 100, 100, 100, 100, 100, 120, 120, 120, 120, 120, 120, 120,\n",
       "       120, 120, 120, 120, 120, 120, 120, 120, 120, 120, 120, 120, 120,\n",
       "       120, 120, 120, 120, 120, 135, 135, 135, 135, 135, 135, 135, 135,\n",
       "       135, 135, 135, 135, 135, 135, 135, 135, 135, 135, 135, 135, 135,\n",
       "       135, 135, 135, 135, 140, 140, 140, 140, 140, 140, 140, 140, 140,\n",
       "       140, 140, 140, 140, 140, 140, 140, 140, 140, 140, 140, 140, 140,\n",
       "       140, 140, 140, 150, 150, 150, 150, 150, 150, 150, 150, 150, 150,\n",
       "       150, 150, 150, 150, 150, 150, 150, 150, 150, 150, 150, 150, 150,\n",
       "       150, 150, 160, 160, 160, 160, 160, 160, 160, 160, 160, 160, 160,\n",
       "       160, 160, 160, 160, 160, 160, 160, 160, 160, 160, 160, 160, 160,\n",
       "       160, 165, 165, 165, 165, 165, 165, 165, 165, 165, 165, 165, 165,\n",
       "       165, 165, 165, 165, 165, 165, 165, 165, 165, 165, 165, 165, 165,\n",
       "       190, 190, 190, 190, 190, 190, 190, 190, 190, 190, 190, 190, 190,\n",
       "       190, 190, 190, 190, 190, 190, 190, 190, 190, 190, 215, 215, 215,\n",
       "       215, 215, 215, 215, 215, 215, 215, 215, 215, 215, 215, 215, 215,\n",
       "       215, 215, 215, 215, 215, 215, 215, 215, 215, 220, 220, 220, 220,\n",
       "       220, 220, 220, 220, 220, 220, 220, 220, 220, 220, 220, 220, 220,\n",
       "       220, 220, 220, 220, 220, 220, 220, 220, 230, 230, 230, 230, 230,\n",
       "       230, 230, 230, 230, 230, 230, 230, 230, 230, 230, 230, 230, 230,\n",
       "       230, 230, 230, 230, 230, 230, 230, 235, 235, 235, 235, 235, 235,\n",
       "       235, 235, 235, 235, 235, 235, 235, 235, 235, 235, 235, 235, 235,\n",
       "       235, 235, 235, 235, 235, 235, 245, 245, 245, 245, 245, 245, 245,\n",
       "       245, 245, 245, 245, 245, 245, 245, 245, 245, 245, 245, 245, 245,\n",
       "       245, 245, 245, 245, 245, 250, 260, 260, 260, 260, 260, 260, 260,\n",
       "       260, 260, 260, 260, 260, 260, 260, 260, 260, 260, 320, 320, 320,\n",
       "       320, 320, 320, 320, 320, 320, 320, 320, 320, 320, 320, 320, 320,\n",
       "       320, 320, 320, 320, 320, 320, 320, 320, 320, 360, 360, 360, 360,\n",
       "       360, 360, 360, 360, 360, 360, 360, 360, 360, 360, 360, 360, 360,\n",
       "       360, 360, 360, 360, 360, 360, 360, 360, 375, 375, 375, 375, 375,\n",
       "       375, 375, 375, 375, 375, 375, 375, 375, 375, 375, 375, 375, 375,\n",
       "       375, 375, 375, 375, 375, 375, 375, 390, 390, 390, 390, 390, 390,\n",
       "       390, 390, 390, 390, 390, 390, 390, 390, 390, 390, 390, 390, 390,\n",
       "       390, 390, 390, 390, 390, 390, 390, 390, 390, 390, 390, 390, 390,\n",
       "       390, 390, 390, 390, 390, 390, 390, 390, 390, 390, 390, 390, 390,\n",
       "       390, 390, 390, 390, 390, 395, 395, 395, 395, 395, 395, 395, 395,\n",
       "       395, 395, 395, 395, 395, 395, 395, 395, 395, 395, 395, 395, 395,\n",
       "       395, 395, 395, 395, 395, 395, 395, 395, 395, 395, 395, 395, 395,\n",
       "       395, 395, 395, 395, 395, 395, 395, 395, 395, 395, 395, 395, 395,\n",
       "       395, 395, 395, 400, 400, 400, 400, 400, 400, 400, 400, 400, 400,\n",
       "       400, 400, 400, 400, 400, 400, 400, 400, 400, 400, 400, 400, 400,\n",
       "       400, 400, 400, 400, 400, 400, 400, 400, 400, 400, 400, 400, 400,\n",
       "       400, 400, 400, 400, 400, 400, 400, 400, 400, 400, 400, 400, 400,\n",
       "       400, 400, 400, 400, 400, 400, 400, 400, 400, 400, 400, 400, 400,\n",
       "       400, 400, 400, 400, 400, 400, 400, 400, 400, 400, 400, 400, 400,\n",
       "       405, 405, 405, 405, 405, 405, 405, 405, 405, 405, 405, 405, 405,\n",
       "       405, 405, 405, 405, 405, 405, 405, 405, 405, 405, 405, 405, 435,\n",
       "       435, 435, 435, 435, 435, 435, 435, 435, 435, 435, 435, 435, 435,\n",
       "       435, 435, 435, 435, 435, 435, 435, 435, 435, 435, 435, 450, 450,\n",
       "       450, 450, 450, 450, 450, 450, 450, 450, 450, 450, 450, 450, 450,\n",
       "       450, 450, 450, 450, 450, 450, 450, 450, 450, 450, 455, 455, 455,\n",
       "       455, 455, 455, 455, 455, 455, 455, 455, 455, 455, 455, 455, 455,\n",
       "       455, 455, 455, 455, 455, 455, 455, 455, 455, 455, 455, 455, 455,\n",
       "       455, 455, 455, 455, 455, 455, 455, 455, 455, 455, 455, 455, 455,\n",
       "       455, 455, 455, 455, 455, 455, 455, 455, 455, 455, 455, 455, 455,\n",
       "       455, 455, 455, 455, 455, 455, 455, 455, 455, 455, 455, 455, 455,\n",
       "       455, 455, 455, 455, 455, 455, 455, 465, 465, 465, 465, 465, 465,\n",
       "       465, 465, 465, 465, 465, 465, 465, 465, 465, 465, 465, 465, 465,\n",
       "       465, 465, 465, 465, 465, 465, 480, 480, 480, 480, 480, 480, 480,\n",
       "       480, 480, 480, 480, 480, 480, 480, 480, 480, 480, 480, 480, 480,\n",
       "       480, 480, 480, 480, 480, 480, 480, 480, 480, 480, 480, 480, 480,\n",
       "       480, 480, 485, 485, 485, 485, 485, 485, 485, 485, 485, 485, 485,\n",
       "       485, 485, 485, 485, 485, 485, 485, 485, 485, 485, 485, 485, 485,\n",
       "       485, 490, 490, 490, 490, 490, 490, 490, 490, 490, 490, 490, 490,\n",
       "       490, 490, 490, 490, 490, 490, 490, 490, 490, 490, 490, 490, 490,\n",
       "       500, 500, 500, 500, 500, 500, 500, 500, 500, 500, 500, 500, 500,\n",
       "       500, 500, 500, 500, 500, 500, 500, 500, 500, 500, 500, 500])"
      ]
     },
     "execution_count": 85,
     "metadata": {},
     "output_type": "execute_result"
    }
   ],
   "source": [
    "sparse_df['user_attrs_num_epochs'].sort_values().values[-1000:]"
   ]
  },
  {
   "cell_type": "code",
   "execution_count": 86,
   "id": "55bc8f54",
   "metadata": {},
   "outputs": [
    {
     "data": {
      "text/plain": [
       "array([1, 1, 1, 1, 1, 1, 1, 1, 1, 1, 1, 1, 1, 1, 1, 1, 1, 1, 1, 1, 1, 1,\n",
       "       1, 2, 1], dtype=object)"
      ]
     },
     "execution_count": 86,
     "metadata": {},
     "output_type": "execute_result"
    }
   ],
   "source": [
    "best_df['params_depth'].values"
   ]
  },
  {
   "cell_type": "code",
   "execution_count": 87,
   "id": "eb1ed32b",
   "metadata": {},
   "outputs": [
    {
     "data": {
      "text/plain": [
       "(0.26048290382385336, 0.0009252069835763745)"
      ]
     },
     "execution_count": 87,
     "metadata": {},
     "output_type": "execute_result"
    }
   ],
   "source": [
    "best_df['user_attrs_mse_test'].mean(), best_df['user_attrs_mse_test'].sem()"
   ]
  },
  {
   "cell_type": "code",
   "execution_count": 88,
   "id": "3d4eb2bb",
   "metadata": {},
   "outputs": [
    {
     "data": {
      "text/plain": [
       "(0.9952941176470589, 0.0032574995540855267)"
      ]
     },
     "execution_count": 88,
     "metadata": {},
     "output_type": "execute_result"
    }
   ],
   "source": [
    "best_df['user_attrs_f1'].mean(), best_df['user_attrs_f1'].sem()"
   ]
  },
  {
   "cell_type": "code",
   "execution_count": 89,
   "id": "551bae84",
   "metadata": {},
   "outputs": [
    {
     "data": {
      "text/plain": [
       "(8.08, 0.05537749241945382)"
      ]
     },
     "execution_count": 89,
     "metadata": {},
     "output_type": "execute_result"
    }
   ],
   "source": [
    "best_df['user_attrs_feature_sparsity'].mean(), best_df['user_attrs_feature_sparsity'].sem()"
   ]
  },
  {
   "cell_type": "code",
   "execution_count": 90,
   "id": "f76ac268",
   "metadata": {},
   "outputs": [
    {
     "data": {
      "text/plain": [
       "array([0.2496339410017648, 0.256013720809671, 0.2568116796618254,\n",
       "       0.2569021599910112, 0.2570230349866277, 0.2574515756553278,\n",
       "       0.2574607588199176, 0.2581493516573647, 0.2587719749712704,\n",
       "       0.2587743384580189, 0.2596408138495804, 0.2601543040092355,\n",
       "       0.2604662990387948, 0.2605985407966693, 0.2606488566991503,\n",
       "       0.2607158320215376, 0.2608330338104857, 0.2611384786435554,\n",
       "       0.2620205314282517, 0.2621090821333299, 0.2639874343003962,\n",
       "       0.2649581959436687, 0.2649616782822744, 0.2692086806965425,\n",
       "       0.2736382979300619], dtype=object)"
      ]
     },
     "execution_count": 90,
     "metadata": {},
     "output_type": "execute_result"
    }
   ],
   "source": [
    "best_df['user_attrs_mse_test'].sort_values().values"
   ]
  },
  {
   "cell_type": "code",
   "execution_count": 91,
   "id": "1f5ff6f8",
   "metadata": {},
   "outputs": [
    {
     "data": {
      "text/plain": [
       "8.08"
      ]
     },
     "execution_count": 91,
     "metadata": {},
     "output_type": "execute_result"
    }
   ],
   "source": [
    "best_df['user_attrs_feature_sparsity'].mean()"
   ]
  },
  {
   "cell_type": "code",
   "execution_count": 92,
   "id": "fa75382b",
   "metadata": {},
   "outputs": [
    {
     "data": {
      "text/plain": [
       "array([8, 8, 8, 8, 9, 9, 8, 8, 8, 8, 8, 8, 8, 8, 8, 8, 8, 8, 8, 8, 8, 8,\n",
       "       8, 8, 8], dtype=object)"
      ]
     },
     "execution_count": 92,
     "metadata": {},
     "output_type": "execute_result"
    }
   ],
   "source": [
    "best_df['user_attrs_feature_sparsity'].values"
   ]
  },
  {
   "cell_type": "code",
   "execution_count": 93,
   "id": "a1143fa5",
   "metadata": {},
   "outputs": [
    {
     "data": {
      "text/plain": [
       "array([480, 455, 485, 485, 435, 455, 435, 455, 485, 485, 455, 485, 485,\n",
       "       485, 485, 435, 485, 485, 455, 435, 485, 485, 435, 465, 455],\n",
       "      dtype=object)"
      ]
     },
     "execution_count": 93,
     "metadata": {},
     "output_type": "execute_result"
    }
   ],
   "source": [
    "best_df['user_attrs_num_epochs'].values"
   ]
  },
  {
   "cell_type": "code",
   "execution_count": 94,
   "id": "2ccff41e",
   "metadata": {},
   "outputs": [
    {
     "data": {
      "text/plain": [
       "Index(['params_batch_size_scaler', 'params_constant_batch_size',\n",
       "       'params_constant_learning_rate', 'params_depth', 'params_epochs',\n",
       "       'params_kernel_l2', 'params_learning_rate_scheduling',\n",
       "       'params_num_trees', 'params_temperature', 'params_use_annealing',\n",
       "       'user_attrs_feature_sparsity', 'user_attrs_feature_support',\n",
       "       'user_attrs_feature_support_truth', 'user_attrs_fnr', 'user_attrs_fpr',\n",
       "       'user_attrs_mse_test', 'user_attrs_mse_valid', 'user_attrs_num_epochs',\n",
       "       'user_attrs_tnr', 'user_attrs_tpr', 'user_attrs_f1'],\n",
       "      dtype='object')"
      ]
     },
     "execution_count": 94,
     "metadata": {},
     "output_type": "execute_result"
    }
   ],
   "source": [
    "best_df.columns"
   ]
  },
  {
   "cell_type": "code",
   "execution_count": 95,
   "id": "f95145d3",
   "metadata": {},
   "outputs": [
    {
     "data": {
      "text/plain": [
       "array([8, 8, 8, 8, 9, 9, 8, 8, 8, 8, 8, 8, 8, 8, 8, 8, 8, 8, 8, 8, 8, 8,\n",
       "       8, 8, 8], dtype=object)"
      ]
     },
     "execution_count": 95,
     "metadata": {},
     "output_type": "execute_result"
    }
   ],
   "source": [
    "best_df['user_attrs_feature_sparsity'].values"
   ]
  },
  {
   "cell_type": "code",
   "execution_count": 96,
   "id": "bf38c022",
   "metadata": {},
   "outputs": [
    {
     "data": {
      "text/plain": [
       "(8.08, 0.05537749241945382)"
      ]
     },
     "execution_count": 96,
     "metadata": {},
     "output_type": "execute_result"
    }
   ],
   "source": [
    "best_df['user_attrs_feature_sparsity'].mean(), best_df['user_attrs_feature_sparsity'].sem()"
   ]
  },
  {
   "cell_type": "code",
   "execution_count": 97,
   "id": "be7bd5fd",
   "metadata": {},
   "outputs": [
    {
     "data": {
      "text/plain": [
       "0.031451639376289545"
      ]
     },
     "execution_count": 97,
     "metadata": {},
     "output_type": "execute_result"
    }
   ],
   "source": [
    "best_df['params_constant_learning_rate'].mean()"
   ]
  },
  {
   "cell_type": "code",
   "execution_count": 98,
   "id": "9b60b312",
   "metadata": {},
   "outputs": [
    {
     "data": {
      "text/plain": [
       "1     [0. 0. 0. 0. 0. 0. 0. 0. 0. 0. 0. 0. 0. 0. 0. ...\n",
       "2     [0. 0. 0. 0. 0. 0. 0. 0. 0. 0. 0. 0. 0. 0. 0. ...\n",
       "                            ...                        \n",
       "24    [0. 0. 0. 0. 0. 0. 0. 0. 0. 0. 0. 0. 0. 0. 0. ...\n",
       "25    [0. 0. 0. 0. 0. 0. 0. 0. 0. 0. 0. 0. 0. 0. 0. ...\n",
       "Name: user_attrs_feature_support_truth, Length: 25, dtype: object"
      ]
     },
     "execution_count": 98,
     "metadata": {},
     "output_type": "execute_result"
    }
   ],
   "source": [
    "best_df['user_attrs_feature_support_truth']"
   ]
  },
  {
   "cell_type": "code",
   "execution_count": 99,
   "id": "ace30b58",
   "metadata": {},
   "outputs": [
    {
     "data": {
      "text/html": [
       "<div>\n",
       "<style scoped>\n",
       "    .dataframe tbody tr th:only-of-type {\n",
       "        vertical-align: middle;\n",
       "    }\n",
       "\n",
       "    .dataframe tbody tr th {\n",
       "        vertical-align: top;\n",
       "    }\n",
       "\n",
       "    .dataframe thead th {\n",
       "        text-align: right;\n",
       "    }\n",
       "</style>\n",
       "<table border=\"1\" class=\"dataframe\">\n",
       "  <thead>\n",
       "    <tr style=\"text-align: right;\">\n",
       "      <th></th>\n",
       "      <th>0</th>\n",
       "      <th>1</th>\n",
       "    </tr>\n",
       "  </thead>\n",
       "  <tbody>\n",
       "    <tr>\n",
       "      <th>1</th>\n",
       "      <td></td>\n",
       "      <td>0. 0. 0. 0. 0. 0. 0. 0. 0. 0. 0. 0. 0. 0. 0. 0...</td>\n",
       "    </tr>\n",
       "    <tr>\n",
       "      <th>2</th>\n",
       "      <td></td>\n",
       "      <td>0. 0. 0. 0. 0. 0. 0. 0. 0. 0. 0. 0. 0. 0. 0. 0...</td>\n",
       "    </tr>\n",
       "    <tr>\n",
       "      <th>...</th>\n",
       "      <td>...</td>\n",
       "      <td>...</td>\n",
       "    </tr>\n",
       "    <tr>\n",
       "      <th>24</th>\n",
       "      <td></td>\n",
       "      <td>0. 0. 0. 0. 0. 0. 0. 0. 0. 0. 0. 0. 0. 0. 0. 0...</td>\n",
       "    </tr>\n",
       "    <tr>\n",
       "      <th>25</th>\n",
       "      <td></td>\n",
       "      <td>0. 0. 0. 0. 0. 0. 0. 0. 0. 0. 0. 0. 0. 0. 0. 0...</td>\n",
       "    </tr>\n",
       "  </tbody>\n",
       "</table>\n",
       "<p>25 rows × 2 columns</p>\n",
       "</div>"
      ],
      "text/plain": [
       "   0                                                   1\n",
       "1      0. 0. 0. 0. 0. 0. 0. 0. 0. 0. 0. 0. 0. 0. 0. 0...\n",
       "2      0. 0. 0. 0. 0. 0. 0. 0. 0. 0. 0. 0. 0. 0. 0. 0...\n",
       ".. ..                                                ...\n",
       "24     0. 0. 0. 0. 0. 0. 0. 0. 0. 0. 0. 0. 0. 0. 0. 0...\n",
       "25     0. 0. 0. 0. 0. 0. 0. 0. 0. 0. 0. 0. 0. 0. 0. 0...\n",
       "\n",
       "[25 rows x 2 columns]"
      ]
     },
     "execution_count": 99,
     "metadata": {},
     "output_type": "execute_result"
    }
   ],
   "source": [
    "best_df['user_attrs_feature_support_truth'].str.rsplit(pat='[', n=max_features[dataset], expand=True)"
   ]
  },
  {
   "cell_type": "code",
   "execution_count": 100,
   "id": "ee70defe",
   "metadata": {},
   "outputs": [
    {
     "data": {
      "text/plain": [
       "1     [0. 0. 0. 0. 0. 0. 0. 0. 0. 0. 0. 0. 0. 0. 0. ...\n",
       "2     [0. 0. 0. 0. 0. 0. 0. 0. 0. 0. 0. 0. 0. 0. 0. ...\n",
       "                            ...                        \n",
       "24    [0. 0. 0. 0. 0. 0. 0. 0. 0. 0. 0. 0. 0. 0. 0. ...\n",
       "25    [0. 0. 0. 0. 0. 0. 0. 0. 0. 0. 0. 0. 0. 0. 0. ...\n",
       "Name: user_attrs_feature_support_truth, Length: 25, dtype: object"
      ]
     },
     "execution_count": 100,
     "metadata": {},
     "output_type": "execute_result"
    }
   ],
   "source": [
    "best_df['user_attrs_feature_support_truth']"
   ]
  },
  {
   "cell_type": "code",
   "execution_count": 101,
   "id": "bee9b963",
   "metadata": {},
   "outputs": [
    {
     "data": {
      "text/plain": [
       "1     0. 0. 0. 0. 0. 0. 0. 0. 0. 0. 0. 0. 0. 0. 0. 0...\n",
       "2     0. 0. 0. 0. 0. 0. 0. 0. 0. 0. 0. 0. 0. 0. 0. 0...\n",
       "                            ...                        \n",
       "24    0. 0. 0. 0. 0. 0. 0. 0. 0. 0. 0. 0. 0. 0. 0. 0...\n",
       "25    0. 0. 0. 0. 0. 0. 0. 0. 0. 0. 0. 0. 0. 0. 0. 0...\n",
       "Name: 0, Length: 25, dtype: object"
      ]
     },
     "execution_count": 101,
     "metadata": {},
     "output_type": "execute_result"
    }
   ],
   "source": [
    "best_df['user_attrs_feature_support_truth'].str.rsplit(pat='[', n=max_features[dataset], expand=True)[1].str.rsplit(pat=']', n=256, expand=True)[0]"
   ]
  },
  {
   "cell_type": "code",
   "execution_count": 102,
   "id": "8033133c",
   "metadata": {},
   "outputs": [
    {
     "data": {
      "text/plain": [
       "array([0, 0, 0, 0, 0, 0, 0, 0, 0, 0, 0, 0, 0, 0, 0, 0, 0, 0, 0, 0, 0, 0,\n",
       "       0, 0, 0, 0, 0, 0, 0, 0, 0, 0, 1, 0, 0, 0, 0, 0, 0, 0, 0, 0, 0, 0,\n",
       "       0, 0, 0, 0, 0, 0, 0, 0, 0, 0, 0, 0, 0, 0, 0, 0, 0, 0, 0, 0, 0, 0,\n",
       "       0, 0, 0, 0, 0, 0, 0, 0, 0, 0, 0, 0, 0, 0, 0, 0, 0, 0, 0, 0, 0, 0,\n",
       "       0, 0, 0, 0, 0, 0, 0, 0, 1, 0, 0, 0, 0, 0, 0, 0, 0, 0, 0, 0, 0, 0,\n",
       "       0, 0, 0, 0, 0, 0, 0, 0, 0, 0, 0, 0, 0, 0, 0, 0, 0, 0, 0, 0, 0, 0,\n",
       "       0, 0, 0, 0, 0, 0, 0, 0, 0, 0, 0, 0, 0, 0, 0, 0, 0, 0, 0, 0, 0, 0,\n",
       "       0, 0, 0, 0, 0, 0, 1, 0, 0, 0, 0, 0, 0, 0, 0, 0, 0, 0, 0, 0, 0, 0,\n",
       "       0, 0, 0, 0, 0, 0, 0, 0, 0, 0, 0, 0, 0, 0, 0, 0, 0, 0, 0, 0, 0, 0,\n",
       "       0, 0, 0, 0, 0, 0, 0, 0, 0, 0, 0, 0, 0, 0, 0, 0, 0, 0, 0, 0, 0, 0,\n",
       "       0, 0, 0, 0, 1, 0, 0, 0, 0, 0, 0, 0, 0, 0, 0, 0, 0, 0, 0, 0, 0, 0,\n",
       "       0, 0, 0, 0, 0, 0, 0, 0, 0, 0, 0, 0, 0, 0, 0, 0, 0, 0, 0, 0, 0, 0,\n",
       "       0, 0, 0, 0, 0, 0, 0, 0, 0, 0, 0, 0, 0, 0, 0, 0, 0, 0, 0, 0, 0, 0,\n",
       "       0, 0, 1, 0, 0, 0, 0, 0, 0, 0, 0, 0, 0, 0, 0, 0, 0, 0, 0, 0, 0, 0,\n",
       "       0, 0, 0, 0, 0, 0, 0, 0, 0, 0, 0, 0, 0, 0, 0, 0, 0, 0, 0, 0, 0, 0,\n",
       "       0, 0, 0, 0, 0, 0, 0, 0, 0, 0, 0, 0, 0, 0, 0, 0, 0, 0, 0, 0, 0, 0,\n",
       "       1, 0, 0, 0, 0, 0, 0, 0, 0, 0, 0, 0, 0, 0, 0, 0, 0, 0, 0, 0, 0, 0,\n",
       "       0, 0, 0, 0, 0, 0, 0, 0, 0, 0, 0, 0, 0, 0, 0, 0, 0, 0, 0, 0, 0, 0,\n",
       "       0, 0, 0, 0, 0, 0, 0, 0, 0, 0, 0, 0, 0, 0, 0, 0, 0, 0, 0, 0, 1, 0,\n",
       "       0, 0, 0, 0, 0, 0, 0, 0, 0, 0, 0, 0, 0, 0, 0, 0, 0, 0, 0, 0, 0, 0,\n",
       "       0, 0, 0, 0, 0, 0, 0, 0, 0, 0, 0, 0, 0, 0, 0, 0, 0, 0, 0, 0, 0, 0,\n",
       "       0, 0, 0, 0, 0, 0, 0, 0, 0, 0, 0, 0, 0, 0, 0, 0, 0, 0, 1, 0, 0, 0,\n",
       "       0, 0, 0, 0, 0, 0, 0, 0, 0, 0, 0, 0, 0, 0, 0, 0, 0, 0, 0, 0, 0, 0,\n",
       "       0, 0, 0, 0, 0, 0])"
      ]
     },
     "execution_count": 102,
     "metadata": {},
     "output_type": "execute_result"
    }
   ],
   "source": [
    "feature_support_truth = best_df['user_attrs_feature_support_truth'].str.rsplit(pat='[', n=max_features[dataset], expand=True)[1].str.rsplit(pat=']', n=max_features[dataset], expand=True)[0].str.rsplit(pat='.', n=max_features[dataset], expand=True).iloc[:,:-1]\n",
    "feature_support_truth = feature_support_truth.astype(int)\n",
    "feature_support_truth.mean().values.astype(int)"
   ]
  },
  {
   "cell_type": "code",
   "execution_count": 103,
   "id": "13352031",
   "metadata": {},
   "outputs": [
    {
     "data": {
      "text/html": [
       "<div>\n",
       "<style scoped>\n",
       "    .dataframe tbody tr th:only-of-type {\n",
       "        vertical-align: middle;\n",
       "    }\n",
       "\n",
       "    .dataframe tbody tr th {\n",
       "        vertical-align: top;\n",
       "    }\n",
       "\n",
       "    .dataframe thead th {\n",
       "        text-align: right;\n",
       "    }\n",
       "</style>\n",
       "<table border=\"1\" class=\"dataframe\">\n",
       "  <thead>\n",
       "    <tr style=\"text-align: right;\">\n",
       "      <th></th>\n",
       "      <th>0</th>\n",
       "      <th>1</th>\n",
       "      <th>2</th>\n",
       "      <th>3</th>\n",
       "      <th>4</th>\n",
       "      <th>5</th>\n",
       "      <th>6</th>\n",
       "      <th>7</th>\n",
       "      <th>8</th>\n",
       "      <th>9</th>\n",
       "      <th>...</th>\n",
       "      <th>502</th>\n",
       "      <th>503</th>\n",
       "      <th>504</th>\n",
       "      <th>505</th>\n",
       "      <th>506</th>\n",
       "      <th>507</th>\n",
       "      <th>508</th>\n",
       "      <th>509</th>\n",
       "      <th>510</th>\n",
       "      <th>511</th>\n",
       "    </tr>\n",
       "  </thead>\n",
       "  <tbody>\n",
       "    <tr>\n",
       "      <th>1</th>\n",
       "      <td>0</td>\n",
       "      <td>0</td>\n",
       "      <td>0</td>\n",
       "      <td>0</td>\n",
       "      <td>0</td>\n",
       "      <td>0</td>\n",
       "      <td>0</td>\n",
       "      <td>0</td>\n",
       "      <td>0</td>\n",
       "      <td>0</td>\n",
       "      <td>...</td>\n",
       "      <td>0</td>\n",
       "      <td>0</td>\n",
       "      <td>0</td>\n",
       "      <td>0</td>\n",
       "      <td>0</td>\n",
       "      <td>0</td>\n",
       "      <td>0</td>\n",
       "      <td>0</td>\n",
       "      <td>0</td>\n",
       "      <td>0</td>\n",
       "    </tr>\n",
       "    <tr>\n",
       "      <th>2</th>\n",
       "      <td>0</td>\n",
       "      <td>0</td>\n",
       "      <td>0</td>\n",
       "      <td>0</td>\n",
       "      <td>0</td>\n",
       "      <td>0</td>\n",
       "      <td>0</td>\n",
       "      <td>0</td>\n",
       "      <td>0</td>\n",
       "      <td>0</td>\n",
       "      <td>...</td>\n",
       "      <td>0</td>\n",
       "      <td>0</td>\n",
       "      <td>0</td>\n",
       "      <td>0</td>\n",
       "      <td>0</td>\n",
       "      <td>0</td>\n",
       "      <td>0</td>\n",
       "      <td>0</td>\n",
       "      <td>0</td>\n",
       "      <td>0</td>\n",
       "    </tr>\n",
       "    <tr>\n",
       "      <th>...</th>\n",
       "      <td>...</td>\n",
       "      <td>...</td>\n",
       "      <td>...</td>\n",
       "      <td>...</td>\n",
       "      <td>...</td>\n",
       "      <td>...</td>\n",
       "      <td>...</td>\n",
       "      <td>...</td>\n",
       "      <td>...</td>\n",
       "      <td>...</td>\n",
       "      <td>...</td>\n",
       "      <td>...</td>\n",
       "      <td>...</td>\n",
       "      <td>...</td>\n",
       "      <td>...</td>\n",
       "      <td>...</td>\n",
       "      <td>...</td>\n",
       "      <td>...</td>\n",
       "      <td>...</td>\n",
       "      <td>...</td>\n",
       "      <td>...</td>\n",
       "    </tr>\n",
       "    <tr>\n",
       "      <th>24</th>\n",
       "      <td>0</td>\n",
       "      <td>0</td>\n",
       "      <td>0</td>\n",
       "      <td>0</td>\n",
       "      <td>0</td>\n",
       "      <td>0</td>\n",
       "      <td>0</td>\n",
       "      <td>0</td>\n",
       "      <td>0</td>\n",
       "      <td>0</td>\n",
       "      <td>...</td>\n",
       "      <td>0</td>\n",
       "      <td>0</td>\n",
       "      <td>0</td>\n",
       "      <td>0</td>\n",
       "      <td>0</td>\n",
       "      <td>0</td>\n",
       "      <td>0</td>\n",
       "      <td>0</td>\n",
       "      <td>0</td>\n",
       "      <td>0</td>\n",
       "    </tr>\n",
       "    <tr>\n",
       "      <th>25</th>\n",
       "      <td>0</td>\n",
       "      <td>0</td>\n",
       "      <td>0</td>\n",
       "      <td>0</td>\n",
       "      <td>0</td>\n",
       "      <td>0</td>\n",
       "      <td>0</td>\n",
       "      <td>0</td>\n",
       "      <td>0</td>\n",
       "      <td>0</td>\n",
       "      <td>...</td>\n",
       "      <td>0</td>\n",
       "      <td>0</td>\n",
       "      <td>0</td>\n",
       "      <td>0</td>\n",
       "      <td>0</td>\n",
       "      <td>0</td>\n",
       "      <td>0</td>\n",
       "      <td>0</td>\n",
       "      <td>0</td>\n",
       "      <td>0</td>\n",
       "    </tr>\n",
       "  </tbody>\n",
       "</table>\n",
       "<p>25 rows × 512 columns</p>\n",
       "</div>"
      ],
      "text/plain": [
       "    0    1    2    3    4    5    6    7    8    9    ...  502  503  504  505  \\\n",
       "1     0    0    0    0    0    0    0    0    0    0  ...    0    0    0    0   \n",
       "2     0    0    0    0    0    0    0    0    0    0  ...    0    0    0    0   \n",
       "..  ...  ...  ...  ...  ...  ...  ...  ...  ...  ...  ...  ...  ...  ...  ...   \n",
       "24    0    0    0    0    0    0    0    0    0    0  ...    0    0    0    0   \n",
       "25    0    0    0    0    0    0    0    0    0    0  ...    0    0    0    0   \n",
       "\n",
       "    506  507  508  509  510  511  \n",
       "1     0    0    0    0    0    0  \n",
       "2     0    0    0    0    0    0  \n",
       "..  ...  ...  ...  ...  ...  ...  \n",
       "24    0    0    0    0    0    0  \n",
       "25    0    0    0    0    0    0  \n",
       "\n",
       "[25 rows x 512 columns]"
      ]
     },
     "execution_count": 103,
     "metadata": {},
     "output_type": "execute_result"
    }
   ],
   "source": [
    "feature_support_truth"
   ]
  },
  {
   "cell_type": "code",
   "execution_count": 104,
   "id": "e07f10cf",
   "metadata": {},
   "outputs": [],
   "source": [
    "feature_support_recovery = best_df['user_attrs_feature_support'].str.rsplit(pat='[', n=max_features[dataset], expand=True)[1].str.rsplit(pat=']', n=max_features[dataset], expand=True)[0].str.replace('\\n','').str.strip()\n",
    "feature_support_recovery = feature_support_recovery.str.replace(\"  \",\",\")\n",
    "feature_support_recovery = feature_support_recovery.str.replace(\" \",\",\")\n",
    "feature_support_recovery = feature_support_recovery.str.rsplit(pat=',', n=max_features[dataset], expand=True)\n",
    "str2bool = {'True': 1, 'False': 0}\n",
    "for col in feature_support_recovery.columns:\n",
    "    feature_support_recovery[col] = feature_support_recovery[col].map(str2bool)\n"
   ]
  },
  {
   "cell_type": "code",
   "execution_count": 105,
   "id": "0c075be6",
   "metadata": {},
   "outputs": [
    {
     "data": {
      "text/plain": [
       "array([0, 0, 0, 0, 0, 0, 0, 0, 0, 0, 0, 0, 0, 0, 0, 0, 0, 0, 0, 0, 0, 0,\n",
       "       0, 0, 0, 0, 0, 0, 0, 0, 0, 0, 1, 0, 0, 0, 0, 0, 0, 0, 0, 0, 0, 0,\n",
       "       0, 0, 0, 0, 0, 0, 0, 0, 0, 0, 0, 0, 0, 0, 0, 0, 0, 0, 0, 0, 0, 0,\n",
       "       0, 0, 0, 0, 0, 0, 0, 0, 0, 0, 0, 0, 0, 0, 0, 0, 0, 0, 0, 0, 0, 0,\n",
       "       0, 0, 0, 0, 0, 0, 0, 0, 1, 0, 0, 0, 0, 0, 0, 0, 0, 0, 0, 0, 0, 0,\n",
       "       0, 0, 0, 0, 0, 0, 0, 0, 0, 0, 0, 0, 0, 0, 0, 0, 0, 0, 0, 0, 0, 0,\n",
       "       0, 0, 0, 0, 0, 0, 0, 0, 0, 0, 0, 0, 0, 0, 0, 0, 0, 0, 0, 0, 0, 0,\n",
       "       0, 0, 0, 0, 0, 0, 1, 0, 0, 0, 0, 0, 0, 0, 0, 0, 0, 0, 0, 0, 0, 0,\n",
       "       0, 0, 0, 0, 0, 0, 0, 0, 0, 0, 0, 0, 0, 0, 0, 0, 0, 0, 0, 0, 0, 0,\n",
       "       0, 0, 0, 0, 0, 0, 0, 0, 0, 0, 0, 0, 0, 0, 0, 0, 0, 0, 0, 0, 0, 0,\n",
       "       0, 0, 0, 0, 1, 0, 0, 0, 0, 0, 0, 0, 0, 0, 0, 0, 0, 0, 0, 0, 0, 0,\n",
       "       0, 0, 0, 0, 0, 0, 0, 0, 0, 0, 0, 0, 0, 0, 0, 0, 0, 0, 0, 0, 0, 0,\n",
       "       0, 0, 0, 0, 0, 0, 0, 0, 0, 0, 0, 0, 0, 0, 0, 0, 0, 0, 0, 0, 0, 0,\n",
       "       0, 0, 1, 0, 0, 0, 0, 0, 0, 0, 0, 0, 0, 0, 0, 0, 0, 0, 0, 0, 0, 0,\n",
       "       0, 0, 0, 0, 0, 0, 0, 0, 0, 0, 0, 0, 0, 0, 0, 0, 0, 0, 0, 0, 0, 0,\n",
       "       0, 0, 0, 0, 0, 0, 0, 0, 0, 0, 0, 0, 0, 0, 0, 0, 0, 0, 0, 0, 0, 0,\n",
       "       1, 0, 0, 0, 0, 0, 0, 0, 0, 0, 0, 0, 0, 0, 0, 0, 0, 0, 0, 0, 0, 0,\n",
       "       0, 0, 0, 0, 0, 0, 0, 0, 0, 0, 0, 0, 0, 0, 0, 0, 0, 0, 0, 0, 0, 0,\n",
       "       0, 0, 0, 0, 0, 0, 0, 0, 0, 0, 0, 0, 0, 0, 0, 0, 0, 0, 0, 0, 1, 0,\n",
       "       0, 0, 0, 0, 0, 0, 0, 0, 0, 0, 0, 0, 0, 0, 0, 0, 0, 0, 0, 0, 0, 0,\n",
       "       0, 0, 0, 0, 0, 0, 0, 0, 0, 0, 0, 0, 0, 0, 0, 0, 0, 0, 0, 0, 0, 0,\n",
       "       0, 0, 0, 0, 0, 0, 0, 0, 0, 0, 0, 0, 0, 0, 0, 0, 0, 0, 1, 0, 0, 0,\n",
       "       0, 0, 0, 0, 0, 0, 0, 0, 0, 0, 0, 0, 0, 0, 0, 0, 0, 0, 0, 0, 0, 0,\n",
       "       0, 0, 0, 0, 0, 0])"
      ]
     },
     "execution_count": 105,
     "metadata": {},
     "output_type": "execute_result"
    }
   ],
   "source": [
    "(feature_support_recovery.mean().values>0.5).astype(int)"
   ]
  },
  {
   "cell_type": "code",
   "execution_count": 106,
   "id": "c29f4ce6",
   "metadata": {},
   "outputs": [
    {
     "data": {
      "text/plain": [
       "array([0, 0, 0, 0, 0, 0, 0, 0, 0, 0, 0, 0, 0, 0, 0, 0, 0, 0, 0, 0, 0, 0,\n",
       "       0, 0, 0, 0, 0, 0, 0, 0, 0, 0, 1, 0, 0, 0, 0, 0, 0, 0, 0, 0, 0, 0,\n",
       "       0, 0, 0, 0, 0, 0, 0, 0, 0, 0, 0, 0, 0, 0, 0, 0, 0, 0, 0, 0, 0, 0,\n",
       "       0, 0, 0, 0, 0, 0, 0, 0, 0, 0, 0, 0, 0, 0, 0, 0, 0, 0, 0, 0, 0, 0,\n",
       "       0, 0, 0, 0, 0, 0, 0, 0, 1, 0, 0, 0, 0, 0, 0, 0, 0, 0, 0, 0, 0, 0,\n",
       "       0, 0, 0, 0, 0, 0, 0, 0, 0, 0, 0, 0, 0, 0, 0, 0, 0, 0, 0, 0, 0, 0,\n",
       "       0, 0, 0, 0, 0, 0, 0, 0, 0, 0, 0, 0, 0, 0, 0, 0, 0, 0, 0, 0, 0, 0,\n",
       "       0, 0, 0, 0, 0, 0, 1, 0, 0, 0, 0, 0, 0, 0, 0, 0, 0, 0, 0, 0, 0, 0,\n",
       "       0, 0, 0, 0, 0, 0, 0, 0, 0, 0, 0, 0, 0, 0, 0, 0, 0, 0, 0, 0, 0, 0,\n",
       "       0, 0, 0, 0, 0, 0, 0, 0, 0, 0, 0, 0, 0, 0, 0, 0, 0, 0, 0, 0, 0, 0,\n",
       "       0, 0, 0, 0, 1, 0, 0, 0, 0, 0, 0, 0, 0, 0, 0, 0, 0, 0, 0, 0, 0, 0,\n",
       "       0, 0, 0, 0, 0, 0, 0, 0, 0, 0, 0, 0, 0, 0, 0, 0, 0, 0, 0, 0, 0, 0,\n",
       "       0, 0, 0, 0, 0, 0, 0, 0, 0, 0, 0, 0, 0, 0, 0, 0, 0, 0, 0, 0, 0, 0,\n",
       "       0, 0, 1, 0, 0, 0, 0, 0, 0, 0, 0, 0, 0, 0, 0, 0, 0, 0, 0, 0, 0, 0,\n",
       "       0, 0, 0, 0, 0, 0, 0, 0, 0, 0, 0, 0, 0, 0, 0, 0, 0, 0, 0, 0, 0, 0,\n",
       "       0, 0, 0, 0, 0, 0, 0, 0, 0, 0, 0, 0, 0, 0, 0, 0, 0, 0, 0, 0, 0, 0,\n",
       "       1, 0, 0, 0, 0, 0, 0, 0, 0, 0, 0, 0, 0, 0, 0, 0, 0, 0, 0, 0, 0, 0,\n",
       "       0, 0, 0, 0, 0, 0, 0, 0, 0, 0, 0, 0, 0, 0, 0, 0, 0, 0, 0, 0, 0, 0,\n",
       "       0, 0, 0, 0, 0, 0, 0, 0, 0, 0, 0, 0, 0, 0, 0, 0, 0, 0, 0, 0, 1, 0,\n",
       "       0, 0, 0, 0, 0, 0, 0, 0, 0, 0, 0, 0, 0, 0, 0, 0, 0, 0, 0, 0, 0, 0,\n",
       "       0, 0, 0, 0, 0, 0, 0, 0, 0, 0, 0, 0, 0, 0, 0, 0, 0, 0, 0, 0, 0, 0,\n",
       "       0, 0, 0, 0, 0, 0, 0, 0, 0, 0, 0, 0, 0, 0, 0, 0, 0, 0, 1, 0, 0, 0,\n",
       "       0, 0, 0, 0, 0, 0, 0, 0, 0, 0, 0, 0, 0, 0, 0, 0, 0, 0, 0, 0, 0, 0,\n",
       "       0, 0, 0, 0, 0, 0])"
      ]
     },
     "execution_count": 106,
     "metadata": {},
     "output_type": "execute_result"
    }
   ],
   "source": [
    "feature_support_truth.mean().values.astype(int)"
   ]
  },
  {
   "cell_type": "code",
   "execution_count": 107,
   "id": "76e8a69b",
   "metadata": {},
   "outputs": [
    {
     "data": {
      "text/plain": [
       "array([1., 1., 1., 1., 1., 1., 1., 1.])"
      ]
     },
     "execution_count": 107,
     "metadata": {},
     "output_type": "execute_result"
    }
   ],
   "source": [
    "feature_support_recovery.mean().values[feature_support_truth.mean().values.astype(bool)]"
   ]
  },
  {
   "cell_type": "code",
   "execution_count": 108,
   "id": "da6b62d9",
   "metadata": {},
   "outputs": [
    {
     "data": {
      "image/png": "[encoded data removed]",
      "text/plain": [
       "<Figure size 1200x200 with 1 Axes>"
      ]
     },
     "metadata": {},
     "output_type": "display_data"
    }
   ],
   "source": [
    "feature_support_recovery_median = feature_support_recovery.mean().values\n",
    "feature_support_recovery_median[feature_support_recovery_median==0] = np.nan\n",
    "\n",
    "feature_support_truth_median = feature_support_truth.mean().values\n",
    "feature_support_truth_median[feature_support_truth_median==0] = np.nan\n",
    "\n",
    "plt.figure(figsize=(12,2))\n",
    "plt.stem(np.arange(1, max_features[dataset]+1), feature_support_recovery_median, markerfmt='b', linefmt='b', basefmt='k')\n",
    "\n",
    "\n",
    "feature_support_truth_median = feature_support_truth.mean().values\n",
    "feature_support_recovery_median = feature_support_recovery.mean().values\n",
    "feature_support_recovery_median[feature_support_truth_median==0] = np.nan\n",
    "font = {'size': 20}\n",
    "\n",
    "plt.rc('font', **font)\n",
    "plt.stem(np.arange(1, max_features[dataset]+1), feature_support_recovery_median, markerfmt='r', linefmt='r', basefmt='k')\n",
    "plt.xticks(np.where(feature_support_truth.mean().values.astype(bool))[0]+1)\n",
    "plt.yticks([0,1])\n",
    "plt.xlabel(\"Features\")\n",
    "plt.savefig(f\"./Figures/features_selected_sigma{sigma}_p_{max_features[dataset]}_train_size{train_size}.pdf\", bbox_inches='tight')\n",
    "plt.show()\n"
   ]
  },
  {
   "cell_type": "code",
   "execution_count": null,
   "id": "754c0123",
   "metadata": {},
   "outputs": [],
   "source": [
    "np.where(feature_support_truth.mean().values.astype(bool))[0]"
   ]
  },
  {
   "cell_type": "code",
   "execution_count": null,
   "id": "cd52a7bf",
   "metadata": {},
   "outputs": [],
   "source": [
    "feature_support_truth.mean().values.astype(int)"
   ]
  },
  {
   "cell_type": "code",
   "execution_count": null,
   "id": "4c56d2b9",
   "metadata": {},
   "outputs": [],
   "source": [
    "feature_support_recovery.mean().values[~(feature_support_truth.mean().values.astype(bool))].mean()"
   ]
  }
 ],
 "metadata": {
  "kernelspec": {
   "display_name": "Python 3 (ipykernel)",
   "language": "python",
   "name": "python3"
  },
  "language_info": {
   "codemirror_mode": {
    "name": "ipython",
    "version": 3
   },
   "file_extension": ".py",
   "mimetype": "text/x-python",
   "name": "python",
   "nbconvert_exporter": "python",
   "pygments_lexer": "ipython3",
   "version": "3.8.15"
  },
  "toc": {
   "base_numbering": 1,
   "nav_menu": {},
   "number_sections": true,
   "sideBar": true,
   "skip_h1_title": false,
   "title_cell": "Table of Contents",
   "title_sidebar": "Contents",
   "toc_cell": false,
   "toc_position": {},
   "toc_section_display": true,
   "toc_window_display": false
  }
 },
 "nbformat": 4,
 "nbformat_minor": 5
}
