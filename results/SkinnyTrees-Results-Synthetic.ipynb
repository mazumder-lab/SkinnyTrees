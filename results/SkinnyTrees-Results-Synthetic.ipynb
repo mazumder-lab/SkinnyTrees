{
 "cells": [
  {
   "cell_type": "code",
   "execution_count": 1,
   "id": "794718d1",
   "metadata": {},
   "outputs": [],
   "source": [
    "import numpy as np\n",
    "import os\n",
    "import pandas as pd\n",
    "import matplotlib.pyplot as plt\n",
    "\n",
    "pd.set_option('display.max_rows', 5)"
   ]
  },
  {
   "cell_type": "markdown",
   "id": "bc259a63",
   "metadata": {},
   "source": [
    "# Performance Comparison"
   ]
  },
  {
   "cell_type": "markdown",
   "id": "6cda6d93",
   "metadata": {},
   "source": [
    "# Group L0L2"
   ]
  },
  {
   "cell_type": "code",
   "execution_count": 74,
   "id": "c71bc585",
   "metadata": {},
   "outputs": [],
   "source": [
    "dataset = 'synthetic'\n",
    "train_size = 1000\n",
    "sigma = 0.7\n",
    "max_features = {\n",
    "    'synthetic': 512,\n",
    "    'abalone': 250,\n",
    "    'boston': 130\n",
    "}\n",
    "\n",
    "PATH = \"/home/gridsan/shibal/MultiTaskSoftTrees/src/SoftTrees\"\n",
    "RUN = 3"
   ]
  },
  {
   "cell_type": "code",
   "execution_count": 75,
   "id": "ed9ad288",
   "metadata": {
    "scrolled": true
   },
   "outputs": [
    {
     "name": "stdout",
     "output_type": "stream",
     "text": [
      "=============Sparsity:GroupL0L2, ======== Anneal:True ====== LR Schedule:True\n"
     ]
    }
   ],
   "source": [
    "sparsities = ['GroupL0L2']\n",
    "annealing = [True]\n",
    "learning_rate_scheduling = [True]\n",
    "# sparsities = ['GroupL0L2']\n",
    "# annealing = [False]\n",
    "# learning_rate_scheduling = [False]\n",
    "criteria = 'auc'\n",
    "tuning_seeds = [0]\n",
    "seeds = np.arange(1,26)\n",
    "\n",
    "for sparsity, anneal, lr_schedule in zip(sparsities, annealing, learning_rate_scheduling):\n",
    "    print(\"=============Sparsity:{}, ======== Anneal:{} ====== LR Schedule:{}\".format(sparsity, anneal, lr_schedule))\n",
    "    \n",
    "    result_df = pd.DataFrame()\n",
    "    for seed in seeds: \n",
    "        for tuning_seed in tuning_seeds:\n",
    "            path = f\"{PATH}/logs/soft_trees/publicdata/{dataset}/{sigma}/{max_features[dataset]}/{sparsity}/mse/{RUN}.{tuning_seed}/anneal{anneal}/learning_rate_scheduling{lr_schedule}/train_size_{train_size}/results/seed{seed}/study-sigmoid.csv\"\n",
    "            try:\n",
    "                df_temp = pd.read_csv(path)\n",
    "                df_temp['seed'] = seed\n",
    "            except:\n",
    "                print(\"Missing:\", path)\n",
    "                continue\n",
    "            result_df = pd.concat([result_df,df_temp],axis=0)\n",
    "            result_df.index = np.arange(len(result_df))\n",
    "        \n",
    "#     df = df[df[\"user_attrs_approximate_feature_sparsity\"]<budget*df[\"user_attrs_approximate_feature_sparsity\"].max()]\n",
    "#     print(\"Number of trials satisfying the feature sparsity budget:\", df.shape[0])\n",
    "#     df = df.sort_values(by=[\"user_attrs_\"+criteria+\"_valid\"], ascending=False)\n",
    "#     best_value = df[\"user_attrs_\"+criteria+\"_valid\"].values[0]\n",
    "#     df_opt = df[df[\"user_attrs_\"+criteria+\"_valid\"]==best_value]\n",
    "\n",
    "#     df_opt = df_opt.sort_values(by='user_attrs_feature_sparsity')\n",
    "#     if criteria=='auc':\n",
    "#         print(\"valid_auc:\", df_opt.user_attrs_auc_valid.mean())\n",
    "#         print(\"test_auc:\", df_opt.user_attrs_auc_test.mean())\n",
    "#         print(\"test_aucs:\", df_opt.user_attrs_auc_test.values)\n",
    "#     elif criteria=='accuracy':\n",
    "#         print(\"valid_accuracy:\", df_opt.user_attrs_accuracy_valid.mean())\n",
    "#         print(\"test_accuracy:\", df_opt.user_attrs_accuracy_test.mean())\n",
    "#         print(\"test_accuracies:\", df_opt.user_attrs_accuracy_test.values)\n",
    "#     print(\"sparsity:\", df_opt.user_attrs_feature_sparsity.values)\n",
    "#     print(\"Mean sparsity:\", df_opt.user_attrs_approximate_feature_sparsity.mean())\n",
    "# #     print(\"Approx sparsity:\", df_opt.user_attrs_approximate_feature_sparsity.values)\n",
    "# #     print(\"Mean approx sparsity:\", df_opt.user_attrs_feature_sparsity.mean())\n",
    "# #     print(\"Batch-sizes:\", df_opt.params_batch_size.values)\n",
    "#     print(\"Depths:\", df_opt.params_depth.values)\n",
    "#     print(\"Epochs:\", df_opt.user_attrs_num_epochs.values)\n",
    "# #     print(\"Learning Rates:\", df_opt.params_learning_rate.values)\n"
   ]
  },
  {
   "cell_type": "code",
   "execution_count": 76,
   "id": "29920690",
   "metadata": {},
   "outputs": [],
   "source": [
    "# result_df = result_df[result_df['params_depth']<=4]\n",
    "# result_df = result_df[result_df['user_attrs_feature_sparsity']<=100]"
   ]
  },
  {
   "cell_type": "code",
   "execution_count": 77,
   "id": "ebcf086e",
   "metadata": {},
   "outputs": [],
   "source": [
    "best_ = dict()\n",
    "for seed, df in result_df.groupby('seed'):\n",
    "    if len(df) == 0:\n",
    "        best_[seed] = pd.Series()\n",
    "        continue\n",
    "    best_[seed]=df.iloc[df['user_attrs_mse_valid'].argmin()].copy()\n",
    "#     best_[gate]['ntrials'] = len(df)\n",
    "#     best_[gate]['ntrials_all'] = len(df)\n",
    "#     best_[gate]['test_loss-avg']=df.sort_values(by='val_loss')[:num_top_trials_to_avg].test_loss.mean() \n",
    "#     best_[gate]['test_loss-sem']=df.sort_values(by='val_loss')[:num_top_trials_to_avg].test_loss.sem() \n",
    "#     best_[gate]['test_sparsity-avg']=df.sort_values(by='val_loss')[:num_top_trials_to_avg].test_sparsity.mean() \n",
    "#     best_[gate]['exp-per-sample-avg']=(n - df.sort_values(by='val_loss')[:num_top_trials_to_avg].test_sparsity*n).mean()\n",
    "#     best_[gate]['exp-per-sample-sem']=(n - df.sort_values(by='val_loss')[:num_top_trials_to_avg].test_sparsity*n).sem()\n",
    "#     total_trials = len(df)\n",
    "#     df = df[(df['val_sparsity']>=((1-k/n)-5e-4))]\n",
    "#     df = df[(df['val_sparsity']>=((1-k/n)-5e-4))&(df['train_sparsity']>=((1-k/n)-5e-4))]\n",
    "#     if len(df) == 0:\n",
    "#         best_['SPARSE-'+gate] = pd.Series()\n",
    "#         continue\n",
    "#     best_['SPARSE-'+gate]=df.iloc[df['val_loss'].argmin()].copy()\n",
    "#     best_['SPARSE-'+gate]['ntrials'] = len(df)\n",
    "#     best_['SPARSE-'+gate]['ntrials_all'] = total_trials\n",
    "#     best_['SPARSE-'+gate]['test_loss-avg']=df.sort_values(by='val_loss')[:num_top_trials_to_avg].test_loss.mean() \n",
    "#     best_['SPARSE-'+gate]['test_loss-sem']=df.sort_values(by='val_loss')[:num_top_trials_to_avg].test_loss.sem() \n",
    "#     best_['SPARSE-'+gate]['test_sparsity-avg']=df.sort_values(by='val_loss')[:num_top_trials_to_avg].test_sparsity.mean() \n",
    "#     best_['SPARSE-'+gate]['exp-per-sample-avg']=(n - df.sort_values(by='val_loss')[:num_top_trials_to_avg].test_sparsity*n).mean()\n",
    "#     best_['SPARSE-'+gate]['exp-per-sample-sem']=(n - df.sort_values(by='val_loss')[:num_top_trials_to_avg].test_sparsity*n).sem()\n",
    "#     best_['SPARSE-'+gate]['test_task1_acc-avg']=df.sort_values(by='val_loss')[:num_top_trials_to_avg].test_task1_acc.mean() \n",
    "#     best_['SPARSE-'+gate]['test_task1_acc-sem']=df.sort_values(by='val_loss')[:num_top_trials_to_avg].test_task1_acc.sem() \n",
    "#     best_['SPARSE-'+gate]['test_task1_auc-avg']=df.sort_values(by='val_loss')[:num_top_trials_to_avg].test_task1_auc.mean() \n",
    "#     best_['SPARSE-'+gate]['test_task1_auc-sem']=df.sort_values(by='val_loss')[:num_top_trials_to_avg].test_task1_auc.sem() \n",
    "#     best_['SPARSE-'+gate]['test_task2_mse-avg']=df.sort_values(by='val_loss')[:num_top_trials_to_avg].test_task2_mse.mean() \n",
    "#     best_['SPARSE-'+gate]['test_task2_mse-sem']=df.sort_values(by='val_loss')[:num_top_trials_to_avg].test_task2_mse.sem() \n",
    "        "
   ]
  },
  {
   "cell_type": "code",
   "execution_count": 78,
   "id": "5c021258",
   "metadata": {},
   "outputs": [],
   "source": [
    "best_df = pd.DataFrame(best_).T"
   ]
  },
  {
   "cell_type": "code",
   "execution_count": 79,
   "id": "fd28d63f",
   "metadata": {},
   "outputs": [],
   "source": [
    "metrics = [\n",
    "    'params_batch_size_scaler', 'params_constant_batch_size',\n",
    "    'params_constant_learning_rate', 'params_depth', 'params_epochs', \n",
    "#     'params_kernel_constraint',\n",
    "    'params_kernel_l2',\n",
    "    'params_learning_rate_scheduling', 'params_num_trees',\n",
    "    'params_temperature',\n",
    "    'params_use_annealing',\n",
    "    'user_attrs_feature_sparsity',\n",
    "    'user_attrs_feature_support',\n",
    "    'user_attrs_feature_support_truth',\n",
    "    'user_attrs_fnr', 'user_attrs_fpr',\n",
    "    'user_attrs_mse_test',\n",
    "    'user_attrs_mse_valid', \n",
    "    'user_attrs_num_epochs', 'user_attrs_tnr',\n",
    "    'user_attrs_tpr',    \n",
    "    'user_attrs_f1',    \n",
    "]\n",
    "best_df = best_df[metrics]"
   ]
  },
  {
   "cell_type": "code",
   "execution_count": 80,
   "id": "f7df6990",
   "metadata": {},
   "outputs": [
    {
     "data": {
      "text/html": [
       "<div>\n",
       "<style scoped>\n",
       "    .dataframe tbody tr th:only-of-type {\n",
       "        vertical-align: middle;\n",
       "    }\n",
       "\n",
       "    .dataframe tbody tr th {\n",
       "        vertical-align: top;\n",
       "    }\n",
       "\n",
       "    .dataframe thead th {\n",
       "        text-align: right;\n",
       "    }\n",
       "</style>\n",
       "<table border=\"1\" class=\"dataframe\">\n",
       "  <thead>\n",
       "    <tr style=\"text-align: right;\">\n",
       "      <th></th>\n",
       "      <th>params_batch_size_scaler</th>\n",
       "      <th>params_constant_batch_size</th>\n",
       "      <th>params_constant_learning_rate</th>\n",
       "      <th>params_depth</th>\n",
       "      <th>params_epochs</th>\n",
       "      <th>params_kernel_l2</th>\n",
       "      <th>params_learning_rate_scheduling</th>\n",
       "      <th>params_num_trees</th>\n",
       "      <th>params_temperature</th>\n",
       "      <th>params_use_annealing</th>\n",
       "      <th>...</th>\n",
       "      <th>user_attrs_feature_support</th>\n",
       "      <th>user_attrs_feature_support_truth</th>\n",
       "      <th>user_attrs_fnr</th>\n",
       "      <th>user_attrs_fpr</th>\n",
       "      <th>user_attrs_mse_test</th>\n",
       "      <th>user_attrs_mse_valid</th>\n",
       "      <th>user_attrs_num_epochs</th>\n",
       "      <th>user_attrs_tnr</th>\n",
       "      <th>user_attrs_tpr</th>\n",
       "      <th>user_attrs_f1</th>\n",
       "    </tr>\n",
       "  </thead>\n",
       "  <tbody>\n",
       "    <tr>\n",
       "      <th>1</th>\n",
       "      <td>11</td>\n",
       "      <td>16</td>\n",
       "      <td>0.015032</td>\n",
       "      <td>1</td>\n",
       "      <td>480</td>\n",
       "      <td>0.108619</td>\n",
       "      <td>True</td>\n",
       "      <td>9</td>\n",
       "      <td>0.072758</td>\n",
       "      <td>True</td>\n",
       "      <td>...</td>\n",
       "      <td>[False False False False False False False Fal...</td>\n",
       "      <td>[0. 0. 0. 0. 0. 0. 0. 0. 0. 0. 0. 0. 0. 0. 0. ...</td>\n",
       "      <td>0.0</td>\n",
       "      <td>0.0</td>\n",
       "      <td>0.260599</td>\n",
       "      <td>0.272429</td>\n",
       "      <td>480</td>\n",
       "      <td>1.0</td>\n",
       "      <td>1.0</td>\n",
       "      <td>1.0</td>\n",
       "    </tr>\n",
       "    <tr>\n",
       "      <th>2</th>\n",
       "      <td>2</td>\n",
       "      <td>16</td>\n",
       "      <td>0.025633</td>\n",
       "      <td>1</td>\n",
       "      <td>455</td>\n",
       "      <td>0.134015</td>\n",
       "      <td>True</td>\n",
       "      <td>6</td>\n",
       "      <td>0.007012</td>\n",
       "      <td>True</td>\n",
       "      <td>...</td>\n",
       "      <td>[False False False False False False False Fal...</td>\n",
       "      <td>[0. 0. 0. 0. 0. 0. 0. 0. 0. 0. 0. 0. 0. 0. 0. ...</td>\n",
       "      <td>0.0</td>\n",
       "      <td>0.0</td>\n",
       "      <td>0.257461</td>\n",
       "      <td>0.258573</td>\n",
       "      <td>455</td>\n",
       "      <td>1.0</td>\n",
       "      <td>1.0</td>\n",
       "      <td>1.0</td>\n",
       "    </tr>\n",
       "    <tr>\n",
       "      <th>...</th>\n",
       "      <td>...</td>\n",
       "      <td>...</td>\n",
       "      <td>...</td>\n",
       "      <td>...</td>\n",
       "      <td>...</td>\n",
       "      <td>...</td>\n",
       "      <td>...</td>\n",
       "      <td>...</td>\n",
       "      <td>...</td>\n",
       "      <td>...</td>\n",
       "      <td>...</td>\n",
       "      <td>...</td>\n",
       "      <td>...</td>\n",
       "      <td>...</td>\n",
       "      <td>...</td>\n",
       "      <td>...</td>\n",
       "      <td>...</td>\n",
       "      <td>...</td>\n",
       "      <td>...</td>\n",
       "      <td>...</td>\n",
       "      <td>...</td>\n",
       "    </tr>\n",
       "    <tr>\n",
       "      <th>24</th>\n",
       "      <td>2</td>\n",
       "      <td>16</td>\n",
       "      <td>0.03088</td>\n",
       "      <td>2</td>\n",
       "      <td>465</td>\n",
       "      <td>0.003652</td>\n",
       "      <td>True</td>\n",
       "      <td>1</td>\n",
       "      <td>0.00372</td>\n",
       "      <td>True</td>\n",
       "      <td>...</td>\n",
       "      <td>[False False False False False False False Fal...</td>\n",
       "      <td>[0. 0. 0. 0. 0. 0. 0. 0. 0. 0. 0. 0. 0. 0. 0. ...</td>\n",
       "      <td>0.0</td>\n",
       "      <td>0.0</td>\n",
       "      <td>0.259641</td>\n",
       "      <td>0.258361</td>\n",
       "      <td>465</td>\n",
       "      <td>1.0</td>\n",
       "      <td>1.0</td>\n",
       "      <td>1.0</td>\n",
       "    </tr>\n",
       "    <tr>\n",
       "      <th>25</th>\n",
       "      <td>2</td>\n",
       "      <td>16</td>\n",
       "      <td>0.025633</td>\n",
       "      <td>1</td>\n",
       "      <td>455</td>\n",
       "      <td>0.134015</td>\n",
       "      <td>True</td>\n",
       "      <td>6</td>\n",
       "      <td>0.007012</td>\n",
       "      <td>True</td>\n",
       "      <td>...</td>\n",
       "      <td>[False False False False False False False Fal...</td>\n",
       "      <td>[0. 0. 0. 0. 0. 0. 0. 0. 0. 0. 0. 0. 0. 0. 0. ...</td>\n",
       "      <td>0.0</td>\n",
       "      <td>0.0</td>\n",
       "      <td>0.260466</td>\n",
       "      <td>0.258385</td>\n",
       "      <td>455</td>\n",
       "      <td>1.0</td>\n",
       "      <td>1.0</td>\n",
       "      <td>1.0</td>\n",
       "    </tr>\n",
       "  </tbody>\n",
       "</table>\n",
       "<p>25 rows × 21 columns</p>\n",
       "</div>"
      ],
      "text/plain": [
       "   params_batch_size_scaler params_constant_batch_size  \\\n",
       "1                        11                         16   \n",
       "2                         2                         16   \n",
       "..                      ...                        ...   \n",
       "24                        2                         16   \n",
       "25                        2                         16   \n",
       "\n",
       "   params_constant_learning_rate params_depth params_epochs params_kernel_l2  \\\n",
       "1                       0.015032            1           480         0.108619   \n",
       "2                       0.025633            1           455         0.134015   \n",
       "..                           ...          ...           ...              ...   \n",
       "24                       0.03088            2           465         0.003652   \n",
       "25                      0.025633            1           455         0.134015   \n",
       "\n",
       "   params_learning_rate_scheduling params_num_trees params_temperature  \\\n",
       "1                             True                9           0.072758   \n",
       "2                             True                6           0.007012   \n",
       "..                             ...              ...                ...   \n",
       "24                            True                1            0.00372   \n",
       "25                            True                6           0.007012   \n",
       "\n",
       "   params_use_annealing  ...  \\\n",
       "1                  True  ...   \n",
       "2                  True  ...   \n",
       "..                  ...  ...   \n",
       "24                 True  ...   \n",
       "25                 True  ...   \n",
       "\n",
       "                           user_attrs_feature_support  \\\n",
       "1   [False False False False False False False Fal...   \n",
       "2   [False False False False False False False Fal...   \n",
       "..                                                ...   \n",
       "24  [False False False False False False False Fal...   \n",
       "25  [False False False False False False False Fal...   \n",
       "\n",
       "                     user_attrs_feature_support_truth user_attrs_fnr  \\\n",
       "1   [0. 0. 0. 0. 0. 0. 0. 0. 0. 0. 0. 0. 0. 0. 0. ...            0.0   \n",
       "2   [0. 0. 0. 0. 0. 0. 0. 0. 0. 0. 0. 0. 0. 0. 0. ...            0.0   \n",
       "..                                                ...            ...   \n",
       "24  [0. 0. 0. 0. 0. 0. 0. 0. 0. 0. 0. 0. 0. 0. 0. ...            0.0   \n",
       "25  [0. 0. 0. 0. 0. 0. 0. 0. 0. 0. 0. 0. 0. 0. 0. ...            0.0   \n",
       "\n",
       "   user_attrs_fpr user_attrs_mse_test user_attrs_mse_valid  \\\n",
       "1             0.0            0.260599             0.272429   \n",
       "2             0.0            0.257461             0.258573   \n",
       "..            ...                 ...                  ...   \n",
       "24            0.0            0.259641             0.258361   \n",
       "25            0.0            0.260466             0.258385   \n",
       "\n",
       "   user_attrs_num_epochs user_attrs_tnr user_attrs_tpr user_attrs_f1  \n",
       "1                    480            1.0            1.0           1.0  \n",
       "2                    455            1.0            1.0           1.0  \n",
       "..                   ...            ...            ...           ...  \n",
       "24                   465            1.0            1.0           1.0  \n",
       "25                   455            1.0            1.0           1.0  \n",
       "\n",
       "[25 rows x 21 columns]"
      ]
     },
     "execution_count": 80,
     "metadata": {},
     "output_type": "execute_result"
    }
   ],
   "source": [
    "best_df"
   ]
  },
  {
   "cell_type": "code",
   "execution_count": 81,
   "id": "cce15107",
   "metadata": {},
   "outputs": [
    {
     "data": {
      "text/plain": [
       "Index(['params_batch_size_scaler', 'params_constant_batch_size',\n",
       "       'params_constant_learning_rate', 'params_depth', 'params_epochs',\n",
       "       'params_kernel_l2', 'params_learning_rate_scheduling',\n",
       "       'params_num_trees', 'params_temperature', 'params_use_annealing',\n",
       "       'user_attrs_feature_sparsity', 'user_attrs_feature_support',\n",
       "       'user_attrs_feature_support_truth', 'user_attrs_fnr', 'user_attrs_fpr',\n",
       "       'user_attrs_mse_test', 'user_attrs_mse_valid', 'user_attrs_num_epochs',\n",
       "       'user_attrs_tnr', 'user_attrs_tpr', 'user_attrs_f1'],\n",
       "      dtype='object')"
      ]
     },
     "execution_count": 81,
     "metadata": {},
     "output_type": "execute_result"
    }
   ],
   "source": [
    "best_df.columns"
   ]
  },
  {
   "cell_type": "code",
   "execution_count": 82,
   "id": "fd66232d",
   "metadata": {},
   "outputs": [
    {
     "data": {
      "text/plain": [
       "Index([ 1,  2,  3,  4,  5,  6,  7,  8,  9, 10, 11, 12, 13, 14, 15, 16, 17, 18,\n",
       "       19, 20, 21, 22, 23, 24, 25],\n",
       "      dtype='int64')"
      ]
     },
     "execution_count": 82,
     "metadata": {},
     "output_type": "execute_result"
    }
   ],
   "source": [
    "best_df.index"
   ]
  },
  {
   "cell_type": "code",
   "execution_count": 83,
   "id": "31d5e39c",
   "metadata": {},
   "outputs": [],
   "source": [
    "sparse_df = result_df[result_df['user_attrs_feature_sparsity']<=100]"
   ]
  },
  {
   "cell_type": "code",
   "execution_count": 84,
   "id": "2b230778",
   "metadata": {},
   "outputs": [
    {
     "data": {
      "text/plain": [
       "<matplotlib.collections.PathCollection at 0x7ff6c297ef10>"
      ]
     },
     "execution_count": 84,
     "metadata": {},
     "output_type": "execute_result"
    },
    {
     "data": {
      "image/png": "[encoded data removed]",
      "text/plain": [
       "<Figure size 640x480 with 1 Axes>"
      ]
     },
     "metadata": {},
     "output_type": "display_data"
    }
   ],
   "source": [
    "plt.scatter(sparse_df['params_depth'], sparse_df['user_attrs_feature_sparsity'])"
   ]
  },
  {
   "cell_type": "code",
   "execution_count": null,
   "id": "669e20f2",
   "metadata": {},
   "outputs": [],
   "source": []
  },
  {
   "cell_type": "code",
   "execution_count": 85,
   "id": "42378ea0",
   "metadata": {},
   "outputs": [
    {
     "data": {
      "text/plain": [
       "array([ 55,  55,  55,  55,  55,  55,  55,  55,  55,  55,  55,  55,  55,\n",
       "        55,  55,  55,  55,  55,  55,  55,  55,  55,  55,  55,  65,  65,\n",
       "        65,  65,  65,  65,  65,  65,  65,  65,  65,  65,  65,  65,  65,\n",
       "        65,  65,  65,  65,  65,  65,  65,  65,  65,  65,  75,  75,  75,\n",
       "        75,  75,  75,  75,  75,  75,  75,  75,  75,  75,  75,  75,  75,\n",
       "        75,  75,  75,  75,  75,  75,  75,  75,  75,  80,  80,  80,  80,\n",
       "        80,  80,  80,  80,  80,  80,  80,  80,  80,  80,  80,  80,  80,\n",
       "        80,  80,  80,  80,  80,  80,  80,  80,  95,  95,  95,  95,  95,\n",
       "        95,  95,  95,  95,  95,  95,  95,  95,  95,  95,  95,  95,  95,\n",
       "        95,  95,  95,  95,  95,  95,  95, 100, 100, 100, 100, 100, 100,\n",
       "       100, 100, 100, 100, 100, 100, 100, 100, 100, 100, 100, 100, 100,\n",
       "       100, 100, 100, 100, 100, 100, 120, 120, 120, 120, 120, 120, 120,\n",
       "       120, 120, 120, 120, 120, 120, 120, 120, 120, 120, 120, 120, 120,\n",
       "       120, 120, 120, 120, 120, 135, 135, 135, 135, 135, 135, 135, 135,\n",
       "       135, 135, 135, 135, 135, 135, 135, 135, 135, 135, 135, 135, 135,\n",
       "       135, 135, 135, 135, 140, 140, 140, 140, 140, 140, 140, 140, 140,\n",
       "       140, 140, 140, 140, 140, 140, 140, 140, 140, 140, 140, 140, 140,\n",
       "       140, 140, 140, 150, 150, 150, 150, 150, 150, 150, 150, 150, 150,\n",
       "       150, 150, 150, 150, 150, 150, 150, 150, 150, 150, 150, 150, 150,\n",
       "       150, 150, 160, 160, 160, 160, 160, 160, 160, 160, 160, 160, 160,\n",
       "       160, 160, 160, 160, 160, 160, 160, 160, 160, 160, 160, 160, 160,\n",
       "       160, 165, 165, 165, 165, 165, 165, 165, 165, 165, 165, 165, 165,\n",
       "       165, 165, 165, 165, 165, 165, 165, 165, 165, 165, 165, 165, 165,\n",
       "       190, 190, 190, 190, 190, 190, 190, 190, 190, 190, 190, 190, 190,\n",
       "       190, 190, 190, 190, 190, 190, 190, 190, 190, 190, 215, 215, 215,\n",
       "       215, 215, 215, 215, 215, 215, 215, 215, 215, 215, 215, 215, 215,\n",
       "       215, 215, 215, 215, 215, 215, 215, 215, 215, 220, 220, 220, 220,\n",
       "       220, 220, 220, 220, 220, 220, 220, 220, 220, 220, 220, 220, 220,\n",
       "       220, 220, 220, 220, 220, 220, 220, 220, 230, 230, 230, 230, 230,\n",
       "       230, 230, 230, 230, 230, 230, 230, 230, 230, 230, 230, 230, 230,\n",
       "       230, 230, 230, 230, 230, 230, 230, 235, 235, 235, 235, 235, 235,\n",
       "       235, 235, 235, 235, 235, 235, 235, 235, 235, 235, 235, 235, 235,\n",
       "       235, 235, 235, 235, 235, 235, 245, 245, 245, 245, 245, 245, 245,\n",
       "       245, 245, 245, 245, 245, 245, 245, 245, 245, 245, 245, 245, 245,\n",
       "       245, 245, 245, 245, 245, 250, 260, 260, 260, 260, 260, 260, 260,\n",
       "       260, 260, 260, 260, 260, 260, 260, 260, 260, 260, 320, 320, 320,\n",
       "       320, 320, 320, 320, 320, 320, 320, 320, 320, 320, 320, 320, 320,\n",
       "       320, 320, 320, 320, 320, 320, 320, 320, 320, 360, 360, 360, 360,\n",
       "       360, 360, 360, 360, 360, 360, 360, 360, 360, 360, 360, 360, 360,\n",
       "       360, 360, 360, 360, 360, 360, 360, 360, 375, 375, 375, 375, 375,\n",
       "       375, 375, 375, 375, 375, 375, 375, 375, 375, 375, 375, 375, 375,\n",
       "       375, 375, 375, 375, 375, 375, 375, 390, 390, 390, 390, 390, 390,\n",
       "       390, 390, 390, 390, 390, 390, 390, 390, 390, 390, 390, 390, 390,\n",
       "       390, 390, 390, 390, 390, 390, 390, 390, 390, 390, 390, 390, 390,\n",
       "       390, 390, 390, 390, 390, 390, 390, 390, 390, 390, 390, 390, 390,\n",
       "       390, 390, 390, 390, 390, 395, 395, 395, 395, 395, 395, 395, 395,\n",
       "       395, 395, 395, 395, 395, 395, 395, 395, 395, 395, 395, 395, 395,\n",
       "       395, 395, 395, 395, 395, 395, 395, 395, 395, 395, 395, 395, 395,\n",
       "       395, 395, 395, 395, 395, 395, 395, 395, 395, 395, 395, 395, 395,\n",
       "       395, 395, 395, 400, 400, 400, 400, 400, 400, 400, 400, 400, 400,\n",
       "       400, 400, 400, 400, 400, 400, 400, 400, 400, 400, 400, 400, 400,\n",
       "       400, 400, 400, 400, 400, 400, 400, 400, 400, 400, 400, 400, 400,\n",
       "       400, 400, 400, 400, 400, 400, 400, 400, 400, 400, 400, 400, 400,\n",
       "       400, 400, 400, 400, 400, 400, 400, 400, 400, 400, 400, 400, 400,\n",
       "       400, 400, 400, 400, 400, 400, 400, 400, 400, 400, 400, 400, 400,\n",
       "       405, 405, 405, 405, 405, 405, 405, 405, 405, 405, 405, 405, 405,\n",
       "       405, 405, 405, 405, 405, 405, 405, 405, 405, 405, 405, 405, 435,\n",
       "       435, 435, 435, 435, 435, 435, 435, 435, 435, 435, 435, 435, 435,\n",
       "       435, 435, 435, 435, 435, 435, 435, 435, 435, 435, 435, 450, 450,\n",
       "       450, 450, 450, 450, 450, 450, 450, 450, 450, 450, 450, 450, 450,\n",
       "       450, 450, 450, 450, 450, 450, 450, 450, 450, 450, 455, 455, 455,\n",
       "       455, 455, 455, 455, 455, 455, 455, 455, 455, 455, 455, 455, 455,\n",
       "       455, 455, 455, 455, 455, 455, 455, 455, 455, 455, 455, 455, 455,\n",
       "       455, 455, 455, 455, 455, 455, 455, 455, 455, 455, 455, 455, 455,\n",
       "       455, 455, 455, 455, 455, 455, 455, 455, 455, 455, 455, 455, 455,\n",
       "       455, 455, 455, 455, 455, 455, 455, 455, 455, 455, 455, 455, 455,\n",
       "       455, 455, 455, 455, 455, 455, 455, 465, 465, 465, 465, 465, 465,\n",
       "       465, 465, 465, 465, 465, 465, 465, 465, 465, 465, 465, 465, 465,\n",
       "       465, 465, 465, 465, 465, 465, 480, 480, 480, 480, 480, 480, 480,\n",
       "       480, 480, 480, 480, 480, 480, 480, 480, 480, 480, 480, 480, 480,\n",
       "       480, 480, 480, 480, 480, 480, 480, 480, 480, 480, 480, 480, 480,\n",
       "       480, 480, 485, 485, 485, 485, 485, 485, 485, 485, 485, 485, 485,\n",
       "       485, 485, 485, 485, 485, 485, 485, 485, 485, 485, 485, 485, 485,\n",
       "       485, 490, 490, 490, 490, 490, 490, 490, 490, 490, 490, 490, 490,\n",
       "       490, 490, 490, 490, 490, 490, 490, 490, 490, 490, 490, 490, 490,\n",
       "       500, 500, 500, 500, 500, 500, 500, 500, 500, 500, 500, 500, 500,\n",
       "       500, 500, 500, 500, 500, 500, 500, 500, 500, 500, 500, 500])"
      ]
     },
     "execution_count": 85,
     "metadata": {},
     "output_type": "execute_result"
    }
   ],
   "source": [
    "sparse_df['user_attrs_num_epochs'].sort_values().values[-1000:]"
   ]
  },
  {
   "cell_type": "code",
   "execution_count": 86,
   "id": "55bc8f54",
   "metadata": {},
   "outputs": [
    {
     "data": {
      "text/plain": [
       "array([1, 1, 1, 1, 1, 1, 1, 1, 1, 1, 1, 1, 1, 1, 1, 1, 1, 1, 1, 1, 1, 1,\n",
       "       1, 2, 1], dtype=object)"
      ]
     },
     "execution_count": 86,
     "metadata": {},
     "output_type": "execute_result"
    }
   ],
   "source": [
    "best_df['params_depth'].values"
   ]
  },
  {
   "cell_type": "code",
   "execution_count": 87,
   "id": "eb1ed32b",
   "metadata": {},
   "outputs": [
    {
     "data": {
      "text/plain": [
       "(0.26048290382385336, 0.0009252069835763745)"
      ]
     },
     "execution_count": 87,
     "metadata": {},
     "output_type": "execute_result"
    }
   ],
   "source": [
    "best_df['user_attrs_mse_test'].mean(), best_df['user_attrs_mse_test'].sem()"
   ]
  },
  {
   "cell_type": "code",
   "execution_count": 88,
   "id": "3d4eb2bb",
   "metadata": {},
   "outputs": [
    {
     "data": {
      "text/plain": [
       "(0.9952941176470589, 0.0032574995540855267)"
      ]
     },
     "execution_count": 88,
     "metadata": {},
     "output_type": "execute_result"
    }
   ],
   "source": [
    "best_df['user_attrs_f1'].mean(), best_df['user_attrs_f1'].sem()"
   ]
  },
  {
   "cell_type": "code",
   "execution_count": 89,
   "id": "551bae84",
   "metadata": {},
   "outputs": [
    {
     "data": {
      "text/plain": [
       "(8.08, 0.05537749241945382)"
      ]
     },
     "execution_count": 89,
     "metadata": {},
     "output_type": "execute_result"
    }
   ],
   "source": [
    "best_df['user_attrs_feature_sparsity'].mean(), best_df['user_attrs_feature_sparsity'].sem()"
   ]
  },
  {
   "cell_type": "code",
   "execution_count": 90,
   "id": "f76ac268",
   "metadata": {},
   "outputs": [
    {
     "data": {
      "text/plain": [
       "array([0.2496339410017648, 0.256013720809671, 0.2568116796618254,\n",
       "       0.2569021599910112, 0.2570230349866277, 0.2574515756553278,\n",
       "       0.2574607588199176, 0.2581493516573647, 0.2587719749712704,\n",
       "       0.2587743384580189, 0.2596408138495804, 0.2601543040092355,\n",
       "       0.2604662990387948, 0.2605985407966693, 0.2606488566991503,\n",
       "       0.2607158320215376, 0.2608330338104857, 0.2611384786435554,\n",
       "       0.2620205314282517, 0.2621090821333299, 0.2639874343003962,\n",
       "       0.2649581959436687, 0.2649616782822744, 0.2692086806965425,\n",
       "       0.2736382979300619], dtype=object)"
      ]
     },
     "execution_count": 90,
     "metadata": {},
     "output_type": "execute_result"
    }
   ],
   "source": [
    "best_df['user_attrs_mse_test'].sort_values().values"
   ]
  },
  {
   "cell_type": "code",
   "execution_count": 91,
   "id": "1f5ff6f8",
   "metadata": {},
   "outputs": [
    {
     "data": {
      "text/plain": [
       "8.08"
      ]
     },
     "execution_count": 91,
     "metadata": {},
     "output_type": "execute_result"
    }
   ],
   "source": [
    "best_df['user_attrs_feature_sparsity'].mean()"
   ]
  },
  {
   "cell_type": "code",
   "execution_count": 92,
   "id": "fa75382b",
   "metadata": {},
   "outputs": [
    {
     "data": {
      "text/plain": [
       "array([8, 8, 8, 8, 9, 9, 8, 8, 8, 8, 8, 8, 8, 8, 8, 8, 8, 8, 8, 8, 8, 8,\n",
       "       8, 8, 8], dtype=object)"
      ]
     },
     "execution_count": 92,
     "metadata": {},
     "output_type": "execute_result"
    }
   ],
   "source": [
    "best_df['user_attrs_feature_sparsity'].values"
   ]
  },
  {
   "cell_type": "code",
   "execution_count": 93,
   "id": "a1143fa5",
   "metadata": {},
   "outputs": [
    {
     "data": {
      "text/plain": [
       "array([480, 455, 485, 485, 435, 455, 435, 455, 485, 485, 455, 485, 485,\n",
       "       485, 485, 435, 485, 485, 455, 435, 485, 485, 435, 465, 455],\n",
       "      dtype=object)"
      ]
     },
     "execution_count": 93,
     "metadata": {},
     "output_type": "execute_result"
    }
   ],
   "source": [
    "best_df['user_attrs_num_epochs'].values"
   ]
  },
  {
   "cell_type": "code",
   "execution_count": 94,
   "id": "2ccff41e",
   "metadata": {},
   "outputs": [
    {
     "data": {
      "text/plain": [
       "Index(['params_batch_size_scaler', 'params_constant_batch_size',\n",
       "       'params_constant_learning_rate', 'params_depth', 'params_epochs',\n",
       "       'params_kernel_l2', 'params_learning_rate_scheduling',\n",
       "       'params_num_trees', 'params_temperature', 'params_use_annealing',\n",
       "       'user_attrs_feature_sparsity', 'user_attrs_feature_support',\n",
       "       'user_attrs_feature_support_truth', 'user_attrs_fnr', 'user_attrs_fpr',\n",
       "       'user_attrs_mse_test', 'user_attrs_mse_valid', 'user_attrs_num_epochs',\n",
       "       'user_attrs_tnr', 'user_attrs_tpr', 'user_attrs_f1'],\n",
       "      dtype='object')"
      ]
     },
     "execution_count": 94,
     "metadata": {},
     "output_type": "execute_result"
    }
   ],
   "source": [
    "best_df.columns"
   ]
  },
  {
   "cell_type": "code",
   "execution_count": 95,
   "id": "f95145d3",
   "metadata": {},
   "outputs": [
    {
     "data": {
      "text/plain": [
       "array([8, 8, 8, 8, 9, 9, 8, 8, 8, 8, 8, 8, 8, 8, 8, 8, 8, 8, 8, 8, 8, 8,\n",
       "       8, 8, 8], dtype=object)"
      ]
     },
     "execution_count": 95,
     "metadata": {},
     "output_type": "execute_result"
    }
   ],
   "source": [
    "best_df['user_attrs_feature_sparsity'].values"
   ]
  },
  {
   "cell_type": "code",
   "execution_count": 96,
   "id": "bf38c022",
   "metadata": {},
   "outputs": [
    {
     "data": {
      "text/plain": [
       "(8.08, 0.05537749241945382)"
      ]
     },
     "execution_count": 96,
     "metadata": {},
     "output_type": "execute_result"
    }
   ],
   "source": [
    "best_df['user_attrs_feature_sparsity'].mean(), best_df['user_attrs_feature_sparsity'].sem()"
   ]
  },
  {
   "cell_type": "code",
   "execution_count": 97,
   "id": "be7bd5fd",
   "metadata": {},
   "outputs": [
    {
     "data": {
      "text/plain": [
       "0.031451639376289545"
      ]
     },
     "execution_count": 97,
     "metadata": {},
     "output_type": "execute_result"
    }
   ],
   "source": [
    "best_df['params_constant_learning_rate'].mean()"
   ]
  },
  {
   "cell_type": "code",
   "execution_count": 98,
   "id": "9b60b312",
   "metadata": {},
   "outputs": [
    {
     "data": {
      "text/plain": [
       "1     [0. 0. 0. 0. 0. 0. 0. 0. 0. 0. 0. 0. 0. 0. 0. ...\n",
       "2     [0. 0. 0. 0. 0. 0. 0. 0. 0. 0. 0. 0. 0. 0. 0. ...\n",
       "                            ...                        \n",
       "24    [0. 0. 0. 0. 0. 0. 0. 0. 0. 0. 0. 0. 0. 0. 0. ...\n",
       "25    [0. 0. 0. 0. 0. 0. 0. 0. 0. 0. 0. 0. 0. 0. 0. ...\n",
       "Name: user_attrs_feature_support_truth, Length: 25, dtype: object"
      ]
     },
     "execution_count": 98,
     "metadata": {},
     "output_type": "execute_result"
    }
   ],
   "source": [
    "best_df['user_attrs_feature_support_truth']"
   ]
  },
  {
   "cell_type": "code",
   "execution_count": 99,
   "id": "ace30b58",
   "metadata": {},
   "outputs": [
    {
     "data": {
      "text/html": [
       "<div>\n",
       "<style scoped>\n",
       "    .dataframe tbody tr th:only-of-type {\n",
       "        vertical-align: middle;\n",
       "    }\n",
       "\n",
       "    .dataframe tbody tr th {\n",
       "        vertical-align: top;\n",
       "    }\n",
       "\n",
       "    .dataframe thead th {\n",
       "        text-align: right;\n",
       "    }\n",
       "</style>\n",
       "<table border=\"1\" class=\"dataframe\">\n",
       "  <thead>\n",
       "    <tr style=\"text-align: right;\">\n",
       "      <th></th>\n",
       "      <th>0</th>\n",
       "      <th>1</th>\n",
       "    </tr>\n",
       "  </thead>\n",
       "  <tbody>\n",
       "    <tr>\n",
       "      <th>1</th>\n",
       "      <td></td>\n",
       "      <td>0. 0. 0. 0. 0. 0. 0. 0. 0. 0. 0. 0. 0. 0. 0. 0...</td>\n",
       "    </tr>\n",
       "    <tr>\n",
       "      <th>2</th>\n",
       "      <td></td>\n",
       "      <td>0. 0. 0. 0. 0. 0. 0. 0. 0. 0. 0. 0. 0. 0. 0. 0...</td>\n",
       "    </tr>\n",
       "    <tr>\n",
       "      <th>...</th>\n",
       "      <td>...</td>\n",
       "      <td>...</td>\n",
       "    </tr>\n",
       "    <tr>\n",
       "      <th>24</th>\n",
       "      <td></td>\n",
       "      <td>0. 0. 0. 0. 0. 0. 0. 0. 0. 0. 0. 0. 0. 0. 0. 0...</td>\n",
       "    </tr>\n",
       "    <tr>\n",
       "      <th>25</th>\n",
       "      <td></td>\n",
       "      <td>0. 0. 0. 0. 0. 0. 0. 0. 0. 0. 0. 0. 0. 0. 0. 0...</td>\n",
       "    </tr>\n",
       "  </tbody>\n",
       "</table>\n",
       "<p>25 rows × 2 columns</p>\n",
       "</div>"
      ],
      "text/plain": [
       "   0                                                   1\n",
       "1      0. 0. 0. 0. 0. 0. 0. 0. 0. 0. 0. 0. 0. 0. 0. 0...\n",
       "2      0. 0. 0. 0. 0. 0. 0. 0. 0. 0. 0. 0. 0. 0. 0. 0...\n",
       ".. ..                                                ...\n",
       "24     0. 0. 0. 0. 0. 0. 0. 0. 0. 0. 0. 0. 0. 0. 0. 0...\n",
       "25     0. 0. 0. 0. 0. 0. 0. 0. 0. 0. 0. 0. 0. 0. 0. 0...\n",
       "\n",
       "[25 rows x 2 columns]"
      ]
     },
     "execution_count": 99,
     "metadata": {},
     "output_type": "execute_result"
    }
   ],
   "source": [
    "best_df['user_attrs_feature_support_truth'].str.rsplit(pat='[', n=max_features[dataset], expand=True)"
   ]
  },
  {
   "cell_type": "code",
   "execution_count": 100,
   "id": "ee70defe",
   "metadata": {},
   "outputs": [
    {
     "data": {
      "text/plain": [
       "1     [0. 0. 0. 0. 0. 0. 0. 0. 0. 0. 0. 0. 0. 0. 0. ...\n",
       "2     [0. 0. 0. 0. 0. 0. 0. 0. 0. 0. 0. 0. 0. 0. 0. ...\n",
       "                            ...                        \n",
       "24    [0. 0. 0. 0. 0. 0. 0. 0. 0. 0. 0. 0. 0. 0. 0. ...\n",
       "25    [0. 0. 0. 0. 0. 0. 0. 0. 0. 0. 0. 0. 0. 0. 0. ...\n",
       "Name: user_attrs_feature_support_truth, Length: 25, dtype: object"
      ]
     },
     "execution_count": 100,
     "metadata": {},
     "output_type": "execute_result"
    }
   ],
   "source": [
    "best_df['user_attrs_feature_support_truth']"
   ]
  },
  {
   "cell_type": "code",
   "execution_count": 101,
   "id": "bee9b963",
   "metadata": {},
   "outputs": [
    {
     "data": {
      "text/plain": [
       "1     0. 0. 0. 0. 0. 0. 0. 0. 0. 0. 0. 0. 0. 0. 0. 0...\n",
       "2     0. 0. 0. 0. 0. 0. 0. 0. 0. 0. 0. 0. 0. 0. 0. 0...\n",
       "                            ...                        \n",
       "24    0. 0. 0. 0. 0. 0. 0. 0. 0. 0. 0. 0. 0. 0. 0. 0...\n",
       "25    0. 0. 0. 0. 0. 0. 0. 0. 0. 0. 0. 0. 0. 0. 0. 0...\n",
       "Name: 0, Length: 25, dtype: object"
      ]
     },
     "execution_count": 101,
     "metadata": {},
     "output_type": "execute_result"
    }
   ],
   "source": [
    "best_df['user_attrs_feature_support_truth'].str.rsplit(pat='[', n=max_features[dataset], expand=True)[1].str.rsplit(pat=']', n=256, expand=True)[0]"
   ]
  },
  {
   "cell_type": "code",
   "execution_count": 102,
   "id": "8033133c",
   "metadata": {},
   "outputs": [
    {
     "data": {
      "text/plain": [
       "array([0, 0, 0, 0, 0, 0, 0, 0, 0, 0, 0, 0, 0, 0, 0, 0, 0, 0, 0, 0, 0, 0,\n",
       "       0, 0, 0, 0, 0, 0, 0, 0, 0, 0, 1, 0, 0, 0, 0, 0, 0, 0, 0, 0, 0, 0,\n",
       "       0, 0, 0, 0, 0, 0, 0, 0, 0, 0, 0, 0, 0, 0, 0, 0, 0, 0, 0, 0, 0, 0,\n",
       "       0, 0, 0, 0, 0, 0, 0, 0, 0, 0, 0, 0, 0, 0, 0, 0, 0, 0, 0, 0, 0, 0,\n",
       "       0, 0, 0, 0, 0, 0, 0, 0, 1, 0, 0, 0, 0, 0, 0, 0, 0, 0, 0, 0, 0, 0,\n",
       "       0, 0, 0, 0, 0, 0, 0, 0, 0, 0, 0, 0, 0, 0, 0, 0, 0, 0, 0, 0, 0, 0,\n",
       "       0, 0, 0, 0, 0, 0, 0, 0, 0, 0, 0, 0, 0, 0, 0, 0, 0, 0, 0, 0, 0, 0,\n",
       "       0, 0, 0, 0, 0, 0, 1, 0, 0, 0, 0, 0, 0, 0, 0, 0, 0, 0, 0, 0, 0, 0,\n",
       "       0, 0, 0, 0, 0, 0, 0, 0, 0, 0, 0, 0, 0, 0, 0, 0, 0, 0, 0, 0, 0, 0,\n",
       "       0, 0, 0, 0, 0, 0, 0, 0, 0, 0, 0, 0, 0, 0, 0, 0, 0, 0, 0, 0, 0, 0,\n",
       "       0, 0, 0, 0, 1, 0, 0, 0, 0, 0, 0, 0, 0, 0, 0, 0, 0, 0, 0, 0, 0, 0,\n",
       "       0, 0, 0, 0, 0, 0, 0, 0, 0, 0, 0, 0, 0, 0, 0, 0, 0, 0, 0, 0, 0, 0,\n",
       "       0, 0, 0, 0, 0, 0, 0, 0, 0, 0, 0, 0, 0, 0, 0, 0, 0, 0, 0, 0, 0, 0,\n",
       "       0, 0, 1, 0, 0, 0, 0, 0, 0, 0, 0, 0, 0, 0, 0, 0, 0, 0, 0, 0, 0, 0,\n",
       "       0, 0, 0, 0, 0, 0, 0, 0, 0, 0, 0, 0, 0, 0, 0, 0, 0, 0, 0, 0, 0, 0,\n",
       "       0, 0, 0, 0, 0, 0, 0, 0, 0, 0, 0, 0, 0, 0, 0, 0, 0, 0, 0, 0, 0, 0,\n",
       "       1, 0, 0, 0, 0, 0, 0, 0, 0, 0, 0, 0, 0, 0, 0, 0, 0, 0, 0, 0, 0, 0,\n",
       "       0, 0, 0, 0, 0, 0, 0, 0, 0, 0, 0, 0, 0, 0, 0, 0, 0, 0, 0, 0, 0, 0,\n",
       "       0, 0, 0, 0, 0, 0, 0, 0, 0, 0, 0, 0, 0, 0, 0, 0, 0, 0, 0, 0, 1, 0,\n",
       "       0, 0, 0, 0, 0, 0, 0, 0, 0, 0, 0, 0, 0, 0, 0, 0, 0, 0, 0, 0, 0, 0,\n",
       "       0, 0, 0, 0, 0, 0, 0, 0, 0, 0, 0, 0, 0, 0, 0, 0, 0, 0, 0, 0, 0, 0,\n",
       "       0, 0, 0, 0, 0, 0, 0, 0, 0, 0, 0, 0, 0, 0, 0, 0, 0, 0, 1, 0, 0, 0,\n",
       "       0, 0, 0, 0, 0, 0, 0, 0, 0, 0, 0, 0, 0, 0, 0, 0, 0, 0, 0, 0, 0, 0,\n",
       "       0, 0, 0, 0, 0, 0])"
      ]
     },
     "execution_count": 102,
     "metadata": {},
     "output_type": "execute_result"
    }
   ],
   "source": [
    "feature_support_truth = best_df['user_attrs_feature_support_truth'].str.rsplit(pat='[', n=max_features[dataset], expand=True)[1].str.rsplit(pat=']', n=max_features[dataset], expand=True)[0].str.rsplit(pat='.', n=max_features[dataset], expand=True).iloc[:,:-1]\n",
    "feature_support_truth = feature_support_truth.astype(int)\n",
    "feature_support_truth.mean().values.astype(int)"
   ]
  },
  {
   "cell_type": "code",
   "execution_count": 103,
   "id": "13352031",
   "metadata": {},
   "outputs": [
    {
     "data": {
      "text/html": [
       "<div>\n",
       "<style scoped>\n",
       "    .dataframe tbody tr th:only-of-type {\n",
       "        vertical-align: middle;\n",
       "    }\n",
       "\n",
       "    .dataframe tbody tr th {\n",
       "        vertical-align: top;\n",
       "    }\n",
       "\n",
       "    .dataframe thead th {\n",
       "        text-align: right;\n",
       "    }\n",
       "</style>\n",
       "<table border=\"1\" class=\"dataframe\">\n",
       "  <thead>\n",
       "    <tr style=\"text-align: right;\">\n",
       "      <th></th>\n",
       "      <th>0</th>\n",
       "      <th>1</th>\n",
       "      <th>2</th>\n",
       "      <th>3</th>\n",
       "      <th>4</th>\n",
       "      <th>5</th>\n",
       "      <th>6</th>\n",
       "      <th>7</th>\n",
       "      <th>8</th>\n",
       "      <th>9</th>\n",
       "      <th>...</th>\n",
       "      <th>502</th>\n",
       "      <th>503</th>\n",
       "      <th>504</th>\n",
       "      <th>505</th>\n",
       "      <th>506</th>\n",
       "      <th>507</th>\n",
       "      <th>508</th>\n",
       "      <th>509</th>\n",
       "      <th>510</th>\n",
       "      <th>511</th>\n",
       "    </tr>\n",
       "  </thead>\n",
       "  <tbody>\n",
       "    <tr>\n",
       "      <th>1</th>\n",
       "      <td>0</td>\n",
       "      <td>0</td>\n",
       "      <td>0</td>\n",
       "      <td>0</td>\n",
       "      <td>0</td>\n",
       "      <td>0</td>\n",
       "      <td>0</td>\n",
       "      <td>0</td>\n",
       "      <td>0</td>\n",
       "      <td>0</td>\n",
       "      <td>...</td>\n",
       "      <td>0</td>\n",
       "      <td>0</td>\n",
       "      <td>0</td>\n",
       "      <td>0</td>\n",
       "      <td>0</td>\n",
       "      <td>0</td>\n",
       "      <td>0</td>\n",
       "      <td>0</td>\n",
       "      <td>0</td>\n",
       "      <td>0</td>\n",
       "    </tr>\n",
       "    <tr>\n",
       "      <th>2</th>\n",
       "      <td>0</td>\n",
       "      <td>0</td>\n",
       "      <td>0</td>\n",
       "      <td>0</td>\n",
       "      <td>0</td>\n",
       "      <td>0</td>\n",
       "      <td>0</td>\n",
       "      <td>0</td>\n",
       "      <td>0</td>\n",
       "      <td>0</td>\n",
       "      <td>...</td>\n",
       "      <td>0</td>\n",
       "      <td>0</td>\n",
       "      <td>0</td>\n",
       "      <td>0</td>\n",
       "      <td>0</td>\n",
       "      <td>0</td>\n",
       "      <td>0</td>\n",
       "      <td>0</td>\n",
       "      <td>0</td>\n",
       "      <td>0</td>\n",
       "    </tr>\n",
       "    <tr>\n",
       "      <th>...</th>\n",
       "      <td>...</td>\n",
       "      <td>...</td>\n",
       "      <td>...</td>\n",
       "      <td>...</td>\n",
       "      <td>...</td>\n",
       "      <td>...</td>\n",
       "      <td>...</td>\n",
       "      <td>...</td>\n",
       "      <td>...</td>\n",
       "      <td>...</td>\n",
       "      <td>...</td>\n",
       "      <td>...</td>\n",
       "      <td>...</td>\n",
       "      <td>...</td>\n",
       "      <td>...</td>\n",
       "      <td>...</td>\n",
       "      <td>...</td>\n",
       "      <td>...</td>\n",
       "      <td>...</td>\n",
       "      <td>...</td>\n",
       "      <td>...</td>\n",
       "    </tr>\n",
       "    <tr>\n",
       "      <th>24</th>\n",
       "      <td>0</td>\n",
       "      <td>0</td>\n",
       "      <td>0</td>\n",
       "      <td>0</td>\n",
       "      <td>0</td>\n",
       "      <td>0</td>\n",
       "      <td>0</td>\n",
       "      <td>0</td>\n",
       "      <td>0</td>\n",
       "      <td>0</td>\n",
       "      <td>...</td>\n",
       "      <td>0</td>\n",
       "      <td>0</td>\n",
       "      <td>0</td>\n",
       "      <td>0</td>\n",
       "      <td>0</td>\n",
       "      <td>0</td>\n",
       "      <td>0</td>\n",
       "      <td>0</td>\n",
       "      <td>0</td>\n",
       "      <td>0</td>\n",
       "    </tr>\n",
       "    <tr>\n",
       "      <th>25</th>\n",
       "      <td>0</td>\n",
       "      <td>0</td>\n",
       "      <td>0</td>\n",
       "      <td>0</td>\n",
       "      <td>0</td>\n",
       "      <td>0</td>\n",
       "      <td>0</td>\n",
       "      <td>0</td>\n",
       "      <td>0</td>\n",
       "      <td>0</td>\n",
       "      <td>...</td>\n",
       "      <td>0</td>\n",
       "      <td>0</td>\n",
       "      <td>0</td>\n",
       "      <td>0</td>\n",
       "      <td>0</td>\n",
       "      <td>0</td>\n",
       "      <td>0</td>\n",
       "      <td>0</td>\n",
       "      <td>0</td>\n",
       "      <td>0</td>\n",
       "    </tr>\n",
       "  </tbody>\n",
       "</table>\n",
       "<p>25 rows × 512 columns</p>\n",
       "</div>"
      ],
      "text/plain": [
       "    0    1    2    3    4    5    6    7    8    9    ...  502  503  504  505  \\\n",
       "1     0    0    0    0    0    0    0    0    0    0  ...    0    0    0    0   \n",
       "2     0    0    0    0    0    0    0    0    0    0  ...    0    0    0    0   \n",
       "..  ...  ...  ...  ...  ...  ...  ...  ...  ...  ...  ...  ...  ...  ...  ...   \n",
       "24    0    0    0    0    0    0    0    0    0    0  ...    0    0    0    0   \n",
       "25    0    0    0    0    0    0    0    0    0    0  ...    0    0    0    0   \n",
       "\n",
       "    506  507  508  509  510  511  \n",
       "1     0    0    0    0    0    0  \n",
       "2     0    0    0    0    0    0  \n",
       "..  ...  ...  ...  ...  ...  ...  \n",
       "24    0    0    0    0    0    0  \n",
       "25    0    0    0    0    0    0  \n",
       "\n",
       "[25 rows x 512 columns]"
      ]
     },
     "execution_count": 103,
     "metadata": {},
     "output_type": "execute_result"
    }
   ],
   "source": [
    "feature_support_truth"
   ]
  },
  {
   "cell_type": "code",
   "execution_count": 104,
   "id": "e07f10cf",
   "metadata": {},
   "outputs": [],
   "source": [
    "feature_support_recovery = best_df['user_attrs_feature_support'].str.rsplit(pat='[', n=max_features[dataset], expand=True)[1].str.rsplit(pat=']', n=max_features[dataset], expand=True)[0].str.replace('\\n','').str.strip()\n",
    "feature_support_recovery = feature_support_recovery.str.replace(\"  \",\",\")\n",
    "feature_support_recovery = feature_support_recovery.str.replace(\" \",\",\")\n",
    "feature_support_recovery = feature_support_recovery.str.rsplit(pat=',', n=max_features[dataset], expand=True)\n",
    "str2bool = {'True': 1, 'False': 0}\n",
    "for col in feature_support_recovery.columns:\n",
    "    feature_support_recovery[col] = feature_support_recovery[col].map(str2bool)\n"
   ]
  },
  {
   "cell_type": "code",
   "execution_count": 105,
   "id": "0c075be6",
   "metadata": {},
   "outputs": [
    {
     "data": {
      "text/plain": [
       "array([0, 0, 0, 0, 0, 0, 0, 0, 0, 0, 0, 0, 0, 0, 0, 0, 0, 0, 0, 0, 0, 0,\n",
       "       0, 0, 0, 0, 0, 0, 0, 0, 0, 0, 1, 0, 0, 0, 0, 0, 0, 0, 0, 0, 0, 0,\n",
       "       0, 0, 0, 0, 0, 0, 0, 0, 0, 0, 0, 0, 0, 0, 0, 0, 0, 0, 0, 0, 0, 0,\n",
       "       0, 0, 0, 0, 0, 0, 0, 0, 0, 0, 0, 0, 0, 0, 0, 0, 0, 0, 0, 0, 0, 0,\n",
       "       0, 0, 0, 0, 0, 0, 0, 0, 1, 0, 0, 0, 0, 0, 0, 0, 0, 0, 0, 0, 0, 0,\n",
       "       0, 0, 0, 0, 0, 0, 0, 0, 0, 0, 0, 0, 0, 0, 0, 0, 0, 0, 0, 0, 0, 0,\n",
       "       0, 0, 0, 0, 0, 0, 0, 0, 0, 0, 0, 0, 0, 0, 0, 0, 0, 0, 0, 0, 0, 0,\n",
       "       0, 0, 0, 0, 0, 0, 1, 0, 0, 0, 0, 0, 0, 0, 0, 0, 0, 0, 0, 0, 0, 0,\n",
       "       0, 0, 0, 0, 0, 0, 0, 0, 0, 0, 0, 0, 0, 0, 0, 0, 0, 0, 0, 0, 0, 0,\n",
       "       0, 0, 0, 0, 0, 0, 0, 0, 0, 0, 0, 0, 0, 0, 0, 0, 0, 0, 0, 0, 0, 0,\n",
       "       0, 0, 0, 0, 1, 0, 0, 0, 0, 0, 0, 0, 0, 0, 0, 0, 0, 0, 0, 0, 0, 0,\n",
       "       0, 0, 0, 0, 0, 0, 0, 0, 0, 0, 0, 0, 0, 0, 0, 0, 0, 0, 0, 0, 0, 0,\n",
       "       0, 0, 0, 0, 0, 0, 0, 0, 0, 0, 0, 0, 0, 0, 0, 0, 0, 0, 0, 0, 0, 0,\n",
       "       0, 0, 1, 0, 0, 0, 0, 0, 0, 0, 0, 0, 0, 0, 0, 0, 0, 0, 0, 0, 0, 0,\n",
       "       0, 0, 0, 0, 0, 0, 0, 0, 0, 0, 0, 0, 0, 0, 0, 0, 0, 0, 0, 0, 0, 0,\n",
       "       0, 0, 0, 0, 0, 0, 0, 0, 0, 0, 0, 0, 0, 0, 0, 0, 0, 0, 0, 0, 0, 0,\n",
       "       1, 0, 0, 0, 0, 0, 0, 0, 0, 0, 0, 0, 0, 0, 0, 0, 0, 0, 0, 0, 0, 0,\n",
       "       0, 0, 0, 0, 0, 0, 0, 0, 0, 0, 0, 0, 0, 0, 0, 0, 0, 0, 0, 0, 0, 0,\n",
       "       0, 0, 0, 0, 0, 0, 0, 0, 0, 0, 0, 0, 0, 0, 0, 0, 0, 0, 0, 0, 1, 0,\n",
       "       0, 0, 0, 0, 0, 0, 0, 0, 0, 0, 0, 0, 0, 0, 0, 0, 0, 0, 0, 0, 0, 0,\n",
       "       0, 0, 0, 0, 0, 0, 0, 0, 0, 0, 0, 0, 0, 0, 0, 0, 0, 0, 0, 0, 0, 0,\n",
       "       0, 0, 0, 0, 0, 0, 0, 0, 0, 0, 0, 0, 0, 0, 0, 0, 0, 0, 1, 0, 0, 0,\n",
       "       0, 0, 0, 0, 0, 0, 0, 0, 0, 0, 0, 0, 0, 0, 0, 0, 0, 0, 0, 0, 0, 0,\n",
       "       0, 0, 0, 0, 0, 0])"
      ]
     },
     "execution_count": 105,
     "metadata": {},
     "output_type": "execute_result"
    }
   ],
   "source": [
    "(feature_support_recovery.mean().values>0.5).astype(int)"
   ]
  },
  {
   "cell_type": "code",
   "execution_count": 106,
   "id": "c29f4ce6",
   "metadata": {},
   "outputs": [
    {
     "data": {
      "text/plain": [
       "array([0, 0, 0, 0, 0, 0, 0, 0, 0, 0, 0, 0, 0, 0, 0, 0, 0, 0, 0, 0, 0, 0,\n",
       "       0, 0, 0, 0, 0, 0, 0, 0, 0, 0, 1, 0, 0, 0, 0, 0, 0, 0, 0, 0, 0, 0,\n",
       "       0, 0, 0, 0, 0, 0, 0, 0, 0, 0, 0, 0, 0, 0, 0, 0, 0, 0, 0, 0, 0, 0,\n",
       "       0, 0, 0, 0, 0, 0, 0, 0, 0, 0, 0, 0, 0, 0, 0, 0, 0, 0, 0, 0, 0, 0,\n",
       "       0, 0, 0, 0, 0, 0, 0, 0, 1, 0, 0, 0, 0, 0, 0, 0, 0, 0, 0, 0, 0, 0,\n",
       "       0, 0, 0, 0, 0, 0, 0, 0, 0, 0, 0, 0, 0, 0, 0, 0, 0, 0, 0, 0, 0, 0,\n",
       "       0, 0, 0, 0, 0, 0, 0, 0, 0, 0, 0, 0, 0, 0, 0, 0, 0, 0, 0, 0, 0, 0,\n",
       "       0, 0, 0, 0, 0, 0, 1, 0, 0, 0, 0, 0, 0, 0, 0, 0, 0, 0, 0, 0, 0, 0,\n",
       "       0, 0, 0, 0, 0, 0, 0, 0, 0, 0, 0, 0, 0, 0, 0, 0, 0, 0, 0, 0, 0, 0,\n",
       "       0, 0, 0, 0, 0, 0, 0, 0, 0, 0, 0, 0, 0, 0, 0, 0, 0, 0, 0, 0, 0, 0,\n",
       "       0, 0, 0, 0, 1, 0, 0, 0, 0, 0, 0, 0, 0, 0, 0, 0, 0, 0, 0, 0, 0, 0,\n",
       "       0, 0, 0, 0, 0, 0, 0, 0, 0, 0, 0, 0, 0, 0, 0, 0, 0, 0, 0, 0, 0, 0,\n",
       "       0, 0, 0, 0, 0, 0, 0, 0, 0, 0, 0, 0, 0, 0, 0, 0, 0, 0, 0, 0, 0, 0,\n",
       "       0, 0, 1, 0, 0, 0, 0, 0, 0, 0, 0, 0, 0, 0, 0, 0, 0, 0, 0, 0, 0, 0,\n",
       "       0, 0, 0, 0, 0, 0, 0, 0, 0, 0, 0, 0, 0, 0, 0, 0, 0, 0, 0, 0, 0, 0,\n",
       "       0, 0, 0, 0, 0, 0, 0, 0, 0, 0, 0, 0, 0, 0, 0, 0, 0, 0, 0, 0, 0, 0,\n",
       "       1, 0, 0, 0, 0, 0, 0, 0, 0, 0, 0, 0, 0, 0, 0, 0, 0, 0, 0, 0, 0, 0,\n",
       "       0, 0, 0, 0, 0, 0, 0, 0, 0, 0, 0, 0, 0, 0, 0, 0, 0, 0, 0, 0, 0, 0,\n",
       "       0, 0, 0, 0, 0, 0, 0, 0, 0, 0, 0, 0, 0, 0, 0, 0, 0, 0, 0, 0, 1, 0,\n",
       "       0, 0, 0, 0, 0, 0, 0, 0, 0, 0, 0, 0, 0, 0, 0, 0, 0, 0, 0, 0, 0, 0,\n",
       "       0, 0, 0, 0, 0, 0, 0, 0, 0, 0, 0, 0, 0, 0, 0, 0, 0, 0, 0, 0, 0, 0,\n",
       "       0, 0, 0, 0, 0, 0, 0, 0, 0, 0, 0, 0, 0, 0, 0, 0, 0, 0, 1, 0, 0, 0,\n",
       "       0, 0, 0, 0, 0, 0, 0, 0, 0, 0, 0, 0, 0, 0, 0, 0, 0, 0, 0, 0, 0, 0,\n",
       "       0, 0, 0, 0, 0, 0])"
      ]
     },
     "execution_count": 106,
     "metadata": {},
     "output_type": "execute_result"
    }
   ],
   "source": [
    "feature_support_truth.mean().values.astype(int)"
   ]
  },
  {
   "cell_type": "code",
   "execution_count": 107,
   "id": "76e8a69b",
   "metadata": {},
   "outputs": [
    {
     "data": {
      "text/plain": [
       "array([1., 1., 1., 1., 1., 1., 1., 1.])"
      ]
     },
     "execution_count": 107,
     "metadata": {},
     "output_type": "execute_result"
    }
   ],
   "source": [
    "feature_support_recovery.mean().values[feature_support_truth.mean().values.astype(bool)]"
   ]
  },
  {
   "cell_type": "code",
   "execution_count": 108,
   "id": "da6b62d9",
   "metadata": {},
   "outputs": [
    {
     "data": {
      "image/png": "[encoded data removed]",
      "text/plain": [
       "<Figure size 1200x200 with 1 Axes>"
      ]
     },
     "metadata": {},
     "output_type": "display_data"
    }
   ],
   "source": [
    "feature_support_recovery_median = feature_support_recovery.mean().values\n",
    "feature_support_recovery_median[feature_support_recovery_median==0] = np.nan\n",
    "\n",
    "feature_support_truth_median = feature_support_truth.mean().values\n",
    "feature_support_truth_median[feature_support_truth_median==0] = np.nan\n",
    "\n",
    "plt.figure(figsize=(12,2))\n",
    "plt.stem(np.arange(1, max_features[dataset]+1), feature_support_recovery_median, markerfmt='b', linefmt='b', basefmt='k')\n",
    "\n",
    "\n",
    "feature_support_truth_median = feature_support_truth.mean().values\n",
    "feature_support_recovery_median = feature_support_recovery.mean().values\n",
    "feature_support_recovery_median[feature_support_truth_median==0] = np.nan\n",
    "font = {'size': 20}\n",
    "\n",
    "plt.rc('font', **font)\n",
    "plt.stem(np.arange(1, max_features[dataset]+1), feature_support_recovery_median, markerfmt='r', linefmt='r', basefmt='k')\n",
    "plt.xticks(np.where(feature_support_truth.mean().values.astype(bool))[0]+1)\n",
    "plt.yticks([0,1])\n",
    "plt.xlabel(\"Features\")\n",
    "plt.savefig(f\"./Figures/features_selected_sigma{sigma}_p_{max_features[dataset]}_train_size{train_size}.pdf\", bbox_inches='tight')\n",
    "plt.show()\n"
   ]
  },
  {
   "cell_type": "code",
   "execution_count": null,
   "id": "754c0123",
   "metadata": {},
   "outputs": [],
   "source": [
    "np.where(feature_support_truth.mean().values.astype(bool))[0]"
   ]
  },
  {
   "cell_type": "code",
   "execution_count": null,
   "id": "cd52a7bf",
   "metadata": {},
   "outputs": [],
   "source": [
    "feature_support_truth.mean().values.astype(int)"
   ]
  },
  {
   "cell_type": "code",
   "execution_count": null,
   "id": "4c56d2b9",
   "metadata": {},
   "outputs": [],
   "source": [
    "feature_support_recovery.mean().values[~(feature_support_truth.mean().values.astype(bool))].mean()"
   ]
  },
  {
   "cell_type": "markdown",
   "id": "3a3aee94",
   "metadata": {},
   "source": [
    "# XGBoost"
   ]
  },
  {
   "cell_type": "code",
   "execution_count": 227,
   "id": "f0a7376b",
   "metadata": {},
   "outputs": [],
   "source": [
    "dataset = \"synthetic\"\n",
    "train_size = 1000\n",
    "sigma = 0.7\n",
    "max_features = {\n",
    "    'synthetic': 512,\n",
    "    'abalone': 250,\n",
    "    'boston': 130\n",
    "}\n",
    "\n",
    "PATH = \"/home/gridsan/shibal/MultiTaskSoftTrees/src/baselines\"\n",
    "RUN = 3"
   ]
  },
  {
   "cell_type": "code",
   "execution_count": 228,
   "id": "7a2eb76e",
   "metadata": {
    "scrolled": true
   },
   "outputs": [],
   "source": [
    "criteria = 'mse'\n",
    "tuning_seeds = [0]\n",
    "seeds = np.arange(1,26)\n",
    "method = 'xgboost'\n",
    "\n",
    "result_df = pd.DataFrame()\n",
    "for seed in seeds: \n",
    "    for tuning_seed in tuning_seeds:\n",
    "        path = f\"{PATH}/logs/feature-selection/{method}/publicdata/{dataset}/{sigma}/{max_features[dataset]}/mse/{RUN}.0/train_size_{train_size}/results/seed{seed}/study.csv\"\n",
    "        try:\n",
    "            df_temp = pd.read_csv(path)\n",
    "            df_temp['seed'] = seed\n",
    "        except:\n",
    "            print(\"Missing:\", path)\n",
    "            continue\n",
    "        result_df = pd.concat([result_df,df_temp],axis=0)\n",
    "        result_df.index = np.arange(len(result_df))\n",
    "        \n",
    "#     df = df[df[\"user_attrs_approximate_feature_sparsity\"]<budget*df[\"user_attrs_approximate_feature_sparsity\"].max()]\n",
    "#     print(\"Number of trials satisfying the feature sparsity budget:\", df.shape[0])\n",
    "#     df = df.sort_values(by=[\"user_attrs_\"+criteria+\"_valid\"], ascending=False)\n",
    "#     best_value = df[\"user_attrs_\"+criteria+\"_valid\"].values[0]\n",
    "#     df_opt = df[df[\"user_attrs_\"+criteria+\"_valid\"]==best_value]\n",
    "\n",
    "#     df_opt = df_opt.sort_values(by='user_attrs_feature_sparsity')\n",
    "#     if criteria=='auc':\n",
    "#         print(\"valid_auc:\", df_opt.user_attrs_auc_valid.mean())\n",
    "#         print(\"test_auc:\", df_opt.user_attrs_auc_test.mean())\n",
    "#         print(\"test_aucs:\", df_opt.user_attrs_auc_test.values)\n",
    "#     elif criteria=='accuracy':\n",
    "#         print(\"valid_accuracy:\", df_opt.user_attrs_accuracy_valid.mean())\n",
    "#         print(\"test_accuracy:\", df_opt.user_attrs_accuracy_test.mean())\n",
    "#         print(\"test_accuracies:\", df_opt.user_attrs_accuracy_test.values)\n",
    "#     print(\"sparsity:\", df_opt.user_attrs_feature_sparsity.values)\n",
    "#     print(\"Mean sparsity:\", df_opt.user_attrs_approximate_feature_sparsity.mean())\n",
    "# #     print(\"Approx sparsity:\", df_opt.user_attrs_approximate_feature_sparsity.values)\n",
    "# #     print(\"Mean approx sparsity:\", df_opt.user_attrs_feature_sparsity.mean())\n",
    "# #     print(\"Batch-sizes:\", df_opt.params_batch_size.values)\n",
    "#     print(\"Depths:\", df_opt.params_depth.values)\n",
    "#     print(\"Epochs:\", df_opt.user_attrs_num_epochs.values)\n",
    "# #     print(\"Learning Rates:\", df_opt.params_learning_rate.values)\n"
   ]
  },
  {
   "cell_type": "code",
   "execution_count": 229,
   "id": "0ebe7673",
   "metadata": {},
   "outputs": [],
   "source": [
    "best_ = dict()\n",
    "for seed, df in result_df.groupby('seed'):\n",
    "    if len(df) == 0:\n",
    "        best_[seed] = pd.Series()\n",
    "        continue\n",
    "    best_[seed]=df.iloc[df['user_attrs_mse_valid'].argmin()].copy()\n",
    "#     best_[gate]['ntrials'] = len(df)\n",
    "#     best_[gate]['ntrials_all'] = len(df)\n",
    "#     best_[gate]['test_loss-avg']=df.sort_values(by='val_loss')[:num_top_trials_to_avg].test_loss.mean() \n",
    "#     best_[gate]['test_loss-sem']=df.sort_values(by='val_loss')[:num_top_trials_to_avg].test_loss.sem() \n",
    "#     best_[gate]['test_sparsity-avg']=df.sort_values(by='val_loss')[:num_top_trials_to_avg].test_sparsity.mean() \n",
    "#     best_[gate]['exp-per-sample-avg']=(n - df.sort_values(by='val_loss')[:num_top_trials_to_avg].test_sparsity*n).mean()\n",
    "#     best_[gate]['exp-per-sample-sem']=(n - df.sort_values(by='val_loss')[:num_top_trials_to_avg].test_sparsity*n).sem()\n",
    "#     total_trials = len(df)\n",
    "#     df = df[(df['val_sparsity']>=((1-k/n)-5e-4))]\n",
    "#     df = df[(df['val_sparsity']>=((1-k/n)-5e-4))&(df['train_sparsity']>=((1-k/n)-5e-4))]\n",
    "#     if len(df) == 0:\n",
    "#         best_['SPARSE-'+gate] = pd.Series()\n",
    "#         continue\n",
    "#     best_['SPARSE-'+gate]=df.iloc[df['val_loss'].argmin()].copy()\n",
    "#     best_['SPARSE-'+gate]['ntrials'] = len(df)\n",
    "#     best_['SPARSE-'+gate]['ntrials_all'] = total_trials\n",
    "#     best_['SPARSE-'+gate]['test_loss-avg']=df.sort_values(by='val_loss')[:num_top_trials_to_avg].test_loss.mean() \n",
    "#     best_['SPARSE-'+gate]['test_loss-sem']=df.sort_values(by='val_loss')[:num_top_trials_to_avg].test_loss.sem() \n",
    "#     best_['SPARSE-'+gate]['test_sparsity-avg']=df.sort_values(by='val_loss')[:num_top_trials_to_avg].test_sparsity.mean() \n",
    "#     best_['SPARSE-'+gate]['exp-per-sample-avg']=(n - df.sort_values(by='val_loss')[:num_top_trials_to_avg].test_sparsity*n).mean()\n",
    "#     best_['SPARSE-'+gate]['exp-per-sample-sem']=(n - df.sort_values(by='val_loss')[:num_top_trials_to_avg].test_sparsity*n).sem()\n",
    "#     best_['SPARSE-'+gate]['test_task1_acc-avg']=df.sort_values(by='val_loss')[:num_top_trials_to_avg].test_task1_acc.mean() \n",
    "#     best_['SPARSE-'+gate]['test_task1_acc-sem']=df.sort_values(by='val_loss')[:num_top_trials_to_avg].test_task1_acc.sem() \n",
    "#     best_['SPARSE-'+gate]['test_task1_auc-avg']=df.sort_values(by='val_loss')[:num_top_trials_to_avg].test_task1_auc.mean() \n",
    "#     best_['SPARSE-'+gate]['test_task1_auc-sem']=df.sort_values(by='val_loss')[:num_top_trials_to_avg].test_task1_auc.sem() \n",
    "#     best_['SPARSE-'+gate]['test_task2_mse-avg']=df.sort_values(by='val_loss')[:num_top_trials_to_avg].test_task2_mse.mean() \n",
    "#     best_['SPARSE-'+gate]['test_task2_mse-sem']=df.sort_values(by='val_loss')[:num_top_trials_to_avg].test_task2_mse.sem() \n",
    "        "
   ]
  },
  {
   "cell_type": "code",
   "execution_count": 230,
   "id": "ed295fc0",
   "metadata": {},
   "outputs": [],
   "source": [
    "best_df = pd.DataFrame(best_).T"
   ]
  },
  {
   "cell_type": "code",
   "execution_count": 231,
   "id": "b4f61a5f",
   "metadata": {},
   "outputs": [
    {
     "data": {
      "text/plain": [
       "Index(['Unnamed: 0', 'number', 'value', 'datetime_start', 'datetime_complete',\n",
       "       'duration', 'params_feature_importance_threshold',\n",
       "       'params_learning_rate', 'user_attrs_f1', 'user_attrs_feature_sparsity',\n",
       "       'user_attrs_feature_support', 'user_attrs_feature_support_truth',\n",
       "       'user_attrs_fnr', 'user_attrs_fpr', 'user_attrs_mse_test',\n",
       "       'user_attrs_mse_valid', 'user_attrs_tnr', 'user_attrs_tpr', 'state',\n",
       "       'seed'],\n",
       "      dtype='object')"
      ]
     },
     "execution_count": 231,
     "metadata": {},
     "output_type": "execute_result"
    }
   ],
   "source": [
    "best_df.columns"
   ]
  },
  {
   "cell_type": "code",
   "execution_count": 232,
   "id": "2952f099",
   "metadata": {},
   "outputs": [],
   "source": [
    "# metrics = [\n",
    "#    'user_attrs_mse_test',\n",
    "#    'user_attrs_mse_valid',\n",
    "#     'params_feature_importance_threshold',\n",
    "# #     'params_learning_rate',\n",
    "#     'params_max_depth',\n",
    "#     'params_n_estimators',\n",
    "#    'user_attrs_f1',\n",
    "#    'user_attrs_feature_sparsity',\n",
    "#    'user_attrs_feature_support',\n",
    "#    'user_attrs_feature_support_truth',\n",
    "#    'user_attrs_fnr',\n",
    "#    'user_attrs_fpr',\n",
    "#    'user_attrs_tnr',\n",
    "#    'user_attrs_tpr',    \n",
    "# ]\n",
    "# best_df = best_df[metrics]"
   ]
  },
  {
   "cell_type": "code",
   "execution_count": 233,
   "id": "e55491a7",
   "metadata": {},
   "outputs": [
    {
     "data": {
      "text/html": [
       "<div>\n",
       "<style scoped>\n",
       "    .dataframe tbody tr th:only-of-type {\n",
       "        vertical-align: middle;\n",
       "    }\n",
       "\n",
       "    .dataframe tbody tr th {\n",
       "        vertical-align: top;\n",
       "    }\n",
       "\n",
       "    .dataframe thead th {\n",
       "        text-align: right;\n",
       "    }\n",
       "</style>\n",
       "<table border=\"1\" class=\"dataframe\">\n",
       "  <thead>\n",
       "    <tr style=\"text-align: right;\">\n",
       "      <th></th>\n",
       "      <th>Unnamed: 0</th>\n",
       "      <th>number</th>\n",
       "      <th>value</th>\n",
       "      <th>datetime_start</th>\n",
       "      <th>datetime_complete</th>\n",
       "      <th>duration</th>\n",
       "      <th>params_feature_importance_threshold</th>\n",
       "      <th>params_learning_rate</th>\n",
       "      <th>user_attrs_f1</th>\n",
       "      <th>user_attrs_feature_sparsity</th>\n",
       "      <th>user_attrs_feature_support</th>\n",
       "      <th>user_attrs_feature_support_truth</th>\n",
       "      <th>user_attrs_fnr</th>\n",
       "      <th>user_attrs_fpr</th>\n",
       "      <th>user_attrs_mse_test</th>\n",
       "      <th>user_attrs_mse_valid</th>\n",
       "      <th>user_attrs_tnr</th>\n",
       "      <th>user_attrs_tpr</th>\n",
       "      <th>state</th>\n",
       "      <th>seed</th>\n",
       "    </tr>\n",
       "  </thead>\n",
       "  <tbody>\n",
       "    <tr>\n",
       "      <th>1</th>\n",
       "      <td>313</td>\n",
       "      <td>313</td>\n",
       "      <td>1.879906</td>\n",
       "      <td>2023-10-04 12:24:39.568307</td>\n",
       "      <td>2023-10-04 12:24:47.594758</td>\n",
       "      <td>0 days 00:00:08.026451</td>\n",
       "      <td>0.007722</td>\n",
       "      <td>0.114353</td>\n",
       "      <td>0.4</td>\n",
       "      <td>32</td>\n",
       "      <td>[False False False False False False False Fal...</td>\n",
       "      <td>[0. 0. 0. 0. 0. 0. 0. 0. 0. 0. 0. 0. 0. 0. 0. ...</td>\n",
       "      <td>0.0</td>\n",
       "      <td>0.047619</td>\n",
       "      <td>1.774025</td>\n",
       "      <td>1.879906</td>\n",
       "      <td>0.952381</td>\n",
       "      <td>1.0</td>\n",
       "      <td>COMPLETE</td>\n",
       "      <td>1</td>\n",
       "    </tr>\n",
       "    <tr>\n",
       "      <th>2</th>\n",
       "      <td>163</td>\n",
       "      <td>163</td>\n",
       "      <td>1.580483</td>\n",
       "      <td>2023-10-04 12:00:15.166360</td>\n",
       "      <td>2023-10-04 12:00:23.495477</td>\n",
       "      <td>0 days 00:00:08.329117</td>\n",
       "      <td>0.007402</td>\n",
       "      <td>0.054091</td>\n",
       "      <td>0.666667</td>\n",
       "      <td>16</td>\n",
       "      <td>[False False False False False False False Fal...</td>\n",
       "      <td>[0. 0. 0. 0. 0. 0. 0. 0. 0. 0. 0. 0. 0. 0. 0. ...</td>\n",
       "      <td>0.0</td>\n",
       "      <td>0.015873</td>\n",
       "      <td>1.772931</td>\n",
       "      <td>1.580483</td>\n",
       "      <td>0.984127</td>\n",
       "      <td>1.0</td>\n",
       "      <td>COMPLETE</td>\n",
       "      <td>2</td>\n",
       "    </tr>\n",
       "    <tr>\n",
       "      <th>...</th>\n",
       "      <td>...</td>\n",
       "      <td>...</td>\n",
       "      <td>...</td>\n",
       "      <td>...</td>\n",
       "      <td>...</td>\n",
       "      <td>...</td>\n",
       "      <td>...</td>\n",
       "      <td>...</td>\n",
       "      <td>...</td>\n",
       "      <td>...</td>\n",
       "      <td>...</td>\n",
       "      <td>...</td>\n",
       "      <td>...</td>\n",
       "      <td>...</td>\n",
       "      <td>...</td>\n",
       "      <td>...</td>\n",
       "      <td>...</td>\n",
       "      <td>...</td>\n",
       "      <td>...</td>\n",
       "      <td>...</td>\n",
       "    </tr>\n",
       "    <tr>\n",
       "      <th>24</th>\n",
       "      <td>313</td>\n",
       "      <td>313</td>\n",
       "      <td>1.721404</td>\n",
       "      <td>2023-10-04 12:22:01.858772</td>\n",
       "      <td>2023-10-04 12:22:09.815930</td>\n",
       "      <td>0 days 00:00:07.957158</td>\n",
       "      <td>0.007722</td>\n",
       "      <td>0.114353</td>\n",
       "      <td>0.457143</td>\n",
       "      <td>27</td>\n",
       "      <td>[False False False False False False False Fal...</td>\n",
       "      <td>[0. 0. 0. 0. 0. 0. 0. 0. 0. 0. 0. 0. 0. 0. 0. ...</td>\n",
       "      <td>0.0</td>\n",
       "      <td>0.037698</td>\n",
       "      <td>1.702822</td>\n",
       "      <td>1.721404</td>\n",
       "      <td>0.962302</td>\n",
       "      <td>1.0</td>\n",
       "      <td>COMPLETE</td>\n",
       "      <td>24</td>\n",
       "    </tr>\n",
       "    <tr>\n",
       "      <th>25</th>\n",
       "      <td>313</td>\n",
       "      <td>313</td>\n",
       "      <td>1.672022</td>\n",
       "      <td>2023-10-04 12:20:19.517249</td>\n",
       "      <td>2023-10-04 12:20:27.580609</td>\n",
       "      <td>0 days 00:00:08.063360</td>\n",
       "      <td>0.007722</td>\n",
       "      <td>0.114353</td>\n",
       "      <td>0.390244</td>\n",
       "      <td>33</td>\n",
       "      <td>[False False False False False False False Fal...</td>\n",
       "      <td>[0. 0. 0. 0. 0. 0. 0. 0. 0. 0. 0. 0. 0. 0. 0. ...</td>\n",
       "      <td>0.0</td>\n",
       "      <td>0.049603</td>\n",
       "      <td>1.799294</td>\n",
       "      <td>1.672022</td>\n",
       "      <td>0.950397</td>\n",
       "      <td>1.0</td>\n",
       "      <td>COMPLETE</td>\n",
       "      <td>25</td>\n",
       "    </tr>\n",
       "  </tbody>\n",
       "</table>\n",
       "<p>25 rows × 20 columns</p>\n",
       "</div>"
      ],
      "text/plain": [
       "   Unnamed: 0 number     value              datetime_start  \\\n",
       "1         313    313  1.879906  2023-10-04 12:24:39.568307   \n",
       "2         163    163  1.580483  2023-10-04 12:00:15.166360   \n",
       "..        ...    ...       ...                         ...   \n",
       "24        313    313  1.721404  2023-10-04 12:22:01.858772   \n",
       "25        313    313  1.672022  2023-10-04 12:20:19.517249   \n",
       "\n",
       "             datetime_complete                duration  \\\n",
       "1   2023-10-04 12:24:47.594758  0 days 00:00:08.026451   \n",
       "2   2023-10-04 12:00:23.495477  0 days 00:00:08.329117   \n",
       "..                         ...                     ...   \n",
       "24  2023-10-04 12:22:09.815930  0 days 00:00:07.957158   \n",
       "25  2023-10-04 12:20:27.580609  0 days 00:00:08.063360   \n",
       "\n",
       "   params_feature_importance_threshold params_learning_rate user_attrs_f1  \\\n",
       "1                             0.007722             0.114353           0.4   \n",
       "2                             0.007402             0.054091      0.666667   \n",
       "..                                 ...                  ...           ...   \n",
       "24                            0.007722             0.114353      0.457143   \n",
       "25                            0.007722             0.114353      0.390244   \n",
       "\n",
       "   user_attrs_feature_sparsity  \\\n",
       "1                           32   \n",
       "2                           16   \n",
       "..                         ...   \n",
       "24                          27   \n",
       "25                          33   \n",
       "\n",
       "                           user_attrs_feature_support  \\\n",
       "1   [False False False False False False False Fal...   \n",
       "2   [False False False False False False False Fal...   \n",
       "..                                                ...   \n",
       "24  [False False False False False False False Fal...   \n",
       "25  [False False False False False False False Fal...   \n",
       "\n",
       "                     user_attrs_feature_support_truth user_attrs_fnr  \\\n",
       "1   [0. 0. 0. 0. 0. 0. 0. 0. 0. 0. 0. 0. 0. 0. 0. ...            0.0   \n",
       "2   [0. 0. 0. 0. 0. 0. 0. 0. 0. 0. 0. 0. 0. 0. 0. ...            0.0   \n",
       "..                                                ...            ...   \n",
       "24  [0. 0. 0. 0. 0. 0. 0. 0. 0. 0. 0. 0. 0. 0. 0. ...            0.0   \n",
       "25  [0. 0. 0. 0. 0. 0. 0. 0. 0. 0. 0. 0. 0. 0. 0. ...            0.0   \n",
       "\n",
       "   user_attrs_fpr user_attrs_mse_test user_attrs_mse_valid user_attrs_tnr  \\\n",
       "1        0.047619            1.774025             1.879906       0.952381   \n",
       "2        0.015873            1.772931             1.580483       0.984127   \n",
       "..            ...                 ...                  ...            ...   \n",
       "24       0.037698            1.702822             1.721404       0.962302   \n",
       "25       0.049603            1.799294             1.672022       0.950397   \n",
       "\n",
       "   user_attrs_tpr     state seed  \n",
       "1             1.0  COMPLETE    1  \n",
       "2             1.0  COMPLETE    2  \n",
       "..            ...       ...  ...  \n",
       "24            1.0  COMPLETE   24  \n",
       "25            1.0  COMPLETE   25  \n",
       "\n",
       "[25 rows x 20 columns]"
      ]
     },
     "execution_count": 233,
     "metadata": {},
     "output_type": "execute_result"
    }
   ],
   "source": [
    "best_df"
   ]
  },
  {
   "cell_type": "code",
   "execution_count": 234,
   "id": "750177d2",
   "metadata": {},
   "outputs": [
    {
     "data": {
      "text/plain": [
       "Index(['Unnamed: 0', 'number', 'value', 'datetime_start', 'datetime_complete',\n",
       "       'duration', 'params_feature_importance_threshold',\n",
       "       'params_learning_rate', 'user_attrs_f1', 'user_attrs_feature_sparsity',\n",
       "       'user_attrs_feature_support', 'user_attrs_feature_support_truth',\n",
       "       'user_attrs_fnr', 'user_attrs_fpr', 'user_attrs_mse_test',\n",
       "       'user_attrs_mse_valid', 'user_attrs_tnr', 'user_attrs_tpr', 'state',\n",
       "       'seed'],\n",
       "      dtype='object')"
      ]
     },
     "execution_count": 234,
     "metadata": {},
     "output_type": "execute_result"
    }
   ],
   "source": [
    "best_df.columns"
   ]
  },
  {
   "cell_type": "code",
   "execution_count": 235,
   "id": "7f51dfc0",
   "metadata": {},
   "outputs": [
    {
     "data": {
      "text/plain": [
       "(1.8055509667258542, 0.01886161043839673)"
      ]
     },
     "execution_count": 235,
     "metadata": {},
     "output_type": "execute_result"
    }
   ],
   "source": [
    "best_df['user_attrs_mse_test'].mean(), best_df['user_attrs_mse_test'].sem()"
   ]
  },
  {
   "cell_type": "code",
   "execution_count": 236,
   "id": "80964bb8",
   "metadata": {},
   "outputs": [
    {
     "data": {
      "text/plain": [
       "(0.5137575420111713, 0.01727660860428159)"
      ]
     },
     "execution_count": 236,
     "metadata": {},
     "output_type": "execute_result"
    }
   ],
   "source": [
    "best_df['user_attrs_f1'].mean(), best_df['user_attrs_f1'].sem()"
   ]
  },
  {
   "cell_type": "code",
   "execution_count": 237,
   "id": "0db6d81e",
   "metadata": {},
   "outputs": [
    {
     "data": {
      "text/plain": [
       "(23.96, 1.023848947192244)"
      ]
     },
     "execution_count": 237,
     "metadata": {},
     "output_type": "execute_result"
    }
   ],
   "source": [
    "best_df['user_attrs_feature_sparsity'].mean(), best_df['user_attrs_feature_sparsity'].sem()"
   ]
  },
  {
   "cell_type": "code",
   "execution_count": 238,
   "id": "dd0de88d",
   "metadata": {},
   "outputs": [
    {
     "data": {
      "text/plain": [
       "array([32, 16, 23, 20, 16, 23, 16, 24, 28, 25, 22, 23, 17, 28, 18, 28, 27,\n",
       "       20, 26, 20, 30, 27, 30, 27, 33], dtype=object)"
      ]
     },
     "execution_count": 238,
     "metadata": {},
     "output_type": "execute_result"
    }
   ],
   "source": [
    "best_df['user_attrs_feature_sparsity'].values"
   ]
  },
  {
   "cell_type": "code",
   "execution_count": 239,
   "id": "b7007c81",
   "metadata": {},
   "outputs": [
    {
     "data": {
      "text/plain": [
       "(1.0, 0.031666666666666635)"
      ]
     },
     "execution_count": 239,
     "metadata": {},
     "output_type": "execute_result"
    }
   ],
   "source": [
    "best_df['user_attrs_tpr'].mean(), best_df['user_attrs_fpr'].mean()"
   ]
  },
  {
   "cell_type": "code",
   "execution_count": 240,
   "id": "df53be77",
   "metadata": {},
   "outputs": [
    {
     "data": {
      "text/plain": [
       "array([0, 0, 0, 0, 0, 0, 0, 0, 0, 0, 0, 0, 0, 0, 0, 0, 0, 0, 0, 0, 0, 0,\n",
       "       0, 0, 0, 0, 0, 0, 0, 0, 0, 0, 1, 0, 0, 0, 0, 0, 0, 0, 0, 0, 0, 0,\n",
       "       0, 0, 0, 0, 0, 0, 0, 0, 0, 0, 0, 0, 0, 0, 0, 0, 0, 0, 0, 0, 0, 0,\n",
       "       0, 0, 0, 0, 0, 0, 0, 0, 0, 0, 0, 0, 0, 0, 0, 0, 0, 0, 0, 0, 0, 0,\n",
       "       0, 0, 0, 0, 0, 0, 0, 0, 1, 0, 0, 0, 0, 0, 0, 0, 0, 0, 0, 0, 0, 0,\n",
       "       0, 0, 0, 0, 0, 0, 0, 0, 0, 0, 0, 0, 0, 0, 0, 0, 0, 0, 0, 0, 0, 0,\n",
       "       0, 0, 0, 0, 0, 0, 0, 0, 0, 0, 0, 0, 0, 0, 0, 0, 0, 0, 0, 0, 0, 0,\n",
       "       0, 0, 0, 0, 0, 0, 1, 0, 0, 0, 0, 0, 0, 0, 0, 0, 0, 0, 0, 0, 0, 0,\n",
       "       0, 0, 0, 0, 0, 0, 0, 0, 0, 0, 0, 0, 0, 0, 0, 0, 0, 0, 0, 0, 0, 0,\n",
       "       0, 0, 0, 0, 0, 0, 0, 0, 0, 0, 0, 0, 0, 0, 0, 0, 0, 0, 0, 0, 0, 0,\n",
       "       0, 0, 0, 0, 1, 0, 0, 0, 0, 0, 0, 0, 0, 0, 0, 0, 0, 0, 0, 0, 0, 0,\n",
       "       0, 0, 0, 0, 0, 0, 0, 0, 0, 0, 0, 0, 0, 0, 0, 0, 0, 0, 0, 0, 0, 0,\n",
       "       0, 0, 0, 0, 0, 0, 0, 0, 0, 0, 0, 0, 0, 0, 0, 0, 0, 0, 0, 0, 0, 0,\n",
       "       0, 0, 1, 0, 0, 0, 0, 0, 0, 0, 0, 0, 0, 0, 0, 0, 0, 0, 0, 0, 0, 0,\n",
       "       0, 0, 0, 0, 0, 0, 0, 0, 0, 0, 0, 0, 0, 0, 0, 0, 0, 0, 0, 0, 0, 0,\n",
       "       0, 0, 0, 0, 0, 0, 0, 0, 0, 0, 0, 0, 0, 0, 0, 0, 0, 0, 0, 0, 0, 0,\n",
       "       1, 0, 0, 0, 0, 0, 0, 0, 0, 0, 0, 0, 0, 0, 0, 0, 0, 0, 0, 0, 0, 0,\n",
       "       0, 0, 0, 0, 0, 0, 0, 0, 0, 0, 0, 0, 0, 0, 0, 0, 0, 0, 0, 0, 0, 0,\n",
       "       0, 0, 0, 0, 0, 0, 0, 0, 0, 0, 0, 0, 0, 0, 0, 0, 0, 0, 0, 0, 1, 0,\n",
       "       0, 0, 0, 0, 0, 0, 0, 0, 0, 0, 0, 0, 0, 0, 0, 0, 0, 0, 0, 0, 0, 0,\n",
       "       0, 0, 0, 0, 0, 0, 0, 0, 0, 0, 0, 0, 0, 0, 0, 0, 0, 0, 0, 0, 0, 0,\n",
       "       0, 0, 0, 0, 0, 0, 0, 0, 0, 0, 0, 0, 0, 0, 0, 0, 0, 0, 1, 0, 0, 0,\n",
       "       0, 0, 0, 0, 0, 0, 0, 0, 0, 0, 0, 0, 0, 0, 0, 0, 0, 0, 0, 0, 0, 0,\n",
       "       0, 0, 0, 0, 0, 0])"
      ]
     },
     "execution_count": 240,
     "metadata": {},
     "output_type": "execute_result"
    }
   ],
   "source": [
    "feature_support_truth = best_df['user_attrs_feature_support_truth'].str.rsplit(pat='[', n=max_features[dataset], expand=True)[1]\n",
    "feature_support_truth = feature_support_truth.str.rsplit(pat=']', n=max_features[dataset], expand=True)[0].str.replace('\\n',' ').str.strip()\n",
    "feature_support_truth = feature_support_truth.str.rsplit(pat='.', n=max_features[dataset], expand=True).iloc[:,:-1]\n",
    "feature_support_truth = feature_support_truth.astype(int)\n",
    "feature_support_truth.mean().values.astype(int)"
   ]
  },
  {
   "cell_type": "code",
   "execution_count": 241,
   "id": "00056e6e",
   "metadata": {},
   "outputs": [
    {
     "data": {
      "text/html": [
       "<div>\n",
       "<style scoped>\n",
       "    .dataframe tbody tr th:only-of-type {\n",
       "        vertical-align: middle;\n",
       "    }\n",
       "\n",
       "    .dataframe tbody tr th {\n",
       "        vertical-align: top;\n",
       "    }\n",
       "\n",
       "    .dataframe thead th {\n",
       "        text-align: right;\n",
       "    }\n",
       "</style>\n",
       "<table border=\"1\" class=\"dataframe\">\n",
       "  <thead>\n",
       "    <tr style=\"text-align: right;\">\n",
       "      <th></th>\n",
       "      <th>0</th>\n",
       "      <th>1</th>\n",
       "      <th>2</th>\n",
       "      <th>3</th>\n",
       "      <th>4</th>\n",
       "      <th>5</th>\n",
       "      <th>6</th>\n",
       "      <th>7</th>\n",
       "      <th>8</th>\n",
       "      <th>9</th>\n",
       "      <th>...</th>\n",
       "      <th>502</th>\n",
       "      <th>503</th>\n",
       "      <th>504</th>\n",
       "      <th>505</th>\n",
       "      <th>506</th>\n",
       "      <th>507</th>\n",
       "      <th>508</th>\n",
       "      <th>509</th>\n",
       "      <th>510</th>\n",
       "      <th>511</th>\n",
       "    </tr>\n",
       "  </thead>\n",
       "  <tbody>\n",
       "    <tr>\n",
       "      <th>1</th>\n",
       "      <td>0</td>\n",
       "      <td>0</td>\n",
       "      <td>0</td>\n",
       "      <td>0</td>\n",
       "      <td>0</td>\n",
       "      <td>0</td>\n",
       "      <td>0</td>\n",
       "      <td>0</td>\n",
       "      <td>0</td>\n",
       "      <td>0</td>\n",
       "      <td>...</td>\n",
       "      <td>0</td>\n",
       "      <td>0</td>\n",
       "      <td>0</td>\n",
       "      <td>0</td>\n",
       "      <td>0</td>\n",
       "      <td>0</td>\n",
       "      <td>0</td>\n",
       "      <td>0</td>\n",
       "      <td>0</td>\n",
       "      <td>0</td>\n",
       "    </tr>\n",
       "    <tr>\n",
       "      <th>2</th>\n",
       "      <td>0</td>\n",
       "      <td>0</td>\n",
       "      <td>0</td>\n",
       "      <td>0</td>\n",
       "      <td>0</td>\n",
       "      <td>0</td>\n",
       "      <td>0</td>\n",
       "      <td>0</td>\n",
       "      <td>0</td>\n",
       "      <td>0</td>\n",
       "      <td>...</td>\n",
       "      <td>0</td>\n",
       "      <td>0</td>\n",
       "      <td>0</td>\n",
       "      <td>0</td>\n",
       "      <td>0</td>\n",
       "      <td>0</td>\n",
       "      <td>0</td>\n",
       "      <td>0</td>\n",
       "      <td>0</td>\n",
       "      <td>0</td>\n",
       "    </tr>\n",
       "    <tr>\n",
       "      <th>...</th>\n",
       "      <td>...</td>\n",
       "      <td>...</td>\n",
       "      <td>...</td>\n",
       "      <td>...</td>\n",
       "      <td>...</td>\n",
       "      <td>...</td>\n",
       "      <td>...</td>\n",
       "      <td>...</td>\n",
       "      <td>...</td>\n",
       "      <td>...</td>\n",
       "      <td>...</td>\n",
       "      <td>...</td>\n",
       "      <td>...</td>\n",
       "      <td>...</td>\n",
       "      <td>...</td>\n",
       "      <td>...</td>\n",
       "      <td>...</td>\n",
       "      <td>...</td>\n",
       "      <td>...</td>\n",
       "      <td>...</td>\n",
       "      <td>...</td>\n",
       "    </tr>\n",
       "    <tr>\n",
       "      <th>24</th>\n",
       "      <td>0</td>\n",
       "      <td>0</td>\n",
       "      <td>0</td>\n",
       "      <td>0</td>\n",
       "      <td>0</td>\n",
       "      <td>0</td>\n",
       "      <td>0</td>\n",
       "      <td>0</td>\n",
       "      <td>0</td>\n",
       "      <td>0</td>\n",
       "      <td>...</td>\n",
       "      <td>0</td>\n",
       "      <td>0</td>\n",
       "      <td>0</td>\n",
       "      <td>0</td>\n",
       "      <td>0</td>\n",
       "      <td>0</td>\n",
       "      <td>0</td>\n",
       "      <td>0</td>\n",
       "      <td>0</td>\n",
       "      <td>0</td>\n",
       "    </tr>\n",
       "    <tr>\n",
       "      <th>25</th>\n",
       "      <td>0</td>\n",
       "      <td>0</td>\n",
       "      <td>0</td>\n",
       "      <td>0</td>\n",
       "      <td>0</td>\n",
       "      <td>0</td>\n",
       "      <td>0</td>\n",
       "      <td>0</td>\n",
       "      <td>0</td>\n",
       "      <td>0</td>\n",
       "      <td>...</td>\n",
       "      <td>0</td>\n",
       "      <td>0</td>\n",
       "      <td>0</td>\n",
       "      <td>0</td>\n",
       "      <td>0</td>\n",
       "      <td>0</td>\n",
       "      <td>0</td>\n",
       "      <td>0</td>\n",
       "      <td>0</td>\n",
       "      <td>0</td>\n",
       "    </tr>\n",
       "  </tbody>\n",
       "</table>\n",
       "<p>25 rows × 512 columns</p>\n",
       "</div>"
      ],
      "text/plain": [
       "    0    1    2    3    4    5    6    7    8    9    ...  502  503  504  505  \\\n",
       "1     0    0    0    0    0    0    0    0    0    0  ...    0    0    0    0   \n",
       "2     0    0    0    0    0    0    0    0    0    0  ...    0    0    0    0   \n",
       "..  ...  ...  ...  ...  ...  ...  ...  ...  ...  ...  ...  ...  ...  ...  ...   \n",
       "24    0    0    0    0    0    0    0    0    0    0  ...    0    0    0    0   \n",
       "25    0    0    0    0    0    0    0    0    0    0  ...    0    0    0    0   \n",
       "\n",
       "    506  507  508  509  510  511  \n",
       "1     0    0    0    0    0    0  \n",
       "2     0    0    0    0    0    0  \n",
       "..  ...  ...  ...  ...  ...  ...  \n",
       "24    0    0    0    0    0    0  \n",
       "25    0    0    0    0    0    0  \n",
       "\n",
       "[25 rows x 512 columns]"
      ]
     },
     "execution_count": 241,
     "metadata": {},
     "output_type": "execute_result"
    }
   ],
   "source": [
    "feature_support_truth"
   ]
  },
  {
   "cell_type": "code",
   "execution_count": 242,
   "id": "ba75b67f",
   "metadata": {},
   "outputs": [
    {
     "data": {
      "text/plain": [
       "1     [False False False False False False False Fal...\n",
       "2     [False False False False False False False Fal...\n",
       "                            ...                        \n",
       "24    [False False False False False False False Fal...\n",
       "25    [False False False False False False False Fal...\n",
       "Name: user_attrs_feature_support, Length: 25, dtype: object"
      ]
     },
     "execution_count": 242,
     "metadata": {},
     "output_type": "execute_result"
    }
   ],
   "source": [
    "best_df['user_attrs_feature_support']"
   ]
  },
  {
   "cell_type": "code",
   "execution_count": 243,
   "id": "bab7d8ec",
   "metadata": {},
   "outputs": [
    {
     "data": {
      "text/html": [
       "<div>\n",
       "<style scoped>\n",
       "    .dataframe tbody tr th:only-of-type {\n",
       "        vertical-align: middle;\n",
       "    }\n",
       "\n",
       "    .dataframe tbody tr th {\n",
       "        vertical-align: top;\n",
       "    }\n",
       "\n",
       "    .dataframe thead th {\n",
       "        text-align: right;\n",
       "    }\n",
       "</style>\n",
       "<table border=\"1\" class=\"dataframe\">\n",
       "  <thead>\n",
       "    <tr style=\"text-align: right;\">\n",
       "      <th></th>\n",
       "      <th>0</th>\n",
       "      <th>1</th>\n",
       "      <th>2</th>\n",
       "      <th>3</th>\n",
       "      <th>4</th>\n",
       "      <th>5</th>\n",
       "      <th>6</th>\n",
       "      <th>7</th>\n",
       "      <th>8</th>\n",
       "      <th>9</th>\n",
       "      <th>...</th>\n",
       "      <th>502</th>\n",
       "      <th>503</th>\n",
       "      <th>504</th>\n",
       "      <th>505</th>\n",
       "      <th>506</th>\n",
       "      <th>507</th>\n",
       "      <th>508</th>\n",
       "      <th>509</th>\n",
       "      <th>510</th>\n",
       "      <th>511</th>\n",
       "    </tr>\n",
       "  </thead>\n",
       "  <tbody>\n",
       "    <tr>\n",
       "      <th>1</th>\n",
       "      <td>False</td>\n",
       "      <td>False</td>\n",
       "      <td>False</td>\n",
       "      <td>False</td>\n",
       "      <td>False</td>\n",
       "      <td>False</td>\n",
       "      <td>False</td>\n",
       "      <td>False</td>\n",
       "      <td>False</td>\n",
       "      <td>False</td>\n",
       "      <td>...</td>\n",
       "      <td>False</td>\n",
       "      <td>False</td>\n",
       "      <td>False</td>\n",
       "      <td>False</td>\n",
       "      <td>False</td>\n",
       "      <td>False</td>\n",
       "      <td>False</td>\n",
       "      <td>False</td>\n",
       "      <td>False</td>\n",
       "      <td>False</td>\n",
       "    </tr>\n",
       "    <tr>\n",
       "      <th>2</th>\n",
       "      <td>False</td>\n",
       "      <td>False</td>\n",
       "      <td>False</td>\n",
       "      <td>False</td>\n",
       "      <td>False</td>\n",
       "      <td>False</td>\n",
       "      <td>False</td>\n",
       "      <td>False</td>\n",
       "      <td>False</td>\n",
       "      <td>False</td>\n",
       "      <td>...</td>\n",
       "      <td>False</td>\n",
       "      <td>False</td>\n",
       "      <td>False</td>\n",
       "      <td>False</td>\n",
       "      <td>False</td>\n",
       "      <td>False</td>\n",
       "      <td>False</td>\n",
       "      <td>False</td>\n",
       "      <td>False</td>\n",
       "      <td>False</td>\n",
       "    </tr>\n",
       "    <tr>\n",
       "      <th>...</th>\n",
       "      <td>...</td>\n",
       "      <td>...</td>\n",
       "      <td>...</td>\n",
       "      <td>...</td>\n",
       "      <td>...</td>\n",
       "      <td>...</td>\n",
       "      <td>...</td>\n",
       "      <td>...</td>\n",
       "      <td>...</td>\n",
       "      <td>...</td>\n",
       "      <td>...</td>\n",
       "      <td>...</td>\n",
       "      <td>...</td>\n",
       "      <td>...</td>\n",
       "      <td>...</td>\n",
       "      <td>...</td>\n",
       "      <td>...</td>\n",
       "      <td>...</td>\n",
       "      <td>...</td>\n",
       "      <td>...</td>\n",
       "      <td>...</td>\n",
       "    </tr>\n",
       "    <tr>\n",
       "      <th>24</th>\n",
       "      <td>False</td>\n",
       "      <td>False</td>\n",
       "      <td>False</td>\n",
       "      <td>False</td>\n",
       "      <td>False</td>\n",
       "      <td>False</td>\n",
       "      <td>False</td>\n",
       "      <td>False</td>\n",
       "      <td>False</td>\n",
       "      <td>False</td>\n",
       "      <td>...</td>\n",
       "      <td>False</td>\n",
       "      <td>False</td>\n",
       "      <td>False</td>\n",
       "      <td>False</td>\n",
       "      <td>False</td>\n",
       "      <td>False</td>\n",
       "      <td>True</td>\n",
       "      <td>False</td>\n",
       "      <td>False</td>\n",
       "      <td>True</td>\n",
       "    </tr>\n",
       "    <tr>\n",
       "      <th>25</th>\n",
       "      <td>False</td>\n",
       "      <td>False</td>\n",
       "      <td>False</td>\n",
       "      <td>False</td>\n",
       "      <td>False</td>\n",
       "      <td>False</td>\n",
       "      <td>False</td>\n",
       "      <td>False</td>\n",
       "      <td>False</td>\n",
       "      <td>False</td>\n",
       "      <td>...</td>\n",
       "      <td>False</td>\n",
       "      <td>False</td>\n",
       "      <td>False</td>\n",
       "      <td>False</td>\n",
       "      <td>False</td>\n",
       "      <td>False</td>\n",
       "      <td>False</td>\n",
       "      <td>False</td>\n",
       "      <td>False</td>\n",
       "      <td>True</td>\n",
       "    </tr>\n",
       "  </tbody>\n",
       "</table>\n",
       "<p>25 rows × 512 columns</p>\n",
       "</div>"
      ],
      "text/plain": [
       "      0      1      2      3      4      5      6      7      8      9    ...  \\\n",
       "1   False  False  False  False  False  False  False  False  False  False  ...   \n",
       "2   False  False  False  False  False  False  False  False  False  False  ...   \n",
       "..    ...    ...    ...    ...    ...    ...    ...    ...    ...    ...  ...   \n",
       "24  False  False  False  False  False  False  False  False  False  False  ...   \n",
       "25  False  False  False  False  False  False  False  False  False  False  ...   \n",
       "\n",
       "      502    503    504    505    506    507    508    509    510    511  \n",
       "1   False  False  False  False  False  False  False  False  False  False  \n",
       "2   False  False  False  False  False  False  False  False  False  False  \n",
       "..    ...    ...    ...    ...    ...    ...    ...    ...    ...    ...  \n",
       "24  False  False  False  False  False  False   True  False  False   True  \n",
       "25  False  False  False  False  False  False  False  False  False   True  \n",
       "\n",
       "[25 rows x 512 columns]"
      ]
     },
     "execution_count": 243,
     "metadata": {},
     "output_type": "execute_result"
    }
   ],
   "source": [
    "feature_support_recovery = best_df['user_attrs_feature_support'].str.replace('\\n','').str.strip()\n",
    "feature_support_recovery = feature_support_recovery.str.rsplit(pat='[', n=max_features[dataset], expand=True)[1].str.rsplit(pat=']', n=\n",
    "                                                                                                                            max_features[dataset], expand=True)[0].str.strip()\n",
    "feature_support_recovery = feature_support_recovery.str.replace(\"  \",\",\")\n",
    "feature_support_recovery = feature_support_recovery.str.replace(\" \",\",\")\n",
    "feature_support_recovery = feature_support_recovery.str.rsplit(pat=',', n=max_features[dataset], expand=True)\n",
    "feature_support_recovery"
   ]
  },
  {
   "cell_type": "code",
   "execution_count": 244,
   "id": "c06aa404",
   "metadata": {},
   "outputs": [
    {
     "data": {
      "text/plain": [
       "1     False\n",
       "2     False\n",
       "      ...  \n",
       "24    False\n",
       "25    False\n",
       "Name: 0, Length: 25, dtype: object"
      ]
     },
     "execution_count": 244,
     "metadata": {},
     "output_type": "execute_result"
    }
   ],
   "source": [
    "feature_support_recovery[0]"
   ]
  },
  {
   "cell_type": "code",
   "execution_count": 245,
   "id": "309aff82",
   "metadata": {},
   "outputs": [
    {
     "data": {
      "text/html": [
       "<div>\n",
       "<style scoped>\n",
       "    .dataframe tbody tr th:only-of-type {\n",
       "        vertical-align: middle;\n",
       "    }\n",
       "\n",
       "    .dataframe tbody tr th {\n",
       "        vertical-align: top;\n",
       "    }\n",
       "\n",
       "    .dataframe thead th {\n",
       "        text-align: right;\n",
       "    }\n",
       "</style>\n",
       "<table border=\"1\" class=\"dataframe\">\n",
       "  <thead>\n",
       "    <tr style=\"text-align: right;\">\n",
       "      <th></th>\n",
       "      <th>0</th>\n",
       "      <th>1</th>\n",
       "      <th>2</th>\n",
       "      <th>3</th>\n",
       "      <th>4</th>\n",
       "      <th>5</th>\n",
       "      <th>6</th>\n",
       "      <th>7</th>\n",
       "      <th>8</th>\n",
       "      <th>9</th>\n",
       "      <th>...</th>\n",
       "      <th>502</th>\n",
       "      <th>503</th>\n",
       "      <th>504</th>\n",
       "      <th>505</th>\n",
       "      <th>506</th>\n",
       "      <th>507</th>\n",
       "      <th>508</th>\n",
       "      <th>509</th>\n",
       "      <th>510</th>\n",
       "      <th>511</th>\n",
       "    </tr>\n",
       "  </thead>\n",
       "  <tbody>\n",
       "    <tr>\n",
       "      <th>1</th>\n",
       "      <td>0</td>\n",
       "      <td>0</td>\n",
       "      <td>0</td>\n",
       "      <td>0</td>\n",
       "      <td>0</td>\n",
       "      <td>0</td>\n",
       "      <td>0</td>\n",
       "      <td>0</td>\n",
       "      <td>0</td>\n",
       "      <td>0</td>\n",
       "      <td>...</td>\n",
       "      <td>0</td>\n",
       "      <td>0</td>\n",
       "      <td>0</td>\n",
       "      <td>0</td>\n",
       "      <td>0</td>\n",
       "      <td>0</td>\n",
       "      <td>0</td>\n",
       "      <td>0</td>\n",
       "      <td>0</td>\n",
       "      <td>0</td>\n",
       "    </tr>\n",
       "    <tr>\n",
       "      <th>2</th>\n",
       "      <td>0</td>\n",
       "      <td>0</td>\n",
       "      <td>0</td>\n",
       "      <td>0</td>\n",
       "      <td>0</td>\n",
       "      <td>0</td>\n",
       "      <td>0</td>\n",
       "      <td>0</td>\n",
       "      <td>0</td>\n",
       "      <td>0</td>\n",
       "      <td>...</td>\n",
       "      <td>0</td>\n",
       "      <td>0</td>\n",
       "      <td>0</td>\n",
       "      <td>0</td>\n",
       "      <td>0</td>\n",
       "      <td>0</td>\n",
       "      <td>0</td>\n",
       "      <td>0</td>\n",
       "      <td>0</td>\n",
       "      <td>0</td>\n",
       "    </tr>\n",
       "    <tr>\n",
       "      <th>...</th>\n",
       "      <td>...</td>\n",
       "      <td>...</td>\n",
       "      <td>...</td>\n",
       "      <td>...</td>\n",
       "      <td>...</td>\n",
       "      <td>...</td>\n",
       "      <td>...</td>\n",
       "      <td>...</td>\n",
       "      <td>...</td>\n",
       "      <td>...</td>\n",
       "      <td>...</td>\n",
       "      <td>...</td>\n",
       "      <td>...</td>\n",
       "      <td>...</td>\n",
       "      <td>...</td>\n",
       "      <td>...</td>\n",
       "      <td>...</td>\n",
       "      <td>...</td>\n",
       "      <td>...</td>\n",
       "      <td>...</td>\n",
       "      <td>...</td>\n",
       "    </tr>\n",
       "    <tr>\n",
       "      <th>24</th>\n",
       "      <td>0</td>\n",
       "      <td>0</td>\n",
       "      <td>0</td>\n",
       "      <td>0</td>\n",
       "      <td>0</td>\n",
       "      <td>0</td>\n",
       "      <td>0</td>\n",
       "      <td>0</td>\n",
       "      <td>0</td>\n",
       "      <td>0</td>\n",
       "      <td>...</td>\n",
       "      <td>0</td>\n",
       "      <td>0</td>\n",
       "      <td>0</td>\n",
       "      <td>0</td>\n",
       "      <td>0</td>\n",
       "      <td>0</td>\n",
       "      <td>0</td>\n",
       "      <td>0</td>\n",
       "      <td>0</td>\n",
       "      <td>0</td>\n",
       "    </tr>\n",
       "    <tr>\n",
       "      <th>25</th>\n",
       "      <td>0</td>\n",
       "      <td>0</td>\n",
       "      <td>0</td>\n",
       "      <td>0</td>\n",
       "      <td>0</td>\n",
       "      <td>0</td>\n",
       "      <td>0</td>\n",
       "      <td>0</td>\n",
       "      <td>0</td>\n",
       "      <td>0</td>\n",
       "      <td>...</td>\n",
       "      <td>0</td>\n",
       "      <td>0</td>\n",
       "      <td>0</td>\n",
       "      <td>0</td>\n",
       "      <td>0</td>\n",
       "      <td>0</td>\n",
       "      <td>0</td>\n",
       "      <td>0</td>\n",
       "      <td>0</td>\n",
       "      <td>0</td>\n",
       "    </tr>\n",
       "  </tbody>\n",
       "</table>\n",
       "<p>25 rows × 512 columns</p>\n",
       "</div>"
      ],
      "text/plain": [
       "    0    1    2    3    4    5    6    7    8    9    ...  502  503  504  505  \\\n",
       "1     0    0    0    0    0    0    0    0    0    0  ...    0    0    0    0   \n",
       "2     0    0    0    0    0    0    0    0    0    0  ...    0    0    0    0   \n",
       "..  ...  ...  ...  ...  ...  ...  ...  ...  ...  ...  ...  ...  ...  ...  ...   \n",
       "24    0    0    0    0    0    0    0    0    0    0  ...    0    0    0    0   \n",
       "25    0    0    0    0    0    0    0    0    0    0  ...    0    0    0    0   \n",
       "\n",
       "    506  507  508  509  510  511  \n",
       "1     0    0    0    0    0    0  \n",
       "2     0    0    0    0    0    0  \n",
       "..  ...  ...  ...  ...  ...  ...  \n",
       "24    0    0    0    0    0    0  \n",
       "25    0    0    0    0    0    0  \n",
       "\n",
       "[25 rows x 512 columns]"
      ]
     },
     "execution_count": 245,
     "metadata": {},
     "output_type": "execute_result"
    }
   ],
   "source": [
    "feature_support_truth"
   ]
  },
  {
   "cell_type": "code",
   "execution_count": 246,
   "id": "146d03e2",
   "metadata": {},
   "outputs": [],
   "source": [
    "feature_support_recovery = best_df['user_attrs_feature_support'].str.replace('\\n','').str.strip()\n",
    "feature_support_recovery = feature_support_recovery.str.rsplit(pat='[', n=max_features[dataset], expand=True)[1].str.rsplit(pat=']', n=max_features[dataset], expand=True)[0].str.replace('\\n','').str.strip()\n",
    "feature_support_recovery = feature_support_recovery.str.replace(\"  \",\",\")\n",
    "feature_support_recovery = feature_support_recovery.str.replace(\" \",\",\")\n",
    "feature_support_recovery = feature_support_recovery.str.rsplit(pat=',', n=max_features[dataset], expand=True)\n",
    "str2bool = {'True': 1.0, 'False': 0.0}\n",
    "for col in feature_support_recovery.columns:\n",
    "    feature_support_recovery[col] = feature_support_recovery[col].map(str2bool)\n"
   ]
  },
  {
   "cell_type": "code",
   "execution_count": 247,
   "id": "e6d6a54f",
   "metadata": {},
   "outputs": [
    {
     "data": {
      "text/plain": [
       "array([0, 0, 0, 0, 0, 0, 0, 0, 0, 0, 0, 0, 0, 0, 0, 0, 0, 0, 0, 0, 0, 0,\n",
       "       0, 0, 0, 0, 0, 0, 0, 0, 0, 0, 1, 0, 0, 0, 0, 0, 0, 0, 0, 0, 0, 0,\n",
       "       0, 0, 0, 0, 0, 0, 0, 0, 0, 0, 0, 0, 0, 0, 0, 0, 0, 0, 0, 0, 0, 0,\n",
       "       0, 0, 0, 0, 0, 0, 0, 0, 0, 0, 0, 0, 0, 0, 0, 0, 0, 0, 0, 0, 0, 0,\n",
       "       0, 0, 0, 0, 0, 0, 0, 0, 1, 0, 0, 0, 0, 0, 0, 0, 0, 0, 0, 0, 0, 0,\n",
       "       0, 0, 0, 0, 0, 0, 0, 0, 0, 0, 0, 0, 0, 0, 0, 0, 0, 0, 0, 0, 0, 0,\n",
       "       0, 0, 0, 0, 0, 0, 0, 0, 0, 0, 0, 0, 0, 0, 0, 0, 0, 0, 0, 0, 0, 0,\n",
       "       0, 0, 0, 0, 0, 0, 1, 0, 0, 0, 0, 0, 0, 0, 0, 0, 0, 0, 0, 0, 0, 0,\n",
       "       0, 0, 0, 0, 0, 0, 0, 0, 0, 0, 0, 0, 0, 0, 0, 0, 0, 0, 0, 0, 0, 0,\n",
       "       0, 0, 0, 0, 0, 0, 0, 0, 0, 0, 0, 0, 0, 0, 0, 0, 0, 0, 0, 0, 0, 0,\n",
       "       0, 0, 0, 0, 1, 0, 0, 0, 0, 0, 0, 0, 0, 0, 0, 0, 0, 0, 0, 0, 0, 0,\n",
       "       0, 0, 0, 0, 0, 0, 0, 0, 0, 0, 0, 0, 0, 0, 0, 0, 0, 0, 0, 0, 0, 0,\n",
       "       0, 0, 0, 0, 0, 0, 0, 0, 0, 0, 0, 0, 0, 0, 0, 0, 0, 0, 0, 0, 0, 0,\n",
       "       0, 0, 1, 0, 0, 0, 0, 0, 0, 0, 0, 0, 0, 0, 0, 0, 0, 0, 0, 0, 0, 0,\n",
       "       0, 0, 0, 0, 0, 0, 0, 0, 0, 0, 0, 0, 0, 0, 0, 0, 0, 0, 0, 0, 0, 0,\n",
       "       0, 0, 0, 0, 0, 0, 0, 0, 0, 0, 0, 0, 0, 0, 0, 0, 0, 0, 0, 0, 0, 0,\n",
       "       1, 0, 0, 0, 0, 0, 0, 0, 0, 0, 0, 0, 0, 0, 0, 0, 0, 0, 0, 0, 0, 0,\n",
       "       0, 0, 0, 0, 0, 0, 0, 0, 0, 0, 0, 0, 0, 0, 0, 0, 0, 0, 0, 0, 0, 0,\n",
       "       0, 0, 0, 0, 0, 0, 0, 0, 0, 0, 0, 0, 0, 0, 0, 0, 0, 0, 0, 0, 1, 0,\n",
       "       0, 0, 0, 0, 0, 0, 0, 0, 0, 0, 0, 0, 0, 0, 0, 0, 0, 0, 0, 0, 0, 0,\n",
       "       0, 0, 0, 0, 0, 0, 0, 0, 0, 0, 0, 0, 0, 0, 0, 0, 0, 0, 0, 0, 0, 0,\n",
       "       0, 0, 0, 0, 0, 0, 0, 0, 0, 0, 0, 0, 0, 0, 0, 0, 0, 0, 1, 0, 0, 0,\n",
       "       0, 0, 0, 0, 0, 0, 0, 0, 0, 0, 0, 0, 0, 0, 0, 0, 0, 0, 0, 0, 0, 0,\n",
       "       0, 0, 0, 0, 0, 0])"
      ]
     },
     "execution_count": 247,
     "metadata": {},
     "output_type": "execute_result"
    }
   ],
   "source": [
    "(feature_support_recovery.mean().values>0.5).astype(int)"
   ]
  },
  {
   "cell_type": "code",
   "execution_count": 248,
   "id": "01721311",
   "metadata": {},
   "outputs": [
    {
     "data": {
      "image/png": "[encoded data removed]",
      "text/plain": [
       "<Figure size 1200x200 with 1 Axes>"
      ]
     },
     "metadata": {},
     "output_type": "display_data"
    }
   ],
   "source": [
    "feature_support_recovery_median = feature_support_recovery.mean().values\n",
    "feature_support_recovery_median[feature_support_recovery_median==0] = np.nan\n",
    "\n",
    "\n",
    "plt.figure(figsize=(12,2))\n",
    "plt.stem(np.arange(1, max_features[dataset]+1), feature_support_recovery_median, markerfmt='b', linefmt='b', basefmt='k')\n",
    "\n",
    "feature_support_truth_median = feature_support_truth.mean().values\n",
    "feature_support_recovery_median = feature_support_recovery.mean().values\n",
    "feature_support_recovery_median[feature_support_truth_median==0] = np.nan\n",
    "plt.stem(np.arange(1, max_features[dataset]+1), feature_support_recovery_median, markerfmt='r', linefmt='r', basefmt='k')\n",
    "plt.xticks(np.where(feature_support_truth.mean().values.astype(bool))[0]+1)\n",
    "plt.yticks([0,1])\n",
    "plt.xlabel(\"Features\")\n",
    "plt.savefig(f\"./Figures/features_selected_{method}_sigma_{sigma}_p_{max_features[dataset]}_train_size{train_size}.pdf\", bbox_inches='tight')\n",
    "plt.show()\n"
   ]
  },
  {
   "cell_type": "code",
   "execution_count": 204,
   "id": "a3b99384",
   "metadata": {},
   "outputs": [
    {
     "data": {
      "text/html": [
       "<div>\n",
       "<style scoped>\n",
       "    .dataframe tbody tr th:only-of-type {\n",
       "        vertical-align: middle;\n",
       "    }\n",
       "\n",
       "    .dataframe tbody tr th {\n",
       "        vertical-align: top;\n",
       "    }\n",
       "\n",
       "    .dataframe thead th {\n",
       "        text-align: right;\n",
       "    }\n",
       "</style>\n",
       "<table border=\"1\" class=\"dataframe\">\n",
       "  <thead>\n",
       "    <tr style=\"text-align: right;\">\n",
       "      <th></th>\n",
       "      <th>0</th>\n",
       "      <th>1</th>\n",
       "      <th>2</th>\n",
       "      <th>3</th>\n",
       "      <th>4</th>\n",
       "      <th>5</th>\n",
       "      <th>6</th>\n",
       "      <th>7</th>\n",
       "      <th>8</th>\n",
       "      <th>9</th>\n",
       "      <th>...</th>\n",
       "      <th>502</th>\n",
       "      <th>503</th>\n",
       "      <th>504</th>\n",
       "      <th>505</th>\n",
       "      <th>506</th>\n",
       "      <th>507</th>\n",
       "      <th>508</th>\n",
       "      <th>509</th>\n",
       "      <th>510</th>\n",
       "      <th>511</th>\n",
       "    </tr>\n",
       "  </thead>\n",
       "  <tbody>\n",
       "    <tr>\n",
       "      <th>1</th>\n",
       "      <td>0.0</td>\n",
       "      <td>0.0</td>\n",
       "      <td>0.0</td>\n",
       "      <td>0.0</td>\n",
       "      <td>0.0</td>\n",
       "      <td>0.0</td>\n",
       "      <td>0.0</td>\n",
       "      <td>0.0</td>\n",
       "      <td>0.0</td>\n",
       "      <td>0.0</td>\n",
       "      <td>...</td>\n",
       "      <td>0.0</td>\n",
       "      <td>0.0</td>\n",
       "      <td>0.0</td>\n",
       "      <td>0.0</td>\n",
       "      <td>0.0</td>\n",
       "      <td>0.0</td>\n",
       "      <td>0.0</td>\n",
       "      <td>0.0</td>\n",
       "      <td>0.0</td>\n",
       "      <td>0.0</td>\n",
       "    </tr>\n",
       "    <tr>\n",
       "      <th>2</th>\n",
       "      <td>0.0</td>\n",
       "      <td>0.0</td>\n",
       "      <td>0.0</td>\n",
       "      <td>0.0</td>\n",
       "      <td>0.0</td>\n",
       "      <td>0.0</td>\n",
       "      <td>0.0</td>\n",
       "      <td>0.0</td>\n",
       "      <td>0.0</td>\n",
       "      <td>0.0</td>\n",
       "      <td>...</td>\n",
       "      <td>0.0</td>\n",
       "      <td>0.0</td>\n",
       "      <td>0.0</td>\n",
       "      <td>0.0</td>\n",
       "      <td>0.0</td>\n",
       "      <td>0.0</td>\n",
       "      <td>0.0</td>\n",
       "      <td>0.0</td>\n",
       "      <td>0.0</td>\n",
       "      <td>0.0</td>\n",
       "    </tr>\n",
       "    <tr>\n",
       "      <th>...</th>\n",
       "      <td>...</td>\n",
       "      <td>...</td>\n",
       "      <td>...</td>\n",
       "      <td>...</td>\n",
       "      <td>...</td>\n",
       "      <td>...</td>\n",
       "      <td>...</td>\n",
       "      <td>...</td>\n",
       "      <td>...</td>\n",
       "      <td>...</td>\n",
       "      <td>...</td>\n",
       "      <td>...</td>\n",
       "      <td>...</td>\n",
       "      <td>...</td>\n",
       "      <td>...</td>\n",
       "      <td>...</td>\n",
       "      <td>...</td>\n",
       "      <td>...</td>\n",
       "      <td>...</td>\n",
       "      <td>...</td>\n",
       "      <td>...</td>\n",
       "    </tr>\n",
       "    <tr>\n",
       "      <th>24</th>\n",
       "      <td>1.0</td>\n",
       "      <td>1.0</td>\n",
       "      <td>1.0</td>\n",
       "      <td>1.0</td>\n",
       "      <td>1.0</td>\n",
       "      <td>1.0</td>\n",
       "      <td>0.0</td>\n",
       "      <td>1.0</td>\n",
       "      <td>1.0</td>\n",
       "      <td>1.0</td>\n",
       "      <td>...</td>\n",
       "      <td>0.0</td>\n",
       "      <td>0.0</td>\n",
       "      <td>0.0</td>\n",
       "      <td>0.0</td>\n",
       "      <td>0.0</td>\n",
       "      <td>0.0</td>\n",
       "      <td>0.0</td>\n",
       "      <td>0.0</td>\n",
       "      <td>0.0</td>\n",
       "      <td>0.0</td>\n",
       "    </tr>\n",
       "    <tr>\n",
       "      <th>25</th>\n",
       "      <td>0.0</td>\n",
       "      <td>0.0</td>\n",
       "      <td>0.0</td>\n",
       "      <td>0.0</td>\n",
       "      <td>0.0</td>\n",
       "      <td>0.0</td>\n",
       "      <td>0.0</td>\n",
       "      <td>0.0</td>\n",
       "      <td>0.0</td>\n",
       "      <td>0.0</td>\n",
       "      <td>...</td>\n",
       "      <td>0.0</td>\n",
       "      <td>0.0</td>\n",
       "      <td>0.0</td>\n",
       "      <td>0.0</td>\n",
       "      <td>0.0</td>\n",
       "      <td>0.0</td>\n",
       "      <td>0.0</td>\n",
       "      <td>0.0</td>\n",
       "      <td>0.0</td>\n",
       "      <td>0.0</td>\n",
       "    </tr>\n",
       "  </tbody>\n",
       "</table>\n",
       "<p>25 rows × 512 columns</p>\n",
       "</div>"
      ],
      "text/plain": [
       "    0    1    2    3    4    5    6    7    8    9    ...  502  503  504  505  \\\n",
       "1   0.0  0.0  0.0  0.0  0.0  0.0  0.0  0.0  0.0  0.0  ...  0.0  0.0  0.0  0.0   \n",
       "2   0.0  0.0  0.0  0.0  0.0  0.0  0.0  0.0  0.0  0.0  ...  0.0  0.0  0.0  0.0   \n",
       "..  ...  ...  ...  ...  ...  ...  ...  ...  ...  ...  ...  ...  ...  ...  ...   \n",
       "24  1.0  1.0  1.0  1.0  1.0  1.0  0.0  1.0  1.0  1.0  ...  0.0  0.0  0.0  0.0   \n",
       "25  0.0  0.0  0.0  0.0  0.0  0.0  0.0  0.0  0.0  0.0  ...  0.0  0.0  0.0  0.0   \n",
       "\n",
       "    506  507  508  509  510  511  \n",
       "1   0.0  0.0  0.0  0.0  0.0  0.0  \n",
       "2   0.0  0.0  0.0  0.0  0.0  0.0  \n",
       "..  ...  ...  ...  ...  ...  ...  \n",
       "24  0.0  0.0  0.0  0.0  0.0  0.0  \n",
       "25  0.0  0.0  0.0  0.0  0.0  0.0  \n",
       "\n",
       "[25 rows x 512 columns]"
      ]
     },
     "execution_count": 204,
     "metadata": {},
     "output_type": "execute_result"
    }
   ],
   "source": [
    "feature_support_recovery"
   ]
  },
  {
   "cell_type": "code",
   "execution_count": 132,
   "id": "13976b7c",
   "metadata": {},
   "outputs": [
    {
     "data": {
      "text/plain": [
       "array([0.04, 0.04, 0.04, 0.04, 0.04, 0.04, 0.04, 0.04, 0.04, 0.04, 0.04,\n",
       "       0.04, 0.04, 0.04, 0.08, 0.04, 0.08, 0.12, 0.08, 0.04, 0.08, 0.08,\n",
       "       0.04, 0.04, 0.08, 0.12, 0.08, 0.08, 0.08, 0.04, 0.08, 0.28, 0.48,\n",
       "       0.24, 0.08, 0.16, 0.16, 0.08, 0.04, 0.16, 0.12, 0.04, 0.04, 0.08,\n",
       "       0.08, 0.16, 0.16, 0.16, 0.12, 0.12, 0.2 , 0.16, 0.16, 0.08, 0.16,\n",
       "       0.08, 0.04, 0.12, 0.12, 0.16, 0.08, 0.16, 0.16, 0.12, 0.08, 0.16,\n",
       "       0.12, 0.12, 0.08, 0.08, 0.08, 0.08, 0.08, 0.16, 0.08, 0.12, 0.2 ,\n",
       "       0.12, 0.2 , 0.16, 0.16, 0.12, 0.12, 0.16, 0.16, 0.16, 0.08, 0.04,\n",
       "       0.12, 0.2 , 0.04, 0.04, 0.08, 0.16, 0.32, 0.2 , 0.64, 0.24, 0.28,\n",
       "       0.2 , 0.2 , 0.12, 0.16, 0.12, 0.12, 0.04, 0.08, 0.2 , 0.12, 0.04,\n",
       "       0.12, 0.16, 0.16, 0.24, 0.08, 0.16, 0.2 , 0.08, 0.08, 0.16, 0.08,\n",
       "       0.24, 0.2 , 0.16, 0.16, 0.2 , 0.2 , 0.24, 0.12, 0.2 , 0.16, 0.16,\n",
       "       0.04, 0.16, 0.16, 0.12, 0.12, 0.16, 0.08, 0.2 , 0.08, 0.08, 0.2 ,\n",
       "       0.24, 0.2 , 0.12, 0.16, 0.24, 0.12, 0.2 , 0.04, 0.12, 0.16, 0.08,\n",
       "       0.12, 0.12, 0.08, 0.08, 0.2 , 0.2 , 0.64, 0.32, 0.2 , 0.4 , 0.2 ,\n",
       "       0.24, 0.16, 0.  , 0.08, 0.2 , 0.16, 0.12, 0.16, 0.12, 0.12, 0.2 ,\n",
       "       0.16, 0.16, 0.12, 0.16, 0.16, 0.04, 0.2 , 0.16, 0.16, 0.16, 0.08,\n",
       "       0.04, 0.08, 0.08, 0.16, 0.12, 0.2 , 0.2 , 0.16, 0.12, 0.2 , 0.2 ,\n",
       "       0.08, 0.04, 0.24, 0.08, 0.32, 0.28, 0.12, 0.12, 0.08, 0.12, 0.2 ,\n",
       "       0.16, 0.32, 0.12, 0.2 , 0.04, 0.16, 0.2 , 0.16, 0.16, 0.24, 0.16,\n",
       "       0.12, 0.24, 0.16, 0.28, 0.72, 0.4 , 0.32, 0.08, 0.12, 0.12, 0.12,\n",
       "       0.16, 0.04, 0.16, 0.24, 0.08, 0.12, 0.12, 0.04, 0.12, 0.16, 0.24,\n",
       "       0.16, 0.12, 0.08, 0.12, 0.08, 0.24, 0.08, 0.2 , 0.12, 0.12, 0.2 ,\n",
       "       0.12, 0.16, 0.08, 0.24, 0.12, 0.12, 0.12, 0.16, 0.2 , 0.04, 0.16,\n",
       "       0.08, 0.16, 0.2 , 0.12, 0.08, 0.08, 0.12, 0.2 , 0.28, 0.24, 0.12,\n",
       "       0.08, 0.08, 0.08, 0.12, 0.16, 0.08, 0.08, 0.24, 0.12, 0.2 , 0.2 ,\n",
       "       0.36, 0.28, 0.72, 0.4 , 0.16, 0.28, 0.24, 0.2 , 0.2 , 0.16, 0.04,\n",
       "       0.16, 0.2 , 0.2 , 0.08, 0.12, 0.16, 0.2 , 0.04, 0.16, 0.04, 0.2 ,\n",
       "       0.16, 0.16, 0.08, 0.12, 0.12, 0.08, 0.08, 0.16, 0.24, 0.16, 0.24,\n",
       "       0.16, 0.04, 0.16, 0.12, 0.08, 0.04, 0.12, 0.16, 0.16, 0.04, 0.  ,\n",
       "       0.12, 0.12, 0.16, 0.08, 0.12, 0.12, 0.2 , 0.24, 0.2 , 0.16, 0.04,\n",
       "       0.28, 0.  , 0.12, 0.08, 0.12, 0.16, 0.08, 0.24, 0.24, 0.28, 0.24,\n",
       "       0.88, 0.44, 0.32, 0.2 , 0.28, 0.12, 0.08, 0.08, 0.08, 0.08, 0.04,\n",
       "       0.08, 0.12, 0.08, 0.04, 0.12, 0.12, 0.12, 0.2 , 0.16, 0.16, 0.12,\n",
       "       0.12, 0.16, 0.2 , 0.16, 0.12, 0.08, 0.12, 0.2 , 0.12, 0.2 , 0.32,\n",
       "       0.2 , 0.24, 0.04, 0.2 , 0.2 , 0.08, 0.16, 0.16, 0.08, 0.16, 0.12,\n",
       "       0.16, 0.12, 0.08, 0.16, 0.12, 0.2 , 0.08, 0.12, 0.24, 0.08, 0.16,\n",
       "       0.16, 0.08, 0.04, 0.24, 0.12, 0.12, 0.32, 0.4 , 0.52, 0.72, 0.32,\n",
       "       0.2 , 0.24, 0.2 , 0.08, 0.28, 0.12, 0.08, 0.08, 0.2 , 0.24, 0.2 ,\n",
       "       0.2 , 0.12, 0.16, 0.08, 0.24, 0.12, 0.16, 0.2 , 0.  , 0.04, 0.2 ,\n",
       "       0.2 , 0.24, 0.2 , 0.08, 0.12, 0.12, 0.16, 0.08, 0.16, 0.24, 0.12,\n",
       "       0.24, 0.16, 0.2 , 0.2 , 0.08, 0.08, 0.08, 0.08, 0.2 , 0.2 , 0.12,\n",
       "       0.2 , 0.2 , 0.16, 0.16, 0.04, 0.04, 0.16, 0.16, 0.04, 0.08, 0.28,\n",
       "       0.2 , 0.12, 0.24, 0.24, 0.08, 0.32, 0.28, 0.76, 0.56, 0.2 , 0.28,\n",
       "       0.24, 0.08, 0.2 , 0.16, 0.12, 0.04, 0.04, 0.08, 0.16, 0.12, 0.32,\n",
       "       0.12, 0.12, 0.2 , 0.04, 0.04, 0.16, 0.12, 0.08, 0.2 , 0.08, 0.16,\n",
       "       0.12, 0.24, 0.24, 0.28, 0.28, 0.08])"
      ]
     },
     "execution_count": 132,
     "metadata": {},
     "output_type": "execute_result"
    }
   ],
   "source": [
    "feature_support_recovery.mean().values"
   ]
  },
  {
   "cell_type": "code",
   "execution_count": 133,
   "id": "fabce613",
   "metadata": {},
   "outputs": [
    {
     "data": {
      "text/plain": [
       "array([0, 0, 0, 0, 0, 0, 0, 0, 0, 0, 0, 0, 0, 0, 0, 0, 0, 0, 0, 0, 0, 0,\n",
       "       0, 0, 0, 0, 0, 0, 0, 0, 0, 0, 1, 0, 0, 0, 0, 0, 0, 0, 0, 0, 0, 0,\n",
       "       0, 0, 0, 0, 0, 0, 0, 0, 0, 0, 0, 0, 0, 0, 0, 0, 0, 0, 0, 0, 0, 0,\n",
       "       0, 0, 0, 0, 0, 0, 0, 0, 0, 0, 0, 0, 0, 0, 0, 0, 0, 0, 0, 0, 0, 0,\n",
       "       0, 0, 0, 0, 0, 0, 0, 0, 1, 0, 0, 0, 0, 0, 0, 0, 0, 0, 0, 0, 0, 0,\n",
       "       0, 0, 0, 0, 0, 0, 0, 0, 0, 0, 0, 0, 0, 0, 0, 0, 0, 0, 0, 0, 0, 0,\n",
       "       0, 0, 0, 0, 0, 0, 0, 0, 0, 0, 0, 0, 0, 0, 0, 0, 0, 0, 0, 0, 0, 0,\n",
       "       0, 0, 0, 0, 0, 0, 1, 0, 0, 0, 0, 0, 0, 0, 0, 0, 0, 0, 0, 0, 0, 0,\n",
       "       0, 0, 0, 0, 0, 0, 0, 0, 0, 0, 0, 0, 0, 0, 0, 0, 0, 0, 0, 0, 0, 0,\n",
       "       0, 0, 0, 0, 0, 0, 0, 0, 0, 0, 0, 0, 0, 0, 0, 0, 0, 0, 0, 0, 0, 0,\n",
       "       0, 0, 0, 0, 1, 0, 0, 0, 0, 0, 0, 0, 0, 0, 0, 0, 0, 0, 0, 0, 0, 0,\n",
       "       0, 0, 0, 0, 0, 0, 0, 0, 0, 0, 0, 0, 0, 0, 0, 0, 0, 0, 0, 0, 0, 0,\n",
       "       0, 0, 0, 0, 0, 0, 0, 0, 0, 0, 0, 0, 0, 0, 0, 0, 0, 0, 0, 0, 0, 0,\n",
       "       0, 0, 1, 0, 0, 0, 0, 0, 0, 0, 0, 0, 0, 0, 0, 0, 0, 0, 0, 0, 0, 0,\n",
       "       0, 0, 0, 0, 0, 0, 0, 0, 0, 0, 0, 0, 0, 0, 0, 0, 0, 0, 0, 0, 0, 0,\n",
       "       0, 0, 0, 0, 0, 0, 0, 0, 0, 0, 0, 0, 0, 0, 0, 0, 0, 0, 0, 0, 0, 0,\n",
       "       1, 0, 0, 0, 0, 0, 0, 0, 0, 0, 0, 0, 0, 0, 0, 0, 0, 0, 0, 0, 0, 0,\n",
       "       0, 0, 0, 0, 0, 0, 0, 0, 0, 0, 0, 0, 0, 0, 0, 0, 0, 0, 0, 0, 0, 0,\n",
       "       0, 0, 0, 0, 0, 0, 0, 0, 0, 0, 0, 0, 0, 0, 0, 0, 0, 0, 0, 0, 1, 0,\n",
       "       0, 0, 0, 0, 0, 0, 0, 0, 0, 0, 0, 0, 0, 0, 0, 0, 0, 0, 0, 0, 0, 0,\n",
       "       0, 0, 0, 0, 0, 0, 0, 0, 0, 0, 0, 0, 0, 0, 0, 0, 0, 0, 0, 0, 0, 0,\n",
       "       0, 0, 0, 0, 0, 0, 0, 0, 0, 0, 0, 0, 0, 0, 0, 0, 0, 0, 1, 0, 0, 0,\n",
       "       0, 0, 0, 0, 0, 0, 0, 0, 0, 0, 0, 0, 0, 0, 0, 0, 0, 0, 0, 0, 0, 0,\n",
       "       0, 0, 0, 0, 0, 0])"
      ]
     },
     "execution_count": 133,
     "metadata": {},
     "output_type": "execute_result"
    }
   ],
   "source": [
    "feature_support_truth.mean().values.astype(int)"
   ]
  },
  {
   "cell_type": "code",
   "execution_count": 134,
   "id": "d3741c44",
   "metadata": {},
   "outputs": [
    {
     "data": {
      "text/plain": [
       "array([0, 0, 0, 0, 0, 0, 0, 0, 0, 0, 0, 0, 0, 0, 0, 0, 0, 0, 0, 0, 0, 0,\n",
       "       0, 0, 0, 0, 0, 0, 0, 0, 0, 0, 0, 0, 0, 0, 0, 0, 0, 0, 0, 0, 0, 0,\n",
       "       0, 0, 0, 0, 0, 0, 0, 0, 0, 0, 0, 0, 0, 0, 0, 0, 0, 0, 0, 0, 0, 0,\n",
       "       0, 0, 0, 0, 0, 0, 0, 0, 0, 0, 0, 0, 0, 0, 0, 0, 0, 0, 0, 0, 0, 0,\n",
       "       0, 0, 0, 0, 0, 0, 0, 0, 1, 0, 0, 0, 0, 0, 0, 0, 0, 0, 0, 0, 0, 0,\n",
       "       0, 0, 0, 0, 0, 0, 0, 0, 0, 0, 0, 0, 0, 0, 0, 0, 0, 0, 0, 0, 0, 0,\n",
       "       0, 0, 0, 0, 0, 0, 0, 0, 0, 0, 0, 0, 0, 0, 0, 0, 0, 0, 0, 0, 0, 0,\n",
       "       0, 0, 0, 0, 0, 0, 1, 0, 0, 0, 0, 0, 0, 0, 0, 0, 0, 0, 0, 0, 0, 0,\n",
       "       0, 0, 0, 0, 0, 0, 0, 0, 0, 0, 0, 0, 0, 0, 0, 0, 0, 0, 0, 0, 0, 0,\n",
       "       0, 0, 0, 0, 0, 0, 0, 0, 0, 0, 0, 0, 0, 0, 0, 0, 0, 0, 0, 0, 0, 0,\n",
       "       0, 0, 0, 0, 1, 0, 0, 0, 0, 0, 0, 0, 0, 0, 0, 0, 0, 0, 0, 0, 0, 0,\n",
       "       0, 0, 0, 0, 0, 0, 0, 0, 0, 0, 0, 0, 0, 0, 0, 0, 0, 0, 0, 0, 0, 0,\n",
       "       0, 0, 0, 0, 0, 0, 0, 0, 0, 0, 0, 0, 0, 0, 0, 0, 0, 0, 0, 0, 0, 0,\n",
       "       0, 0, 1, 0, 0, 0, 0, 0, 0, 0, 0, 0, 0, 0, 0, 0, 0, 0, 0, 0, 0, 0,\n",
       "       0, 0, 0, 0, 0, 0, 0, 0, 0, 0, 0, 0, 0, 0, 0, 0, 0, 0, 0, 0, 0, 0,\n",
       "       0, 0, 0, 0, 0, 0, 0, 0, 0, 0, 0, 0, 0, 0, 0, 0, 0, 0, 0, 0, 0, 0,\n",
       "       1, 0, 0, 0, 0, 0, 0, 0, 0, 0, 0, 0, 0, 0, 0, 0, 0, 0, 0, 0, 0, 0,\n",
       "       0, 0, 0, 0, 0, 0, 0, 0, 0, 0, 0, 0, 0, 0, 0, 0, 0, 0, 0, 0, 0, 0,\n",
       "       0, 0, 0, 0, 0, 0, 0, 0, 0, 0, 0, 0, 0, 0, 0, 0, 0, 0, 0, 1, 1, 0,\n",
       "       0, 0, 0, 0, 0, 0, 0, 0, 0, 0, 0, 0, 0, 0, 0, 0, 0, 0, 0, 0, 0, 0,\n",
       "       0, 0, 0, 0, 0, 0, 0, 0, 0, 0, 0, 0, 0, 0, 0, 0, 0, 0, 0, 0, 0, 0,\n",
       "       0, 0, 0, 0, 0, 0, 0, 0, 0, 0, 0, 0, 0, 0, 0, 0, 0, 0, 1, 1, 0, 0,\n",
       "       0, 0, 0, 0, 0, 0, 0, 0, 0, 0, 0, 0, 0, 0, 0, 0, 0, 0, 0, 0, 0, 0,\n",
       "       0, 0, 0, 0, 0, 0])"
      ]
     },
     "execution_count": 134,
     "metadata": {},
     "output_type": "execute_result"
    }
   ],
   "source": [
    "(feature_support_recovery.mean().values>0.5).astype(int)"
   ]
  },
  {
   "cell_type": "code",
   "execution_count": 135,
   "id": "c3f6d5e0",
   "metadata": {},
   "outputs": [
    {
     "data": {
      "text/plain": [
       "array([0.48, 0.64, 0.64, 0.72, 0.72, 0.88, 0.72, 0.76])"
      ]
     },
     "execution_count": 135,
     "metadata": {},
     "output_type": "execute_result"
    }
   ],
   "source": [
    "feature_support_recovery.mean().values[feature_support_truth.mean().values.astype(bool)]"
   ]
  },
  {
   "cell_type": "code",
   "execution_count": 136,
   "id": "e71252e5",
   "metadata": {},
   "outputs": [
    {
     "data": {
      "text/plain": [
       "0.14595238095238094"
      ]
     },
     "execution_count": 136,
     "metadata": {},
     "output_type": "execute_result"
    }
   ],
   "source": [
    "feature_support_recovery.mean().values[~(feature_support_truth.mean().values.astype(bool))].mean()"
   ]
  },
  {
   "cell_type": "code",
   "execution_count": null,
   "id": "51970b75",
   "metadata": {},
   "outputs": [],
   "source": []
  },
  {
   "cell_type": "code",
   "execution_count": 137,
   "id": "48e6259e",
   "metadata": {},
   "outputs": [
    {
     "name": "stdout",
     "output_type": "stream",
     "text": [
      "Number of total trials: 500\n"
     ]
    },
    {
     "ename": "NameError",
     "evalue": "name 'data' is not defined",
     "output_type": "error",
     "traceback": [
      "\u001b[0;31m---------------------------------------------------------------------------\u001b[0m",
      "\u001b[0;31mNameError\u001b[0m                                 Traceback (most recent call last)",
      "Cell \u001b[0;32mIn[137], line 2\u001b[0m\n\u001b[1;32m      1\u001b[0m \u001b[38;5;28mprint\u001b[39m(\u001b[38;5;124m\"\u001b[39m\u001b[38;5;124mNumber of total trials:\u001b[39m\u001b[38;5;124m\"\u001b[39m, df\u001b[38;5;241m.\u001b[39mshape[\u001b[38;5;241m0\u001b[39m])\n\u001b[0;32m----> 2\u001b[0m \u001b[38;5;28mprint\u001b[39m(\u001b[38;5;124m\"\u001b[39m\u001b[38;5;124mMax number of features:\u001b[39m\u001b[38;5;124m\"\u001b[39m, max_features[\u001b[43mdata\u001b[49m])\n\u001b[1;32m      3\u001b[0m df \u001b[38;5;241m=\u001b[39m df[(df[\u001b[38;5;124m\"\u001b[39m\u001b[38;5;124muser_attrs_feature_sparsity\u001b[39m\u001b[38;5;124m\"\u001b[39m]\u001b[38;5;241m<\u001b[39m\u001b[38;5;241m=\u001b[39mbudget\u001b[38;5;241m*\u001b[39mmax_features[data])\u001b[38;5;241m&\u001b[39m(df[\u001b[38;5;124m\"\u001b[39m\u001b[38;5;124muser_attrs_feature_sparsity\u001b[39m\u001b[38;5;124m\"\u001b[39m]\u001b[38;5;241m>\u001b[39m\u001b[38;5;241m0\u001b[39m)]\n\u001b[1;32m      4\u001b[0m \u001b[38;5;28mprint\u001b[39m(\u001b[38;5;124m\"\u001b[39m\u001b[38;5;124mNumber of trials satisfying the feature sparsity budget:\u001b[39m\u001b[38;5;124m\"\u001b[39m, df\u001b[38;5;241m.\u001b[39mshape[\u001b[38;5;241m0\u001b[39m])\n",
      "\u001b[0;31mNameError\u001b[0m: name 'data' is not defined"
     ]
    }
   ],
   "source": [
    "    print(\"Number of total trials:\", df.shape[0])\n",
    "    print(\"Max number of features:\", max_features[data])\n",
    "    df = df[(df[\"user_attrs_feature_sparsity\"]<=budget*max_features[data])&(df[\"user_attrs_feature_sparsity\"]>0)]\n",
    "    print(\"Number of trials satisfying the feature sparsity budget:\", df.shape[0])\n",
    "    df = df.sort_values(by=[\"user_attrs_\"+criteria+\"_valid\"], ascending=False)\n",
    "    best_value = df[\"user_attrs_\"+criteria+\"_valid\"].values[0]\n",
    "    df_opt = df[df[\"user_attrs_\"+criteria+\"_valid\"]==best_value]\n",
    "\n",
    "    df_opt = df_opt.sort_values(by='user_attrs_feature_sparsity')\n",
    "    if criteria=='auc':\n",
    "        print(\"valid_auc:\", df_opt.user_attrs_auc_valid.mean())\n",
    "        print(\"test_auc:\", df_opt.user_attrs_auc_test.mean())\n",
    "        print(\"test_aucs:\", df_opt.user_attrs_auc_test.values)\n",
    "    elif criteria=='accuracy':\n",
    "        print(\"valid_accuracy:\", df_opt.user_attrs_accuracy_valid.mean())\n",
    "        print(\"test_accuracy:\", df_opt.user_attrs_accuracy_test.mean())\n",
    "        print(\"test_accuracies:\", df_opt.user_attrs_accuracy_test.values)\n",
    "    print(\"sparsity:\", df_opt.user_attrs_feature_sparsity.values)\n",
    "    print(\"Mean sparsity:\", df_opt.user_attrs_approximate_feature_sparsity.mean())\n",
    "#     print(\"Approx sparsity:\", df_opt.user_attrs_approximate_feature_sparsity.values)\n",
    "#     print(\"Mean approx sparsity:\", df_opt.user_attrs_feature_sparsity.mean())\n",
    "    print(\"Batch-sizes:\", df_opt.params_constant_batch_size.values*df_opt.params_batch_size_scaler.values)\n",
    "    print(\"Epochs:\", df_opt.user_attrs_num_epochs.values)\n",
    "    print(\"Depth:\", df_opt.params_depth.values)\n",
    "    print(\"Number of Trees:\", df_opt.params_num_trees.values)\n",
    "    if \"params_kernel_constraint\" in df_opt.columns:\n",
    "        print(\"L1/L0:\", df_opt.params_kernel_constraint.values)\n",
    "    if \"params_kernel_l2\" in df_opt.columns:\n",
    "        print(\"L2:\", df_opt.params_kernel_l2.values)\n",
    "    if \"params_temperature\" in df_opt.columns:\n",
    "        print(\"T:\", df_opt.params_temperature.values)\n"
   ]
  },
  {
   "cell_type": "code",
   "execution_count": null,
   "id": "c58fda52",
   "metadata": {},
   "outputs": [],
   "source": [
    "df_opt"
   ]
  },
  {
   "cell_type": "code",
   "execution_count": null,
   "id": "ae6d3a5e",
   "metadata": {},
   "outputs": [],
   "source": [
    "df.shape"
   ]
  },
  {
   "cell_type": "code",
   "execution_count": null,
   "id": "a67a2435",
   "metadata": {},
   "outputs": [],
   "source": [
    "pd.to_timedelta(df['duration']).mean()"
   ]
  },
  {
   "cell_type": "code",
   "execution_count": null,
   "id": "9db263db",
   "metadata": {},
   "outputs": [],
   "source": [
    "df.duration.mean()"
   ]
  },
  {
   "cell_type": "code",
   "execution_count": null,
   "id": "733aac27",
   "metadata": {},
   "outputs": [],
   "source": [
    "data = 'dorothea'\n",
    "max_features = {\n",
    "    'hypothyroid': 44,\n",
    "    'spambase': 57,\n",
    "    'churn': 33,\n",
    "    'twonorm': 20,\n",
    "    'optdigits': 108,\n",
    "    'satimage': 36,\n",
    "    'texture': 40,\n",
    "    'mice-protein': 77,\n",
    "    'isolet': 617,\n",
    "    'human-activity-recognition': 561,\n",
    "    'mnist': 784,\n",
    "    'fashion-mnist': 784,\n",
    "    'sleep': 231,\n",
    "    'gisette': 5000,\n",
    "    'madelon': 500,\n",
    "    'dorothea': 100000\n",
    "}"
   ]
  },
  {
   "cell_type": "code",
   "execution_count": null,
   "id": "ac1b84f9",
   "metadata": {},
   "outputs": [],
   "source": [
    "sparsities = ['none']\n",
    "annealing = [False]\n",
    "learning_rate_scheduling = [False]\n",
    "# sparsities = ['GroupL0L2']\n",
    "# annealing = [False]\n",
    "# learning_rate_scheduling = [False]\n",
    "criteria = 'auc'\n",
    "tuning_seeds = [0,1,2,3]\n",
    "\n",
    "for sparsity, anneal, lr_schedule in zip(sparsities, annealing, learning_rate_scheduling):\n",
    "    print(\"=============Sparsity:{}, ======== Anneal:{} ====== LR Schedule:{}\".format(sparsity, anneal, lr_schedule))\n",
    "\n",
    "    df = pd.DataFrame()\n",
    "    for tuning_seed in tuning_seeds:\n",
    "        path = \"./logs/soft_trees/publicdata/{}/{}/cross-entropy/17.{}/study-shared-sigmoid-{}\".format(data, sparsity, tuning_seed, sparsity)\n",
    "        if anneal:\n",
    "            path = path+\"-anneal\"\n",
    "        if lr_schedule:\n",
    "            path = path+\"-learning_rate_scheduling\"\n",
    "        path = path+\"-seed8.csv\"\n",
    "        try:\n",
    "            df_temp = pd.read_csv(path)\n",
    "        except:\n",
    "            print(\"Missing:\", path)\n",
    "            continue\n",
    "        df = pd.concat([df,df_temp],axis=0)\n",
    "        df.index = np.arange(len(df))\n",
    "    print(\"Number of total trials:\", df.shape[0])\n",
    "    print(\"Max number of features:\", max_features[data])\n",
    "    print(\"Number of trials satisfying the feature sparsity budget:\", df.shape[0])\n",
    "    df = df.sort_values(by=[\"user_attrs_\"+criteria+\"_valid\"], ascending=False)\n",
    "    best_value = df[\"user_attrs_\"+criteria+\"_valid\"].values[0]\n",
    "    df_opt = df[df[\"user_attrs_\"+criteria+\"_valid\"]==best_value]\n",
    "\n",
    "    df_opt = df_opt.sort_values(by='user_attrs_feature_sparsity')\n",
    "    if criteria=='auc':\n",
    "        print(\"valid_auc:\", df_opt.user_attrs_auc_valid.mean())\n",
    "        print(\"test_auc:\", df_opt.user_attrs_auc_test.mean())\n",
    "        print(\"test_aucs:\", df_opt.user_attrs_auc_test.values)\n",
    "    elif criteria=='accuracy':\n",
    "        print(\"valid_accuracy:\", df_opt.user_attrs_accuracy_valid.mean())\n",
    "        print(\"test_accuracy:\", df_opt.user_attrs_accuracy_test.mean())\n",
    "        print(\"test_accuracies:\", df_opt.user_attrs_accuracy_test.values)\n",
    "    print(\"sparsity:\", df_opt.user_attrs_feature_sparsity.values)\n",
    "    print(\"Mean sparsity:\", df_opt.user_attrs_approximate_feature_sparsity.mean())\n",
    "#     print(\"Approx sparsity:\", df_opt.user_attrs_approximate_feature_sparsity.values)\n",
    "#     print(\"Mean approx sparsity:\", df_opt.user_attrs_feature_sparsity.mean())\n",
    "    print(\"Batch-sizes:\", df_opt.params_constant_batch_size.values*df_opt.params_batch_size_scaler.values)\n",
    "    print(\"Epochs:\", df_opt.user_attrs_num_epochs.values)\n",
    "    print(\"Depth:\", df_opt.params_depth.values)\n",
    "    print(\"Number of Trees:\", df_opt.params_num_trees.values)\n",
    "    if \"params_kernel_constraint\" in df_opt.columns:\n",
    "        print(\"L1/L0:\", df_opt.params_kernel_constraint.values)\n",
    "    if \"params_kernel_l2\" in df_opt.columns:\n",
    "        print(\"L2:\", df_opt.params_kernel_l2.values)\n",
    "    if \"params_temperature\" in df_opt.columns:\n",
    "        print(\"T:\", df_opt.params_temperature.values)\n",
    "        \n",
    "#     df = df[df[\"user_attrs_approximate_feature_sparsity\"]<budget*df[\"user_attrs_approximate_feature_sparsity\"].max()]\n",
    "#     print(\"Number of trials satisfying the feature sparsity budget:\", df.shape[0])\n",
    "#     df = df.sort_values(by=[\"user_attrs_\"+criteria+\"_valid\"], ascending=False)\n",
    "#     best_value = df[\"user_attrs_\"+criteria+\"_valid\"].values[0]\n",
    "#     df_opt = df[df[\"user_attrs_\"+criteria+\"_valid\"]==best_value]\n",
    "\n",
    "#     df_opt = df_opt.sort_values(by='user_attrs_feature_sparsity')\n",
    "#     if criteria=='auc':\n",
    "#         print(\"valid_auc:\", df_opt.user_attrs_auc_valid.mean())\n",
    "#         print(\"test_auc:\", df_opt.user_attrs_auc_test.mean())\n",
    "#         print(\"test_aucs:\", df_opt.user_attrs_auc_test.values)\n",
    "#     elif criteria=='accuracy':\n",
    "#         print(\"valid_accuracy:\", df_opt.user_attrs_accuracy_valid.mean())\n",
    "#         print(\"test_accuracy:\", df_opt.user_attrs_accuracy_test.mean())\n",
    "#         print(\"test_accuracies:\", df_opt.user_attrs_accuracy_test.values)\n",
    "#     print(\"sparsity:\", df_opt.user_attrs_feature_sparsity.values)\n",
    "#     print(\"Mean sparsity:\", df_opt.user_attrs_approximate_feature_sparsity.mean())\n",
    "# #     print(\"Approx sparsity:\", df_opt.user_attrs_approximate_feature_sparsity.values)\n",
    "# #     print(\"Mean approx sparsity:\", df_opt.user_attrs_feature_sparsity.mean())\n",
    "# #     print(\"Batch-sizes:\", df_opt.params_batch_size.values)\n",
    "#     print(\"Depths:\", df_opt.params_depth.values)\n",
    "#     print(\"Epochs:\", df_opt.user_attrs_num_epochs.values)\n",
    "# #     print(\"Learning Rates:\", df_opt.params_learning_rate.values)\n"
   ]
  },
  {
   "cell_type": "code",
   "execution_count": null,
   "id": "95d00d7a",
   "metadata": {},
   "outputs": [],
   "source": [
    "df[['params_batch_size_scaler',\n",
    "    'params_constant_batch_size',\n",
    "    'params_constant_learning_rate',\n",
    "    'params_num_trees',\n",
    "    'params_depth',\n",
    "    'params_group_sparsity',\n",
    "    'params_kernel_constraint',\n",
    "    'params_kernel_l2',\n",
    "    'params_learning_rate_scheduling',\n",
    "    'params_use_annealing',\n",
    "    'params_epochs', 'user_attrs_num_epochs']].max()"
   ]
  },
  {
   "cell_type": "code",
   "execution_count": null,
   "id": "959d24bd",
   "metadata": {},
   "outputs": [],
   "source": [
    "df_opt.columns"
   ]
  },
  {
   "cell_type": "code",
   "execution_count": null,
   "id": "d1dcf9d4",
   "metadata": {},
   "outputs": [],
   "source": [
    "df_opt.columns"
   ]
  },
  {
   "cell_type": "code",
   "execution_count": null,
   "id": "2eeb8adc",
   "metadata": {},
   "outputs": [],
   "source": [
    "pd.set_option('display.max_rows', 100)"
   ]
  },
  {
   "cell_type": "code",
   "execution_count": null,
   "id": "6d1fcb0a",
   "metadata": {},
   "outputs": [],
   "source": [
    "plt.scatter(np.log10(df['params_kernel_constraint']), df['user_attrs_feature_sparsity'], marker=\"*\", color='b')\n",
    "plt.scatter(np.log10(df_opt[\"params_kernel_constraint\"]), df_opt[\"user_attrs_feature_sparsity\"], marker=\"o\", color='r')"
   ]
  },
  {
   "cell_type": "code",
   "execution_count": null,
   "id": "10c9e11d",
   "metadata": {},
   "outputs": [],
   "source": [
    "plt.scatter(np.log10(df['params_kernel_l2']), df['user_attrs_feature_sparsity'], marker=\"*\", color='b')\n",
    "plt.scatter(np.log10(df_opt[\"params_kernel_l2\"]), df_opt[\"user_attrs_feature_sparsity\"], marker=\"o\", color='r')"
   ]
  },
  {
   "cell_type": "code",
   "execution_count": null,
   "id": "57ff5f1a",
   "metadata": {},
   "outputs": [],
   "source": [
    "data = 'isolet'\n",
    "budget = 0.25\n",
    "sparsities = ['Lasso']\n",
    "annealing = [False]\n",
    "learning_rate_scheduling = [False]\n",
    "criteria = 'auc'\n",
    "tuning_seeds = [0,1,2,3,4,5,6,7,8,9,10,11,12,13,14,15,16,17,18,19,20]\n",
    "\n",
    "for sparsity, anneal, lr_schedule in zip(sparsities, annealing, learning_rate_scheduling):\n",
    "    print(\"=============Sparsity:{}, ======== Anneal:{} ====== LR Schedule:{}\".format(sparsity, anneal, lr_schedule))\n",
    "\n",
    "    df = pd.DataFrame()\n",
    "    for tuning_seed in tuning_seeds:\n",
    "        path = \"./logs/soft_trees/publicdata/{}/{}/cross-entropy/5.{}/study-shared-sigmoid-100-5-{}\".format(data, sparsity, tuning_seed, sparsity)\n",
    "        if anneal:\n",
    "            path = path+\"-anneal\"\n",
    "        if lr_schedule:\n",
    "            path = path+\"-learning_rate_scheduling\"\n",
    "        path = path+\"-seed8.csv\"\n",
    "        try:\n",
    "            df_temp = pd.read_csv(path)\n",
    "        except:\n",
    "            print(\"Missing:\", path)\n",
    "            continue\n",
    "        df = pd.concat([df,df_temp],axis=0)\n",
    "        df.index = np.arange(len(df))\n",
    "    print(\"Number of total trials:\", df.shape[0])\n",
    "    df = df[(df[\"user_attrs_feature_sparsity\"]<=budget*df[\"user_attrs_feature_sparsity\"].max())&(df[\"user_attrs_feature_sparsity\"]>0)]\n",
    "    print(\"Number of trials satisfying the feature sparsity budget:\", df.shape[0])\n",
    "    df = df.sort_values(by=[\"user_attrs_\"+criteria+\"_valid\"], ascending=False)\n",
    "    \n",
    "    best_value = df[\"user_attrs_\"+criteria+\"_valid\"].values[0]\n",
    "    df_opt = df[df[\"user_attrs_\"+criteria+\"_valid\"]==best_value]\n",
    "    \n",
    "    df_opt = df_opt.sort_values(by='user_attrs_feature_sparsity')\n",
    "    display(df_opt.T)\n",
    "    if criteria=='auc':\n",
    "        print(\"valid_auc:\", df_opt.user_attrs_auc_valid.mean())\n",
    "        print(\"test_auc:\", df_opt.user_attrs_auc_test.mean())\n",
    "        print(\"test_aucs:\", df_opt.user_attrs_auc_test.values)\n",
    "        print(\"test_aucs (SE):\", df_opt.user_attrs_auc_test.std()/np.sqrt(50))\n",
    "    elif criteria=='accuracy':\n",
    "        print(\"valid_accuracy:\", df_opt.user_attrs_accuracy_valid.mean())\n",
    "        print(\"test_accuracy:\", df_opt.user_attrs_accuracy_test.mean())\n",
    "        print(\"test_accuracies:\", df_opt.user_attrs_accuracy_test.values)\n",
    "    print(\"sparsity:\", df_opt.user_attrs_feature_sparsity.values)\n",
    "    print(\"Mean sparsity:\", df_opt.user_attrs_approximate_feature_sparsity.mean())\n",
    "    print(\"Standard Error sparsity:\", df_opt.user_attrs_approximate_feature_sparsity.std()/np.sqrt(50))\n",
    "#     print(\"Approx sparsity:\", df_opt.user_attrs_approximate_feature_sparsity.values)\n",
    "#     print(\"Mean approx sparsity:\", df_opt.user_attrs_feature_sparsity.mean())\n",
    "    print(\"Batch-sizes:\", df_opt.params_constant_batch_size.values*df_opt.params_batch_size_scaler.values)\n",
    "    print(\"Epochs:\", df_opt.user_attrs_num_epochs.values)\n",
    "    print(\"Number of Trees:\", df_opt.params_num_trees.values)\n",
    "        \n",
    "#     df = df[df[\"user_attrs_approximate_feature_sparsity\"]<budget*df[\"user_attrs_approximate_feature_sparsity\"].max()]\n",
    "#     print(\"Number of trials satisfying the feature sparsity budget:\", df.shape[0])\n",
    "#     df = df.sort_values(by=[\"user_attrs_\"+criteria+\"_valid\"], ascending=False)\n",
    "#     best_value = df[\"user_attrs_\"+criteria+\"_valid\"].values[0]\n",
    "#     df_opt = df[df[\"user_attrs_\"+criteria+\"_valid\"]==best_value]\n",
    "\n",
    "#     df_opt = df_opt.sort_values(by='user_attrs_feature_sparsity')\n",
    "#     if criteria=='auc':\n",
    "#         print(\"valid_auc:\", df_opt.user_attrs_auc_valid.mean())\n",
    "#         print(\"test_auc:\", df_opt.user_attrs_auc_test.mean())\n",
    "#         print(\"test_aucs:\", df_opt.user_attrs_auc_test.values)\n",
    "#     elif criteria=='accuracy':\n",
    "#         print(\"valid_accuracy:\", df_opt.user_attrs_accuracy_valid.mean())\n",
    "#         print(\"test_accuracy:\", df_opt.user_attrs_accuracy_test.mean())\n",
    "#         print(\"test_accuracies:\", df_opt.user_attrs_accuracy_test.values)\n",
    "#     print(\"sparsity:\", df_opt.user_attrs_feature_sparsity.values)\n",
    "#     print(\"Mean sparsity:\", df_opt.user_attrs_approximate_feature_sparsity.mean())\n",
    "# #     print(\"Approx sparsity:\", df_opt.user_attrs_approximate_feature_sparsity.values)\n",
    "# #     print(\"Mean approx sparsity:\", df_opt.user_attrs_feature_sparsity.mean())\n",
    "# #     print(\"Batch-sizes:\", df_opt.params_batch_size.values)\n",
    "#     print(\"Depths:\", df_opt.params_depth.values)\n",
    "#     print(\"Epochs:\", df_opt.user_attrs_num_epochs.values)\n",
    "# #     print(\"Learning Rates:\", df_opt.params_learning_rate.values)\n"
   ]
  },
  {
   "cell_type": "code",
   "execution_count": null,
   "id": "3f24c5f5",
   "metadata": {},
   "outputs": [],
   "source": [
    "df[[col for col in df.columns if \"params\" in col]]"
   ]
  },
  {
   "cell_type": "code",
   "execution_count": null,
   "id": "4aa99676",
   "metadata": {},
   "outputs": [],
   "source": [
    "plt.scatter(np.log10(df['params_temperature']), df['user_attrs_feature_sparsity'], marker=\"*\", color='b')\n",
    "plt.scatter(np.log10(df_opt[\"params_temperature\"]), df_opt[\"user_attrs_feature_sparsity\"], marker=\"o\", color='r')"
   ]
  },
  {
   "cell_type": "code",
   "execution_count": null,
   "id": "f0118db7",
   "metadata": {},
   "outputs": [],
   "source": [
    "df_sel = df[df[\"user_attrs_\"+criteria+\"_valid\"]>0.80]\n",
    "plt.scatter(df_sel[\"user_attrs_\"+criteria+\"_valid\"], df_sel[\"user_attrs_feature_sparsity\"], marker=\"*\", color='b')\n",
    "plt.scatter(df_opt[\"user_attrs_\"+criteria+\"_valid\"], df_opt[\"user_attrs_feature_sparsity\"], marker=\"o\", color='r')\n",
    "plt.xlabel(\"user_attrs_\"+criteria+\"_valid\")\n",
    "plt.ylabel(\"feature selection\")\n",
    "plt.xlim(0.8,1.0005)\n"
   ]
  },
  {
   "cell_type": "code",
   "execution_count": null,
   "id": "0dc1e500",
   "metadata": {},
   "outputs": [],
   "source": [
    "for sparsity, anneal, lr_schedule in zip(sparsities, annealing, learning_rate_scheduling):\n",
    "    print(\"=============Sparsity:{}, ======== Anneal:{} ====== LR Schedule:{}\".format(sparsity, anneal, lr_schedule))\n",
    "\n",
    "    df = pd.DataFrame()\n",
    "    for tuning_seed in tuning_seeds:\n",
    "        path = \"./logs/soft_trees/publicdata/{}/{}/cross-entropy/5.{}/study-shared-sigmoid-100-5-{}\".format(data, sparsity, tuning_seed, sparsity)\n",
    "        if anneal:\n",
    "            path = path+\"-anneal\"\n",
    "        if lr_schedule:\n",
    "            path = path+\"-learning_rate_scheduling\"\n",
    "        path = path+\"-seed8.csv\"\n",
    "        try:\n",
    "            df_temp = pd.read_csv(path)\n",
    "        except:\n",
    "            print(\"Missing:\", path)\n",
    "            continue\n",
    "        df = pd.concat([df,df_temp],axis=0)\n",
    "        df.index = np.arange(len(df))\n"
   ]
  },
  {
   "cell_type": "code",
   "execution_count": null,
   "id": "6c6360db",
   "metadata": {},
   "outputs": [],
   "source": [
    "df"
   ]
  },
  {
   "cell_type": "markdown",
   "id": "0850bd52",
   "metadata": {},
   "source": [
    "# No sparsity"
   ]
  },
  {
   "cell_type": "code",
   "execution_count": null,
   "id": "9e4be07e",
   "metadata": {},
   "outputs": [],
   "source": [
    "data = 'optdigits'\n",
    "sparsities = ['none']\n",
    "annealing = [False]\n",
    "learning_rate_scheduling = [False]\n",
    "criteria = 'auc'\n",
    "tuning_seeds = [0,1]\n",
    "\n",
    "for sparsity, anneal, lr_schedule in zip(sparsities, annealing, learning_rate_scheduling):\n",
    "    print(\"=============Sparsity:{}, ======== Anneal:{} ====== LR Schedule:{}\".format(sparsity, anneal, lr_schedule))\n",
    "\n",
    "    df = pd.DataFrame()\n",
    "    for tuning_seed in tuning_seeds:\n",
    "        path = \"./logs/soft_trees/publicdata/{}/{}/cross-entropy/1.{}/study-shared-sigmoid-100-5-{}\".format(data, sparsity, tuning_seed, sparsity)\n",
    "        path = path+\"-seed8.csv\"\n",
    "        try:\n",
    "            df_temp = pd.read_csv(path)\n",
    "        except:\n",
    "            print(\"Missing:\", path)\n",
    "            continue\n",
    "        df = pd.concat([df,df_temp],axis=0)\n",
    "        df.index = np.arange(len(df))\n",
    "    print(\"Number of total trials:\", df.shape[0])\n",
    "    df = df.sort_values(by=[\"user_attrs_\"+criteria+\"_valid\"], ascending=False)\n",
    "    \n",
    "    best_value = df[\"user_attrs_\"+criteria+\"_valid\"].values[0]\n",
    "    df_opt = df[df[\"user_attrs_\"+criteria+\"_valid\"]==best_value]\n",
    "    \n",
    "#     df_opt = df_opt.sort_values(by='user_attrs_feature_sparsity')\n",
    "    display(df_opt.T)\n",
    "    if criteria=='auc':\n",
    "        print(\"valid_auc:\", df_opt.user_attrs_auc_valid.mean())\n",
    "        print(\"test_auc:\", df_opt.user_attrs_auc_test.mean())\n",
    "        print(\"test_aucs:\", df_opt.user_attrs_auc_test.values)\n",
    "        print(\"test_aucs (SE):\", df_opt.user_attrs_auc_test.std()/np.sqrt(50))\n",
    "    elif criteria=='accuracy':\n",
    "        print(\"valid_accuracy:\", df_opt.user_attrs_accuracy_valid.mean())\n",
    "        print(\"test_accuracy:\", df_opt.user_attrs_accuracy_test.mean())\n",
    "        print(\"test_accuracies:\", df_opt.user_attrs_accuracy_test.values)\n",
    "#     print(\"sparsity:\", df_opt.user_attrs_feature_sparsity.values)\n",
    "#     print(\"Mean sparsity:\", df_opt.user_attrs_approximate_feature_sparsity.mean())\n",
    "#     print(\"Standard Error sparsity:\", df_opt.user_attrs_approximate_feature_sparsity.std()/np.sqrt(50))\n",
    "#     print(\"Approx sparsity:\", df_opt.user_attrs_approximate_feature_sparsity.values)\n",
    "#     print(\"Mean approx sparsity:\", df_opt.user_attrs_feature_sparsity.mean())\n",
    "#     print(\"Batch-sizes:\", df_opt.params_constant_batch_size.values*df_opt.params_batch_size_scaler.values)\n",
    "    print(\"Epochs:\", df_opt.user_attrs_num_epochs.values)\n",
    "    print(\"Number of Trees:\", df_opt.params_num_trees.values)\n",
    "        \n",
    "#     df = df[df[\"user_attrs_approximate_feature_sparsity\"]<budget*df[\"user_attrs_approximate_feature_sparsity\"].max()]\n",
    "#     print(\"Number of trials satisfying the feature sparsity budget:\", df.shape[0])\n",
    "#     df = df.sort_values(by=[\"user_attrs_\"+criteria+\"_valid\"], ascending=False)\n",
    "#     best_value = df[\"user_attrs_\"+criteria+\"_valid\"].values[0]\n",
    "#     df_opt = df[df[\"user_attrs_\"+criteria+\"_valid\"]==best_value]\n",
    "\n",
    "#     df_opt = df_opt.sort_values(by='user_attrs_feature_sparsity')\n",
    "#     if criteria=='auc':\n",
    "#         print(\"valid_auc:\", df_opt.user_attrs_auc_valid.mean())\n",
    "#         print(\"test_auc:\", df_opt.user_attrs_auc_test.mean())\n",
    "#         print(\"test_aucs:\", df_opt.user_attrs_auc_test.values)\n",
    "#     elif criteria=='accuracy':\n",
    "#         print(\"valid_accuracy:\", df_opt.user_attrs_accuracy_valid.mean())\n",
    "#         print(\"test_accuracy:\", df_opt.user_attrs_accuracy_test.mean())\n",
    "#         print(\"test_accuracies:\", df_opt.user_attrs_accuracy_test.values)\n",
    "#     print(\"sparsity:\", df_opt.user_attrs_feature_sparsity.values)\n",
    "#     print(\"Mean sparsity:\", df_opt.user_attrs_approximate_feature_sparsity.mean())\n",
    "# #     print(\"Approx sparsity:\", df_opt.user_attrs_approximate_feature_sparsity.values)\n",
    "# #     print(\"Mean approx sparsity:\", df_opt.user_attrs_feature_sparsity.mean())\n",
    "# #     print(\"Batch-sizes:\", df_opt.params_batch_size.values)\n",
    "#     print(\"Depths:\", df_opt.params_depth.values)\n",
    "#     print(\"Epochs:\", df_opt.user_attrs_num_epochs.values)\n",
    "# #     print(\"Learning Rates:\", df_opt.params_learning_rate.values)\n"
   ]
  },
  {
   "cell_type": "markdown",
   "id": "943988c1",
   "metadata": {},
   "source": [
    "# Classical Trees"
   ]
  },
  {
   "cell_type": "code",
   "execution_count": null,
   "id": "381bb505",
   "metadata": {},
   "outputs": [],
   "source": [
    "data = 'churn'\n",
    "budget = 0.5"
   ]
  },
  {
   "cell_type": "code",
   "execution_count": null,
   "id": "8ec1a58e",
   "metadata": {},
   "outputs": [],
   "source": [
    "models = [\"controlburn\"]\n",
    "criteria = 'auc'\n",
    "tuning_seeds = [0,1]\n",
    "\n",
    "for model in models:\n",
    "    df = pd.DataFrame()\n",
    "    for tuning_seed in tuning_seeds:\n",
    "        path = \"../baselines/logs/feature-selection/{}/publicdata/{}/cross-entropy/1.{}/study\".format(model, data, tuning_seed)\n",
    "        path = path+\".csv\"\n",
    "        try:\n",
    "            df_temp = pd.read_csv(path)\n",
    "        except:\n",
    "            print(\"Missing:\", path)\n",
    "            continue\n",
    "        df = pd.concat([df,df_temp],axis=0)\n",
    "        df.index = np.arange(len(df))\n",
    "    print(\"Total Number of trials:\", df.shape[0])\n",
    "    df = df[(df[\"user_attrs_feature_sparsity\"]<budget*df[\"user_attrs_feature_sparsity\"].max())&(df[\"user_attrs_feature_sparsity\"]>0)]\n",
    "    print(\"Number of trials satisfying the feature sparsity budget:\", df.shape[0])\n",
    "    df = df.sort_values(by=[\"user_attrs_\"+criteria+\"_valid\"], ascending=False)\n",
    "    best_value = df[\"user_attrs_\"+criteria+\"_valid\"].values[0]\n",
    "    df_opt = df[df[\"user_attrs_\"+criteria+\"_valid\"]==best_value]\n",
    "\n",
    "    df_opt = df_opt.sort_values(by='user_attrs_feature_sparsity')\n",
    "    if criteria=='auc':\n",
    "        print(\"valid_auc:\", df_opt.user_attrs_auc_valid.mean())\n",
    "        print(\"test_auc:\", df_opt.user_attrs_auc_test.mean())\n",
    "        print(\"test_aucs:\", df_opt.user_attrs_auc_test.values)\n",
    "    elif criteria=='accuracy':\n",
    "        print(\"valid_accuracy:\", df_opt.user_attrs_accuracy_valid.mean())\n",
    "        print(\"test_accuracy:\", df_opt.user_attrs_accuracy_test.mean())\n",
    "        print(\"test_accuracies:\", df_opt.user_attrs_accuracy_test.values)\n",
    "    print(\"sparsity:\", df_opt.user_attrs_feature_sparsity.values)\n",
    "    print(\"Mean sparsity:\", df_opt.user_attrs_feature_sparsity.mean())\n",
    "    print(\"Mean Depths:\", df_opt.params_max_depth.mean())   \n",
    "    print(\"Mean number of estimators:\", df_opt.params_n_estimators.mean())  \n"
   ]
  },
  {
   "cell_type": "code",
   "execution_count": null,
   "id": "2b1b8e2e",
   "metadata": {},
   "outputs": [],
   "source": [
    "df"
   ]
  },
  {
   "cell_type": "code",
   "execution_count": null,
   "id": "8082b1f0",
   "metadata": {},
   "outputs": [],
   "source": [
    "# plt.scatter(np.log10(df_opt['params_kernel_constraint']), df_opt['user_attrs_feature_sparsity'])"
   ]
  },
  {
   "cell_type": "markdown",
   "id": "2b723378",
   "metadata": {},
   "source": [
    "# Sparsity Comparison"
   ]
  },
  {
   "cell_type": "code",
   "execution_count": null,
   "id": "51f13a13",
   "metadata": {},
   "outputs": [],
   "source": [
    "data = 'human-activity-recognition'\n",
    "budget = 1.0\n",
    "sparsities = ['GroupL0L2']\n",
    "annealing = [True]\n",
    "learning_rate_scheduling = [False]\n",
    "criteria = 'auc'\n",
    "tuning_seeds = [0,1,2,3]\n",
    "\n",
    "dfs = {}\n",
    "for sparsity, anneal, lr_schedule in zip(sparsities, annealing, learning_rate_scheduling):\n",
    "    print(\"=============Sparsity:{}, ======== Anneal:{} ====== LR Schedule:{}\".format(sparsity, anneal, lr_schedule))\n",
    "\n",
    "    df = pd.DataFrame()\n",
    "    for tuning_seed in tuning_seeds:\n",
    "        path = \"./logs/resnet/publicdata/{}/{}/cross-entropy/5.{}/study-{}\".format(data, sparsity, tuning_seed, sparsity)\n",
    "        if anneal:\n",
    "            path = path+\"-anneal\"\n",
    "        if lr_schedule:\n",
    "            path = path+\"-learning_rate_scheduling\"\n",
    "        path = path+\"-seed8.csv\"\n",
    "        try:\n",
    "            df_temp = pd.read_csv(path)\n",
    "        except:\n",
    "            print(\"Missing:\", path)\n",
    "            continue\n",
    "        df = pd.concat([df,df_temp],axis=0)\n",
    "        df.index = np.arange(len(df))\n",
    "    df = df[df[\"user_attrs_feature_sparsity\"]<budget*df[\"user_attrs_feature_sparsity\"].max()]        \n",
    "    print(\"Number of trials satisfying the feature sparsity budget:\", df.shape[0])\n",
    "    df = df.groupby(\"user_attrs_feature_sparsity\").agg({\"user_attrs_\"+criteria+\"_valid\":'max'})[[\"user_attrs_\"+criteria+\"_valid\"]].reset_index()    \n",
    "    df = df[df[\"user_attrs_\"+criteria+\"_valid\"]>0.9*df[\"user_attrs_\"+criteria+\"_valid\"].max()]\n",
    "    df = df.rolling(window=3).mean()\n",
    "    dfs[\"Sparsity:{}, Anneal:{}, LR-Schedule:{}\".format(sparsity, anneal, lr_schedule)] = df\n",
    "    \n",
    "plt.figure(figsize=(7.5,7.5))\n",
    "markers = [\"o\", \"*\"]\n",
    "for i, (key, df) in enumerate(dfs.items()):\n",
    "    plt.scatter(df[\"user_attrs_feature_sparsity\"], df[\"user_attrs_\"+criteria+\"_valid\"], label=key, marker=markers[i])\n",
    "plt.legend()\n",
    "plt.ylim(0.9,1.0)"
   ]
  },
  {
   "cell_type": "code",
   "execution_count": null,
   "id": "ee4b5606",
   "metadata": {},
   "outputs": [],
   "source": [
    "criteria = 'aucs'\n",
    "tuning_seeds = [0]\n",
    "\n",
    "df = pd.DataFrame()\n",
    "for tuning_seed in tuning_seeds:\n",
    "    path = \"../baselines/logs/lassonet/publicdata/{}/cross-entropy/1.{}/study\".format(data, tuning_seed)\n",
    "    path = path+\"-seed8.csv\"\n",
    "    try:\n",
    "        df_temp = pd.read_csv(path)\n",
    "    except:\n",
    "        print(\"Missing:\", path)\n",
    "        continue\n",
    "    df = pd.concat([df,df_temp],axis=0)\n",
    "    df.index = np.arange(len(df))\n",
    "df = df[df[\"user_attrs_feature_sparsities\"]<budget*df[\"user_attrs_feature_sparsities\"].max()]\n",
    "print(\"Number of trials satisfying the feature sparsity budget:\", df.shape[0])\n",
    "\n",
    "df = df.groupby(\"user_attrs_feature_sparsities\").agg({\"user_attrs_\"+criteria+\"_valid\":'max'})[[\"user_attrs_\"+criteria+\"_valid\"]].reset_index()    \n",
    "df = df[df[\"user_attrs_\"+criteria+\"_valid\"]>0.9*df[\"user_attrs_\"+criteria+\"_valid\"].max()]\n",
    "df = df.rolling(window=3).mean()\n",
    "dfs[\"LassoNet\"] = df"
   ]
  },
  {
   "cell_type": "code",
   "execution_count": null,
   "id": "4f534d28",
   "metadata": {},
   "outputs": [],
   "source": [
    "dfs.keys()"
   ]
  },
  {
   "cell_type": "code",
   "execution_count": null,
   "id": "de98b220",
   "metadata": {},
   "outputs": [],
   "source": [
    "plt.figure(figsize=(6,6))\n",
    "key_groupl0l2 = 'Sparsity:GroupL0L2, Anneal:True, LR-Schedule:False'\n",
    "key_lassonet = 'LassoNet'\n",
    "plt.scatter(dfs[key_groupl0l2][\"user_attrs_feature_sparsity\"], dfs[key_groupl0l2][\"user_attrs_auc_valid\"], label=\"Group L0-L2\", marker=\"*\", color='b')\n",
    "plt.scatter(dfs[key_lassonet][\"user_attrs_feature_sparsities\"], dfs[key_lassonet][\"user_attrs_aucs_valid\"], label=key_lassonet, marker=\"o\", color='orange')\n",
    "plt.legend(loc=\"lower right\")\n",
    "plt.xlabel(\"feature selection\")\n",
    "plt.ylabel(\"Validation-AUC\")\n",
    "plt.ylim(0.90,1.0)\n",
    "plt.xlim(0,100)"
   ]
  },
  {
   "cell_type": "markdown",
   "id": "af7fec87",
   "metadata": {},
   "source": [
    "# Averages and Standard Errors"
   ]
  },
  {
   "cell_type": "code",
   "execution_count": null,
   "id": "52400f4d",
   "metadata": {},
   "outputs": [],
   "source": [
    "data = 'mnist'\n",
    "sparsities = ['GroupL0L2']\n",
    "annealing = [True]\n",
    "learning_rate_scheduling = [True]\n",
    "criteria = 'auc'\n",
    "tuning_seeds = [100,101,102,103]\n",
    "\n",
    "for sparsity, anneal, lr_schedule in zip(sparsities, annealing, learning_rate_scheduling):\n",
    "    print(\"=============Sparsity:{}, ======== Anneal:{} ====== LR Schedule:{}\".format(sparsity, anneal, lr_schedule))\n",
    "\n",
    "    df = pd.DataFrame()\n",
    "    for tuning_seed in tuning_seeds:\n",
    "        path = \"./logs/soft_trees/publicdata/{}/{}/cross-entropy/5.{}/study-shared-sigmoid-{}\".format(data, sparsity, tuning_seed, sparsity)\n",
    "        if anneal:\n",
    "            path = path+\"-anneal\"\n",
    "        if lr_schedule:\n",
    "            path = path+\"-learning_rate_scheduling\"\n",
    "        path = path+\"-seed8.csv\"\n",
    "        try:\n",
    "            df_temp = pd.read_csv(path)\n",
    "        except:\n",
    "            print(\"Missing:\", path)\n",
    "            continue\n",
    "        df = pd.concat([df,df_temp],axis=0)\n",
    "        df.index = np.arange(len(df))\n",
    "    print(\"Number of total trials:\", df.shape[0])\n",
    "#     df = df[(df[\"user_attrs_feature_sparsity\"]<budget*df[\"user_attrs_feature_sparsity\"].max())&(df[\"user_attrs_feature_sparsity\"]>0)]\n",
    "    print(\"Number of trials satisfying the feature sparsity budget:\", df.shape[0])\n",
    "    df = df.sort_values(by=[\"user_attrs_\"+criteria+\"_valid\"], ascending=False)\n",
    "    \n",
    "#     best_value = df[\"user_attrs_\"+criteria+\"_valid\"].values[0]\n",
    "#     df_opt = df[df[\"user_attrs_\"+criteria+\"_valid\"]==best_value]\n",
    "    \n",
    "    df_opt = df.sort_values(by='user_attrs_feature_sparsity')\n",
    "#     display(df_opt.T)\n",
    "    if criteria=='auc':\n",
    "        print(\"valid_auc:\", df_opt.user_attrs_auc_valid.median())\n",
    "        print(\"test_auc:\", df_opt.user_attrs_auc_test.median())\n",
    "        print(\"test_aucs:\", df_opt.user_attrs_auc_test.values)\n",
    "        print(\"test_aucs (SE):\", df_opt.user_attrs_auc_test.sem())\n",
    "    elif criteria=='accuracy':\n",
    "        print(\"valid_accuracy:\", df_opt.user_attrs_accuracy_valid.mean())\n",
    "        print(\"test_accuracy:\", df_opt.user_attrs_accuracy_test.mean())\n",
    "        print(\"test_accuracies:\", df_opt.user_attrs_accuracy_test.values)\n",
    "    print(\"sparsity:\", df_opt.user_attrs_feature_sparsity.values)\n",
    "    print(\"Mean sparsity:\", df_opt.user_attrs_approximate_feature_sparsity.mean())\n",
    "    print(\"Standard Error sparsity:\", df_opt.user_attrs_approximate_feature_sparsity.std()/np.sqrt(50))\n",
    "#     print(\"Approx sparsity:\", df_opt.user_attrs_approximate_feature_sparsity.values)\n",
    "#     print(\"Mean approx sparsity:\", df_opt.user_attrs_feature_sparsity.mean())\n",
    "#     print(\"Batch-sizes:\", df_opt.params_constant_batch_size.values*df_opt.params_batch_size_scaler.values)\n",
    "#     print(\"Epochs:\", df_opt.user_attrs_num_epochs.values)\n",
    "#     print(\"Number of Trees:\", df_opt.params_num_trees.values)\n",
    "        \n",
    "#     df = df[df[\"user_attrs_approximate_feature_sparsity\"]<budget*df[\"user_attrs_approximate_feature_sparsity\"].max()]\n",
    "#     print(\"Number of trials satisfying the feature sparsity budget:\", df.shape[0])\n",
    "#     df = df.sort_values(by=[\"user_attrs_\"+criteria+\"_valid\"], ascending=False)\n",
    "#     best_value = df[\"user_attrs_\"+criteria+\"_valid\"].values[0]\n",
    "#     df_opt = df[df[\"user_attrs_\"+criteria+\"_valid\"]==best_value]\n",
    "\n",
    "#     df_opt = df_opt.sort_values(by='user_attrs_feature_sparsity')\n",
    "#     if criteria=='auc':\n",
    "#         print(\"valid_auc:\", df_opt.user_attrs_auc_valid.mean())\n",
    "#         print(\"test_auc:\", df_opt.user_attrs_auc_test.mean())\n",
    "#         print(\"test_aucs:\", df_opt.user_attrs_auc_test.values)\n",
    "#     elif criteria=='accuracy':\n",
    "#         print(\"valid_accuracy:\", df_opt.user_attrs_accuracy_valid.mean())\n",
    "#         print(\"test_accuracy:\", df_opt.user_attrs_accuracy_test.mean())\n",
    "#         print(\"test_accuracies:\", df_opt.user_attrs_accuracy_test.values)\n",
    "#     print(\"sparsity:\", df_opt.user_attrs_feature_sparsity.values)\n",
    "#     print(\"Mean sparsity:\", df_opt.user_attrs_approximate_feature_sparsity.mean())\n",
    "# #     print(\"Approx sparsity:\", df_opt.user_attrs_approximate_feature_sparsity.values)\n",
    "# #     print(\"Mean approx sparsity:\", df_opt.user_attrs_feature_sparsity.mean())\n",
    "# #     print(\"Batch-sizes:\", df_opt.params_batch_size.values)\n",
    "#     print(\"Depths:\", df_opt.params_depth.values)\n",
    "#     print(\"Epochs:\", df_opt.user_attrs_num_epochs.values)\n",
    "# #     print(\"Learning Rates:\", df_opt.params_learning_rate.values)\n"
   ]
  },
  {
   "cell_type": "markdown",
   "id": "479aadd2",
   "metadata": {},
   "source": [
    "# Single Tree"
   ]
  },
  {
   "cell_type": "code",
   "execution_count": null,
   "id": "97ee523b",
   "metadata": {},
   "outputs": [],
   "source": [
    "data = 'churn'\n",
    "budget = 0.5\n",
    "sparsities = ['GroupL0L2']\n",
    "annealing = [True]\n",
    "learning_rate_scheduling = [True]\n",
    "criteria = 'auc'\n",
    "tuning_seeds = [0]\n",
    "\n",
    "for sparsity, anneal, lr_schedule in zip(sparsities, annealing, learning_rate_scheduling):\n",
    "    print(\"=============Sparsity:{}, ======== Anneal:{} ====== LR Schedule:{}\".format(sparsity, anneal, lr_schedule))\n",
    "\n",
    "    df = pd.DataFrame()\n",
    "    for tuning_seed in tuning_seeds:\n",
    "        path = \"./logs/soft_trees/publicdata/{}/{}/cross-entropy/6.{}/study-shared-sigmoid-1-10-{}\".format(data, sparsity, tuning_seed, sparsity)\n",
    "        if anneal:\n",
    "            path = path+\"-anneal\"\n",
    "        if lr_schedule:\n",
    "            path = path+\"-learning_rate_scheduling\"\n",
    "        path = path+\"-seed8.csv\"\n",
    "        try:\n",
    "            df_temp = pd.read_csv(path)\n",
    "        except:\n",
    "            print(\"Missing:\", path)\n",
    "            continue\n",
    "        df = pd.concat([df,df_temp],axis=0)\n",
    "        df.index = np.arange(len(df))\n",
    "    print(\"Number of total trials:\", df.shape[0])\n",
    "    df = df[(df[\"user_attrs_feature_sparsity\"]<=budget*df[\"user_attrs_feature_sparsity\"].max())&(df[\"user_attrs_feature_sparsity\"]>0)]\n",
    "    print(\"Number of trials satisfying the feature sparsity budget:\", df.shape[0])\n",
    "    df = df.sort_values(by=[\"user_attrs_\"+criteria+\"_valid\"], ascending=False)\n",
    "    df = df[df['params_depth']<=9]\n",
    "    \n",
    "    best_value = df[\"user_attrs_\"+criteria+\"_valid\"].values[0]\n",
    "    df_opt = df[df[\"user_attrs_\"+criteria+\"_valid\"]==best_value]\n",
    "    \n",
    "    df_opt = df_opt.sort_values(by='user_attrs_feature_sparsity')\n",
    "    display(df_opt.T)\n",
    "    if criteria=='auc':\n",
    "        print(\"valid_auc:\", df_opt.user_attrs_auc_valid.mean())\n",
    "        print(\"test_auc:\", df_opt.user_attrs_auc_test.mean())\n",
    "        print(\"test_aucs:\", df_opt.user_attrs_auc_test.values)\n",
    "        print(\"test_aucs (SE):\", df_opt.user_attrs_auc_test.std()/np.sqrt(50))\n",
    "    elif criteria=='accuracy':\n",
    "        print(\"valid_accuracy:\", df_opt.user_attrs_accuracy_valid.mean())\n",
    "        print(\"test_accuracy:\", df_opt.user_attrs_accuracy_test.mean())\n",
    "        print(\"test_accuracies:\", df_opt.user_attrs_accuracy_test.values)\n",
    "    print(\"sparsity:\", df_opt.user_attrs_feature_sparsity.values)\n",
    "    print(\"Mean sparsity:\", df_opt.user_attrs_approximate_feature_sparsity.mean())\n",
    "    print(\"Standard Error sparsity:\", df_opt.user_attrs_approximate_feature_sparsity.std()/np.sqrt(50))\n",
    "#     print(\"Approx sparsity:\", df_opt.user_attrs_approximate_feature_sparsity.values)\n",
    "#     print(\"Mean approx sparsity:\", df_opt.user_attrs_feature_sparsity.mean())\n",
    "    print(\"Batch-sizes:\", df_opt.params_constant_batch_size.values*df_opt.params_batch_size_scaler.values)\n",
    "    print(\"Epochs:\", df_opt.user_attrs_num_epochs.values)\n",
    "    print(\"Number of Trees:\", df_opt.params_num_trees.values)\n",
    "    print(\"Depths:\", df_opt.params_depth.values)\n",
    "        \n",
    "#     df = df[df[\"user_attrs_approximate_feature_sparsity\"]<budget*df[\"user_attrs_approximate_feature_sparsity\"].max()]\n",
    "#     print(\"Number of trials satisfying the feature sparsity budget:\", df.shape[0])\n",
    "#     df = df.sort_values(by=[\"user_attrs_\"+criteria+\"_valid\"], ascending=False)\n",
    "#     best_value = df[\"user_attrs_\"+criteria+\"_valid\"].values[0]\n",
    "#     df_opt = df[df[\"user_attrs_\"+criteria+\"_valid\"]==best_value]\n",
    "\n",
    "#     df_opt = df_opt.sort_values(by='user_attrs_feature_sparsity')\n",
    "#     if criteria=='auc':\n",
    "#         print(\"valid_auc:\", df_opt.user_attrs_auc_valid.mean())\n",
    "#         print(\"test_auc:\", df_opt.user_attrs_auc_test.mean())\n",
    "#         print(\"test_aucs:\", df_opt.user_attrs_auc_test.values)\n",
    "#     elif criteria=='accuracy':\n",
    "#         print(\"valid_accuracy:\", df_opt.user_attrs_accuracy_valid.mean())\n",
    "#         print(\"test_accuracy:\", df_opt.user_attrs_accuracy_test.mean())\n",
    "#         print(\"test_accuracies:\", df_opt.user_attrs_accuracy_test.values)\n",
    "#     print(\"sparsity:\", df_opt.user_attrs_feature_sparsity.values)\n",
    "#     print(\"Mean sparsity:\", df_opt.user_attrs_approximate_feature_sparsity.mean())\n",
    "# #     print(\"Approx sparsity:\", df_opt.user_attrs_approximate_feature_sparsity.values)\n",
    "# #     print(\"Mean approx sparsity:\", df_opt.user_attrs_feature_sparsity.mean())\n",
    "# #     print(\"Batch-sizes:\", df_opt.params_batch_size.values)\n",
    "#     print(\"Depths:\", df_opt.params_depth.values)\n",
    "#     print(\"Epochs:\", df_opt.user_attrs_num_epochs.values)\n",
    "# #     print(\"Learning Rates:\", df_opt.params_learning_rate.values)\n"
   ]
  },
  {
   "cell_type": "code",
   "execution_count": null,
   "id": "344d07d9",
   "metadata": {},
   "outputs": [],
   "source": []
  },
  {
   "cell_type": "code",
   "execution_count": null,
   "id": "1191e6ed",
   "metadata": {},
   "outputs": [],
   "source": []
  }
 ],
 "metadata": {
  "kernelspec": {
   "display_name": "Python 3 (ipykernel)",
   "language": "python",
   "name": "python3"
  },
  "language_info": {
   "codemirror_mode": {
    "name": "ipython",
    "version": 3
   },
   "file_extension": ".py",
   "mimetype": "text/x-python",
   "name": "python",
   "nbconvert_exporter": "python",
   "pygments_lexer": "ipython3",
   "version": "3.8.15"
  },
  "toc": {
   "base_numbering": 1,
   "nav_menu": {},
   "number_sections": true,
   "sideBar": true,
   "skip_h1_title": false,
   "title_cell": "Table of Contents",
   "title_sidebar": "Contents",
   "toc_cell": false,
   "toc_position": {},
   "toc_section_display": true,
   "toc_window_display": false
  }
 },
 "nbformat": 4,
 "nbformat_minor": 5
}
