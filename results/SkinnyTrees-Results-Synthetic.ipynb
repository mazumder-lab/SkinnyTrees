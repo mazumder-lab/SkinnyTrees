{
 "cells": [
  {
   "cell_type": "code",
   "execution_count": 1,
   "id": "794718d1",
   "metadata": {},
   "outputs": [],
   "source": [
    "import numpy as np\n",
    "import os\n",
    "import pandas as pd\n",
    "import matplotlib.pyplot as plt\n",
    "\n",
    "pd.set_option('display.max_rows', 5)"
   ]
  },
  {
   "cell_type": "markdown",
   "id": "bc259a63",
   "metadata": {},
   "source": [
    "# Performance Comparison"
   ]
  },
  {
   "cell_type": "code",
   "execution_count": 41,
   "id": "c71bc585",
   "metadata": {},
   "outputs": [],
   "source": [
    "dataset = 'synthetic'\n",
    "train_size = 200\n",
    "sigma = 0.5\n",
    "max_features = {\n",
    "    'synthetic': 256,\n",
    "}\n",
    "\n",
    "PATH = \"/home/gridsan/shibal/SkinnyTrees/scripts\"\n",
    "RUN = 1"
   ]
  },
  {
   "cell_type": "code",
   "execution_count": 42,
   "id": "ed9ad288",
   "metadata": {
    "scrolled": true
   },
   "outputs": [
    {
     "name": "stdout",
     "output_type": "stream",
     "text": [
      "======== Anneal:True\n"
     ]
    }
   ],
   "source": [
    "annealing = [True]\n",
    "criteria = 'auc'\n",
    "tuning_seeds = [0]\n",
    "seeds = np.arange(1,26)\n",
    "\n",
    "for anneal in annealing:\n",
    "    print(\"======== Anneal:{}\".format(anneal))\n",
    "    \n",
    "    result_df = pd.DataFrame()\n",
    "    for seed in seeds: \n",
    "        for tuning_seed in tuning_seeds:\n",
    "            path = f\"{PATH}/logs_trees/skinny_trees/syntheticdata/{dataset}/{sigma}/{max_features[dataset]}/mse/{RUN}.{tuning_seed}/anneal{anneal}/train_size_{train_size}/results/seed{seed}/study-anneal.csv\"\n",
    "            try:\n",
    "                df_temp = pd.read_csv(path)\n",
    "                df_temp['seed'] = seed\n",
    "            except:\n",
    "                print(\"Missing:\", path)\n",
    "                continue\n",
    "            result_df = pd.concat([result_df,df_temp],axis=0)\n",
    "            result_df.index = np.arange(len(result_df))"
   ]
  },
  {
   "cell_type": "code",
   "execution_count": 43,
   "id": "c66e0e4c",
   "metadata": {},
   "outputs": [
    {
     "data": {
      "text/html": [
       "<div>\n",
       "<style scoped>\n",
       "    .dataframe tbody tr th:only-of-type {\n",
       "        vertical-align: middle;\n",
       "    }\n",
       "\n",
       "    .dataframe tbody tr th {\n",
       "        vertical-align: top;\n",
       "    }\n",
       "\n",
       "    .dataframe thead th {\n",
       "        text-align: right;\n",
       "    }\n",
       "</style>\n",
       "<table border=\"1\" class=\"dataframe\">\n",
       "  <thead>\n",
       "    <tr style=\"text-align: right;\">\n",
       "      <th></th>\n",
       "      <th>Unnamed: 0</th>\n",
       "      <th>number</th>\n",
       "      <th>value</th>\n",
       "      <th>datetime_start</th>\n",
       "      <th>datetime_complete</th>\n",
       "      <th>duration</th>\n",
       "      <th>params_batch_size_scaler</th>\n",
       "      <th>params_constant_batch_size</th>\n",
       "      <th>params_constant_learning_rate</th>\n",
       "      <th>params_depth</th>\n",
       "      <th>...</th>\n",
       "      <th>user_attrs_fnr</th>\n",
       "      <th>user_attrs_fpr</th>\n",
       "      <th>user_attrs_mse_test</th>\n",
       "      <th>user_attrs_mse_valid</th>\n",
       "      <th>user_attrs_num_epochs</th>\n",
       "      <th>user_attrs_tnr</th>\n",
       "      <th>user_attrs_tpr</th>\n",
       "      <th>user_attrs_val_loss_history</th>\n",
       "      <th>state</th>\n",
       "      <th>seed</th>\n",
       "    </tr>\n",
       "  </thead>\n",
       "  <tbody>\n",
       "    <tr>\n",
       "      <th>0</th>\n",
       "      <td>0</td>\n",
       "      <td>0</td>\n",
       "      <td>0.315877</td>\n",
       "      <td>2024-09-02 19:01:26.778813</td>\n",
       "      <td>2024-09-02 19:01:58.854560</td>\n",
       "      <td>0 days 00:00:32.075747</td>\n",
       "      <td>2</td>\n",
       "      <td>16</td>\n",
       "      <td>0.060750</td>\n",
       "      <td>2</td>\n",
       "      <td>...</td>\n",
       "      <td>0.0</td>\n",
       "      <td>0.028226</td>\n",
       "      <td>0.362881</td>\n",
       "      <td>0.315877</td>\n",
       "      <td>400</td>\n",
       "      <td>0.971774</td>\n",
       "      <td>1.0</td>\n",
       "      <td>[7.428797245025635, 5.35869836807251, 4.593649...</td>\n",
       "      <td>COMPLETE</td>\n",
       "      <td>1</td>\n",
       "    </tr>\n",
       "    <tr>\n",
       "      <th>1</th>\n",
       "      <td>1</td>\n",
       "      <td>1</td>\n",
       "      <td>2.102162</td>\n",
       "      <td>2024-09-02 19:01:58.861802</td>\n",
       "      <td>2024-09-02 19:02:28.185658</td>\n",
       "      <td>0 days 00:00:29.323856</td>\n",
       "      <td>1</td>\n",
       "      <td>16</td>\n",
       "      <td>0.090623</td>\n",
       "      <td>3</td>\n",
       "      <td>...</td>\n",
       "      <td>0.0</td>\n",
       "      <td>1.000000</td>\n",
       "      <td>3.339424</td>\n",
       "      <td>2.102162</td>\n",
       "      <td>395</td>\n",
       "      <td>0.000000</td>\n",
       "      <td>1.0</td>\n",
       "      <td>[4.458810329437256, 2.275142192840576, 2.39778...</td>\n",
       "      <td>COMPLETE</td>\n",
       "      <td>1</td>\n",
       "    </tr>\n",
       "    <tr>\n",
       "      <th>...</th>\n",
       "      <td>...</td>\n",
       "      <td>...</td>\n",
       "      <td>...</td>\n",
       "      <td>...</td>\n",
       "      <td>...</td>\n",
       "      <td>...</td>\n",
       "      <td>...</td>\n",
       "      <td>...</td>\n",
       "      <td>...</td>\n",
       "      <td>...</td>\n",
       "      <td>...</td>\n",
       "      <td>...</td>\n",
       "      <td>...</td>\n",
       "      <td>...</td>\n",
       "      <td>...</td>\n",
       "      <td>...</td>\n",
       "      <td>...</td>\n",
       "      <td>...</td>\n",
       "      <td>...</td>\n",
       "      <td>...</td>\n",
       "      <td>...</td>\n",
       "    </tr>\n",
       "    <tr>\n",
       "      <th>12498</th>\n",
       "      <td>498</td>\n",
       "      <td>498</td>\n",
       "      <td>2.989162</td>\n",
       "      <td>2024-09-02 21:40:53.841383</td>\n",
       "      <td>2024-09-02 21:41:12.136289</td>\n",
       "      <td>0 days 00:00:18.294906</td>\n",
       "      <td>5</td>\n",
       "      <td>16</td>\n",
       "      <td>0.002344</td>\n",
       "      <td>2</td>\n",
       "      <td>...</td>\n",
       "      <td>0.0</td>\n",
       "      <td>1.000000</td>\n",
       "      <td>3.846417</td>\n",
       "      <td>2.989162</td>\n",
       "      <td>395</td>\n",
       "      <td>0.000000</td>\n",
       "      <td>1.0</td>\n",
       "      <td>[6.6486687660217285, 6.637072563171387, 6.6255...</td>\n",
       "      <td>COMPLETE</td>\n",
       "      <td>25</td>\n",
       "    </tr>\n",
       "    <tr>\n",
       "      <th>12499</th>\n",
       "      <td>499</td>\n",
       "      <td>499</td>\n",
       "      <td>2.885061</td>\n",
       "      <td>2024-09-02 21:41:12.139229</td>\n",
       "      <td>2024-09-02 21:41:24.373547</td>\n",
       "      <td>0 days 00:00:12.234318</td>\n",
       "      <td>1</td>\n",
       "      <td>16</td>\n",
       "      <td>0.018199</td>\n",
       "      <td>5</td>\n",
       "      <td>...</td>\n",
       "      <td>0.0</td>\n",
       "      <td>1.000000</td>\n",
       "      <td>3.706625</td>\n",
       "      <td>2.885061</td>\n",
       "      <td>50</td>\n",
       "      <td>0.000000</td>\n",
       "      <td>1.0</td>\n",
       "      <td>[29.479442596435547, 28.01340103149414, 26.664...</td>\n",
       "      <td>COMPLETE</td>\n",
       "      <td>25</td>\n",
       "    </tr>\n",
       "  </tbody>\n",
       "</table>\n",
       "<p>12500 rows × 33 columns</p>\n",
       "</div>"
      ],
      "text/plain": [
       "       Unnamed: 0  number     value              datetime_start  \\\n",
       "0               0       0  0.315877  2024-09-02 19:01:26.778813   \n",
       "1               1       1  2.102162  2024-09-02 19:01:58.861802   \n",
       "...           ...     ...       ...                         ...   \n",
       "12498         498     498  2.989162  2024-09-02 21:40:53.841383   \n",
       "12499         499     499  2.885061  2024-09-02 21:41:12.139229   \n",
       "\n",
       "                datetime_complete                duration  \\\n",
       "0      2024-09-02 19:01:58.854560  0 days 00:00:32.075747   \n",
       "1      2024-09-02 19:02:28.185658  0 days 00:00:29.323856   \n",
       "...                           ...                     ...   \n",
       "12498  2024-09-02 21:41:12.136289  0 days 00:00:18.294906   \n",
       "12499  2024-09-02 21:41:24.373547  0 days 00:00:12.234318   \n",
       "\n",
       "       params_batch_size_scaler  params_constant_batch_size  \\\n",
       "0                             2                          16   \n",
       "1                             1                          16   \n",
       "...                         ...                         ...   \n",
       "12498                         5                          16   \n",
       "12499                         1                          16   \n",
       "\n",
       "       params_constant_learning_rate  params_depth  ...  user_attrs_fnr  \\\n",
       "0                           0.060750             2  ...             0.0   \n",
       "1                           0.090623             3  ...             0.0   \n",
       "...                              ...           ...  ...             ...   \n",
       "12498                       0.002344             2  ...             0.0   \n",
       "12499                       0.018199             5  ...             0.0   \n",
       "\n",
       "       user_attrs_fpr  user_attrs_mse_test  user_attrs_mse_valid  \\\n",
       "0            0.028226             0.362881              0.315877   \n",
       "1            1.000000             3.339424              2.102162   \n",
       "...               ...                  ...                   ...   \n",
       "12498        1.000000             3.846417              2.989162   \n",
       "12499        1.000000             3.706625              2.885061   \n",
       "\n",
       "       user_attrs_num_epochs  user_attrs_tnr  user_attrs_tpr  \\\n",
       "0                        400        0.971774             1.0   \n",
       "1                        395        0.000000             1.0   \n",
       "...                      ...             ...             ...   \n",
       "12498                    395        0.000000             1.0   \n",
       "12499                     50        0.000000             1.0   \n",
       "\n",
       "                             user_attrs_val_loss_history     state  seed  \n",
       "0      [7.428797245025635, 5.35869836807251, 4.593649...  COMPLETE     1  \n",
       "1      [4.458810329437256, 2.275142192840576, 2.39778...  COMPLETE     1  \n",
       "...                                                  ...       ...   ...  \n",
       "12498  [6.6486687660217285, 6.637072563171387, 6.6255...  COMPLETE    25  \n",
       "12499  [29.479442596435547, 28.01340103149414, 26.664...  COMPLETE    25  \n",
       "\n",
       "[12500 rows x 33 columns]"
      ]
     },
     "execution_count": 43,
     "metadata": {},
     "output_type": "execute_result"
    }
   ],
   "source": [
    "result_df"
   ]
  },
  {
   "cell_type": "code",
   "execution_count": 44,
   "id": "29920690",
   "metadata": {},
   "outputs": [],
   "source": [
    "# result_df = result_df[result_df['params_depth']<=4]\n",
    "# result_df = result_df[result_df['user_attrs_feature_sparsity']<=100]"
   ]
  },
  {
   "cell_type": "code",
   "execution_count": 45,
   "id": "ebcf086e",
   "metadata": {},
   "outputs": [],
   "source": [
    "best_ = dict()\n",
    "for seed, df in result_df.groupby('seed'):\n",
    "    if len(df) == 0:\n",
    "        best_[seed] = pd.Series()\n",
    "        continue\n",
    "    best_[seed]=df.iloc[df['user_attrs_mse_valid'].argmin()].copy()"
   ]
  },
  {
   "cell_type": "code",
   "execution_count": 46,
   "id": "5c021258",
   "metadata": {},
   "outputs": [],
   "source": [
    "best_df = pd.DataFrame(best_).T"
   ]
  },
  {
   "cell_type": "code",
   "execution_count": 47,
   "id": "fd28d63f",
   "metadata": {},
   "outputs": [],
   "source": [
    "metrics = [\n",
    "    'params_batch_size_scaler', 'params_constant_batch_size',\n",
    "    'params_constant_learning_rate', 'params_depth', 'params_epochs', \n",
    "#     'params_kernel_constraint',\n",
    "    'params_kernel_l2',\n",
    "    'params_num_trees',\n",
    "    'params_temperature',\n",
    "    'params_use_annealing',\n",
    "    'user_attrs_feature_sparsity',\n",
    "    'user_attrs_feature_support',\n",
    "    'user_attrs_feature_support_truth',\n",
    "    'user_attrs_fnr', 'user_attrs_fpr',\n",
    "    'user_attrs_mse_test',\n",
    "    'user_attrs_mse_valid', \n",
    "    'user_attrs_num_epochs', 'user_attrs_tnr',\n",
    "    'user_attrs_tpr',    \n",
    "    'user_attrs_f1',    \n",
    "]\n",
    "best_df = best_df[metrics]"
   ]
  },
  {
   "cell_type": "code",
   "execution_count": 48,
   "id": "f7df6990",
   "metadata": {},
   "outputs": [
    {
     "data": {
      "text/html": [
       "<div>\n",
       "<style scoped>\n",
       "    .dataframe tbody tr th:only-of-type {\n",
       "        vertical-align: middle;\n",
       "    }\n",
       "\n",
       "    .dataframe tbody tr th {\n",
       "        vertical-align: top;\n",
       "    }\n",
       "\n",
       "    .dataframe thead th {\n",
       "        text-align: right;\n",
       "    }\n",
       "</style>\n",
       "<table border=\"1\" class=\"dataframe\">\n",
       "  <thead>\n",
       "    <tr style=\"text-align: right;\">\n",
       "      <th></th>\n",
       "      <th>params_batch_size_scaler</th>\n",
       "      <th>params_constant_batch_size</th>\n",
       "      <th>params_constant_learning_rate</th>\n",
       "      <th>params_depth</th>\n",
       "      <th>params_epochs</th>\n",
       "      <th>params_kernel_l2</th>\n",
       "      <th>params_num_trees</th>\n",
       "      <th>params_temperature</th>\n",
       "      <th>params_use_annealing</th>\n",
       "      <th>user_attrs_feature_sparsity</th>\n",
       "      <th>user_attrs_feature_support</th>\n",
       "      <th>user_attrs_feature_support_truth</th>\n",
       "      <th>user_attrs_fnr</th>\n",
       "      <th>user_attrs_fpr</th>\n",
       "      <th>user_attrs_mse_test</th>\n",
       "      <th>user_attrs_mse_valid</th>\n",
       "      <th>user_attrs_num_epochs</th>\n",
       "      <th>user_attrs_tnr</th>\n",
       "      <th>user_attrs_tpr</th>\n",
       "      <th>user_attrs_f1</th>\n",
       "    </tr>\n",
       "  </thead>\n",
       "  <tbody>\n",
       "    <tr>\n",
       "      <th>1</th>\n",
       "      <td>1</td>\n",
       "      <td>16</td>\n",
       "      <td>0.047487</td>\n",
       "      <td>3</td>\n",
       "      <td>280</td>\n",
       "      <td>17.250368</td>\n",
       "      <td>45</td>\n",
       "      <td>0.000863</td>\n",
       "      <td>True</td>\n",
       "      <td>8</td>\n",
       "      <td>[False False False False False False False Fal...</td>\n",
       "      <td>[0. 0. 0. 0. 0. 0. 0. 0. 0. 0. 0. 0. 0. 0. 0. ...</td>\n",
       "      <td>0.0</td>\n",
       "      <td>0.0</td>\n",
       "      <td>0.262683</td>\n",
       "      <td>0.201856</td>\n",
       "      <td>280</td>\n",
       "      <td>1.0</td>\n",
       "      <td>1.0</td>\n",
       "      <td>1.0</td>\n",
       "    </tr>\n",
       "    <tr>\n",
       "      <th>2</th>\n",
       "      <td>4</td>\n",
       "      <td>16</td>\n",
       "      <td>0.035789</td>\n",
       "      <td>2</td>\n",
       "      <td>335</td>\n",
       "      <td>1.789029</td>\n",
       "      <td>16</td>\n",
       "      <td>0.003288</td>\n",
       "      <td>True</td>\n",
       "      <td>11</td>\n",
       "      <td>[False False False False False False False Fal...</td>\n",
       "      <td>[0. 0. 0. 0. 0. 0. 0. 0. 0. 0. 0. 0. 0. 0. 0. ...</td>\n",
       "      <td>0.0</td>\n",
       "      <td>0.012097</td>\n",
       "      <td>0.291879</td>\n",
       "      <td>0.263706</td>\n",
       "      <td>335</td>\n",
       "      <td>0.987903</td>\n",
       "      <td>1.0</td>\n",
       "      <td>0.842105</td>\n",
       "    </tr>\n",
       "    <tr>\n",
       "      <th>...</th>\n",
       "      <td>...</td>\n",
       "      <td>...</td>\n",
       "      <td>...</td>\n",
       "      <td>...</td>\n",
       "      <td>...</td>\n",
       "      <td>...</td>\n",
       "      <td>...</td>\n",
       "      <td>...</td>\n",
       "      <td>...</td>\n",
       "      <td>...</td>\n",
       "      <td>...</td>\n",
       "      <td>...</td>\n",
       "      <td>...</td>\n",
       "      <td>...</td>\n",
       "      <td>...</td>\n",
       "      <td>...</td>\n",
       "      <td>...</td>\n",
       "      <td>...</td>\n",
       "      <td>...</td>\n",
       "      <td>...</td>\n",
       "    </tr>\n",
       "    <tr>\n",
       "      <th>24</th>\n",
       "      <td>2</td>\n",
       "      <td>16</td>\n",
       "      <td>0.06075</td>\n",
       "      <td>2</td>\n",
       "      <td>400</td>\n",
       "      <td>1.304907</td>\n",
       "      <td>49</td>\n",
       "      <td>0.00506</td>\n",
       "      <td>True</td>\n",
       "      <td>9</td>\n",
       "      <td>[False False False False False False False Fal...</td>\n",
       "      <td>[0. 0. 0. 0. 0. 0. 0. 0. 0. 0. 0. 0. 0. 0. 0. ...</td>\n",
       "      <td>0.0</td>\n",
       "      <td>0.004032</td>\n",
       "      <td>0.308743</td>\n",
       "      <td>0.344239</td>\n",
       "      <td>400</td>\n",
       "      <td>0.995968</td>\n",
       "      <td>1.0</td>\n",
       "      <td>0.941176</td>\n",
       "    </tr>\n",
       "    <tr>\n",
       "      <th>25</th>\n",
       "      <td>2</td>\n",
       "      <td>16</td>\n",
       "      <td>0.070067</td>\n",
       "      <td>3</td>\n",
       "      <td>250</td>\n",
       "      <td>12.962429</td>\n",
       "      <td>15</td>\n",
       "      <td>0.034096</td>\n",
       "      <td>True</td>\n",
       "      <td>8</td>\n",
       "      <td>[False False False False False False False Fal...</td>\n",
       "      <td>[0. 0. 0. 0. 0. 0. 0. 0. 0. 0. 0. 0. 0. 0. 0. ...</td>\n",
       "      <td>0.0</td>\n",
       "      <td>0.0</td>\n",
       "      <td>0.298471</td>\n",
       "      <td>0.160021</td>\n",
       "      <td>250</td>\n",
       "      <td>1.0</td>\n",
       "      <td>1.0</td>\n",
       "      <td>1.0</td>\n",
       "    </tr>\n",
       "  </tbody>\n",
       "</table>\n",
       "<p>25 rows × 20 columns</p>\n",
       "</div>"
      ],
      "text/plain": [
       "   params_batch_size_scaler params_constant_batch_size  \\\n",
       "1                         1                         16   \n",
       "2                         4                         16   \n",
       "..                      ...                        ...   \n",
       "24                        2                         16   \n",
       "25                        2                         16   \n",
       "\n",
       "   params_constant_learning_rate params_depth params_epochs params_kernel_l2  \\\n",
       "1                       0.047487            3           280        17.250368   \n",
       "2                       0.035789            2           335         1.789029   \n",
       "..                           ...          ...           ...              ...   \n",
       "24                       0.06075            2           400         1.304907   \n",
       "25                      0.070067            3           250        12.962429   \n",
       "\n",
       "   params_num_trees params_temperature params_use_annealing  \\\n",
       "1                45           0.000863                 True   \n",
       "2                16           0.003288                 True   \n",
       "..              ...                ...                  ...   \n",
       "24               49            0.00506                 True   \n",
       "25               15           0.034096                 True   \n",
       "\n",
       "   user_attrs_feature_sparsity  \\\n",
       "1                            8   \n",
       "2                           11   \n",
       "..                         ...   \n",
       "24                           9   \n",
       "25                           8   \n",
       "\n",
       "                           user_attrs_feature_support  \\\n",
       "1   [False False False False False False False Fal...   \n",
       "2   [False False False False False False False Fal...   \n",
       "..                                                ...   \n",
       "24  [False False False False False False False Fal...   \n",
       "25  [False False False False False False False Fal...   \n",
       "\n",
       "                     user_attrs_feature_support_truth user_attrs_fnr  \\\n",
       "1   [0. 0. 0. 0. 0. 0. 0. 0. 0. 0. 0. 0. 0. 0. 0. ...            0.0   \n",
       "2   [0. 0. 0. 0. 0. 0. 0. 0. 0. 0. 0. 0. 0. 0. 0. ...            0.0   \n",
       "..                                                ...            ...   \n",
       "24  [0. 0. 0. 0. 0. 0. 0. 0. 0. 0. 0. 0. 0. 0. 0. ...            0.0   \n",
       "25  [0. 0. 0. 0. 0. 0. 0. 0. 0. 0. 0. 0. 0. 0. 0. ...            0.0   \n",
       "\n",
       "   user_attrs_fpr user_attrs_mse_test user_attrs_mse_valid  \\\n",
       "1             0.0            0.262683             0.201856   \n",
       "2        0.012097            0.291879             0.263706   \n",
       "..            ...                 ...                  ...   \n",
       "24       0.004032            0.308743             0.344239   \n",
       "25            0.0            0.298471             0.160021   \n",
       "\n",
       "   user_attrs_num_epochs user_attrs_tnr user_attrs_tpr user_attrs_f1  \n",
       "1                    280            1.0            1.0           1.0  \n",
       "2                    335       0.987903            1.0      0.842105  \n",
       "..                   ...            ...            ...           ...  \n",
       "24                   400       0.995968            1.0      0.941176  \n",
       "25                   250            1.0            1.0           1.0  \n",
       "\n",
       "[25 rows x 20 columns]"
      ]
     },
     "execution_count": 48,
     "metadata": {},
     "output_type": "execute_result"
    }
   ],
   "source": [
    "best_df"
   ]
  },
  {
   "cell_type": "code",
   "execution_count": 49,
   "id": "cce15107",
   "metadata": {},
   "outputs": [
    {
     "data": {
      "text/plain": [
       "Index(['params_batch_size_scaler', 'params_constant_batch_size',\n",
       "       'params_constant_learning_rate', 'params_depth', 'params_epochs',\n",
       "       'params_kernel_l2', 'params_num_trees', 'params_temperature',\n",
       "       'params_use_annealing', 'user_attrs_feature_sparsity',\n",
       "       'user_attrs_feature_support', 'user_attrs_feature_support_truth',\n",
       "       'user_attrs_fnr', 'user_attrs_fpr', 'user_attrs_mse_test',\n",
       "       'user_attrs_mse_valid', 'user_attrs_num_epochs', 'user_attrs_tnr',\n",
       "       'user_attrs_tpr', 'user_attrs_f1'],\n",
       "      dtype='object')"
      ]
     },
     "execution_count": 49,
     "metadata": {},
     "output_type": "execute_result"
    }
   ],
   "source": [
    "best_df.columns"
   ]
  },
  {
   "cell_type": "code",
   "execution_count": 50,
   "id": "fd66232d",
   "metadata": {},
   "outputs": [
    {
     "data": {
      "text/plain": [
       "Index([ 1,  2,  3,  4,  5,  6,  7,  8,  9, 10, 11, 12, 13, 14, 15, 16, 17, 18,\n",
       "       19, 20, 21, 22, 23, 24, 25],\n",
       "      dtype='int64')"
      ]
     },
     "execution_count": 50,
     "metadata": {},
     "output_type": "execute_result"
    }
   ],
   "source": [
    "best_df.index"
   ]
  },
  {
   "cell_type": "code",
   "execution_count": 51,
   "id": "55bc8f54",
   "metadata": {},
   "outputs": [
    {
     "data": {
      "text/plain": [
       "array([3, 2, 2, 2, 3, 2, 2, 3, 2, 3, 2, 2, 3, 2, 2, 4, 3, 2, 2, 3, 2, 4,\n",
       "       3, 2, 3], dtype=object)"
      ]
     },
     "execution_count": 51,
     "metadata": {},
     "output_type": "execute_result"
    }
   ],
   "source": [
    "best_df['params_depth'].values"
   ]
  },
  {
   "cell_type": "code",
   "execution_count": 52,
   "id": "eb1ed32b",
   "metadata": {},
   "outputs": [
    {
     "data": {
      "text/plain": [
       "(0.2965501053797922, 0.0064898173063194)"
      ]
     },
     "execution_count": 52,
     "metadata": {},
     "output_type": "execute_result"
    }
   ],
   "source": [
    "best_df['user_attrs_mse_test'].mean(), best_df['user_attrs_mse_test'].sem()"
   ]
  },
  {
   "cell_type": "code",
   "execution_count": 53,
   "id": "3d4eb2bb",
   "metadata": {},
   "outputs": [
    {
     "data": {
      "text/plain": [
       "(0.945782743303271, 0.023552853770671588)"
      ]
     },
     "execution_count": 53,
     "metadata": {},
     "output_type": "execute_result"
    }
   ],
   "source": [
    "best_df['user_attrs_f1'].mean(), best_df['user_attrs_f1'].sem()"
   ]
  },
  {
   "cell_type": "code",
   "execution_count": 54,
   "id": "551bae84",
   "metadata": {},
   "outputs": [
    {
     "data": {
      "text/plain": [
       "(9.32, 0.6873136110975834)"
      ]
     },
     "execution_count": 54,
     "metadata": {},
     "output_type": "execute_result"
    }
   ],
   "source": [
    "best_df['user_attrs_feature_sparsity'].mean(), best_df['user_attrs_feature_sparsity'].sem()"
   ]
  },
  {
   "cell_type": "code",
   "execution_count": 17,
   "id": "f76ac268",
   "metadata": {},
   "outputs": [
    {
     "data": {
      "text/plain": [
       "array([0.2826161794374245, 0.2902506172840384, 0.2958542004223303,\n",
       "       0.2973347324947937, 0.3021943608078454, 0.3025831763628264,\n",
       "       0.3057036180359395, 0.3137305966587723, 0.3222848207059188,\n",
       "       0.3230424043288123, 0.3233633431218924, 0.3238799467385866,\n",
       "       0.3279738312505992, 0.3382594849372435, 0.3394149984502744,\n",
       "       0.3469442617161574, 0.3500925604558429, 0.3536877250497114,\n",
       "       0.3581168919677435, 0.3845600895202053, 0.3886998024270791,\n",
       "       0.4005870399931151, 0.4117923354195443, 0.4626539475619072,\n",
       "       0.4718456650727365], dtype=object)"
      ]
     },
     "execution_count": 17,
     "metadata": {},
     "output_type": "execute_result"
    }
   ],
   "source": [
    "best_df['user_attrs_mse_test'].sort_values().values"
   ]
  },
  {
   "cell_type": "code",
   "execution_count": 18,
   "id": "1f5ff6f8",
   "metadata": {},
   "outputs": [
    {
     "data": {
      "text/plain": [
       "8.68"
      ]
     },
     "execution_count": 18,
     "metadata": {},
     "output_type": "execute_result"
    }
   ],
   "source": [
    "best_df['user_attrs_feature_sparsity'].mean()"
   ]
  },
  {
   "cell_type": "code",
   "execution_count": 19,
   "id": "fa75382b",
   "metadata": {},
   "outputs": [
    {
     "data": {
      "text/plain": [
       "array([8, 8, 9, 9, 8, 10, 8, 8, 8, 10, 8, 8, 8, 8, 8, 10, 8, 8, 8, 10, 8,\n",
       "       11, 8, 8, 12], dtype=object)"
      ]
     },
     "execution_count": 19,
     "metadata": {},
     "output_type": "execute_result"
    }
   ],
   "source": [
    "best_df['user_attrs_feature_sparsity'].values"
   ]
  },
  {
   "cell_type": "code",
   "execution_count": 20,
   "id": "a1143fa5",
   "metadata": {},
   "outputs": [
    {
     "data": {
      "text/plain": [
       "array([265, 415, 415, 225, 400, 280, 50, 400, 475, 400, 300, 265, 415,\n",
       "       280, 295, 415, 440, 440, 250, 50, 170, 440, 280, 415, 400],\n",
       "      dtype=object)"
      ]
     },
     "execution_count": 20,
     "metadata": {},
     "output_type": "execute_result"
    }
   ],
   "source": [
    "best_df['user_attrs_num_epochs'].values"
   ]
  },
  {
   "cell_type": "code",
   "execution_count": 21,
   "id": "2ccff41e",
   "metadata": {},
   "outputs": [
    {
     "data": {
      "text/plain": [
       "Index(['params_batch_size_scaler', 'params_constant_batch_size',\n",
       "       'params_constant_learning_rate', 'params_depth', 'params_epochs',\n",
       "       'params_kernel_l2', 'params_num_trees', 'params_temperature',\n",
       "       'params_use_annealing', 'user_attrs_feature_sparsity',\n",
       "       'user_attrs_feature_support', 'user_attrs_feature_support_truth',\n",
       "       'user_attrs_fnr', 'user_attrs_fpr', 'user_attrs_mse_test',\n",
       "       'user_attrs_mse_valid', 'user_attrs_num_epochs', 'user_attrs_tnr',\n",
       "       'user_attrs_tpr', 'user_attrs_f1'],\n",
       "      dtype='object')"
      ]
     },
     "execution_count": 21,
     "metadata": {},
     "output_type": "execute_result"
    }
   ],
   "source": [
    "best_df.columns"
   ]
  },
  {
   "cell_type": "code",
   "execution_count": 22,
   "id": "f95145d3",
   "metadata": {},
   "outputs": [
    {
     "data": {
      "text/plain": [
       "array([8, 8, 9, 9, 8, 10, 8, 8, 8, 10, 8, 8, 8, 8, 8, 10, 8, 8, 8, 10, 8,\n",
       "       11, 8, 8, 12], dtype=object)"
      ]
     },
     "execution_count": 22,
     "metadata": {},
     "output_type": "execute_result"
    }
   ],
   "source": [
    "best_df['user_attrs_feature_sparsity'].values"
   ]
  },
  {
   "cell_type": "code",
   "execution_count": 23,
   "id": "bf38c022",
   "metadata": {},
   "outputs": [
    {
     "data": {
      "text/plain": [
       "(8.68, 0.22891046284519195)"
      ]
     },
     "execution_count": 23,
     "metadata": {},
     "output_type": "execute_result"
    }
   ],
   "source": [
    "best_df['user_attrs_feature_sparsity'].mean(), best_df['user_attrs_feature_sparsity'].sem()"
   ]
  },
  {
   "cell_type": "code",
   "execution_count": 24,
   "id": "be7bd5fd",
   "metadata": {},
   "outputs": [
    {
     "data": {
      "text/plain": [
       "0.06549277814189466"
      ]
     },
     "execution_count": 24,
     "metadata": {},
     "output_type": "execute_result"
    }
   ],
   "source": [
    "best_df['params_constant_learning_rate'].mean()"
   ]
  },
  {
   "cell_type": "code",
   "execution_count": 25,
   "id": "9b60b312",
   "metadata": {},
   "outputs": [
    {
     "data": {
      "text/plain": [
       "1     [0. 0. 0. 0. 0. 0. 0. 0. 0. 0. 0. 0. 0. 0. 0. ...\n",
       "2     [0. 0. 0. 0. 0. 0. 0. 0. 0. 0. 0. 0. 0. 0. 0. ...\n",
       "                            ...                        \n",
       "24    [0. 0. 0. 0. 0. 0. 0. 0. 0. 0. 0. 0. 0. 0. 0. ...\n",
       "25    [0. 0. 0. 0. 0. 0. 0. 0. 0. 0. 0. 0. 0. 0. 0. ...\n",
       "Name: user_attrs_feature_support_truth, Length: 25, dtype: object"
      ]
     },
     "execution_count": 25,
     "metadata": {},
     "output_type": "execute_result"
    }
   ],
   "source": [
    "best_df['user_attrs_feature_support_truth']"
   ]
  },
  {
   "cell_type": "code",
   "execution_count": 26,
   "id": "ace30b58",
   "metadata": {},
   "outputs": [
    {
     "data": {
      "text/html": [
       "<div>\n",
       "<style scoped>\n",
       "    .dataframe tbody tr th:only-of-type {\n",
       "        vertical-align: middle;\n",
       "    }\n",
       "\n",
       "    .dataframe tbody tr th {\n",
       "        vertical-align: top;\n",
       "    }\n",
       "\n",
       "    .dataframe thead th {\n",
       "        text-align: right;\n",
       "    }\n",
       "</style>\n",
       "<table border=\"1\" class=\"dataframe\">\n",
       "  <thead>\n",
       "    <tr style=\"text-align: right;\">\n",
       "      <th></th>\n",
       "      <th>0</th>\n",
       "      <th>1</th>\n",
       "    </tr>\n",
       "  </thead>\n",
       "  <tbody>\n",
       "    <tr>\n",
       "      <th>1</th>\n",
       "      <td></td>\n",
       "      <td>0. 0. 0. 0. 0. 0. 0. 0. 0. 0. 0. 0. 0. 0. 0. 0...</td>\n",
       "    </tr>\n",
       "    <tr>\n",
       "      <th>2</th>\n",
       "      <td></td>\n",
       "      <td>0. 0. 0. 0. 0. 0. 0. 0. 0. 0. 0. 0. 0. 0. 0. 0...</td>\n",
       "    </tr>\n",
       "    <tr>\n",
       "      <th>...</th>\n",
       "      <td>...</td>\n",
       "      <td>...</td>\n",
       "    </tr>\n",
       "    <tr>\n",
       "      <th>24</th>\n",
       "      <td></td>\n",
       "      <td>0. 0. 0. 0. 0. 0. 0. 0. 0. 0. 0. 0. 0. 0. 0. 0...</td>\n",
       "    </tr>\n",
       "    <tr>\n",
       "      <th>25</th>\n",
       "      <td></td>\n",
       "      <td>0. 0. 0. 0. 0. 0. 0. 0. 0. 0. 0. 0. 0. 0. 0. 0...</td>\n",
       "    </tr>\n",
       "  </tbody>\n",
       "</table>\n",
       "<p>25 rows × 2 columns</p>\n",
       "</div>"
      ],
      "text/plain": [
       "   0                                                   1\n",
       "1      0. 0. 0. 0. 0. 0. 0. 0. 0. 0. 0. 0. 0. 0. 0. 0...\n",
       "2      0. 0. 0. 0. 0. 0. 0. 0. 0. 0. 0. 0. 0. 0. 0. 0...\n",
       ".. ..                                                ...\n",
       "24     0. 0. 0. 0. 0. 0. 0. 0. 0. 0. 0. 0. 0. 0. 0. 0...\n",
       "25     0. 0. 0. 0. 0. 0. 0. 0. 0. 0. 0. 0. 0. 0. 0. 0...\n",
       "\n",
       "[25 rows x 2 columns]"
      ]
     },
     "execution_count": 26,
     "metadata": {},
     "output_type": "execute_result"
    }
   ],
   "source": [
    "best_df['user_attrs_feature_support_truth'].str.rsplit(pat='[', n=max_features[dataset], expand=True)"
   ]
  },
  {
   "cell_type": "code",
   "execution_count": 27,
   "id": "ee70defe",
   "metadata": {},
   "outputs": [
    {
     "data": {
      "text/plain": [
       "1     [0. 0. 0. 0. 0. 0. 0. 0. 0. 0. 0. 0. 0. 0. 0. ...\n",
       "2     [0. 0. 0. 0. 0. 0. 0. 0. 0. 0. 0. 0. 0. 0. 0. ...\n",
       "                            ...                        \n",
       "24    [0. 0. 0. 0. 0. 0. 0. 0. 0. 0. 0. 0. 0. 0. 0. ...\n",
       "25    [0. 0. 0. 0. 0. 0. 0. 0. 0. 0. 0. 0. 0. 0. 0. ...\n",
       "Name: user_attrs_feature_support_truth, Length: 25, dtype: object"
      ]
     },
     "execution_count": 27,
     "metadata": {},
     "output_type": "execute_result"
    }
   ],
   "source": [
    "best_df['user_attrs_feature_support_truth']"
   ]
  },
  {
   "cell_type": "code",
   "execution_count": 28,
   "id": "bee9b963",
   "metadata": {},
   "outputs": [
    {
     "data": {
      "text/plain": [
       "1     0. 0. 0. 0. 0. 0. 0. 0. 0. 0. 0. 0. 0. 0. 0. 0...\n",
       "2     0. 0. 0. 0. 0. 0. 0. 0. 0. 0. 0. 0. 0. 0. 0. 0...\n",
       "                            ...                        \n",
       "24    0. 0. 0. 0. 0. 0. 0. 0. 0. 0. 0. 0. 0. 0. 0. 0...\n",
       "25    0. 0. 0. 0. 0. 0. 0. 0. 0. 0. 0. 0. 0. 0. 0. 0...\n",
       "Name: 0, Length: 25, dtype: object"
      ]
     },
     "execution_count": 28,
     "metadata": {},
     "output_type": "execute_result"
    }
   ],
   "source": [
    "best_df['user_attrs_feature_support_truth'].str.rsplit(pat='[', n=max_features[dataset], expand=True)[1].str.rsplit(pat=']', n=256, expand=True)[0]"
   ]
  },
  {
   "cell_type": "code",
   "execution_count": 29,
   "id": "8033133c",
   "metadata": {},
   "outputs": [
    {
     "data": {
      "text/plain": [
       "array([0, 0, 0, 0, 0, 0, 0, 0, 0, 0, 0, 0, 0, 0, 0, 0, 1, 0, 0, 0, 0, 0,\n",
       "       0, 0, 0, 0, 0, 0, 0, 0, 0, 0, 0, 0, 0, 0, 0, 0, 0, 0, 0, 0, 0, 0,\n",
       "       0, 0, 0, 0, 1, 0, 0, 0, 0, 0, 0, 0, 0, 0, 0, 0, 0, 0, 0, 0, 0, 0,\n",
       "       0, 0, 0, 0, 0, 0, 0, 0, 0, 0, 0, 0, 0, 0, 1, 0, 0, 0, 0, 0, 0, 0,\n",
       "       0, 0, 0, 0, 0, 0, 0, 0, 0, 0, 0, 0, 0, 0, 0, 0, 0, 0, 0, 0, 0, 0,\n",
       "       0, 0, 1, 0, 0, 0, 0, 0, 0, 0, 0, 0, 0, 0, 0, 0, 0, 0, 0, 0, 0, 0,\n",
       "       0, 0, 0, 0, 0, 0, 0, 0, 0, 0, 0, 0, 1, 0, 0, 0, 0, 0, 0, 0, 0, 0,\n",
       "       0, 0, 0, 0, 0, 0, 0, 0, 0, 0, 0, 0, 0, 0, 0, 0, 0, 0, 0, 0, 0, 0,\n",
       "       1, 0, 0, 0, 0, 0, 0, 0, 0, 0, 0, 0, 0, 0, 0, 0, 0, 0, 0, 0, 0, 0,\n",
       "       0, 0, 0, 0, 0, 0, 0, 0, 0, 0, 1, 0, 0, 0, 0, 0, 0, 0, 0, 0, 0, 0,\n",
       "       0, 0, 0, 0, 0, 0, 0, 0, 0, 0, 0, 0, 0, 0, 0, 0, 0, 0, 0, 0, 1, 0,\n",
       "       0, 0, 0, 0, 0, 0, 0, 0, 0, 0, 0, 0, 0, 0])"
      ]
     },
     "execution_count": 29,
     "metadata": {},
     "output_type": "execute_result"
    }
   ],
   "source": [
    "feature_support_truth = best_df['user_attrs_feature_support_truth'].str.rsplit(pat='[', n=max_features[dataset], expand=True)[1].str.rsplit(pat=']', n=max_features[dataset], expand=True)[0].str.rsplit(pat='.', n=max_features[dataset], expand=True).iloc[:,:-1]\n",
    "feature_support_truth = feature_support_truth.astype(int)\n",
    "feature_support_truth.mean().values.astype(int)"
   ]
  },
  {
   "cell_type": "code",
   "execution_count": 30,
   "id": "13352031",
   "metadata": {},
   "outputs": [
    {
     "data": {
      "text/html": [
       "<div>\n",
       "<style scoped>\n",
       "    .dataframe tbody tr th:only-of-type {\n",
       "        vertical-align: middle;\n",
       "    }\n",
       "\n",
       "    .dataframe tbody tr th {\n",
       "        vertical-align: top;\n",
       "    }\n",
       "\n",
       "    .dataframe thead th {\n",
       "        text-align: right;\n",
       "    }\n",
       "</style>\n",
       "<table border=\"1\" class=\"dataframe\">\n",
       "  <thead>\n",
       "    <tr style=\"text-align: right;\">\n",
       "      <th></th>\n",
       "      <th>0</th>\n",
       "      <th>1</th>\n",
       "      <th>2</th>\n",
       "      <th>3</th>\n",
       "      <th>4</th>\n",
       "      <th>5</th>\n",
       "      <th>6</th>\n",
       "      <th>7</th>\n",
       "      <th>8</th>\n",
       "      <th>9</th>\n",
       "      <th>...</th>\n",
       "      <th>246</th>\n",
       "      <th>247</th>\n",
       "      <th>248</th>\n",
       "      <th>249</th>\n",
       "      <th>250</th>\n",
       "      <th>251</th>\n",
       "      <th>252</th>\n",
       "      <th>253</th>\n",
       "      <th>254</th>\n",
       "      <th>255</th>\n",
       "    </tr>\n",
       "  </thead>\n",
       "  <tbody>\n",
       "    <tr>\n",
       "      <th>1</th>\n",
       "      <td>0</td>\n",
       "      <td>0</td>\n",
       "      <td>0</td>\n",
       "      <td>0</td>\n",
       "      <td>0</td>\n",
       "      <td>0</td>\n",
       "      <td>0</td>\n",
       "      <td>0</td>\n",
       "      <td>0</td>\n",
       "      <td>0</td>\n",
       "      <td>...</td>\n",
       "      <td>0</td>\n",
       "      <td>0</td>\n",
       "      <td>0</td>\n",
       "      <td>0</td>\n",
       "      <td>0</td>\n",
       "      <td>0</td>\n",
       "      <td>0</td>\n",
       "      <td>0</td>\n",
       "      <td>0</td>\n",
       "      <td>0</td>\n",
       "    </tr>\n",
       "    <tr>\n",
       "      <th>2</th>\n",
       "      <td>0</td>\n",
       "      <td>0</td>\n",
       "      <td>0</td>\n",
       "      <td>0</td>\n",
       "      <td>0</td>\n",
       "      <td>0</td>\n",
       "      <td>0</td>\n",
       "      <td>0</td>\n",
       "      <td>0</td>\n",
       "      <td>0</td>\n",
       "      <td>...</td>\n",
       "      <td>0</td>\n",
       "      <td>0</td>\n",
       "      <td>0</td>\n",
       "      <td>0</td>\n",
       "      <td>0</td>\n",
       "      <td>0</td>\n",
       "      <td>0</td>\n",
       "      <td>0</td>\n",
       "      <td>0</td>\n",
       "      <td>0</td>\n",
       "    </tr>\n",
       "    <tr>\n",
       "      <th>...</th>\n",
       "      <td>...</td>\n",
       "      <td>...</td>\n",
       "      <td>...</td>\n",
       "      <td>...</td>\n",
       "      <td>...</td>\n",
       "      <td>...</td>\n",
       "      <td>...</td>\n",
       "      <td>...</td>\n",
       "      <td>...</td>\n",
       "      <td>...</td>\n",
       "      <td>...</td>\n",
       "      <td>...</td>\n",
       "      <td>...</td>\n",
       "      <td>...</td>\n",
       "      <td>...</td>\n",
       "      <td>...</td>\n",
       "      <td>...</td>\n",
       "      <td>...</td>\n",
       "      <td>...</td>\n",
       "      <td>...</td>\n",
       "      <td>...</td>\n",
       "    </tr>\n",
       "    <tr>\n",
       "      <th>24</th>\n",
       "      <td>0</td>\n",
       "      <td>0</td>\n",
       "      <td>0</td>\n",
       "      <td>0</td>\n",
       "      <td>0</td>\n",
       "      <td>0</td>\n",
       "      <td>0</td>\n",
       "      <td>0</td>\n",
       "      <td>0</td>\n",
       "      <td>0</td>\n",
       "      <td>...</td>\n",
       "      <td>0</td>\n",
       "      <td>0</td>\n",
       "      <td>0</td>\n",
       "      <td>0</td>\n",
       "      <td>0</td>\n",
       "      <td>0</td>\n",
       "      <td>0</td>\n",
       "      <td>0</td>\n",
       "      <td>0</td>\n",
       "      <td>0</td>\n",
       "    </tr>\n",
       "    <tr>\n",
       "      <th>25</th>\n",
       "      <td>0</td>\n",
       "      <td>0</td>\n",
       "      <td>0</td>\n",
       "      <td>0</td>\n",
       "      <td>0</td>\n",
       "      <td>0</td>\n",
       "      <td>0</td>\n",
       "      <td>0</td>\n",
       "      <td>0</td>\n",
       "      <td>0</td>\n",
       "      <td>...</td>\n",
       "      <td>0</td>\n",
       "      <td>0</td>\n",
       "      <td>0</td>\n",
       "      <td>0</td>\n",
       "      <td>0</td>\n",
       "      <td>0</td>\n",
       "      <td>0</td>\n",
       "      <td>0</td>\n",
       "      <td>0</td>\n",
       "      <td>0</td>\n",
       "    </tr>\n",
       "  </tbody>\n",
       "</table>\n",
       "<p>25 rows × 256 columns</p>\n",
       "</div>"
      ],
      "text/plain": [
       "    0    1    2    3    4    5    6    7    8    9    ...  246  247  248  249  \\\n",
       "1     0    0    0    0    0    0    0    0    0    0  ...    0    0    0    0   \n",
       "2     0    0    0    0    0    0    0    0    0    0  ...    0    0    0    0   \n",
       "..  ...  ...  ...  ...  ...  ...  ...  ...  ...  ...  ...  ...  ...  ...  ...   \n",
       "24    0    0    0    0    0    0    0    0    0    0  ...    0    0    0    0   \n",
       "25    0    0    0    0    0    0    0    0    0    0  ...    0    0    0    0   \n",
       "\n",
       "    250  251  252  253  254  255  \n",
       "1     0    0    0    0    0    0  \n",
       "2     0    0    0    0    0    0  \n",
       "..  ...  ...  ...  ...  ...  ...  \n",
       "24    0    0    0    0    0    0  \n",
       "25    0    0    0    0    0    0  \n",
       "\n",
       "[25 rows x 256 columns]"
      ]
     },
     "execution_count": 30,
     "metadata": {},
     "output_type": "execute_result"
    }
   ],
   "source": [
    "feature_support_truth"
   ]
  },
  {
   "cell_type": "code",
   "execution_count": 31,
   "id": "e07f10cf",
   "metadata": {},
   "outputs": [],
   "source": [
    "feature_support_recovery = best_df['user_attrs_feature_support'].str.rsplit(pat='[', n=max_features[dataset], expand=True)[1].str.rsplit(pat=']', n=max_features[dataset], expand=True)[0].str.replace('\\n','').str.strip()\n",
    "feature_support_recovery = feature_support_recovery.str.replace(\"  \",\",\")\n",
    "feature_support_recovery = feature_support_recovery.str.replace(\" \",\",\")\n",
    "feature_support_recovery = feature_support_recovery.str.rsplit(pat=',', n=max_features[dataset], expand=True)\n",
    "str2bool = {'True': 1, 'False': 0}\n",
    "for col in feature_support_recovery.columns:\n",
    "    feature_support_recovery[col] = feature_support_recovery[col].map(str2bool)\n"
   ]
  },
  {
   "cell_type": "code",
   "execution_count": 32,
   "id": "0c075be6",
   "metadata": {},
   "outputs": [
    {
     "data": {
      "text/plain": [
       "array([0, 0, 0, 0, 0, 0, 0, 0, 0, 0, 0, 0, 0, 0, 0, 0, 1, 0, 0, 0, 0, 0,\n",
       "       0, 0, 0, 0, 0, 0, 0, 0, 0, 0, 0, 0, 0, 0, 0, 0, 0, 0, 0, 0, 0, 0,\n",
       "       0, 0, 0, 0, 1, 0, 0, 0, 0, 0, 0, 0, 0, 0, 0, 0, 0, 0, 0, 0, 0, 0,\n",
       "       0, 0, 0, 0, 0, 0, 0, 0, 0, 0, 0, 0, 0, 0, 1, 0, 0, 0, 0, 0, 0, 0,\n",
       "       0, 0, 0, 0, 0, 0, 0, 0, 0, 0, 0, 0, 0, 0, 0, 0, 0, 0, 0, 0, 0, 0,\n",
       "       0, 0, 1, 0, 0, 0, 0, 0, 0, 0, 0, 0, 0, 0, 0, 0, 0, 0, 0, 0, 0, 0,\n",
       "       0, 0, 0, 0, 0, 0, 0, 0, 0, 0, 0, 0, 1, 0, 0, 0, 0, 0, 0, 0, 0, 0,\n",
       "       0, 0, 0, 0, 0, 0, 0, 0, 0, 0, 0, 0, 0, 0, 0, 0, 0, 0, 0, 0, 0, 0,\n",
       "       1, 0, 0, 0, 0, 0, 0, 0, 0, 0, 0, 0, 0, 0, 0, 0, 0, 0, 0, 0, 0, 0,\n",
       "       0, 0, 0, 0, 0, 0, 0, 0, 0, 0, 1, 0, 0, 0, 0, 0, 0, 0, 0, 0, 0, 0,\n",
       "       0, 0, 0, 0, 0, 0, 0, 0, 0, 0, 0, 0, 0, 0, 0, 0, 0, 0, 0, 0, 1, 0,\n",
       "       0, 0, 0, 0, 0, 0, 0, 0, 0, 0, 0, 0, 0, 0])"
      ]
     },
     "execution_count": 32,
     "metadata": {},
     "output_type": "execute_result"
    }
   ],
   "source": [
    "(feature_support_recovery.mean().values>0.5).astype(int)"
   ]
  },
  {
   "cell_type": "code",
   "execution_count": 33,
   "id": "c29f4ce6",
   "metadata": {},
   "outputs": [
    {
     "data": {
      "text/plain": [
       "array([0, 0, 0, 0, 0, 0, 0, 0, 0, 0, 0, 0, 0, 0, 0, 0, 1, 0, 0, 0, 0, 0,\n",
       "       0, 0, 0, 0, 0, 0, 0, 0, 0, 0, 0, 0, 0, 0, 0, 0, 0, 0, 0, 0, 0, 0,\n",
       "       0, 0, 0, 0, 1, 0, 0, 0, 0, 0, 0, 0, 0, 0, 0, 0, 0, 0, 0, 0, 0, 0,\n",
       "       0, 0, 0, 0, 0, 0, 0, 0, 0, 0, 0, 0, 0, 0, 1, 0, 0, 0, 0, 0, 0, 0,\n",
       "       0, 0, 0, 0, 0, 0, 0, 0, 0, 0, 0, 0, 0, 0, 0, 0, 0, 0, 0, 0, 0, 0,\n",
       "       0, 0, 1, 0, 0, 0, 0, 0, 0, 0, 0, 0, 0, 0, 0, 0, 0, 0, 0, 0, 0, 0,\n",
       "       0, 0, 0, 0, 0, 0, 0, 0, 0, 0, 0, 0, 1, 0, 0, 0, 0, 0, 0, 0, 0, 0,\n",
       "       0, 0, 0, 0, 0, 0, 0, 0, 0, 0, 0, 0, 0, 0, 0, 0, 0, 0, 0, 0, 0, 0,\n",
       "       1, 0, 0, 0, 0, 0, 0, 0, 0, 0, 0, 0, 0, 0, 0, 0, 0, 0, 0, 0, 0, 0,\n",
       "       0, 0, 0, 0, 0, 0, 0, 0, 0, 0, 1, 0, 0, 0, 0, 0, 0, 0, 0, 0, 0, 0,\n",
       "       0, 0, 0, 0, 0, 0, 0, 0, 0, 0, 0, 0, 0, 0, 0, 0, 0, 0, 0, 0, 1, 0,\n",
       "       0, 0, 0, 0, 0, 0, 0, 0, 0, 0, 0, 0, 0, 0])"
      ]
     },
     "execution_count": 33,
     "metadata": {},
     "output_type": "execute_result"
    }
   ],
   "source": [
    "feature_support_truth.mean().values.astype(int)"
   ]
  },
  {
   "cell_type": "code",
   "execution_count": 34,
   "id": "76e8a69b",
   "metadata": {},
   "outputs": [
    {
     "data": {
      "text/plain": [
       "array([1., 1., 1., 1., 1., 1., 1., 1.])"
      ]
     },
     "execution_count": 34,
     "metadata": {},
     "output_type": "execute_result"
    }
   ],
   "source": [
    "feature_support_recovery.mean().values[feature_support_truth.mean().values.astype(bool)]"
   ]
  },
  {
   "cell_type": "code",
   "execution_count": 35,
   "id": "da6b62d9",
   "metadata": {},
   "outputs": [
    {
     "data": {
      "image/png": "[encoded data removed]",
      "text/plain": [
       "<Figure size 1200x200 with 1 Axes>"
      ]
     },
     "metadata": {},
     "output_type": "display_data"
    }
   ],
   "source": [
    "feature_support_recovery_median = feature_support_recovery.mean().values\n",
    "feature_support_recovery_median[feature_support_recovery_median==0] = np.nan\n",
    "\n",
    "feature_support_truth_median = feature_support_truth.mean().values\n",
    "feature_support_truth_median[feature_support_truth_median==0] = np.nan\n",
    "\n",
    "plt.figure(figsize=(12,2))\n",
    "plt.stem(np.arange(1, max_features[dataset]+1), feature_support_recovery_median, markerfmt='b', linefmt='b', basefmt='k')\n",
    "\n",
    "\n",
    "feature_support_truth_median = feature_support_truth.mean().values\n",
    "feature_support_recovery_median = feature_support_recovery.mean().values\n",
    "feature_support_recovery_median[feature_support_truth_median==0] = np.nan\n",
    "font = {'size': 20}\n",
    "\n",
    "plt.rc('font', **font)\n",
    "plt.stem(np.arange(1, max_features[dataset]+1), feature_support_recovery_median, markerfmt='r', linefmt='r', basefmt='k')\n",
    "plt.xticks(np.where(feature_support_truth.mean().values.astype(bool))[0]+1)\n",
    "plt.yticks([0,1])\n",
    "plt.xlabel(\"Features\")\n",
    "plt.savefig(f\"./Figures/features_selected_sigma{sigma}_p_{max_features[dataset]}_train_size{train_size}.pdf\", bbox_inches='tight')\n",
    "plt.show()\n"
   ]
  },
  {
   "cell_type": "code",
   "execution_count": 36,
   "id": "754c0123",
   "metadata": {},
   "outputs": [
    {
     "data": {
      "text/plain": [
       "array([ 16,  48,  80, 112, 144, 176, 208, 240])"
      ]
     },
     "execution_count": 36,
     "metadata": {},
     "output_type": "execute_result"
    }
   ],
   "source": [
    "np.where(feature_support_truth.mean().values.astype(bool))[0]"
   ]
  },
  {
   "cell_type": "code",
   "execution_count": 37,
   "id": "cd52a7bf",
   "metadata": {},
   "outputs": [
    {
     "data": {
      "text/plain": [
       "array([0, 0, 0, 0, 0, 0, 0, 0, 0, 0, 0, 0, 0, 0, 0, 0, 1, 0, 0, 0, 0, 0,\n",
       "       0, 0, 0, 0, 0, 0, 0, 0, 0, 0, 0, 0, 0, 0, 0, 0, 0, 0, 0, 0, 0, 0,\n",
       "       0, 0, 0, 0, 1, 0, 0, 0, 0, 0, 0, 0, 0, 0, 0, 0, 0, 0, 0, 0, 0, 0,\n",
       "       0, 0, 0, 0, 0, 0, 0, 0, 0, 0, 0, 0, 0, 0, 1, 0, 0, 0, 0, 0, 0, 0,\n",
       "       0, 0, 0, 0, 0, 0, 0, 0, 0, 0, 0, 0, 0, 0, 0, 0, 0, 0, 0, 0, 0, 0,\n",
       "       0, 0, 1, 0, 0, 0, 0, 0, 0, 0, 0, 0, 0, 0, 0, 0, 0, 0, 0, 0, 0, 0,\n",
       "       0, 0, 0, 0, 0, 0, 0, 0, 0, 0, 0, 0, 1, 0, 0, 0, 0, 0, 0, 0, 0, 0,\n",
       "       0, 0, 0, 0, 0, 0, 0, 0, 0, 0, 0, 0, 0, 0, 0, 0, 0, 0, 0, 0, 0, 0,\n",
       "       1, 0, 0, 0, 0, 0, 0, 0, 0, 0, 0, 0, 0, 0, 0, 0, 0, 0, 0, 0, 0, 0,\n",
       "       0, 0, 0, 0, 0, 0, 0, 0, 0, 0, 1, 0, 0, 0, 0, 0, 0, 0, 0, 0, 0, 0,\n",
       "       0, 0, 0, 0, 0, 0, 0, 0, 0, 0, 0, 0, 0, 0, 0, 0, 0, 0, 0, 0, 1, 0,\n",
       "       0, 0, 0, 0, 0, 0, 0, 0, 0, 0, 0, 0, 0, 0])"
      ]
     },
     "execution_count": 37,
     "metadata": {},
     "output_type": "execute_result"
    }
   ],
   "source": [
    "feature_support_truth.mean().values.astype(int)"
   ]
  },
  {
   "cell_type": "code",
   "execution_count": 38,
   "id": "4c56d2b9",
   "metadata": {},
   "outputs": [
    {
     "data": {
      "text/plain": [
       "0.0027419354838709676"
      ]
     },
     "execution_count": 38,
     "metadata": {},
     "output_type": "execute_result"
    }
   ],
   "source": [
    "feature_support_recovery.mean().values[~(feature_support_truth.mean().values.astype(bool))].mean()"
   ]
  },
  {
   "cell_type": "code",
   "execution_count": 12,
   "id": "31d5e39c",
   "metadata": {},
   "outputs": [],
   "source": [
    "# sparse_df = result_df[result_df['user_attrs_feature_sparsity']<=100]"
   ]
  },
  {
   "cell_type": "code",
   "execution_count": 39,
   "id": "2b230778",
   "metadata": {},
   "outputs": [],
   "source": [
    "# plt.scatter(sparse_df['params_depth'], sparse_df['user_attrs_feature_sparsity'])"
   ]
  },
  {
   "cell_type": "code",
   "execution_count": 40,
   "id": "42378ea0",
   "metadata": {},
   "outputs": [],
   "source": [
    "# sparse_df['user_attrs_num_epochs'].sort_values().values[-1000:]"
   ]
  },
  {
   "cell_type": "code",
   "execution_count": null,
   "id": "a363d136",
   "metadata": {},
   "outputs": [],
   "source": []
  }
 ],
 "metadata": {
  "kernelspec": {
   "display_name": "Python 3 (ipykernel)",
   "language": "python",
   "name": "python3"
  },
  "language_info": {
   "codemirror_mode": {
    "name": "ipython",
    "version": 3
   },
   "file_extension": ".py",
   "mimetype": "text/x-python",
   "name": "python",
   "nbconvert_exporter": "python",
   "pygments_lexer": "ipython3",
   "version": "3.8.15"
  },
  "toc": {
   "base_numbering": 1,
   "nav_menu": {},
   "number_sections": true,
   "sideBar": true,
   "skip_h1_title": false,
   "title_cell": "Table of Contents",
   "title_sidebar": "Contents",
   "toc_cell": false,
   "toc_position": {},
   "toc_section_display": true,
   "toc_window_display": false
  }
 },
 "nbformat": 4,
 "nbformat_minor": 5
}
