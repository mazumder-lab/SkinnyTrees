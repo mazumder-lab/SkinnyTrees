{
 "cells": [
  {
   "cell_type": "code",
   "execution_count": 1,
   "id": "4cc1fd18",
   "metadata": {},
   "outputs": [],
   "source": [
    "# command = \"\"\"/home/gridsan/shibal/.conda/envs/MOETF29/bin/python -u main_sparse_singletask_public_data.py --data 'madelon' --data_type 'classification' --load_directory /home/gridsan/shibal/public-datasets --seed 8 --sparsity 'GroupL0L2' --anneal --n_trials 10 --version 1 --tuning_seed 100 --loss 'cross-entropy' --use_passed_hyperparameters --batch_size_scaler 16 --constant_learning_rate 1.866427718120356 --num_trees 6 --depth 6 --epochs 500 --kernel_constraint 100 --kernel_l2 0.3753706487881207 --temperature 0.0485927674871322 --save_directory ./logs/soft_trees/publicdata\n",
    "# \"\"\""
   ]
  },
  {
   "cell_type": "code",
   "execution_count": 2,
   "id": "8fbf7798",
   "metadata": {},
   "outputs": [],
   "source": [
    "# !{command}"
   ]
  },
  {
   "cell_type": "code",
   "execution_count": 1,
   "id": "583c5844",
   "metadata": {},
   "outputs": [],
   "source": [
    "import numpy as np\n",
    "import os\n",
    "import pandas as pd\n",
    "import matplotlib.pyplot as plt\n",
    "\n",
    "pd.set_option('display.max_rows', 5)"
   ]
  },
  {
   "cell_type": "code",
   "execution_count": 2,
   "id": "7c919f40",
   "metadata": {},
   "outputs": [],
   "source": [
    "from sklearn.preprocessing import StandardScaler\n",
    "from sklearn.impute import SimpleImputer\n",
    "from sklearn.model_selection import train_test_split\n",
    "from sklearn.pipeline import Pipeline\n",
    "from sklearn.preprocessing import StandardScaler, OneHotEncoder\n",
    "from sklearn.preprocessing import MinMaxScaler\n",
    "from sklearn.compose import ColumnTransformer\n"
   ]
  },
  {
   "cell_type": "markdown",
   "id": "1ea23547",
   "metadata": {},
   "source": [
    "# Performance Comparison"
   ]
  },
  {
   "cell_type": "markdown",
   "id": "5bb8122e",
   "metadata": {},
   "source": [
    "# Group L0L2"
   ]
  },
  {
   "cell_type": "code",
   "execution_count": 6,
   "id": "36beaff0",
   "metadata": {},
   "outputs": [],
   "source": [
    "data = 'arcene'\n",
    "budget = 0.7\n",
    "max_features = {\n",
    "    'hypothyroid': 44,\n",
    "#     'spambase': 57,\n",
    "    'churn': 33,\n",
    "    'twonorm': 20,\n",
    "#     'optdigits': 108,\n",
    "    'texture': 40,\n",
    "    'satimage': 36,\n",
    "    'isolet': 617,\n",
    "    'mice-protein': 77,\n",
    "#     'human-activity-recognition': 561,\n",
    "#     'mnist': 784,\n",
    "#     'fashion-mnist': 784,\n",
    "#     'sleep': 154,\n",
    "    'arcene': 10000,\n",
    "    'gisette': 5000,\n",
    "    'madelon': 500,\n",
    "    'dorothea': 100000,\n",
    "#     'basehock': 4862,\n",
    "#     'pcmac': 3289,\n",
    "#     'relathe': 4322,\n",
    "    'smk': 19993,\n",
    "    'cll': 11340,\n",
    "    'gli': 22283,\n",
    "    'lung': 3312,\n",
    "    'prostrate': 5966,\n",
    "    'tox': 5748\n",
    "}"
   ]
  },
  {
   "cell_type": "code",
   "execution_count": 7,
   "id": "3ac81daa",
   "metadata": {},
   "outputs": [
    {
     "name": "stdout",
     "output_type": "stream",
     "text": [
      "=============Sparsity:GroupL0L2, ======== Anneal:True ====== LR Schedule:False\n",
      "Missing: ./logs/soft_trees/publicdata/arcene/GroupL0L2/cross-entropy/20.0/study-shared-sigmoid-GroupL0L2-anneal-seed8.csv\n",
      "Missing: ./logs/soft_trees/publicdata/arcene/GroupL0L2/cross-entropy/20.11/study-shared-sigmoid-GroupL0L2-anneal-seed8.csv\n",
      "Missing: ./logs/soft_trees/publicdata/arcene/GroupL0L2/cross-entropy/20.12/study-shared-sigmoid-GroupL0L2-anneal-seed8.csv\n",
      "Missing: ./logs/soft_trees/publicdata/arcene/GroupL0L2/cross-entropy/20.13/study-shared-sigmoid-GroupL0L2-anneal-seed8.csv\n",
      "Missing: ./logs/soft_trees/publicdata/arcene/GroupL0L2/cross-entropy/20.14/study-shared-sigmoid-GroupL0L2-anneal-seed8.csv\n",
      "Missing: ./logs/soft_trees/publicdata/arcene/GroupL0L2/cross-entropy/20.15/study-shared-sigmoid-GroupL0L2-anneal-seed8.csv\n",
      "Missing: ./logs/soft_trees/publicdata/arcene/GroupL0L2/cross-entropy/20.16/study-shared-sigmoid-GroupL0L2-anneal-seed8.csv\n",
      "Missing: ./logs/soft_trees/publicdata/arcene/GroupL0L2/cross-entropy/20.17/study-shared-sigmoid-GroupL0L2-anneal-seed8.csv\n",
      "Missing: ./logs/soft_trees/publicdata/arcene/GroupL0L2/cross-entropy/20.18/study-shared-sigmoid-GroupL0L2-anneal-seed8.csv\n",
      "Missing: ./logs/soft_trees/publicdata/arcene/GroupL0L2/cross-entropy/20.19/study-shared-sigmoid-GroupL0L2-anneal-seed8.csv\n",
      "Number of total trials: 1964\n",
      "Max number of features: 10000\n",
      "Number of trials satisfying the feature sparsity budget: 205\n",
      "valid_auc: 1.0\n",
      "test_auc: 0.8236742424242425\n",
      "test_aucs: [0.7463474  0.75568182 0.77272727 0.78855519 0.80316558 0.80154221\n",
      " 0.82873377 0.81574675 0.83076299 0.82142857 0.81818182 0.83279221\n",
      " 0.90665584 0.90422078 0.92857143]\n",
      "sparsity: [  84  182  192  280  280  319  365  380  426  583  593  596 3091 3416\n",
      " 3855]\n",
      "Mean sparsity: 976.1333333333333\n",
      "Epochs: [870 640 585 195 950 605 765 365 705 950 175 990 190 165 750]\n",
      "Depth: [3 2 1 1 6 4 3 2 4 3 2 4 1 1 2]\n",
      "Number of Trees: [46 26 67 30 19  3  2 16  5 11  6 17 41 16 10]\n",
      "LR: [1.21255191 0.96968742 0.31907281 0.10100582 1.03856392 0.36120904\n",
      " 0.40117755 0.24612859 0.37792316 0.92281747 0.33210247 0.33761776\n",
      " 0.50271276 0.1812633  0.2059135 ]\n",
      "L2: [0.79267715 0.149011   0.1848858  0.40559791 0.76686272 0.08305135\n",
      " 0.00739696 0.46792121 0.12555923 0.0260347  0.03426377 0.20463885\n",
      " 0.00164353 0.00143971 0.01181647]\n",
      "T: [0.00237112 0.00082558 0.001435   0.00820264 0.015497   0.02920817\n",
      " 0.00690998 0.00019318 0.01224031 0.00087452 0.00041403 0.0003503\n",
      " 0.05247934 0.0867705  0.01492946]\n",
      "Batch-sizes: [ 256 1024   64   16   16   16   64   16   64  256   16   16 1024  256\n",
      "   64]\n"
     ]
    }
   ],
   "source": [
    "annealing = [True]\n",
    "criteria = 'auc'\n",
    "tuning_seeds = [0,1,2,3,4,5,6,7,8,9,10,11,12,13,14,15,16,17,18,19]\n",
    "version = 20 # 8 # 18\n",
    "\n",
    "for anneal in annealing:\n",
    "    print(\"======== Anneal:{}\".format(anneal))\n",
    "\n",
    "    df = pd.DataFrame()\n",
    "    for tuning_seed in tuning_seeds:\n",
    "        path = \"./logs/soft_trees/publicdata/{}/{}.{}/study-{}\".format(data, version, tuning_seed, sparsity)\n",
    "        if anneal:\n",
    "            path = path+\"-anneal\"\n",
    "#         path = path+\"-seed8.csv\"\n",
    "        try:\n",
    "            df_temp = pd.read_csv(path+\"-seed8.csv\")\n",
    "        except:\n",
    "            print(\"Missing:\", path+\"-seed8.csv\")\n",
    "            continue\n",
    "        df = pd.concat([df,df_temp],axis=0)\n",
    "        df.index = np.arange(len(df))\n",
    "    print(\"Number of total trials:\", df.shape[0])\n",
    "    print(\"Max number of features:\", max_features[data])\n",
    "    df_study = df.copy()\n",
    "    df = df[(df[\"user_attrs_feature_sparsity\"]<=budget*max_features[data])&(df[\"user_attrs_feature_sparsity\"]>0)]\n",
    "    print(\"Number of trials satisfying the feature sparsity budget:\", df.shape[0])\n",
    "    df = df.sort_values(by=[\"user_attrs_\"+criteria+\"_valid\"], ascending=False)\n",
    "    best_value = df[\"user_attrs_\"+criteria+\"_valid\"].values[0]\n",
    "    df_opt = df[df[\"user_attrs_\"+criteria+\"_valid\"]==best_value]\n",
    "\n",
    "    df_opt = df_opt.sort_values(by='user_attrs_feature_sparsity')\n",
    "    if criteria=='auc':\n",
    "        print(\"valid_auc:\", df_opt.user_attrs_auc_valid.mean())\n",
    "        print(\"test_auc:\", df_opt.user_attrs_auc_test.mean())\n",
    "        print(\"test_aucs:\", df_opt.user_attrs_auc_test.values)\n",
    "    elif criteria=='accuracy':\n",
    "        print(\"valid_accuracy:\", df_opt.user_attrs_accuracy_valid.mean())\n",
    "        print(\"test_accuracy:\", df_opt.user_attrs_accuracy_test.mean())\n",
    "        print(\"test_accuracies:\", df_opt.user_attrs_accuracy_test.values)\n",
    "    print(\"sparsity:\", df_opt.user_attrs_feature_sparsity.values)\n",
    "    print(\"Mean sparsity:\", df_opt.user_attrs_approximate_feature_sparsity.mean())\n",
    "#     print(\"Approx sparsity:\", df_opt.user_attrs_approximate_feature_sparsity.values)\n",
    "#     print(\"Mean approx sparsity:\", df_opt.user_attrs_feature_sparsity.mean())\n",
    "#     print(\"Batch-sizes:\", df_opt.params_constant_batch_size.values*df_opt.params_batch_size_scaler.values)\n",
    "    print(\"Epochs:\", df_opt.user_attrs_num_epochs.values)\n",
    "    print(\"Depth:\", df_opt.params_depth.values)\n",
    "    print(\"Number of Trees:\", df_opt.params_num_trees.values)\n",
    "    print(\"LR:\", df_opt.params_constant_learning_rate.values)\n",
    "    if \"params_kernel_constraint\" in df_opt.columns:\n",
    "        print(\"L1/L0:\", df_opt.params_kernel_constraint.values)\n",
    "    if \"params_kernel_l2\" in df_opt.columns:\n",
    "        print(\"L2:\", df_opt.params_kernel_l2.values)\n",
    "    if \"params_temperature\" in df_opt.columns:\n",
    "        print(\"T:\", df_opt.params_temperature.values)\n",
    "    if \"params_batch_size_scaler\" in df_opt.columns:\n",
    "        print(\"Batch-sizes:\", 16*df_opt.params_batch_size_scaler.values)"
   ]
  },
  {
   "cell_type": "code",
   "execution_count": 269,
   "id": "10844516",
   "metadata": {},
   "outputs": [
    {
     "data": {
      "text/plain": [
       "Index(['Unnamed: 0', 'number', 'value', 'datetime_start', 'datetime_complete',\n",
       "       'duration', 'params_batch_size_scaler', 'params_constant_learning_rate',\n",
       "       'params_depth', 'params_epochs', 'params_kernel_l2', 'params_num_trees',\n",
       "       'params_temperature', 'user_attrs_accuracy_test',\n",
       "       'user_attrs_accuracy_valid', 'user_attrs_approximate_feature_sparsity',\n",
       "       'user_attrs_approximate_feature_sparsity_history',\n",
       "       'user_attrs_approximate_weight_sparsity',\n",
       "       'user_attrs_approximate_weight_sparsity_history', 'user_attrs_auc_test',\n",
       "       'user_attrs_auc_valid', 'user_attrs_feature_sparsity',\n",
       "       'user_attrs_feature_sparsity_history', 'user_attrs_num_epochs',\n",
       "       'user_attrs_val_loss_history', 'user_attrs_weight_sparsity',\n",
       "       'user_attrs_weight_sparsity_history', 'state'],\n",
       "      dtype='object')"
      ]
     },
     "execution_count": 269,
     "metadata": {},
     "output_type": "execute_result"
    }
   ],
   "source": [
    "df_opt.columns"
   ]
  },
  {
   "cell_type": "code",
   "execution_count": 270,
   "id": "37087b80",
   "metadata": {},
   "outputs": [],
   "source": [
    "pd.set_option('display.max_rows', 100)"
   ]
  },
  {
   "cell_type": "code",
   "execution_count": 271,
   "id": "d263c584",
   "metadata": {},
   "outputs": [],
   "source": [
    "df_opt['params_kernel_constraint'] = 100"
   ]
  },
  {
   "cell_type": "code",
   "execution_count": 272,
   "id": "752d448e",
   "metadata": {},
   "outputs": [
    {
     "data": {
      "text/html": [
       "<div>\n",
       "<style scoped>\n",
       "    .dataframe tbody tr th:only-of-type {\n",
       "        vertical-align: middle;\n",
       "    }\n",
       "\n",
       "    .dataframe tbody tr th {\n",
       "        vertical-align: top;\n",
       "    }\n",
       "\n",
       "    .dataframe thead th {\n",
       "        text-align: right;\n",
       "    }\n",
       "</style>\n",
       "<table border=\"1\" class=\"dataframe\">\n",
       "  <thead>\n",
       "    <tr style=\"text-align: right;\">\n",
       "      <th></th>\n",
       "      <th>params_batch_size_scaler</th>\n",
       "      <th>params_constant_learning_rate</th>\n",
       "      <th>params_num_trees</th>\n",
       "      <th>params_depth</th>\n",
       "      <th>user_attrs_num_epochs</th>\n",
       "      <th>params_kernel_constraint</th>\n",
       "      <th>params_kernel_l2</th>\n",
       "      <th>params_temperature</th>\n",
       "    </tr>\n",
       "  </thead>\n",
       "  <tbody>\n",
       "    <tr>\n",
       "      <th>1199</th>\n",
       "      <td>16</td>\n",
       "      <td>0.800809</td>\n",
       "      <td>9</td>\n",
       "      <td>1</td>\n",
       "      <td>990</td>\n",
       "      <td>100</td>\n",
       "      <td>0.089751</td>\n",
       "      <td>0.002367</td>\n",
       "    </tr>\n",
       "    <tr>\n",
       "      <th>796</th>\n",
       "      <td>4</td>\n",
       "      <td>2.584332</td>\n",
       "      <td>9</td>\n",
       "      <td>3</td>\n",
       "      <td>790</td>\n",
       "      <td>100</td>\n",
       "      <td>0.029525</td>\n",
       "      <td>0.039632</td>\n",
       "    </tr>\n",
       "    <tr>\n",
       "      <th>1333</th>\n",
       "      <td>16</td>\n",
       "      <td>0.663658</td>\n",
       "      <td>90</td>\n",
       "      <td>1</td>\n",
       "      <td>175</td>\n",
       "      <td>100</td>\n",
       "      <td>0.682980</td>\n",
       "      <td>0.026414</td>\n",
       "    </tr>\n",
       "    <tr>\n",
       "      <th>825</th>\n",
       "      <td>64</td>\n",
       "      <td>0.410365</td>\n",
       "      <td>75</td>\n",
       "      <td>1</td>\n",
       "      <td>735</td>\n",
       "      <td>100</td>\n",
       "      <td>0.709227</td>\n",
       "      <td>0.005714</td>\n",
       "    </tr>\n",
       "  </tbody>\n",
       "</table>\n",
       "</div>"
      ],
      "text/plain": [
       "      params_batch_size_scaler  params_constant_learning_rate   \n",
       "1199                        16                       0.800809  \\\n",
       "796                          4                       2.584332   \n",
       "1333                        16                       0.663658   \n",
       "825                         64                       0.410365   \n",
       "\n",
       "      params_num_trees  params_depth  user_attrs_num_epochs   \n",
       "1199                 9             1                    990  \\\n",
       "796                  9             3                    790   \n",
       "1333                90             1                    175   \n",
       "825                 75             1                    735   \n",
       "\n",
       "      params_kernel_constraint  params_kernel_l2  params_temperature  \n",
       "1199                       100          0.089751            0.002367  \n",
       "796                        100          0.029525            0.039632  \n",
       "1333                       100          0.682980            0.026414  \n",
       "825                        100          0.709227            0.005714  "
      ]
     },
     "execution_count": 272,
     "metadata": {},
     "output_type": "execute_result"
    }
   ],
   "source": [
    "df_opt[[\n",
    "    'params_batch_size_scaler',\n",
    "    'params_constant_learning_rate',\n",
    "    'params_num_trees',\n",
    "    'params_depth',\n",
    "#     'use_annealing',\n",
    "    'user_attrs_num_epochs',\n",
    "    'params_kernel_constraint',\n",
    "    'params_kernel_l2',\n",
    "#     'params_kernel_regularizer',\n",
    "    'params_temperature'\n",
    "]]\n"
   ]
  },
  {
   "cell_type": "code",
   "execution_count": 273,
   "id": "54137dfe",
   "metadata": {},
   "outputs": [
    {
     "data": {
      "text/plain": [
       "1199     18\n",
       "796      72\n",
       "1333    180\n",
       "825     150\n",
       "dtype: int64"
      ]
     },
     "execution_count": 273,
     "metadata": {},
     "output_type": "execute_result"
    }
   ],
   "source": [
    "(2**(df_opt['params_depth'])*df_opt['params_num_trees'])"
   ]
  },
  {
   "cell_type": "code",
   "execution_count": 275,
   "id": "ffbf2121",
   "metadata": {},
   "outputs": [
    {
     "data": {
      "text/plain": [
       "'--use_passed_hyperparameters --batch_size_scaler 16 --constant_learning_rate 0.800808776663843 --num_trees 9 --depth 1 --epochs 990 --kernel_constraint 100 --kernel_l2 0.0897507040394167 --temperature 0.0023672695420049'"
      ]
     },
     "execution_count": 275,
     "metadata": {},
     "output_type": "execute_result"
    }
   ],
   "source": [
    "i=0\n",
    "f\"--use_passed_hyperparameters --batch_size_scaler {df_opt['params_batch_size_scaler'].values[i]} --constant_learning_rate {df_opt['params_constant_learning_rate'].values[i]} --num_trees {df_opt['params_num_trees'].values[i]} --depth {df_opt['params_depth'].values[i]} --epochs {df_opt['user_attrs_num_epochs'].values[i]} --kernel_constraint {df_opt['params_kernel_constraint'].values[i]} --kernel_l2 {df_opt['params_kernel_l2'].values[i]} --temperature {df_opt['params_temperature'].values[i]}\"\n"
   ]
  },
  {
   "cell_type": "code",
   "execution_count": 276,
   "id": "6bc44507",
   "metadata": {},
   "outputs": [
    {
     "data": {
      "text/plain": [
       "'[19993, 19993, 19993, 19993, 19993, 19993, 19993, 19993, 19993, 19993, 19993, 19993, 19993, 19993, 19993, 19993, 19993, 19993, 19993, 19993, 19993, 19993, 19993, 19993, 19993, 19993, 19993, 19993, 19993, 19993, 19992, 19989, 19985, 19977, 19949, 19916, 19852, 19728, 19537, 19248, 18834, 18264, 17468, 16493, 15408, 14483, 13248, 11933, 10552, 9451, 8389, 7960, 7573, 7481, 7451, 7423, 7381, 7323, 7198, 7028, 6801, 6507, 6160, 5786, 5373, 4996, 4520, 4071, 3678, 3308, 2988, 2664, 2393, 2137, 1930, 1726, 1550, 1407, 1272, 1157, 1032, 910, 823, 730, 655, 597, 535, 483, 439, 407, 363, 335, 316, 286, 269, 254, 244, 229, 215, 208, 201, 193, 185, 178, 173, 170, 170, 169, 168, 167, 167, 167, 167, 165, 165, 165, 164, 164, 162, 160, 160, 158, 156, 155, 154, 154, 154, 154, 154, 154, 153, 153, 153, 153, 152, 152, 152, 152, 151, 150, 147, 146, 145, 143, 143, 143, 143, 143, 143, 142, 141, 140, 140, 140, 138, 136, 136, 136, 136, 136, 135, 135, 134, 133, 133, 132, 132, 132, 132, 132, 132, 132, 129, 129, 128]'"
      ]
     },
     "execution_count": 276,
     "metadata": {},
     "output_type": "execute_result"
    }
   ],
   "source": [
    "df_opt['user_attrs_feature_sparsity_history'].values[2]"
   ]
  },
  {
   "cell_type": "code",
   "execution_count": 277,
   "id": "ad3f7939",
   "metadata": {},
   "outputs": [],
   "source": [
    "val_loss_history = [float(i) for i in df_opt['user_attrs_val_loss_history'].values[3][1:-1].split(', ')]\n",
    "feature_sparsity_history = [float(i) for i in df_opt['user_attrs_feature_sparsity_history'].values[3][1:-1].split(', ')]"
   ]
  },
  {
   "cell_type": "code",
   "execution_count": 278,
   "id": "a34d38b6",
   "metadata": {},
   "outputs": [
    {
     "data": {
      "image/png": "[encoded data removed]",
      "text/plain": [
       "<Figure size 640x480 with 1 Axes>"
      ]
     },
     "metadata": {},
     "output_type": "display_data"
    },
    {
     "data": {
      "image/png": "[encoded data removed]",
      "text/plain": [
       "<Figure size 640x480 with 1 Axes>"
      ]
     },
     "metadata": {},
     "output_type": "display_data"
    }
   ],
   "source": [
    "# plt.plot(val_loss_history)\n",
    "# plt.show()\n",
    "\n",
    "plt.plot(feature_sparsity_history)\n",
    "# plt.ylim([0,2000])\n",
    "plt.show()"
   ]
  },
  {
   "cell_type": "code",
   "execution_count": 67,
   "id": "945b7ed9",
   "metadata": {},
   "outputs": [],
   "source": [
    "# plt.scatter(np.log10(df['params_kernel_constraint']), df['user_attrs_feature_sparsity'], marker=\"*\", color='b')\n",
    "# plt.scatter(np.log10(df_opt[\"params_kernel_constraint\"]), df_opt[\"user_attrs_feature_sparsity\"], marker=\"o\", color='r')"
   ]
  },
  {
   "cell_type": "code",
   "execution_count": 68,
   "id": "53cfed2d",
   "metadata": {},
   "outputs": [],
   "source": [
    "# plt.scatter(np.log10(df['params_kernel_l2']), df['user_attrs_feature_sparsity'], marker=\"*\", color='b')\n",
    "# plt.scatter(np.log10(df_opt[\"params_kernel_l2\"]), df_opt[\"user_attrs_feature_sparsity\"], marker=\"o\", color='r')"
   ]
  }
 ],
 "metadata": {
  "kernelspec": {
   "display_name": "Python 3 (ipykernel)",
   "language": "python",
   "name": "python3"
  },
  "language_info": {
   "codemirror_mode": {
    "name": "ipython",
    "version": 3
   },
   "file_extension": ".py",
   "mimetype": "text/x-python",
   "name": "python",
   "nbconvert_exporter": "python",
   "pygments_lexer": "ipython3",
   "version": "3.8.15"
  },
  "latex_envs": {
   "LaTeX_envs_menu_present": true,
   "autoclose": false,
   "autocomplete": true,
   "bibliofile": "biblio.bib",
   "cite_by": "apalike",
   "current_citInitial": 1,
   "eqLabelWithNumbers": true,
   "eqNumInitial": 1,
   "hotkeys": {
    "equation": "Ctrl-E",
    "itemize": "Ctrl-I"
   },
   "labels_anchors": false,
   "latex_user_defs": false,
   "report_style_numbering": false,
   "user_envs_cfg": false
  },
  "toc": {
   "base_numbering": 1,
   "nav_menu": {},
   "number_sections": true,
   "sideBar": true,
   "skip_h1_title": false,
   "title_cell": "Table of Contents",
   "title_sidebar": "Contents",
   "toc_cell": false,
   "toc_position": {},
   "toc_section_display": true,
   "toc_window_display": false
  },
  "varInspector": {
   "cols": {
    "lenName": 16,
    "lenType": 16,
    "lenVar": 40
   },
   "kernels_config": {
    "python": {
     "delete_cmd_postfix": "",
     "delete_cmd_prefix": "del ",
     "library": "var_list.py",
     "varRefreshCmd": "print(var_dic_list())"
    },
    "r": {
     "delete_cmd_postfix": ") ",
     "delete_cmd_prefix": "rm(",
     "library": "var_list.r",
     "varRefreshCmd": "cat(var_dic_list()) "
    }
   },
   "types_to_exclude": [
    "module",
    "function",
    "builtin_function_or_method",
    "instance",
    "_Feature"
   ],
   "window_display": false
  }
 },
 "nbformat": 4,
 "nbformat_minor": 5
}
