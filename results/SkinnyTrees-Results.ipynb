{
 "cells": [
  {
   "cell_type": "code",
   "execution_count": 1,
   "id": "4cc1fd18",
   "metadata": {},
   "outputs": [],
   "source": [
    "# command = \"\"\"/home/gridsan/shibal/.conda/envs/MOETF29/bin/python -u main_sparse_singletask_public_data.py --data 'madelon' --data_type 'classification' --load_directory /home/gridsan/shibal/public-datasets --seed 8 --sparsity 'GroupL0L2' --anneal --n_trials 10 --version 1 --tuning_seed 100 --loss 'cross-entropy' --use_passed_hyperparameters --batch_size_scaler 16 --constant_learning_rate 1.866427718120356 --num_trees 6 --depth 6 --epochs 500 --kernel_constraint 100 --kernel_l2 0.3753706487881207 --temperature 0.0485927674871322 --save_directory ./logs/soft_trees/publicdata\n",
    "# \"\"\""
   ]
  },
  {
   "cell_type": "code",
   "execution_count": 2,
   "id": "8fbf7798",
   "metadata": {},
   "outputs": [],
   "source": [
    "# !{command}"
   ]
  },
  {
   "cell_type": "code",
   "execution_count": 1,
   "id": "583c5844",
   "metadata": {},
   "outputs": [],
   "source": [
    "import numpy as np\n",
    "import os\n",
    "import pandas as pd\n",
    "import matplotlib.pyplot as plt\n",
    "\n",
    "pd.set_option('display.max_rows', 5)"
   ]
  },
  {
   "cell_type": "code",
   "execution_count": 2,
   "id": "7c919f40",
   "metadata": {},
   "outputs": [],
   "source": [
    "from sklearn.preprocessing import StandardScaler\n",
    "from sklearn.impute import SimpleImputer\n",
    "from sklearn.model_selection import train_test_split\n",
    "from sklearn.pipeline import Pipeline\n",
    "from sklearn.preprocessing import StandardScaler, OneHotEncoder\n",
    "from sklearn.preprocessing import MinMaxScaler\n",
    "from sklearn.compose import ColumnTransformer\n"
   ]
  },
  {
   "cell_type": "markdown",
   "id": "1ea23547",
   "metadata": {},
   "source": [
    "# Performance Comparison"
   ]
  },
  {
   "cell_type": "markdown",
   "id": "5bb8122e",
   "metadata": {},
   "source": [
    "# Group L0L2"
   ]
  },
  {
   "cell_type": "code",
   "execution_count": 6,
   "id": "36beaff0",
   "metadata": {},
   "outputs": [],
   "source": [
    "data = 'arcene'\n",
    "budget = 0.7\n",
    "max_features = {\n",
    "    'hypothyroid': 44,\n",
    "#     'spambase': 57,\n",
    "    'churn': 33,\n",
    "    'twonorm': 20,\n",
    "#     'optdigits': 108,\n",
    "    'texture': 40,\n",
    "    'satimage': 36,\n",
    "    'isolet': 617,\n",
    "    'mice-protein': 77,\n",
    "#     'human-activity-recognition': 561,\n",
    "#     'mnist': 784,\n",
    "#     'fashion-mnist': 784,\n",
    "#     'sleep': 154,\n",
    "    'arcene': 10000,\n",
    "    'gisette': 5000,\n",
    "    'madelon': 500,\n",
    "    'dorothea': 100000,\n",
    "#     'basehock': 4862,\n",
    "#     'pcmac': 3289,\n",
    "#     'relathe': 4322,\n",
    "    'smk': 19993,\n",
    "    'cll': 11340,\n",
    "    'gli': 22283,\n",
    "    'lung': 3312,\n",
    "    'prostrate': 5966,\n",
    "    'tox': 5748\n",
    "}"
   ]
  },
  {
   "cell_type": "code",
   "execution_count": 7,
   "id": "3ac81daa",
   "metadata": {},
   "outputs": [
    {
     "name": "stdout",
     "output_type": "stream",
     "text": [
      "=============Sparsity:GroupL0L2, ======== Anneal:True ====== LR Schedule:False\n",
      "Missing: ./logs/soft_trees/publicdata/arcene/GroupL0L2/cross-entropy/20.0/study-shared-sigmoid-GroupL0L2-anneal-seed8.csv\n",
      "Missing: ./logs/soft_trees/publicdata/arcene/GroupL0L2/cross-entropy/20.11/study-shared-sigmoid-GroupL0L2-anneal-seed8.csv\n",
      "Missing: ./logs/soft_trees/publicdata/arcene/GroupL0L2/cross-entropy/20.12/study-shared-sigmoid-GroupL0L2-anneal-seed8.csv\n",
      "Missing: ./logs/soft_trees/publicdata/arcene/GroupL0L2/cross-entropy/20.13/study-shared-sigmoid-GroupL0L2-anneal-seed8.csv\n",
      "Missing: ./logs/soft_trees/publicdata/arcene/GroupL0L2/cross-entropy/20.14/study-shared-sigmoid-GroupL0L2-anneal-seed8.csv\n",
      "Missing: ./logs/soft_trees/publicdata/arcene/GroupL0L2/cross-entropy/20.15/study-shared-sigmoid-GroupL0L2-anneal-seed8.csv\n",
      "Missing: ./logs/soft_trees/publicdata/arcene/GroupL0L2/cross-entropy/20.16/study-shared-sigmoid-GroupL0L2-anneal-seed8.csv\n",
      "Missing: ./logs/soft_trees/publicdata/arcene/GroupL0L2/cross-entropy/20.17/study-shared-sigmoid-GroupL0L2-anneal-seed8.csv\n",
      "Missing: ./logs/soft_trees/publicdata/arcene/GroupL0L2/cross-entropy/20.18/study-shared-sigmoid-GroupL0L2-anneal-seed8.csv\n",
      "Missing: ./logs/soft_trees/publicdata/arcene/GroupL0L2/cross-entropy/20.19/study-shared-sigmoid-GroupL0L2-anneal-seed8.csv\n",
      "Number of total trials: 1964\n",
      "Max number of features: 10000\n",
      "Number of trials satisfying the feature sparsity budget: 205\n",
      "valid_auc: 1.0\n",
      "test_auc: 0.8236742424242425\n",
      "test_aucs: [0.7463474  0.75568182 0.77272727 0.78855519 0.80316558 0.80154221\n",
      " 0.82873377 0.81574675 0.83076299 0.82142857 0.81818182 0.83279221\n",
      " 0.90665584 0.90422078 0.92857143]\n",
      "sparsity: [  84  182  192  280  280  319  365  380  426  583  593  596 3091 3416\n",
      " 3855]\n",
      "Mean sparsity: 976.1333333333333\n",
      "Epochs: [870 640 585 195 950 605 765 365 705 950 175 990 190 165 750]\n",
      "Depth: [3 2 1 1 6 4 3 2 4 3 2 4 1 1 2]\n",
      "Number of Trees: [46 26 67 30 19  3  2 16  5 11  6 17 41 16 10]\n",
      "LR: [1.21255191 0.96968742 0.31907281 0.10100582 1.03856392 0.36120904\n",
      " 0.40117755 0.24612859 0.37792316 0.92281747 0.33210247 0.33761776\n",
      " 0.50271276 0.1812633  0.2059135 ]\n",
      "L2: [0.79267715 0.149011   0.1848858  0.40559791 0.76686272 0.08305135\n",
      " 0.00739696 0.46792121 0.12555923 0.0260347  0.03426377 0.20463885\n",
      " 0.00164353 0.00143971 0.01181647]\n",
      "T: [0.00237112 0.00082558 0.001435   0.00820264 0.015497   0.02920817\n",
      " 0.00690998 0.00019318 0.01224031 0.00087452 0.00041403 0.0003503\n",
      " 0.05247934 0.0867705  0.01492946]\n",
      "Batch-sizes: [ 256 1024   64   16   16   16   64   16   64  256   16   16 1024  256\n",
      "   64]\n"
     ]
    }
   ],
   "source": [
    "sparsities = ['GroupL0L2']\n",
    "annealing = [True]\n",
    "learning_rate_scheduling = [False]\n",
    "# sparsities = ['GroupLasso','GroupL0L2']\n",
    "# annealing = [False, False]\n",
    "# learning_rate_scheduling = [False, False]\n",
    "criteria = 'auc'\n",
    "tuning_seeds = [0,1,2,3,4,5,6,7,8,9,10,11,12,13,14,15,16,17,18,19]\n",
    "version = 20 # 8 # 18\n",
    "\n",
    "for sparsity, anneal, lr_schedule in zip(sparsities, annealing, learning_rate_scheduling):\n",
    "    print(\"=============Sparsity:{}, ======== Anneal:{} ====== LR Schedule:{}\".format(sparsity, anneal, lr_schedule))\n",
    "\n",
    "    df = pd.DataFrame()\n",
    "    for tuning_seed in tuning_seeds:\n",
    "        path = \"./logs/soft_trees/publicdata/{}/{}/cross-entropy/{}.{}/study-shared-sigmoid-{}\".format(data, sparsity, version, tuning_seed, sparsity)\n",
    "        if anneal:\n",
    "            path = path+\"-anneal\"\n",
    "        if lr_schedule:\n",
    "            path = path+\"-learning_rate_scheduling\"\n",
    "#         path = path+\"-seed8.csv\"\n",
    "        try:\n",
    "            df_temp = pd.read_csv(path+\"-seed8.csv\")\n",
    "        except:\n",
    "            print(\"Missing:\", path+\"-seed8.csv\")\n",
    "            continue\n",
    "        df = pd.concat([df,df_temp],axis=0)\n",
    "        df.index = np.arange(len(df))\n",
    "    print(\"Number of total trials:\", df.shape[0])\n",
    "    print(\"Max number of features:\", max_features[data])\n",
    "    df_study = df.copy()\n",
    "    df = df[(df[\"user_attrs_feature_sparsity\"]<=budget*max_features[data])&(df[\"user_attrs_feature_sparsity\"]>0)]\n",
    "    print(\"Number of trials satisfying the feature sparsity budget:\", df.shape[0])\n",
    "    df = df.sort_values(by=[\"user_attrs_\"+criteria+\"_valid\"], ascending=False)\n",
    "    best_value = df[\"user_attrs_\"+criteria+\"_valid\"].values[0]\n",
    "    df_opt = df[df[\"user_attrs_\"+criteria+\"_valid\"]==best_value]\n",
    "\n",
    "    df_opt = df_opt.sort_values(by='user_attrs_feature_sparsity')\n",
    "    if criteria=='auc':\n",
    "        print(\"valid_auc:\", df_opt.user_attrs_auc_valid.mean())\n",
    "        print(\"test_auc:\", df_opt.user_attrs_auc_test.mean())\n",
    "        print(\"test_aucs:\", df_opt.user_attrs_auc_test.values)\n",
    "    elif criteria=='accuracy':\n",
    "        print(\"valid_accuracy:\", df_opt.user_attrs_accuracy_valid.mean())\n",
    "        print(\"test_accuracy:\", df_opt.user_attrs_accuracy_test.mean())\n",
    "        print(\"test_accuracies:\", df_opt.user_attrs_accuracy_test.values)\n",
    "    print(\"sparsity:\", df_opt.user_attrs_feature_sparsity.values)\n",
    "    print(\"Mean sparsity:\", df_opt.user_attrs_approximate_feature_sparsity.mean())\n",
    "#     print(\"Approx sparsity:\", df_opt.user_attrs_approximate_feature_sparsity.values)\n",
    "#     print(\"Mean approx sparsity:\", df_opt.user_attrs_feature_sparsity.mean())\n",
    "#     print(\"Batch-sizes:\", df_opt.params_constant_batch_size.values*df_opt.params_batch_size_scaler.values)\n",
    "    print(\"Epochs:\", df_opt.user_attrs_num_epochs.values)\n",
    "    print(\"Depth:\", df_opt.params_depth.values)\n",
    "    print(\"Number of Trees:\", df_opt.params_num_trees.values)\n",
    "    print(\"LR:\", df_opt.params_constant_learning_rate.values)\n",
    "    if \"params_kernel_constraint\" in df_opt.columns:\n",
    "        print(\"L1/L0:\", df_opt.params_kernel_constraint.values)\n",
    "    if \"params_kernel_l2\" in df_opt.columns:\n",
    "        print(\"L2:\", df_opt.params_kernel_l2.values)\n",
    "    if \"params_temperature\" in df_opt.columns:\n",
    "        print(\"T:\", df_opt.params_temperature.values)\n",
    "    if \"params_batch_size_scaler\" in df_opt.columns:\n",
    "        print(\"Batch-sizes:\", 16*df_opt.params_batch_size_scaler.values)\n",
    "        \n",
    "#     df = df[df[\"user_attrs_approximate_feature_sparsity\"]<budget*df[\"user_attrs_approximate_feature_sparsity\"].max()]\n",
    "#     print(\"Number of trials satisfying the feature sparsity budget:\", df.shape[0])\n",
    "#     df = df.sort_values(by=[\"user_attrs_\"+criteria+\"_valid\"], ascending=False)\n",
    "#     best_value = df[\"user_attrs_\"+criteria+\"_valid\"].values[0]\n",
    "#     df_opt = df[df[\"user_attrs_\"+criteria+\"_valid\"]==best_value]\n",
    "\n",
    "#     df_opt = df_opt.sort_values(by='user_attrs_feature_sparsity')\n",
    "#     if criteria=='auc':\n",
    "#         print(\"valid_auc:\", df_opt.user_attrs_auc_valid.mean())\n",
    "#         print(\"test_auc:\", df_opt.user_attrs_auc_test.mean())\n",
    "#         print(\"test_aucs:\", df_opt.user_attrs_auc_test.values)\n",
    "#     elif criteria=='accuracy':\n",
    "#         print(\"valid_accuracy:\", df_opt.user_attrs_accuracy_valid.mean())\n",
    "#         print(\"test_accuracy:\", df_opt.user_attrs_accuracy_test.mean())\n",
    "#         print(\"test_accuracies:\", df_opt.user_attrs_accuracy_test.values)\n",
    "#     print(\"sparsity:\", df_opt.user_attrs_feature_sparsity.values)\n",
    "#     print(\"Mean sparsity:\", df_opt.user_attrs_approximate_feature_sparsity.mean())\n",
    "# #     print(\"Approx sparsity:\", df_opt.user_attrs_approximate_feature_sparsity.values)\n",
    "# #     print(\"Mean approx sparsity:\", df_opt.user_attrs_feature_sparsity.mean())\n",
    "# #     print(\"Batch-sizes:\", df_opt.params_batch_size.values)\n",
    "#     print(\"Depths:\", df_opt.params_depth.values)\n",
    "#     print(\"Epochs:\", df_opt.user_attrs_num_epochs.values)\n",
    "# #     print(\"Learning Rates:\", df_opt.params_learning_rate.values)\n"
   ]
  },
  {
   "cell_type": "code",
   "execution_count": 269,
   "id": "10844516",
   "metadata": {},
   "outputs": [
    {
     "data": {
      "text/plain": [
       "Index(['Unnamed: 0', 'number', 'value', 'datetime_start', 'datetime_complete',\n",
       "       'duration', 'params_batch_size_scaler', 'params_constant_learning_rate',\n",
       "       'params_depth', 'params_epochs', 'params_kernel_l2', 'params_num_trees',\n",
       "       'params_temperature', 'user_attrs_accuracy_test',\n",
       "       'user_attrs_accuracy_valid', 'user_attrs_approximate_feature_sparsity',\n",
       "       'user_attrs_approximate_feature_sparsity_history',\n",
       "       'user_attrs_approximate_weight_sparsity',\n",
       "       'user_attrs_approximate_weight_sparsity_history', 'user_attrs_auc_test',\n",
       "       'user_attrs_auc_valid', 'user_attrs_feature_sparsity',\n",
       "       'user_attrs_feature_sparsity_history', 'user_attrs_num_epochs',\n",
       "       'user_attrs_val_loss_history', 'user_attrs_weight_sparsity',\n",
       "       'user_attrs_weight_sparsity_history', 'state'],\n",
       "      dtype='object')"
      ]
     },
     "execution_count": 269,
     "metadata": {},
     "output_type": "execute_result"
    }
   ],
   "source": [
    "df_opt.columns"
   ]
  },
  {
   "cell_type": "code",
   "execution_count": 270,
   "id": "37087b80",
   "metadata": {},
   "outputs": [],
   "source": [
    "pd.set_option('display.max_rows', 100)"
   ]
  },
  {
   "cell_type": "code",
   "execution_count": 271,
   "id": "d263c584",
   "metadata": {},
   "outputs": [],
   "source": [
    "df_opt['params_kernel_constraint'] = 100"
   ]
  },
  {
   "cell_type": "code",
   "execution_count": 272,
   "id": "752d448e",
   "metadata": {},
   "outputs": [
    {
     "data": {
      "text/html": [
       "<div>\n",
       "<style scoped>\n",
       "    .dataframe tbody tr th:only-of-type {\n",
       "        vertical-align: middle;\n",
       "    }\n",
       "\n",
       "    .dataframe tbody tr th {\n",
       "        vertical-align: top;\n",
       "    }\n",
       "\n",
       "    .dataframe thead th {\n",
       "        text-align: right;\n",
       "    }\n",
       "</style>\n",
       "<table border=\"1\" class=\"dataframe\">\n",
       "  <thead>\n",
       "    <tr style=\"text-align: right;\">\n",
       "      <th></th>\n",
       "      <th>params_batch_size_scaler</th>\n",
       "      <th>params_constant_learning_rate</th>\n",
       "      <th>params_num_trees</th>\n",
       "      <th>params_depth</th>\n",
       "      <th>user_attrs_num_epochs</th>\n",
       "      <th>params_kernel_constraint</th>\n",
       "      <th>params_kernel_l2</th>\n",
       "      <th>params_temperature</th>\n",
       "    </tr>\n",
       "  </thead>\n",
       "  <tbody>\n",
       "    <tr>\n",
       "      <th>1199</th>\n",
       "      <td>16</td>\n",
       "      <td>0.800809</td>\n",
       "      <td>9</td>\n",
       "      <td>1</td>\n",
       "      <td>990</td>\n",
       "      <td>100</td>\n",
       "      <td>0.089751</td>\n",
       "      <td>0.002367</td>\n",
       "    </tr>\n",
       "    <tr>\n",
       "      <th>796</th>\n",
       "      <td>4</td>\n",
       "      <td>2.584332</td>\n",
       "      <td>9</td>\n",
       "      <td>3</td>\n",
       "      <td>790</td>\n",
       "      <td>100</td>\n",
       "      <td>0.029525</td>\n",
       "      <td>0.039632</td>\n",
       "    </tr>\n",
       "    <tr>\n",
       "      <th>1333</th>\n",
       "      <td>16</td>\n",
       "      <td>0.663658</td>\n",
       "      <td>90</td>\n",
       "      <td>1</td>\n",
       "      <td>175</td>\n",
       "      <td>100</td>\n",
       "      <td>0.682980</td>\n",
       "      <td>0.026414</td>\n",
       "    </tr>\n",
       "    <tr>\n",
       "      <th>825</th>\n",
       "      <td>64</td>\n",
       "      <td>0.410365</td>\n",
       "      <td>75</td>\n",
       "      <td>1</td>\n",
       "      <td>735</td>\n",
       "      <td>100</td>\n",
       "      <td>0.709227</td>\n",
       "      <td>0.005714</td>\n",
       "    </tr>\n",
       "  </tbody>\n",
       "</table>\n",
       "</div>"
      ],
      "text/plain": [
       "      params_batch_size_scaler  params_constant_learning_rate   \n",
       "1199                        16                       0.800809  \\\n",
       "796                          4                       2.584332   \n",
       "1333                        16                       0.663658   \n",
       "825                         64                       0.410365   \n",
       "\n",
       "      params_num_trees  params_depth  user_attrs_num_epochs   \n",
       "1199                 9             1                    990  \\\n",
       "796                  9             3                    790   \n",
       "1333                90             1                    175   \n",
       "825                 75             1                    735   \n",
       "\n",
       "      params_kernel_constraint  params_kernel_l2  params_temperature  \n",
       "1199                       100          0.089751            0.002367  \n",
       "796                        100          0.029525            0.039632  \n",
       "1333                       100          0.682980            0.026414  \n",
       "825                        100          0.709227            0.005714  "
      ]
     },
     "execution_count": 272,
     "metadata": {},
     "output_type": "execute_result"
    }
   ],
   "source": [
    "df_opt[[\n",
    "    'params_batch_size_scaler',\n",
    "    'params_constant_learning_rate',\n",
    "    'params_num_trees',\n",
    "    'params_depth',\n",
    "#     'learning_rate_scheduling',\n",
    "#     'group_sparsity',\n",
    "#     'use_annealing',\n",
    "    'user_attrs_num_epochs',\n",
    "    'params_kernel_constraint',\n",
    "    'params_kernel_l2',\n",
    "#     'params_kernel_regularizer',\n",
    "    'params_temperature'\n",
    "]]\n"
   ]
  },
  {
   "cell_type": "code",
   "execution_count": 273,
   "id": "54137dfe",
   "metadata": {},
   "outputs": [
    {
     "data": {
      "text/plain": [
       "1199     18\n",
       "796      72\n",
       "1333    180\n",
       "825     150\n",
       "dtype: int64"
      ]
     },
     "execution_count": 273,
     "metadata": {},
     "output_type": "execute_result"
    }
   ],
   "source": [
    "(2**(df_opt['params_depth'])*df_opt['params_num_trees'])"
   ]
  },
  {
   "cell_type": "code",
   "execution_count": 275,
   "id": "ffbf2121",
   "metadata": {},
   "outputs": [
    {
     "data": {
      "text/plain": [
       "'--use_passed_hyperparameters --batch_size_scaler 16 --constant_learning_rate 0.800808776663843 --num_trees 9 --depth 1 --epochs 990 --kernel_constraint 100 --kernel_l2 0.0897507040394167 --temperature 0.0023672695420049'"
      ]
     },
     "execution_count": 275,
     "metadata": {},
     "output_type": "execute_result"
    }
   ],
   "source": [
    "i=0\n",
    "f\"--use_passed_hyperparameters --batch_size_scaler {df_opt['params_batch_size_scaler'].values[i]} --constant_learning_rate {df_opt['params_constant_learning_rate'].values[i]} --num_trees {df_opt['params_num_trees'].values[i]} --depth {df_opt['params_depth'].values[i]} --epochs {df_opt['user_attrs_num_epochs'].values[i]} --kernel_constraint {df_opt['params_kernel_constraint'].values[i]} --kernel_l2 {df_opt['params_kernel_l2'].values[i]} --temperature {df_opt['params_temperature'].values[i]}\"\n"
   ]
  },
  {
   "cell_type": "code",
   "execution_count": 276,
   "id": "6bc44507",
   "metadata": {},
   "outputs": [
    {
     "data": {
      "text/plain": [
       "'[19993, 19993, 19993, 19993, 19993, 19993, 19993, 19993, 19993, 19993, 19993, 19993, 19993, 19993, 19993, 19993, 19993, 19993, 19993, 19993, 19993, 19993, 19993, 19993, 19993, 19993, 19993, 19993, 19993, 19993, 19992, 19989, 19985, 19977, 19949, 19916, 19852, 19728, 19537, 19248, 18834, 18264, 17468, 16493, 15408, 14483, 13248, 11933, 10552, 9451, 8389, 7960, 7573, 7481, 7451, 7423, 7381, 7323, 7198, 7028, 6801, 6507, 6160, 5786, 5373, 4996, 4520, 4071, 3678, 3308, 2988, 2664, 2393, 2137, 1930, 1726, 1550, 1407, 1272, 1157, 1032, 910, 823, 730, 655, 597, 535, 483, 439, 407, 363, 335, 316, 286, 269, 254, 244, 229, 215, 208, 201, 193, 185, 178, 173, 170, 170, 169, 168, 167, 167, 167, 167, 165, 165, 165, 164, 164, 162, 160, 160, 158, 156, 155, 154, 154, 154, 154, 154, 154, 153, 153, 153, 153, 152, 152, 152, 152, 151, 150, 147, 146, 145, 143, 143, 143, 143, 143, 143, 142, 141, 140, 140, 140, 138, 136, 136, 136, 136, 136, 135, 135, 134, 133, 133, 132, 132, 132, 132, 132, 132, 132, 129, 129, 128]'"
      ]
     },
     "execution_count": 276,
     "metadata": {},
     "output_type": "execute_result"
    }
   ],
   "source": [
    "df_opt['user_attrs_feature_sparsity_history'].values[2]"
   ]
  },
  {
   "cell_type": "code",
   "execution_count": 277,
   "id": "ad3f7939",
   "metadata": {},
   "outputs": [],
   "source": [
    "val_loss_history = [float(i) for i in df_opt['user_attrs_val_loss_history'].values[3][1:-1].split(', ')]\n",
    "feature_sparsity_history = [float(i) for i in df_opt['user_attrs_feature_sparsity_history'].values[3][1:-1].split(', ')]"
   ]
  },
  {
   "cell_type": "code",
   "execution_count": 278,
   "id": "a34d38b6",
   "metadata": {},
   "outputs": [
    {
     "data": {
      "image/png": "[encoded data removed]",
      "text/plain": [
       "<Figure size 640x480 with 1 Axes>"
      ]
     },
     "metadata": {},
     "output_type": "display_data"
    },
    {
     "data": {
      "image/png": "[encoded data removed]",
      "text/plain": [
       "<Figure size 640x480 with 1 Axes>"
      ]
     },
     "metadata": {},
     "output_type": "display_data"
    }
   ],
   "source": [
    "plt.plot(val_loss_history)\n",
    "plt.show()\n",
    "\n",
    "plt.plot(feature_sparsity_history)\n",
    "# plt.ylim([0,2000])\n",
    "plt.show()"
   ]
  },
  {
   "cell_type": "code",
   "execution_count": 67,
   "id": "945b7ed9",
   "metadata": {},
   "outputs": [],
   "source": [
    "# plt.scatter(np.log10(df['params_kernel_constraint']), df['user_attrs_feature_sparsity'], marker=\"*\", color='b')\n",
    "# plt.scatter(np.log10(df_opt[\"params_kernel_constraint\"]), df_opt[\"user_attrs_feature_sparsity\"], marker=\"o\", color='r')"
   ]
  },
  {
   "cell_type": "code",
   "execution_count": 68,
   "id": "53cfed2d",
   "metadata": {},
   "outputs": [],
   "source": [
    "# plt.scatter(np.log10(df['params_kernel_l2']), df['user_attrs_feature_sparsity'], marker=\"*\", color='b')\n",
    "# plt.scatter(np.log10(df_opt[\"params_kernel_l2\"]), df_opt[\"user_attrs_feature_sparsity\"], marker=\"o\", color='r')"
   ]
  },
  {
   "cell_type": "code",
   "execution_count": 1,
   "id": "d1bb902a",
   "metadata": {},
   "outputs": [
    {
     "name": "stdout",
     "output_type": "stream",
     "text": [
      "=============Sparsity:Lasso, ======== Anneal:False ====== LR Schedule:False\n"
     ]
    },
    {
     "ename": "NameError",
     "evalue": "name 'pd' is not defined",
     "output_type": "error",
     "traceback": [
      "\u001b[0;31m---------------------------------------------------------------------------\u001b[0m",
      "\u001b[0;31mNameError\u001b[0m                                 Traceback (most recent call last)",
      "Cell \u001b[0;32mIn[1], line 12\u001b[0m\n\u001b[1;32m      9\u001b[0m \u001b[38;5;28;01mfor\u001b[39;00m sparsity, anneal, lr_schedule \u001b[38;5;129;01min\u001b[39;00m \u001b[38;5;28mzip\u001b[39m(sparsities, annealing, learning_rate_scheduling):\n\u001b[1;32m     10\u001b[0m     \u001b[38;5;28mprint\u001b[39m(\u001b[38;5;124m\"\u001b[39m\u001b[38;5;124m=============Sparsity:\u001b[39m\u001b[38;5;132;01m{}\u001b[39;00m\u001b[38;5;124m, ======== Anneal:\u001b[39m\u001b[38;5;132;01m{}\u001b[39;00m\u001b[38;5;124m ====== LR Schedule:\u001b[39m\u001b[38;5;132;01m{}\u001b[39;00m\u001b[38;5;124m\"\u001b[39m\u001b[38;5;241m.\u001b[39mformat(sparsity, anneal, lr_schedule))\n\u001b[0;32m---> 12\u001b[0m     df \u001b[38;5;241m=\u001b[39m \u001b[43mpd\u001b[49m\u001b[38;5;241m.\u001b[39mDataFrame()\n\u001b[1;32m     13\u001b[0m     \u001b[38;5;28;01mfor\u001b[39;00m tuning_seed \u001b[38;5;129;01min\u001b[39;00m tuning_seeds:\n\u001b[1;32m     14\u001b[0m         path \u001b[38;5;241m=\u001b[39m \u001b[38;5;124m\"\u001b[39m\u001b[38;5;124m./logs/soft_trees/publicdata/\u001b[39m\u001b[38;5;132;01m{}\u001b[39;00m\u001b[38;5;124m/\u001b[39m\u001b[38;5;132;01m{}\u001b[39;00m\u001b[38;5;124m/cross-entropy/5.\u001b[39m\u001b[38;5;132;01m{}\u001b[39;00m\u001b[38;5;124m/study-shared-sigmoid-100-5-\u001b[39m\u001b[38;5;132;01m{}\u001b[39;00m\u001b[38;5;124m\"\u001b[39m\u001b[38;5;241m.\u001b[39mformat(data, sparsity, tuning_seed, sparsity)\n",
      "\u001b[0;31mNameError\u001b[0m: name 'pd' is not defined"
     ]
    }
   ],
   "source": [
    "data = 'isolet'\n",
    "budget = 0.25\n",
    "sparsities = ['Lasso']\n",
    "annealing = [False]\n",
    "learning_rate_scheduling = [False]\n",
    "criteria = 'auc'\n",
    "tuning_seeds = [0,1,2,3,4,5,6,7,8,9,10,11,12,13,14,15,16,17,18,19,20]\n",
    "\n",
    "for sparsity, anneal, lr_schedule in zip(sparsities, annealing, learning_rate_scheduling):\n",
    "    print(\"=============Sparsity:{}, ======== Anneal:{} ====== LR Schedule:{}\".format(sparsity, anneal, lr_schedule))\n",
    "\n",
    "    df = pd.DataFrame()\n",
    "    for tuning_seed in tuning_seeds:\n",
    "        path = \"./logs/soft_trees/publicdata/{}/{}/cross-entropy/5.{}/study-shared-sigmoid-100-5-{}\".format(data, sparsity, tuning_seed, sparsity)\n",
    "        if anneal:\n",
    "            path = path+\"-anneal\"\n",
    "        if lr_schedule:\n",
    "            path = path+\"-learning_rate_scheduling\"\n",
    "        path = path+\"-seed8.csv\"\n",
    "        try:\n",
    "            df_temp = pd.read_csv(path)\n",
    "        except:\n",
    "            print(\"Missing:\", path)\n",
    "            continue\n",
    "        df = pd.concat([df,df_temp],axis=0)\n",
    "        df.index = np.arange(len(df))\n",
    "    print(\"Number of total trials:\", df.shape[0])\n",
    "    df = df[(df[\"user_attrs_feature_sparsity\"]<=budget*df[\"user_attrs_feature_sparsity\"].max())&(df[\"user_attrs_feature_sparsity\"]>0)]\n",
    "    print(\"Number of trials satisfying the feature sparsity budget:\", df.shape[0])\n",
    "    df = df.sort_values(by=[\"user_attrs_\"+criteria+\"_valid\"], ascending=False)\n",
    "    \n",
    "    best_value = df[\"user_attrs_\"+criteria+\"_valid\"].values[0]\n",
    "    df_opt = df[df[\"user_attrs_\"+criteria+\"_valid\"]==best_value]\n",
    "    \n",
    "    df_opt = df_opt.sort_values(by='user_attrs_feature_sparsity')\n",
    "    display(df_opt.T)\n",
    "    if criteria=='auc':\n",
    "        print(\"valid_auc:\", df_opt.user_attrs_auc_valid.mean())\n",
    "        print(\"test_auc:\", df_opt.user_attrs_auc_test.mean())\n",
    "        print(\"test_aucs:\", df_opt.user_attrs_auc_test.values)\n",
    "        print(\"test_aucs (SE):\", df_opt.user_attrs_auc_test.std()/np.sqrt(50))\n",
    "    elif criteria=='accuracy':\n",
    "        print(\"valid_accuracy:\", df_opt.user_attrs_accuracy_valid.mean())\n",
    "        print(\"test_accuracy:\", df_opt.user_attrs_accuracy_test.mean())\n",
    "        print(\"test_accuracies:\", df_opt.user_attrs_accuracy_test.values)\n",
    "    print(\"sparsity:\", df_opt.user_attrs_feature_sparsity.values)\n",
    "    print(\"Mean sparsity:\", df_opt.user_attrs_approximate_feature_sparsity.mean())\n",
    "    print(\"Standard Error sparsity:\", df_opt.user_attrs_approximate_feature_sparsity.std()/np.sqrt(50))\n",
    "#     print(\"Approx sparsity:\", df_opt.user_attrs_approximate_feature_sparsity.values)\n",
    "#     print(\"Mean approx sparsity:\", df_opt.user_attrs_feature_sparsity.mean())\n",
    "    print(\"Batch-sizes:\", df_opt.params_constant_batch_size.values*df_opt.params_batch_size_scaler.values)\n",
    "    print(\"Epochs:\", df_opt.user_attrs_num_epochs.values)\n",
    "    print(\"Number of Trees:\", df_opt.params_num_trees.values)\n",
    "        \n",
    "#     df = df[df[\"user_attrs_approximate_feature_sparsity\"]<budget*df[\"user_attrs_approximate_feature_sparsity\"].max()]\n",
    "#     print(\"Number of trials satisfying the feature sparsity budget:\", df.shape[0])\n",
    "#     df = df.sort_values(by=[\"user_attrs_\"+criteria+\"_valid\"], ascending=False)\n",
    "#     best_value = df[\"user_attrs_\"+criteria+\"_valid\"].values[0]\n",
    "#     df_opt = df[df[\"user_attrs_\"+criteria+\"_valid\"]==best_value]\n",
    "\n",
    "#     df_opt = df_opt.sort_values(by='user_attrs_feature_sparsity')\n",
    "#     if criteria=='auc':\n",
    "#         print(\"valid_auc:\", df_opt.user_attrs_auc_valid.mean())\n",
    "#         print(\"test_auc:\", df_opt.user_attrs_auc_test.mean())\n",
    "#         print(\"test_aucs:\", df_opt.user_attrs_auc_test.values)\n",
    "#     elif criteria=='accuracy':\n",
    "#         print(\"valid_accuracy:\", df_opt.user_attrs_accuracy_valid.mean())\n",
    "#         print(\"test_accuracy:\", df_opt.user_attrs_accuracy_test.mean())\n",
    "#         print(\"test_accuracies:\", df_opt.user_attrs_accuracy_test.values)\n",
    "#     print(\"sparsity:\", df_opt.user_attrs_feature_sparsity.values)\n",
    "#     print(\"Mean sparsity:\", df_opt.user_attrs_approximate_feature_sparsity.mean())\n",
    "# #     print(\"Approx sparsity:\", df_opt.user_attrs_approximate_feature_sparsity.values)\n",
    "# #     print(\"Mean approx sparsity:\", df_opt.user_attrs_feature_sparsity.mean())\n",
    "# #     print(\"Batch-sizes:\", df_opt.params_batch_size.values)\n",
    "#     print(\"Depths:\", df_opt.params_depth.values)\n",
    "#     print(\"Epochs:\", df_opt.user_attrs_num_epochs.values)\n",
    "# #     print(\"Learning Rates:\", df_opt.params_learning_rate.values)\n"
   ]
  },
  {
   "cell_type": "code",
   "execution_count": null,
   "id": "a74eb148",
   "metadata": {},
   "outputs": [],
   "source": [
    "df[[col for col in df.columns if \"params\" in col]]"
   ]
  },
  {
   "cell_type": "code",
   "execution_count": null,
   "id": "6d3488a6",
   "metadata": {},
   "outputs": [],
   "source": [
    "plt.scatter(np.log10(df['params_temperature']), df['user_attrs_feature_sparsity'], marker=\"*\", color='b')\n",
    "plt.scatter(np.log10(df_opt[\"params_temperature\"]), df_opt[\"user_attrs_feature_sparsity\"], marker=\"o\", color='r')"
   ]
  },
  {
   "cell_type": "code",
   "execution_count": null,
   "id": "bec53d72",
   "metadata": {},
   "outputs": [],
   "source": [
    "df_sel = df[df[\"user_attrs_\"+criteria+\"_valid\"]>0.80]\n",
    "plt.scatter(df_sel[\"user_attrs_\"+criteria+\"_valid\"], df_sel[\"user_attrs_feature_sparsity\"], marker=\"*\", color='b')\n",
    "plt.scatter(df_opt[\"user_attrs_\"+criteria+\"_valid\"], df_opt[\"user_attrs_feature_sparsity\"], marker=\"o\", color='r')\n",
    "plt.xlabel(\"user_attrs_\"+criteria+\"_valid\")\n",
    "plt.ylabel(\"feature selection\")\n",
    "plt.xlim(0.8,1.0005)\n"
   ]
  },
  {
   "cell_type": "code",
   "execution_count": null,
   "id": "7bca2189",
   "metadata": {},
   "outputs": [],
   "source": [
    "for sparsity, anneal, lr_schedule in zip(sparsities, annealing, learning_rate_scheduling):\n",
    "    print(\"=============Sparsity:{}, ======== Anneal:{} ====== LR Schedule:{}\".format(sparsity, anneal, lr_schedule))\n",
    "\n",
    "    df = pd.DataFrame()\n",
    "    for tuning_seed in tuning_seeds:\n",
    "        path = \"./logs/soft_trees/publicdata/{}/{}/cross-entropy/5.{}/study-shared-sigmoid-100-5-{}\".format(data, sparsity, tuning_seed, sparsity)\n",
    "        if anneal:\n",
    "            path = path+\"-anneal\"\n",
    "        if lr_schedule:\n",
    "            path = path+\"-learning_rate_scheduling\"\n",
    "        path = path+\"-seed8.csv\"\n",
    "        try:\n",
    "            df_temp = pd.read_csv(path)\n",
    "        except:\n",
    "            print(\"Missing:\", path)\n",
    "            continue\n",
    "        df = pd.concat([df,df_temp],axis=0)\n",
    "        df.index = np.arange(len(df))\n"
   ]
  },
  {
   "cell_type": "code",
   "execution_count": null,
   "id": "250bb80e",
   "metadata": {},
   "outputs": [],
   "source": [
    "df"
   ]
  },
  {
   "cell_type": "markdown",
   "id": "69c67087",
   "metadata": {},
   "source": [
    "# No sparsity"
   ]
  },
  {
   "cell_type": "code",
   "execution_count": 152,
   "id": "8afcbeed",
   "metadata": {},
   "outputs": [
    {
     "name": "stdout",
     "output_type": "stream",
     "text": [
      "=============Sparsity:none, ======== Anneal:False ====== LR Schedule:False\n",
      "Number of total trials: 500\n"
     ]
    },
    {
     "data": {
      "text/html": [
       "<div>\n",
       "<style scoped>\n",
       "    .dataframe tbody tr th:only-of-type {\n",
       "        vertical-align: middle;\n",
       "    }\n",
       "\n",
       "    .dataframe tbody tr th {\n",
       "        vertical-align: top;\n",
       "    }\n",
       "\n",
       "    .dataframe thead th {\n",
       "        text-align: right;\n",
       "    }\n",
       "</style>\n",
       "<table border=\"1\" class=\"dataframe\">\n",
       "  <thead>\n",
       "    <tr style=\"text-align: right;\">\n",
       "      <th></th>\n",
       "      <th>226</th>\n",
       "    </tr>\n",
       "  </thead>\n",
       "  <tbody>\n",
       "    <tr>\n",
       "      <th>Unnamed: 0</th>\n",
       "      <td>101</td>\n",
       "    </tr>\n",
       "    <tr>\n",
       "      <th>number</th>\n",
       "      <td>101</td>\n",
       "    </tr>\n",
       "    <tr>\n",
       "      <th>...</th>\n",
       "      <td>...</td>\n",
       "    </tr>\n",
       "    <tr>\n",
       "      <th>user_attrs_weight_sparsity_history</th>\n",
       "      <td>[11340.0, 11340.0, 11340.0, 11340.0, 11340.0, ...</td>\n",
       "    </tr>\n",
       "    <tr>\n",
       "      <th>state</th>\n",
       "      <td>COMPLETE</td>\n",
       "    </tr>\n",
       "  </tbody>\n",
       "</table>\n",
       "<p>27 rows × 1 columns</p>\n",
       "</div>"
      ],
      "text/plain": [
       "                                                                                  226\n",
       "Unnamed: 0                                                                        101\n",
       "number                                                                            101\n",
       "...                                                                               ...\n",
       "user_attrs_weight_sparsity_history  [11340.0, 11340.0, 11340.0, 11340.0, 11340.0, ...\n",
       "state                                                                        COMPLETE\n",
       "\n",
       "[27 rows x 1 columns]"
      ]
     },
     "metadata": {},
     "output_type": "display_data"
    },
    {
     "name": "stdout",
     "output_type": "stream",
     "text": [
      "valid_auc: 0.9427083333333334\n",
      "test_auc: 0.8477272727272728\n",
      "test_aucs: [0.84772727]\n",
      "test_aucs (SE): nan\n",
      "Epochs: [175]\n",
      "Number of Trees: [35]\n"
     ]
    }
   ],
   "source": [
    "data = 'cll'\n",
    "sparsities = ['none']\n",
    "annealing = [False]\n",
    "learning_rate_scheduling = [False]\n",
    "criteria = 'auc'\n",
    "tuning_seeds = [0,1,2,3]\n",
    "\n",
    "for sparsity, anneal, lr_schedule in zip(sparsities, annealing, learning_rate_scheduling):\n",
    "    print(\"=============Sparsity:{}, ======== Anneal:{} ====== LR Schedule:{}\".format(sparsity, anneal, lr_schedule))\n",
    "\n",
    "    df = pd.DataFrame()\n",
    "    for tuning_seed in tuning_seeds:\n",
    "#         path = \"./logs/soft_trees/publicdata/{}/{}/cross-entropy/1.{}/study-shared-sigmoid-100-5-{}\".format(data, sparsity, tuning_seed, sparsity)\n",
    "        path = \"./logs/soft_trees/publicdata/{}/{}/cross-entropy/20.{}/study-shared-sigmoid-{}\".format(data, sparsity, tuning_seed, sparsity)\n",
    "        path = path+\"-seed8.csv\"\n",
    "        try:\n",
    "            df_temp = pd.read_csv(path)\n",
    "        except:\n",
    "            print(\"Missing:\", path)\n",
    "            continue\n",
    "        df = pd.concat([df,df_temp],axis=0)\n",
    "        df.index = np.arange(len(df))\n",
    "    print(\"Number of total trials:\", df.shape[0])\n",
    "    df = df.sort_values(by=[\"user_attrs_\"+criteria+\"_valid\"], ascending=False)\n",
    "    \n",
    "    best_value = df[\"user_attrs_\"+criteria+\"_valid\"].values[0]\n",
    "    df_opt = df[df[\"user_attrs_\"+criteria+\"_valid\"]==best_value]\n",
    "    \n",
    "#     df_opt = df_opt.sort_values(by='user_attrs_feature_sparsity')\n",
    "    display(df_opt.T)\n",
    "    if criteria=='auc':\n",
    "        print(\"valid_auc:\", df_opt.user_attrs_auc_valid.mean())\n",
    "        print(\"test_auc:\", df_opt.user_attrs_auc_test.mean())\n",
    "        print(\"test_aucs:\", df_opt.user_attrs_auc_test.values)\n",
    "        print(\"test_aucs (SE):\", df_opt.user_attrs_auc_test.sem())\n",
    "    elif criteria=='accuracy':\n",
    "        print(\"valid_accuracy:\", df_opt.user_attrs_accuracy_valid.mean())\n",
    "        print(\"test_accuracy:\", df_opt.user_attrs_accuracy_test.mean())\n",
    "        print(\"test_accuracies:\", df_opt.user_attrs_accuracy_test.values)\n",
    "#     print(\"sparsity:\", df_opt.user_attrs_feature_sparsity.values)\n",
    "#     print(\"Mean sparsity:\", df_opt.user_attrs_approximate_feature_sparsity.mean())\n",
    "#     print(\"Standard Error sparsity:\", df_opt.user_attrs_approximate_feature_sparsity.std()/np.sqrt(50))\n",
    "#     print(\"Approx sparsity:\", df_opt.user_attrs_approximate_feature_sparsity.values)\n",
    "#     print(\"Mean approx sparsity:\", df_opt.user_attrs_feature_sparsity.mean())\n",
    "#     print(\"Batch-sizes:\", df_opt.params_constant_batch_size.values*df_opt.params_batch_size_scaler.values)\n",
    "    print(\"Epochs:\", df_opt.user_attrs_num_epochs.values)\n",
    "    print(\"Number of Trees:\", df_opt.params_num_trees.values)\n",
    "        \n",
    "#     df = df[df[\"user_attrs_approximate_feature_sparsity\"]<budget*df[\"user_attrs_approximate_feature_sparsity\"].max()]\n",
    "#     print(\"Number of trials satisfying the feature sparsity budget:\", df.shape[0])\n",
    "#     df = df.sort_values(by=[\"user_attrs_\"+criteria+\"_valid\"], ascending=False)\n",
    "#     best_value = df[\"user_attrs_\"+criteria+\"_valid\"].values[0]\n",
    "#     df_opt = df[df[\"user_attrs_\"+criteria+\"_valid\"]==best_value]\n",
    "\n",
    "#     df_opt = df_opt.sort_values(by='user_attrs_feature_sparsity')\n",
    "#     if criteria=='auc':\n",
    "#         print(\"valid_auc:\", df_opt.user_attrs_auc_valid.mean())\n",
    "#         print(\"test_auc:\", df_opt.user_attrs_auc_test.mean())\n",
    "#         print(\"test_aucs:\", df_opt.user_attrs_auc_test.values)\n",
    "#     elif criteria=='accuracy':\n",
    "#         print(\"valid_accuracy:\", df_opt.user_attrs_accuracy_valid.mean())\n",
    "#         print(\"test_accuracy:\", df_opt.user_attrs_accuracy_test.mean())\n",
    "#         print(\"test_accuracies:\", df_opt.user_attrs_accuracy_test.values)\n",
    "#     print(\"sparsity:\", df_opt.user_attrs_feature_sparsity.values)\n",
    "#     print(\"Mean sparsity:\", df_opt.user_attrs_approximate_feature_sparsity.mean())\n",
    "# #     print(\"Approx sparsity:\", df_opt.user_attrs_approximate_feature_sparsity.values)\n",
    "# #     print(\"Mean approx sparsity:\", df_opt.user_attrs_feature_sparsity.mean())\n",
    "# #     print(\"Batch-sizes:\", df_opt.params_batch_size.values)\n",
    "#     print(\"Depths:\", df_opt.params_depth.values)\n",
    "#     print(\"Epochs:\", df_opt.user_attrs_num_epochs.values)\n",
    "# #     print(\"Learning Rates:\", df_opt.params_learning_rate.values)\n"
   ]
  },
  {
   "cell_type": "code",
   "execution_count": 144,
   "id": "32819f6a",
   "metadata": {},
   "outputs": [
    {
     "data": {
      "text/html": [
       "<div>\n",
       "<style scoped>\n",
       "    .dataframe tbody tr th:only-of-type {\n",
       "        vertical-align: middle;\n",
       "    }\n",
       "\n",
       "    .dataframe tbody tr th {\n",
       "        vertical-align: top;\n",
       "    }\n",
       "\n",
       "    .dataframe thead th {\n",
       "        text-align: right;\n",
       "    }\n",
       "</style>\n",
       "<table border=\"1\" class=\"dataframe\">\n",
       "  <thead>\n",
       "    <tr style=\"text-align: right;\">\n",
       "      <th></th>\n",
       "      <th>params_batch_size_scaler</th>\n",
       "      <th>params_constant_learning_rate</th>\n",
       "      <th>params_num_trees</th>\n",
       "      <th>params_depth</th>\n",
       "      <th>user_attrs_num_epochs</th>\n",
       "    </tr>\n",
       "  </thead>\n",
       "  <tbody>\n",
       "    <tr>\n",
       "      <th>226</th>\n",
       "      <td>1</td>\n",
       "      <td>6.538011</td>\n",
       "      <td>35</td>\n",
       "      <td>5</td>\n",
       "      <td>175</td>\n",
       "    </tr>\n",
       "  </tbody>\n",
       "</table>\n",
       "</div>"
      ],
      "text/plain": [
       "     params_batch_size_scaler  params_constant_learning_rate   \n",
       "226                         1                       6.538011  \\\n",
       "\n",
       "     params_num_trees  params_depth  user_attrs_num_epochs  \n",
       "226                35             5                    175  "
      ]
     },
     "execution_count": 144,
     "metadata": {},
     "output_type": "execute_result"
    }
   ],
   "source": [
    "df_opt[[\n",
    "    'params_batch_size_scaler',\n",
    "    'params_constant_learning_rate',\n",
    "    'params_num_trees',\n",
    "    'params_depth',\n",
    "#     'learning_rate_scheduling',\n",
    "#     'group_sparsity',\n",
    "#     'use_annealing',\n",
    "    'user_attrs_num_epochs',\n",
    "#     'params_kernel_constraint',\n",
    "#     'params_kernel_l2',\n",
    "#     'params_kernel_regularizer',\n",
    "#     'params_temperature'\n",
    "]]\n"
   ]
  },
  {
   "cell_type": "code",
   "execution_count": 145,
   "id": "f6cb2a22",
   "metadata": {},
   "outputs": [
    {
     "data": {
      "text/plain": [
       "226    1120\n",
       "dtype: int64"
      ]
     },
     "execution_count": 145,
     "metadata": {},
     "output_type": "execute_result"
    }
   ],
   "source": [
    "(2**(df_opt['params_depth'])*df_opt['params_num_trees'])"
   ]
  },
  {
   "cell_type": "code",
   "execution_count": 146,
   "id": "ab144575",
   "metadata": {},
   "outputs": [
    {
     "data": {
      "text/plain": [
       "'--use_passed_hyperparameters --batch_size_scaler 1 --constant_learning_rate 6.538011431130186 --num_trees 35 --depth 5 --epochs 175'"
      ]
     },
     "execution_count": 146,
     "metadata": {},
     "output_type": "execute_result"
    }
   ],
   "source": [
    "i=0\n",
    "f\"--use_passed_hyperparameters --batch_size_scaler {df_opt['params_batch_size_scaler'].values[i]} --constant_learning_rate {df_opt['params_constant_learning_rate'].values[i]} --num_trees {df_opt['params_num_trees'].values[i]} --depth {df_opt['params_depth'].values[i]} --epochs {df_opt['user_attrs_num_epochs'].values[i]}\"\n"
   ]
  },
  {
   "cell_type": "code",
   "execution_count": null,
   "id": "de1c4744",
   "metadata": {},
   "outputs": [],
   "source": []
  },
  {
   "cell_type": "markdown",
   "id": "ad8aa67c",
   "metadata": {},
   "source": [
    "# Classical Trees"
   ]
  },
  {
   "cell_type": "code",
   "execution_count": 18,
   "id": "d392b219",
   "metadata": {},
   "outputs": [],
   "source": [
    "data = 'madelon'\n",
    "budget = 0.25"
   ]
  },
  {
   "cell_type": "code",
   "execution_count": 20,
   "id": "2f596f34",
   "metadata": {},
   "outputs": [
    {
     "name": "stdout",
     "output_type": "stream",
     "text": [
      "Missing: ../baselines/logs/feature-selection/xgboost/publicdata/madelon/cross-entropy/1.0/study.csv\n",
      "Missing: ../baselines/logs/feature-selection/xgboost/publicdata/madelon/cross-entropy/1.1/study.csv\n",
      "Total Number of trials: 0\n"
     ]
    },
    {
     "ename": "KeyError",
     "evalue": "'user_attrs_feature_sparsity'",
     "output_type": "error",
     "traceback": [
      "\u001b[0;31m---------------------------------------------------------------------------\u001b[0m",
      "\u001b[0;31mKeyError\u001b[0m                                  Traceback (most recent call last)",
      "Cell \u001b[0;32mIn[20], line 18\u001b[0m\n\u001b[1;32m     16\u001b[0m     df\u001b[38;5;241m.\u001b[39mindex \u001b[38;5;241m=\u001b[39m np\u001b[38;5;241m.\u001b[39marange(\u001b[38;5;28mlen\u001b[39m(df))\n\u001b[1;32m     17\u001b[0m \u001b[38;5;28mprint\u001b[39m(\u001b[38;5;124m\"\u001b[39m\u001b[38;5;124mTotal Number of trials:\u001b[39m\u001b[38;5;124m\"\u001b[39m, df\u001b[38;5;241m.\u001b[39mshape[\u001b[38;5;241m0\u001b[39m])\n\u001b[0;32m---> 18\u001b[0m df \u001b[38;5;241m=\u001b[39m df[(\u001b[43mdf\u001b[49m\u001b[43m[\u001b[49m\u001b[38;5;124;43m\"\u001b[39;49m\u001b[38;5;124;43muser_attrs_feature_sparsity\u001b[39;49m\u001b[38;5;124;43m\"\u001b[39;49m\u001b[43m]\u001b[49m\u001b[38;5;241m<\u001b[39mbudget\u001b[38;5;241m*\u001b[39mdf[\u001b[38;5;124m\"\u001b[39m\u001b[38;5;124muser_attrs_feature_sparsity\u001b[39m\u001b[38;5;124m\"\u001b[39m]\u001b[38;5;241m.\u001b[39mmax())\u001b[38;5;241m&\u001b[39m(df[\u001b[38;5;124m\"\u001b[39m\u001b[38;5;124muser_attrs_feature_sparsity\u001b[39m\u001b[38;5;124m\"\u001b[39m]\u001b[38;5;241m>\u001b[39m\u001b[38;5;241m0\u001b[39m)]\n\u001b[1;32m     19\u001b[0m \u001b[38;5;28mprint\u001b[39m(\u001b[38;5;124m\"\u001b[39m\u001b[38;5;124mNumber of trials satisfying the feature sparsity budget:\u001b[39m\u001b[38;5;124m\"\u001b[39m, df\u001b[38;5;241m.\u001b[39mshape[\u001b[38;5;241m0\u001b[39m])\n\u001b[1;32m     20\u001b[0m df \u001b[38;5;241m=\u001b[39m df\u001b[38;5;241m.\u001b[39msort_values(by\u001b[38;5;241m=\u001b[39m[\u001b[38;5;124m\"\u001b[39m\u001b[38;5;124muser_attrs_\u001b[39m\u001b[38;5;124m\"\u001b[39m\u001b[38;5;241m+\u001b[39mcriteria\u001b[38;5;241m+\u001b[39m\u001b[38;5;124m\"\u001b[39m\u001b[38;5;124m_valid\u001b[39m\u001b[38;5;124m\"\u001b[39m], ascending\u001b[38;5;241m=\u001b[39m\u001b[38;5;28;01mFalse\u001b[39;00m)\n",
      "File \u001b[0;32m~/.local/lib/python3.8/site-packages/pandas/core/frame.py:3760\u001b[0m, in \u001b[0;36mDataFrame.__getitem__\u001b[0;34m(self, key)\u001b[0m\n\u001b[1;32m   3758\u001b[0m \u001b[38;5;28;01mif\u001b[39;00m \u001b[38;5;28mself\u001b[39m\u001b[38;5;241m.\u001b[39mcolumns\u001b[38;5;241m.\u001b[39mnlevels \u001b[38;5;241m>\u001b[39m \u001b[38;5;241m1\u001b[39m:\n\u001b[1;32m   3759\u001b[0m     \u001b[38;5;28;01mreturn\u001b[39;00m \u001b[38;5;28mself\u001b[39m\u001b[38;5;241m.\u001b[39m_getitem_multilevel(key)\n\u001b[0;32m-> 3760\u001b[0m indexer \u001b[38;5;241m=\u001b[39m \u001b[38;5;28;43mself\u001b[39;49m\u001b[38;5;241;43m.\u001b[39;49m\u001b[43mcolumns\u001b[49m\u001b[38;5;241;43m.\u001b[39;49m\u001b[43mget_loc\u001b[49m\u001b[43m(\u001b[49m\u001b[43mkey\u001b[49m\u001b[43m)\u001b[49m\n\u001b[1;32m   3761\u001b[0m \u001b[38;5;28;01mif\u001b[39;00m is_integer(indexer):\n\u001b[1;32m   3762\u001b[0m     indexer \u001b[38;5;241m=\u001b[39m [indexer]\n",
      "File \u001b[0;32m~/.local/lib/python3.8/site-packages/pandas/core/indexes/range.py:349\u001b[0m, in \u001b[0;36mRangeIndex.get_loc\u001b[0;34m(self, key)\u001b[0m\n\u001b[1;32m    347\u001b[0m         \u001b[38;5;28;01mraise\u001b[39;00m \u001b[38;5;167;01mKeyError\u001b[39;00m(key) \u001b[38;5;28;01mfrom\u001b[39;00m \u001b[38;5;21;01merr\u001b[39;00m\n\u001b[1;32m    348\u001b[0m \u001b[38;5;28mself\u001b[39m\u001b[38;5;241m.\u001b[39m_check_indexing_error(key)\n\u001b[0;32m--> 349\u001b[0m \u001b[38;5;28;01mraise\u001b[39;00m \u001b[38;5;167;01mKeyError\u001b[39;00m(key)\n",
      "\u001b[0;31mKeyError\u001b[0m: 'user_attrs_feature_sparsity'"
     ]
    }
   ],
   "source": [
    "models = [\"xgboost\"]\n",
    "criteria = 'auc'\n",
    "tuning_seeds = [0,1]\n",
    "\n",
    "for model in models:\n",
    "    df = pd.DataFrame()\n",
    "    for tuning_seed in tuning_seeds:\n",
    "        path = \"../baselines/logs/feature-selection/{}/publicdata/{}/cross-entropy/1.{}/study\".format(model, data, tuning_seed)\n",
    "        path = path+\".csv\"\n",
    "        try:\n",
    "            df_temp = pd.read_csv(path)\n",
    "        except:\n",
    "            print(\"Missing:\", path)\n",
    "            continue\n",
    "        df = pd.concat([df,df_temp],axis=0)\n",
    "        df.index = np.arange(len(df))\n",
    "    print(\"Total Number of trials:\", df.shape[0])\n",
    "    df = df[(df[\"user_attrs_feature_sparsity\"]<budget*df[\"user_attrs_feature_sparsity\"].max())&(df[\"user_attrs_feature_sparsity\"]>0)]\n",
    "    print(\"Number of trials satisfying the feature sparsity budget:\", df.shape[0])\n",
    "    df = df.sort_values(by=[\"user_attrs_\"+criteria+\"_valid\"], ascending=False)\n",
    "    best_value = df[\"user_attrs_\"+criteria+\"_valid\"].values[0]\n",
    "    df_opt = df[df[\"user_attrs_\"+criteria+\"_valid\"]==best_value]\n",
    "\n",
    "    df_opt = df_opt.sort_values(by='user_attrs_feature_sparsity')\n",
    "    if criteria=='auc':\n",
    "        print(\"valid_auc:\", df_opt.user_attrs_auc_valid.mean())\n",
    "        print(\"test_auc:\", df_opt.user_attrs_auc_test.mean())\n",
    "        print(\"test_aucs:\", df_opt.user_attrs_auc_test.values)\n",
    "    elif criteria=='accuracy':\n",
    "        print(\"valid_accuracy:\", df_opt.user_attrs_accuracy_valid.mean())\n",
    "        print(\"test_accuracy:\", df_opt.user_attrs_accuracy_test.mean())\n",
    "        print(\"test_accuracies:\", df_opt.user_attrs_accuracy_test.values)\n",
    "    print(\"sparsity:\", df_opt.user_attrs_feature_sparsity.values)\n",
    "    print(\"Mean sparsity:\", df_opt.user_attrs_feature_sparsity.mean())\n",
    "    print(\"Mean Depths:\", df_opt.params_max_depth.mean())   \n",
    "    print(\"Mean number of estimators:\", df_opt.params_n_estimators.mean())  \n"
   ]
  },
  {
   "cell_type": "code",
   "execution_count": null,
   "id": "7f9187d5",
   "metadata": {},
   "outputs": [],
   "source": [
    "df"
   ]
  },
  {
   "cell_type": "code",
   "execution_count": null,
   "id": "b75aeede",
   "metadata": {},
   "outputs": [],
   "source": [
    "# plt.scatter(np.log10(df_opt['params_kernel_constraint']), df_opt['user_attrs_feature_sparsity'])"
   ]
  },
  {
   "cell_type": "markdown",
   "id": "8465b378",
   "metadata": {},
   "source": [
    "# Sparsity Comparison"
   ]
  },
  {
   "cell_type": "code",
   "execution_count": 11,
   "id": "ab8304f9",
   "metadata": {},
   "outputs": [
    {
     "name": "stdout",
     "output_type": "stream",
     "text": [
      "=============Sparsity:GroupL0L2, ======== Anneal:True ====== LR Schedule:False\n",
      "Number of trials: 1000\n",
      "Sparsity:GroupL0L2, Anneal:True, LR-Schedule:False\n",
      "=============Sparsity:GroupL0L2, ======== Anneal:False ====== LR Schedule:False\n",
      "Number of trials: 1752\n",
      "Sparsity:GroupL0L2, Anneal:False, LR-Schedule:False\n"
     ]
    },
    {
     "data": {
      "image/png": "[encoded data removed]",
      "text/plain": [
       "<Figure size 640x380 with 1 Axes>"
      ]
     },
     "metadata": {},
     "output_type": "display_data"
    }
   ],
   "source": [
    "data = 'smk'\n",
    "budget = 1.0\n",
    "sparsities = ['GroupL0L2', 'GroupL0L2']\n",
    "annealing = [True, False]\n",
    "learning_rate_scheduling = [False, False]\n",
    "criteria = 'auc'\n",
    "tuning_seeds = [0,1,2,3]\n",
    "\n",
    "dfs = {}\n",
    "for sparsity, anneal, lr_schedule in zip(sparsities, annealing, learning_rate_scheduling):\n",
    "    print(\"=============Sparsity:{}, ======== Anneal:{} ====== LR Schedule:{}\".format(sparsity, anneal, lr_schedule))\n",
    "\n",
    "    df = pd.DataFrame()\n",
    "    for tuning_seed in tuning_seeds:\n",
    "        path = \"./logs/soft_trees/publicdata/{}/{}/cross-entropy/20.{}/study-shared-sigmoid-{}\".format(data, sparsity, tuning_seed, sparsity)\n",
    "        if anneal:\n",
    "            path = path+\"-anneal\"\n",
    "        if lr_schedule:\n",
    "            path = path+\"-learning_rate_scheduling\"\n",
    "        path = path+\"-seed8.csv\"\n",
    "        try:\n",
    "            df_temp = pd.read_csv(path)\n",
    "        except:\n",
    "            print(\"Missing:\", path)\n",
    "            continue\n",
    "        df = pd.concat([df,df_temp],axis=0)\n",
    "        df.index = np.arange(len(df))\n",
    "#     df = df[df[\"user_attrs_feature_sparsity\"]<=budget*df[\"user_attrs_feature_sparsity\"].max()]        \n",
    "    print(\"Number of trials:\", df.shape[0])\n",
    "#     df = df.groupby(\"user_attrs_feature_sparsity\").agg({\"user_attrs_\"+criteria+\"_valid\":'max'})[[\"user_attrs_\"+criteria+\"_valid\", \"user_attrs_\"+criteria+\"_test\"]].reset_index()    \n",
    "#     df = df[df[\"user_attrs_\"+criteria+\"_valid\"]>0.9*df[\"user_attrs_\"+criteria+\"_valid\"].max()]\n",
    "    \n",
    "    df = df.sort_values(by=['user_attrs_feature_sparsity', \"user_attrs_\"+criteria+\"_valid\"], ascending=[True, False])\n",
    "    df = df.drop_duplicates('user_attrs_feature_sparsity')\n",
    "    df = df[['user_attrs_feature_sparsity', \"user_attrs_\"+criteria+\"_valid\", \"user_attrs_\"+criteria+\"_test\"]]\n",
    "#     df = df.rolling(window=3).mean()\n",
    "    df[\"user_attrs_\"+criteria+\"_valid_max\"] = df[\"user_attrs_\"+criteria+\"_valid\"].cummax()\n",
    "    df['test_auc'] = df[\"user_attrs_\"+criteria+\"_valid\"]\n",
    "    df = df.merge(df.groupby(\"user_attrs_\"+criteria+\"_valid_max\")[['test_auc']].first().reset_index(), on=\"user_attrs_\"+criteria+\"_valid_max\")\n",
    "    df.rename(columns={'test_auc_y': 'max_test_auc'}, inplace=True)\n",
    "    \n",
    "#     break\n",
    "#     df[\"user_attrs_\"+criteria+\"_valid_max\"] = df[\"user_attrs_\"+criteria+\"_valid\"].cummax()\n",
    "#     df['test_auc'] = df[\"user_attrs_\"+criteria+\"_test\"]\n",
    "#     df = df.merge(df.groupby('cummax')[['test_auc']].first().reset_index(), on='cummax')\n",
    "#     df.rename(columns={'test_auc_y': 'max_test_auc'}, inplace=True)\n",
    "#     df.index=df.test_auc_x.values\n",
    "    key = \"Sparsity:{}, Anneal:{}, LR-Schedule:{}\".format(sparsity, anneal, lr_schedule)\n",
    "    print(key)\n",
    "    if key == \"Sparsity:GroupL0L2, Anneal:True, LR-Schedule:False\":\n",
    "        key = \"Skinny Trees (Dense-to-sparse)\"\n",
    "    elif key == \"Sparsity:GroupL0L2, Anneal:False, LR-Schedule:False\":    \n",
    "        key = \"Skinny Trees (Fixed Regularization)\"\n",
    "    dfs[key] = df\n",
    "#     print(dfs.keys())\n",
    "\n",
    "font = {'size': 14}\n",
    "plt.rc('font', **font)\n",
    "plt.figure(figsize=(6.4,3.8))\n",
    "markers = [\".\", \"*\"]\n",
    "for i, (key, df) in enumerate(dfs.items()):\n",
    "    plt.plot(df[\"user_attrs_feature_sparsity\"], df['max_test_auc'], label=key)\n",
    "plt.legend(loc='lower right')\n",
    "plt.ylabel(\"Validation AUC\")\n",
    "plt.xlabel(\"Number of Features Selected\")\n",
    "plt.xlim(0,5000)\n",
    "plt.ylim(0.9,1.01)\n",
    "plt.savefig(f\"./Figures/sparsity_path_{data}.pdf\", bbox_inches='tight')\n",
    "plt.show()"
   ]
  },
  {
   "cell_type": "code",
   "execution_count": 249,
   "id": "4d199e90",
   "metadata": {},
   "outputs": [
    {
     "data": {
      "text/html": [
       "<div>\n",
       "<style scoped>\n",
       "    .dataframe tbody tr th:only-of-type {\n",
       "        vertical-align: middle;\n",
       "    }\n",
       "\n",
       "    .dataframe tbody tr th {\n",
       "        vertical-align: top;\n",
       "    }\n",
       "\n",
       "    .dataframe thead th {\n",
       "        text-align: right;\n",
       "    }\n",
       "</style>\n",
       "<table border=\"1\" class=\"dataframe\">\n",
       "  <thead>\n",
       "    <tr style=\"text-align: right;\">\n",
       "      <th></th>\n",
       "      <th>Unnamed: 0</th>\n",
       "      <th>number</th>\n",
       "      <th>value</th>\n",
       "      <th>datetime_start</th>\n",
       "      <th>datetime_complete</th>\n",
       "      <th>duration</th>\n",
       "      <th>params_batch_size_scaler</th>\n",
       "      <th>params_constant_learning_rate</th>\n",
       "      <th>params_depth</th>\n",
       "      <th>params_epochs</th>\n",
       "      <th>...</th>\n",
       "      <th>user_attrs_approximate_weight_sparsity_history</th>\n",
       "      <th>user_attrs_auc_test</th>\n",
       "      <th>user_attrs_auc_valid</th>\n",
       "      <th>user_attrs_feature_sparsity</th>\n",
       "      <th>user_attrs_feature_sparsity_history</th>\n",
       "      <th>user_attrs_num_epochs</th>\n",
       "      <th>user_attrs_val_loss_history</th>\n",
       "      <th>user_attrs_weight_sparsity</th>\n",
       "      <th>user_attrs_weight_sparsity_history</th>\n",
       "      <th>state</th>\n",
       "    </tr>\n",
       "  </thead>\n",
       "  <tbody>\n",
       "    <tr>\n",
       "      <th>14</th>\n",
       "      <td>14</td>\n",
       "      <td>14</td>\n",
       "      <td>0.500000</td>\n",
       "      <td>2023-10-06 11:59:51.765314</td>\n",
       "      <td>2023-10-06 12:04:11.729341</td>\n",
       "      <td>0 days 00:04:19.964027</td>\n",
       "      <td>1</td>\n",
       "      <td>2.621694</td>\n",
       "      <td>1</td>\n",
       "      <td>920</td>\n",
       "      <td>...</td>\n",
       "      <td>[38183.50704225352, 48461.69014084507, 51256.3...</td>\n",
       "      <td>0.500000</td>\n",
       "      <td>0.500000</td>\n",
       "      <td>0</td>\n",
       "      <td>[42440, 61674, 65953, 62421, 59159, 56026, 594...</td>\n",
       "      <td>920</td>\n",
       "      <td>[5.861533164978027, 23.8145809173584, 14.10126...</td>\n",
       "      <td>0.0</td>\n",
       "      <td>[41756.71830985915, 60201.70422535211, 64821.6...</td>\n",
       "      <td>COMPLETE</td>\n",
       "    </tr>\n",
       "    <tr>\n",
       "      <th>81</th>\n",
       "      <td>5</td>\n",
       "      <td>5</td>\n",
       "      <td>0.920139</td>\n",
       "      <td>2023-10-06 11:55:32.714374</td>\n",
       "      <td>2023-10-06 11:55:40.219475</td>\n",
       "      <td>0 days 00:00:07.505101</td>\n",
       "      <td>64</td>\n",
       "      <td>0.165510</td>\n",
       "      <td>2</td>\n",
       "      <td>70</td>\n",
       "      <td>...</td>\n",
       "      <td>[98649.0, 98089.22222222222, 94875.11111111111...</td>\n",
       "      <td>0.849218</td>\n",
       "      <td>0.920139</td>\n",
       "      <td>97</td>\n",
       "      <td>[99983, 99480, 96227, 85793, 64670, 38023, 161...</td>\n",
       "      <td>70</td>\n",
       "      <td>[2.2300007343292236, 2.0640034675598145, 1.904...</td>\n",
       "      <td>97.0</td>\n",
       "      <td>[99983.0, 99480.0, 96227.0, 85793.0, 64670.0, ...</td>\n",
       "      <td>COMPLETE</td>\n",
       "    </tr>\n",
       "    <tr>\n",
       "      <th>...</th>\n",
       "      <td>...</td>\n",
       "      <td>...</td>\n",
       "      <td>...</td>\n",
       "      <td>...</td>\n",
       "      <td>...</td>\n",
       "      <td>...</td>\n",
       "      <td>...</td>\n",
       "      <td>...</td>\n",
       "      <td>...</td>\n",
       "      <td>...</td>\n",
       "      <td>...</td>\n",
       "      <td>...</td>\n",
       "      <td>...</td>\n",
       "      <td>...</td>\n",
       "      <td>...</td>\n",
       "      <td>...</td>\n",
       "      <td>...</td>\n",
       "      <td>...</td>\n",
       "      <td>...</td>\n",
       "      <td>...</td>\n",
       "      <td>...</td>\n",
       "    </tr>\n",
       "    <tr>\n",
       "      <th>91</th>\n",
       "      <td>15</td>\n",
       "      <td>15</td>\n",
       "      <td>NaN</td>\n",
       "      <td>2023-10-06 14:06:06.138084</td>\n",
       "      <td>2023-10-06 14:06:39.001956</td>\n",
       "      <td>0 days 00:00:32.863872</td>\n",
       "      <td>64</td>\n",
       "      <td>0.014344</td>\n",
       "      <td>1</td>\n",
       "      <td>400</td>\n",
       "      <td>...</td>\n",
       "      <td>[98722.85714285713, 98719.99999999999, 98719.0...</td>\n",
       "      <td>NaN</td>\n",
       "      <td>NaN</td>\n",
       "      <td>99998</td>\n",
       "      <td>[100000, 100000, 100000, 100000, 100000, 10000...</td>\n",
       "      <td>400</td>\n",
       "      <td>[0.651081383228302, 0.6414209604263306, 0.6325...</td>\n",
       "      <td>99998.0</td>\n",
       "      <td>[100000.0, 100000.0, 100000.0, 100000.0, 10000...</td>\n",
       "      <td>FAIL</td>\n",
       "    </tr>\n",
       "    <tr>\n",
       "      <th>2</th>\n",
       "      <td>2</td>\n",
       "      <td>2</td>\n",
       "      <td>NaN</td>\n",
       "      <td>2023-10-06 10:04:33.677377</td>\n",
       "      <td>2023-10-06 10:08:40.194059</td>\n",
       "      <td>0 days 00:04:06.516682</td>\n",
       "      <td>1</td>\n",
       "      <td>0.022637</td>\n",
       "      <td>1</td>\n",
       "      <td>945</td>\n",
       "      <td>...</td>\n",
       "      <td>[98704.5625, 98700.515625, 98698.34375, 98696....</td>\n",
       "      <td>NaN</td>\n",
       "      <td>NaN</td>\n",
       "      <td>100000</td>\n",
       "      <td>[100000, 100000, 100000, 100000, 100000, 10000...</td>\n",
       "      <td>945</td>\n",
       "      <td>[0.36411407589912415, 0.3352678120136261, 0.31...</td>\n",
       "      <td>100000.0</td>\n",
       "      <td>[100000.0, 100000.0, 100000.0, 100000.0, 10000...</td>\n",
       "      <td>FAIL</td>\n",
       "    </tr>\n",
       "  </tbody>\n",
       "</table>\n",
       "<p>62 rows × 28 columns</p>\n",
       "</div>"
      ],
      "text/plain": [
       "    Unnamed: 0  number     value              datetime_start  \\\n",
       "14          14      14  0.500000  2023-10-06 11:59:51.765314   \n",
       "81           5       5  0.920139  2023-10-06 11:55:32.714374   \n",
       "..         ...     ...       ...                         ...   \n",
       "91          15      15       NaN  2023-10-06 14:06:06.138084   \n",
       "2            2       2       NaN  2023-10-06 10:04:33.677377   \n",
       "\n",
       "             datetime_complete                duration  \\\n",
       "14  2023-10-06 12:04:11.729341  0 days 00:04:19.964027   \n",
       "81  2023-10-06 11:55:40.219475  0 days 00:00:07.505101   \n",
       "..                         ...                     ...   \n",
       "91  2023-10-06 14:06:39.001956  0 days 00:00:32.863872   \n",
       "2   2023-10-06 10:08:40.194059  0 days 00:04:06.516682   \n",
       "\n",
       "    params_batch_size_scaler  params_constant_learning_rate  params_depth  \\\n",
       "14                         1                       2.621694             1   \n",
       "81                        64                       0.165510             2   \n",
       "..                       ...                            ...           ...   \n",
       "91                        64                       0.014344             1   \n",
       "2                          1                       0.022637             1   \n",
       "\n",
       "    params_epochs  ...     user_attrs_approximate_weight_sparsity_history  \\\n",
       "14            920  ...  [38183.50704225352, 48461.69014084507, 51256.3...   \n",
       "81             70  ...  [98649.0, 98089.22222222222, 94875.11111111111...   \n",
       "..            ...  ...                                                ...   \n",
       "91            400  ...  [98722.85714285713, 98719.99999999999, 98719.0...   \n",
       "2             945  ...  [98704.5625, 98700.515625, 98698.34375, 98696....   \n",
       "\n",
       "    user_attrs_auc_test  user_attrs_auc_valid  user_attrs_feature_sparsity  \\\n",
       "14             0.500000              0.500000                            0   \n",
       "81             0.849218              0.920139                           97   \n",
       "..                  ...                   ...                          ...   \n",
       "91                  NaN                   NaN                        99998   \n",
       "2                   NaN                   NaN                       100000   \n",
       "\n",
       "                  user_attrs_feature_sparsity_history  user_attrs_num_epochs  \\\n",
       "14  [42440, 61674, 65953, 62421, 59159, 56026, 594...                    920   \n",
       "81  [99983, 99480, 96227, 85793, 64670, 38023, 161...                     70   \n",
       "..                                                ...                    ...   \n",
       "91  [100000, 100000, 100000, 100000, 100000, 10000...                    400   \n",
       "2   [100000, 100000, 100000, 100000, 100000, 10000...                    945   \n",
       "\n",
       "                          user_attrs_val_loss_history  \\\n",
       "14  [5.861533164978027, 23.8145809173584, 14.10126...   \n",
       "81  [2.2300007343292236, 2.0640034675598145, 1.904...   \n",
       "..                                                ...   \n",
       "91  [0.651081383228302, 0.6414209604263306, 0.6325...   \n",
       "2   [0.36411407589912415, 0.3352678120136261, 0.31...   \n",
       "\n",
       "    user_attrs_weight_sparsity  \\\n",
       "14                         0.0   \n",
       "81                        97.0   \n",
       "..                         ...   \n",
       "91                     99998.0   \n",
       "2                     100000.0   \n",
       "\n",
       "                   user_attrs_weight_sparsity_history     state  \n",
       "14  [41756.71830985915, 60201.70422535211, 64821.6...  COMPLETE  \n",
       "81  [99983.0, 99480.0, 96227.0, 85793.0, 64670.0, ...  COMPLETE  \n",
       "..                                                ...       ...  \n",
       "91  [100000.0, 100000.0, 100000.0, 100000.0, 10000...      FAIL  \n",
       "2   [100000.0, 100000.0, 100000.0, 100000.0, 10000...      FAIL  \n",
       "\n",
       "[62 rows x 28 columns]"
      ]
     },
     "execution_count": 249,
     "metadata": {},
     "output_type": "execute_result"
    }
   ],
   "source": [
    "df"
   ]
  },
  {
   "cell_type": "code",
   "execution_count": 220,
   "id": "ed5ed419",
   "metadata": {},
   "outputs": [
    {
     "data": {
      "text/plain": [
       "166    0.5\n",
       "14     0.5\n",
       "      ... \n",
       "114    NaN\n",
       "85     NaN\n",
       "Name: test_auc, Length: 171, dtype: float64"
      ]
     },
     "execution_count": 220,
     "metadata": {},
     "output_type": "execute_result"
    }
   ],
   "source": [
    "df['test_auc']"
   ]
  },
  {
   "cell_type": "code",
   "execution_count": 225,
   "id": "01a277e7",
   "metadata": {},
   "outputs": [
    {
     "data": {
      "text/html": [
       "<div>\n",
       "<style scoped>\n",
       "    .dataframe tbody tr th:only-of-type {\n",
       "        vertical-align: middle;\n",
       "    }\n",
       "\n",
       "    .dataframe tbody tr th {\n",
       "        vertical-align: top;\n",
       "    }\n",
       "\n",
       "    .dataframe thead th {\n",
       "        text-align: right;\n",
       "    }\n",
       "</style>\n",
       "<table border=\"1\" class=\"dataframe\">\n",
       "  <thead>\n",
       "    <tr style=\"text-align: right;\">\n",
       "      <th></th>\n",
       "      <th>test_auc</th>\n",
       "    </tr>\n",
       "    <tr>\n",
       "      <th>user_attrs_auc_valid_max</th>\n",
       "      <th></th>\n",
       "    </tr>\n",
       "  </thead>\n",
       "  <tbody>\n",
       "    <tr>\n",
       "      <th>0.500000</th>\n",
       "      <td>0.500000</td>\n",
       "    </tr>\n",
       "    <tr>\n",
       "      <th>0.920139</th>\n",
       "      <td>0.849218</td>\n",
       "    </tr>\n",
       "    <tr>\n",
       "      <th>...</th>\n",
       "      <td>...</td>\n",
       "    </tr>\n",
       "    <tr>\n",
       "      <th>0.978733</th>\n",
       "      <td>0.909531</td>\n",
       "    </tr>\n",
       "    <tr>\n",
       "      <th>0.980035</th>\n",
       "      <td>0.910555</td>\n",
       "    </tr>\n",
       "  </tbody>\n",
       "</table>\n",
       "<p>11 rows × 1 columns</p>\n",
       "</div>"
      ],
      "text/plain": [
       "                          test_auc\n",
       "user_attrs_auc_valid_max          \n",
       "0.500000                  0.500000\n",
       "0.920139                  0.849218\n",
       "...                            ...\n",
       "0.978733                  0.909531\n",
       "0.980035                  0.910555\n",
       "\n",
       "[11 rows x 1 columns]"
      ]
     },
     "execution_count": 225,
     "metadata": {},
     "output_type": "execute_result"
    }
   ],
   "source": [
    "df.groupby(\"user_attrs_\"+criteria+\"_valid_max\")[['test_auc']].first()"
   ]
  },
  {
   "cell_type": "code",
   "execution_count": null,
   "id": "94fc150f",
   "metadata": {},
   "outputs": [],
   "source": []
  },
  {
   "cell_type": "code",
   "execution_count": 227,
   "id": "fa713be6",
   "metadata": {},
   "outputs": [],
   "source": []
  },
  {
   "cell_type": "code",
   "execution_count": 228,
   "id": "8970f3f2",
   "metadata": {},
   "outputs": [
    {
     "data": {
      "text/plain": [
       "0     0.500000\n",
       "1     0.500000\n",
       "        ...   \n",
       "49    0.910555\n",
       "50    0.910555\n",
       "Name: max_test_auc, Length: 51, dtype: float64"
      ]
     },
     "execution_count": 228,
     "metadata": {},
     "output_type": "execute_result"
    }
   ],
   "source": [
    "df['max_test_auc']"
   ]
  },
  {
   "cell_type": "code",
   "execution_count": 124,
   "id": "509e50e4",
   "metadata": {},
   "outputs": [
    {
     "data": {
      "text/plain": [
       "dict_keys(['Sparsity:GroupL0L2, Anneal:True, LR-Schedule:False', 'Sparsity:none, Anneal:False, LR-Schedule:False'])"
      ]
     },
     "execution_count": 124,
     "metadata": {},
     "output_type": "execute_result"
    }
   ],
   "source": [
    "dfs.keys()"
   ]
  },
  {
   "cell_type": "code",
   "execution_count": null,
   "id": "2b8e8447",
   "metadata": {},
   "outputs": [],
   "source": [
    "criteria = 'aucs'\n",
    "tuning_seeds = [0]\n",
    "\n",
    "df = pd.DataFrame()\n",
    "for tuning_seed in tuning_seeds:\n",
    "    path = \"./logs/soft_trees/publicdata/{}/{}/cross-entropy/20.{}/study-shared-sigmoid-{}\".format(data, tuning_seed)\n",
    "    path = path+\"-seed8.csv\"\n",
    "    try:\n",
    "        df_temp = pd.read_csv(path)\n",
    "    except:\n",
    "        print(\"Missing:\", path)\n",
    "        continue\n",
    "    df = pd.concat([df,df_temp],axis=0)\n",
    "    df.index = np.arange(len(df))\n",
    "df = df[df[\"user_attrs_feature_sparsities\"]<budget*df[\"user_attrs_feature_sparsities\"].max()]\n",
    "print(\"Number of trials satisfying the feature sparsity budget:\", df.shape[0])\n",
    "\n",
    "df = df.groupby(\"user_attrs_feature_sparsities\").agg({\"user_attrs_\"+criteria+\"_valid\":'max'})[[\"user_attrs_\"+criteria+\"_valid\"]].reset_index()    \n",
    "df = df[df[\"user_attrs_\"+criteria+\"_valid\"]>0.9*df[\"user_attrs_\"+criteria+\"_valid\"].max()]\n",
    "df = df.rolling(window=3).mean()\n",
    "dfs[\"LassoNet\"] = df"
   ]
  },
  {
   "cell_type": "code",
   "execution_count": null,
   "id": "5e37838c",
   "metadata": {},
   "outputs": [],
   "source": [
    "dfs.keys()"
   ]
  },
  {
   "cell_type": "code",
   "execution_count": null,
   "id": "a6192716",
   "metadata": {},
   "outputs": [],
   "source": [
    "plt.figure(figsize=(6,6))\n",
    "key_groupl0l2 = 'Sparsity:GroupL0L2, Anneal:True, LR-Schedule:False'\n",
    "key_lassonet = 'LassoNet'\n",
    "plt.scatter(dfs[key_groupl0l2][\"user_attrs_feature_sparsity\"], dfs[key_groupl0l2][\"user_attrs_auc_valid\"], label=\"Group L0-L2\", marker=\"*\", color='b')\n",
    "plt.scatter(dfs[key_lassonet][\"user_attrs_feature_sparsities\"], dfs[key_lassonet][\"user_attrs_aucs_valid\"], label=key_lassonet, marker=\"o\", color='orange')\n",
    "plt.legend(loc=\"lower right\")\n",
    "plt.xlabel(\"feature selection\")\n",
    "plt.ylabel(\"Validation-AUC\")\n",
    "plt.ylim(0.90,1.0)\n",
    "plt.xlim(0,100)"
   ]
  },
  {
   "cell_type": "markdown",
   "id": "1fbfcaba",
   "metadata": {},
   "source": [
    "# Averages and Standard Errors"
   ]
  },
  {
   "cell_type": "code",
   "execution_count": 4,
   "id": "de6a6996",
   "metadata": {},
   "outputs": [
    {
     "name": "stdout",
     "output_type": "stream",
     "text": [
      "=============Sparsity:GroupL0L2, ======== Anneal:True ====== LR Schedule:False\n",
      "Missing: ./logs/soft_trees/publicdata/dorothea/GroupL0L2/cross-entropy/5.102/study-shared-sigmoid-GroupL0L2-anneal-seed8.csv\n",
      "Missing: ./logs/soft_trees/publicdata/dorothea/GroupL0L2/cross-entropy/5.103/study-shared-sigmoid-GroupL0L2-anneal-seed8.csv\n",
      "Number of total trials: 100\n",
      "Number of trials satisfying the feature sparsity budget: 100\n",
      "valid_auc: 0.9786024305555556\n",
      "test_auc: 0.9086950856291884\n",
      "test_aucs: [0.9106478  0.91120625 0.91036858 0.90925168 0.91129933 0.90906552\n",
      " 0.91083395 0.90971705 0.9091586  0.9099032  0.91018243 0.91288161\n",
      " 0.9095309  0.91083395 0.9087863  0.9099032  0.90999628 0.9091586\n",
      " 0.91195086 0.91129933 0.90981013 0.90925168 0.908414   0.90962398\n",
      " 0.90897245 0.90822785 0.91129933 0.90887937 0.90850707 0.90925168\n",
      " 0.90850707 0.90860015 0.90925168 0.90962398 0.90999628 0.90981013\n",
      " 0.90999628 0.90813477 0.90971705 0.91055473 0.908414   0.90832092\n",
      " 0.9095309  0.90822785 0.91018243 0.90832092 0.90739017 0.9099032\n",
      " 0.90794862 0.90673864 0.9091586  0.91055473 0.91046165 0.9095309\n",
      " 0.90981013 0.90785555 0.90757632 0.90720402 0.90850707 0.90906552\n",
      " 0.91167163 0.9095309  0.90832092 0.90664557 0.91120625 0.90822785\n",
      " 0.9080417  0.90664557 0.90943783 0.90720402 0.90813477 0.90813477\n",
      " 0.9069248  0.90599404 0.90701787 0.9076694  0.90590097 0.90580789\n",
      " 0.90925168 0.90813477 0.90673864 0.90720402 0.90720402 0.90813477\n",
      " 0.90748325 0.90757632 0.90962398 0.90608712 0.90450484 0.90757632\n",
      " 0.90552867 0.90711095 0.90590097 0.90673864 0.90776247 0.90627327\n",
      " 0.90887937 0.90711095 0.90813477 0.9069248 ]\n",
      "test_aucs (SE): 0.00015959062190451205\n",
      "sparsity: [ 9485  9549  9552  9589  9601  9616  9624  9635  9659  9665  9677  9685\n",
      "  9717  9719  9730  9732  9734  9736  9739  9744  9747  9754  9756  9757\n",
      "  9758  9763  9766  9769  9776  9779  9782  9783  9783  9783  9791  9791\n",
      "  9808  9809  9814  9815  9815  9825  9828  9832  9839  9841  9847  9851\n",
      "  9863  9868  9887  9889  9895  9896  9901  9908  9915  9917  9927  9929\n",
      "  9935  9938  9943  9948  9949  9956  9964  9972  9974  9996 10001 10012\n",
      " 10012 10022 10034 10034 10046 10065 10067 10072 10093 10096 10097 10111\n",
      " 10116 10134 10134 10137 10144 10145 10149 10159 10161 10165 10175 10204\n",
      " 10229 10253 10318 10340]\n",
      "Mean sparsity: 9895.45\n",
      "Standard Error sparsity: 26.057383257384505\n"
     ]
    }
   ],
   "source": [
    "data = 'dorothea'\n",
    "sparsities = ['GroupL0L2']\n",
    "annealing = [True]\n",
    "learning_rate_scheduling = [False]\n",
    "criteria = 'auc'\n",
    "tuning_seeds = [100,101,102,103]\n",
    "# 5 corresponds to no early stopping and 6 corresponds to early stopping\n",
    "\n",
    "for sparsity, anneal, lr_schedule in zip(sparsities, annealing, learning_rate_scheduling):\n",
    "    print(\"=============Sparsity:{}, ======== Anneal:{} ====== LR Schedule:{}\".format(sparsity, anneal, lr_schedule))\n",
    "\n",
    "    df = pd.DataFrame()\n",
    "    for tuning_seed in tuning_seeds:\n",
    "        path = \"./logs/soft_trees/publicdata/{}/{}/cross-entropy/5.{}/study-shared-sigmoid-{}\".format(data, sparsity, tuning_seed, sparsity)\n",
    "        if anneal:\n",
    "            path = path+\"-anneal\"\n",
    "        if lr_schedule:\n",
    "            path = path+\"-learning_rate_scheduling\"\n",
    "        path = path+\"-seed8.csv\"\n",
    "        try:\n",
    "            df_temp = pd.read_csv(path)\n",
    "        except:\n",
    "            print(\"Missing:\", path)\n",
    "            continue\n",
    "        df = pd.concat([df,df_temp],axis=0)\n",
    "        df.index = np.arange(len(df))\n",
    "    print(\"Number of total trials:\", df.shape[0])\n",
    "#     df = df[(df[\"user_attrs_feature_sparsity\"]<budget*df[\"user_attrs_feature_sparsity\"].max())&(df[\"user_attrs_feature_sparsity\"]>0)]\n",
    "    print(\"Number of trials satisfying the feature sparsity budget:\", df.shape[0])\n",
    "    df = df.sort_values(by=[\"user_attrs_\"+criteria+\"_valid\"], ascending=False)\n",
    "    \n",
    "#     best_value = df[\"user_attrs_\"+criteria+\"_valid\"].values[0]\n",
    "#     df_opt = df[df[\"user_attrs_\"+criteria+\"_valid\"]==best_value]\n",
    "    \n",
    "    df_opt = df.sort_values(by='user_attrs_feature_sparsity')\n",
    "#     display(df_opt.T)\n",
    "    if criteria=='auc':\n",
    "        print(\"valid_auc:\", df_opt.user_attrs_auc_valid.mean())\n",
    "        print(\"test_auc:\", df_opt.user_attrs_auc_test.mean())\n",
    "        print(\"test_aucs:\", df_opt.user_attrs_auc_test.values)\n",
    "        print(\"test_aucs (SE):\", df_opt.user_attrs_auc_test.sem())\n",
    "    elif criteria=='accuracy':\n",
    "        print(\"valid_accuracy:\", df_opt.user_attrs_accuracy_valid.mean())\n",
    "        print(\"test_accuracy:\", df_opt.user_attrs_accuracy_test.mean())\n",
    "        print(\"test_accuracies:\", df_opt.user_attrs_accuracy_test.values)\n",
    "    print(\"sparsity:\", df_opt.user_attrs_feature_sparsity.values)\n",
    "    print(\"Mean sparsity:\", df_opt.user_attrs_approximate_feature_sparsity.mean())\n",
    "    print(\"Standard Error sparsity:\", df_opt.user_attrs_approximate_feature_sparsity.std()/np.sqrt(50))\n",
    "#     print(\"Approx sparsity:\", df_opt.user_attrs_approximate_feature_sparsity.values)\n",
    "#     print(\"Mean approx sparsity:\", df_opt.user_attrs_feature_sparsity.mean())\n",
    "#     print(\"Batch-sizes:\", df_opt.params_constant_batch_size.values*df_opt.params_batch_size_scaler.values)\n",
    "#     print(\"Epochs:\", df_opt.user_attrs_num_epochs.values)\n",
    "#     print(\"Number of Trees:\", df_opt.params_num_trees.values)\n",
    "        \n",
    "#     df = df[df[\"user_attrs_approximate_feature_sparsity\"]<budget*df[\"user_attrs_approximate_feature_sparsity\"].max()]\n",
    "#     print(\"Number of trials satisfying the feature sparsity budget:\", df.shape[0])\n",
    "#     df = df.sort_values(by=[\"user_attrs_\"+criteria+\"_valid\"], ascending=False)\n",
    "#     best_value = df[\"user_attrs_\"+criteria+\"_valid\"].values[0]\n",
    "#     df_opt = df[df[\"user_attrs_\"+criteria+\"_valid\"]==best_value]\n",
    "\n",
    "#     df_opt = df_opt.sort_values(by='user_attrs_feature_sparsity')\n",
    "#     if criteria=='auc':\n",
    "#         print(\"valid_auc:\", df_opt.user_attrs_auc_valid.mean())\n",
    "#         print(\"test_auc:\", df_opt.user_attrs_auc_test.mean())\n",
    "#         print(\"test_aucs:\", df_opt.user_attrs_auc_test.values)\n",
    "#     elif criteria=='accuracy':\n",
    "#         print(\"valid_accuracy:\", df_opt.user_attrs_accuracy_valid.mean())\n",
    "#         print(\"test_accuracy:\", df_opt.user_attrs_accuracy_test.mean())\n",
    "#         print(\"test_accuracies:\", df_opt.user_attrs_accuracy_test.values)\n",
    "#     print(\"sparsity:\", df_opt.user_attrs_feature_sparsity.values)\n",
    "#     print(\"Mean sparsity:\", df_opt.user_attrs_approximate_feature_sparsity.mean())\n",
    "# #     print(\"Approx sparsity:\", df_opt.user_attrs_approximate_feature_sparsity.values)\n",
    "# #     print(\"Mean approx sparsity:\", df_opt.user_attrs_feature_sparsity.mean())\n",
    "# #     print(\"Batch-sizes:\", df_opt.params_batch_size.values)\n",
    "#     print(\"Depths:\", df_opt.params_depth.values)\n",
    "#     print(\"Epochs:\", df_opt.user_attrs_num_epochs.values)\n",
    "# #     print(\"Learning Rates:\", df_opt.params_learning_rate.values)\n"
   ]
  },
  {
   "cell_type": "code",
   "execution_count": 6,
   "id": "ca014cb8",
   "metadata": {},
   "outputs": [
    {
     "data": {
      "text/plain": [
       "Timedelta('0 days 00:02:27.581568020')"
      ]
     },
     "execution_count": 6,
     "metadata": {},
     "output_type": "execute_result"
    }
   ],
   "source": [
    "pd.to_timedelta(df['duration']).mean()"
   ]
  },
  {
   "cell_type": "code",
   "execution_count": 357,
   "id": "f60eb2e0",
   "metadata": {},
   "outputs": [],
   "source": [
    "# df_opt = df_opt.sort_values(by=['user_attrs_feature_sparsity'])"
   ]
  },
  {
   "cell_type": "code",
   "execution_count": 358,
   "id": "26daee68",
   "metadata": {},
   "outputs": [],
   "source": [
    "val_loss_history = df_opt.user_attrs_val_loss_history.str.rsplit(pat='[', expand=True)[1].str.rsplit(pat=']', expand=True)[0].str.split(',', expand=True).astype(float).mean(axis=0)\n",
    "feature_sparsity_history = df_opt.user_attrs_feature_sparsity_history.str.rsplit(pat='[', expand=True)[1].str.rsplit(pat=']', expand=True)[0].str.split(',', expand=True).astype(float).mean(axis=0)\n"
   ]
  },
  {
   "cell_type": "code",
   "execution_count": 359,
   "id": "e5228bb2",
   "metadata": {},
   "outputs": [],
   "source": [
    "# val_loss_history = [float(i) for i in df_opt['user_attrs_val_loss_history'].values[3][1:-1].split(', ')]\n",
    "# feature_sparsity_history = [float(i) for i in df_opt['user_attrs_feature_sparsity_history'].values[3][1:-1].split(', ')]"
   ]
  },
  {
   "cell_type": "code",
   "execution_count": 360,
   "id": "1a1fbf61",
   "metadata": {},
   "outputs": [
    {
     "data": {
      "image/png": "[encoded data removed]",
      "text/plain": [
       "<Figure size 600x200 with 1 Axes>"
      ]
     },
     "metadata": {},
     "output_type": "display_data"
    },
    {
     "data": {
      "image/png": "[encoded data removed]",
      "text/plain": [
       "<Figure size 600x200 with 1 Axes>"
      ]
     },
     "metadata": {},
     "output_type": "display_data"
    }
   ],
   "source": [
    "font = {'size': 12}\n",
    "\n",
    "plt.rc('font', **font)\n",
    "plt.figure(figsize=(6,2))\n",
    "plt.plot(val_loss_history, color='b', linewidth=2)\n",
    "plt.ylabel(\"Validation Loss\")\n",
    "plt.xlabel(\"Epochs\")\n",
    "plt.savefig(f\"./Figures/Validation_loss_trajectory_{data}.pdf\", bbox_inches='tight')\n",
    "plt.show()\n",
    "\n",
    "\n",
    "plt.figure(figsize=(6,2))\n",
    "plt.plot(feature_sparsity_history, color='r', linewidth=2)\n",
    "# plt.ylim([0,2000])\n",
    "plt.ylabel(\"# feature selected\")\n",
    "plt.xlabel(\"Epochs\")\n",
    "plt.savefig(f\"./Figures/Sparsity_trajectory_{data}.pdf\", bbox_inches='tight')\n",
    "plt.show()\n"
   ]
  },
  {
   "cell_type": "code",
   "execution_count": null,
   "id": "ed72ac70",
   "metadata": {},
   "outputs": [],
   "source": []
  },
  {
   "cell_type": "code",
   "execution_count": 99,
   "id": "927bdd65",
   "metadata": {},
   "outputs": [
    {
     "data": {
      "text/plain": [
       "array([303, 212, 216, 189, 175, 142, 142, 141, 134, 131, 129, 130, 128,\n",
       "       126, 134, 144, 126, 129, 124, 119, 119, 116, 151, 116, 121])"
      ]
     },
     "execution_count": 99,
     "metadata": {},
     "output_type": "execute_result"
    }
   ],
   "source": [
    "df_opt.user_attrs_num_epochs.values"
   ]
  },
  {
   "cell_type": "code",
   "execution_count": 93,
   "id": "8c8435e9",
   "metadata": {},
   "outputs": [
    {
     "data": {
      "text/html": [
       "<div>\n",
       "<style scoped>\n",
       "    .dataframe tbody tr th:only-of-type {\n",
       "        vertical-align: middle;\n",
       "    }\n",
       "\n",
       "    .dataframe tbody tr th {\n",
       "        vertical-align: top;\n",
       "    }\n",
       "\n",
       "    .dataframe thead th {\n",
       "        text-align: right;\n",
       "    }\n",
       "</style>\n",
       "<table border=\"1\" class=\"dataframe\">\n",
       "  <thead>\n",
       "    <tr style=\"text-align: right;\">\n",
       "      <th></th>\n",
       "      <th>user_attrs_feature_sparsity</th>\n",
       "      <th>user_attrs_num_epochs</th>\n",
       "    </tr>\n",
       "  </thead>\n",
       "  <tbody>\n",
       "    <tr>\n",
       "      <th>2</th>\n",
       "      <td>13</td>\n",
       "      <td>265</td>\n",
       "    </tr>\n",
       "    <tr>\n",
       "      <th>1</th>\n",
       "      <td>18</td>\n",
       "      <td>283</td>\n",
       "    </tr>\n",
       "    <tr>\n",
       "      <th>0</th>\n",
       "      <td>18</td>\n",
       "      <td>279</td>\n",
       "    </tr>\n",
       "  </tbody>\n",
       "</table>\n",
       "</div>"
      ],
      "text/plain": [
       "   user_attrs_feature_sparsity  user_attrs_num_epochs\n",
       "2                           13                    265\n",
       "1                           18                    283\n",
       "0                           18                    279"
      ]
     },
     "execution_count": 93,
     "metadata": {},
     "output_type": "execute_result"
    }
   ],
   "source": [
    "df_opt[['user_attrs_feature_sparsity', 'user_attrs_num_epochs']]"
   ]
  },
  {
   "cell_type": "code",
   "execution_count": 53,
   "id": "8dcbaa23",
   "metadata": {},
   "outputs": [
    {
     "data": {
      "text/plain": [
       "0"
      ]
     },
     "execution_count": 53,
     "metadata": {},
     "output_type": "execute_result"
    }
   ],
   "source": [
    "df.value.isna().sum()"
   ]
  },
  {
   "cell_type": "markdown",
   "id": "aeab5830",
   "metadata": {},
   "source": [
    "# Single Tree"
   ]
  },
  {
   "cell_type": "code",
   "execution_count": null,
   "id": "2729a55d",
   "metadata": {},
   "outputs": [],
   "source": [
    "data = 'churn'\n",
    "budget = 0.5\n",
    "sparsities = ['GroupL0L2']\n",
    "annealing = [True]\n",
    "learning_rate_scheduling = [True]\n",
    "criteria = 'auc'\n",
    "tuning_seeds = [0]\n",
    "\n",
    "for sparsity, anneal, lr_schedule in zip(sparsities, annealing, learning_rate_scheduling):\n",
    "    print(\"=============Sparsity:{}, ======== Anneal:{} ====== LR Schedule:{}\".format(sparsity, anneal, lr_schedule))\n",
    "\n",
    "    df = pd.DataFrame()\n",
    "    for tuning_seed in tuning_seeds:\n",
    "        path = \"./logs/soft_trees/publicdata/{}/{}/cross-entropy/6.{}/study-shared-sigmoid-1-10-{}\".format(data, sparsity, tuning_seed, sparsity)\n",
    "        if anneal:\n",
    "            path = path+\"-anneal\"\n",
    "        if lr_schedule:\n",
    "            path = path+\"-learning_rate_scheduling\"\n",
    "        path = path+\"-seed8.csv\"\n",
    "        try:\n",
    "            df_temp = pd.read_csv(path)\n",
    "        except:\n",
    "            print(\"Missing:\", path)\n",
    "            continue\n",
    "        df = pd.concat([df,df_temp],axis=0)\n",
    "        df.index = np.arange(len(df))\n",
    "    print(\"Number of total trials:\", df.shape[0])\n",
    "    df = df[(df[\"user_attrs_feature_sparsity\"]<=budget*df[\"user_attrs_feature_sparsity\"].max())&(df[\"user_attrs_feature_sparsity\"]>0)]\n",
    "    print(\"Number of trials satisfying the feature sparsity budget:\", df.shape[0])\n",
    "    df = df.sort_values(by=[\"user_attrs_\"+criteria+\"_valid\"], ascending=False)\n",
    "    df = df[df['params_depth']<=9]\n",
    "    \n",
    "    best_value = df[\"user_attrs_\"+criteria+\"_valid\"].values[0]\n",
    "    df_opt = df[df[\"user_attrs_\"+criteria+\"_valid\"]==best_value]\n",
    "    \n",
    "    df_opt = df_opt.sort_values(by='user_attrs_feature_sparsity')\n",
    "    display(df_opt.T)\n",
    "    if criteria=='auc':\n",
    "        print(\"valid_auc:\", df_opt.user_attrs_auc_valid.mean())\n",
    "        print(\"test_auc:\", df_opt.user_attrs_auc_test.mean())\n",
    "        print(\"test_aucs:\", df_opt.user_attrs_auc_test.values)\n",
    "        print(\"test_aucs (SE):\", df_opt.user_attrs_auc_test.std()/np.sqrt(50))\n",
    "    elif criteria=='accuracy':\n",
    "        print(\"valid_accuracy:\", df_opt.user_attrs_accuracy_valid.mean())\n",
    "        print(\"test_accuracy:\", df_opt.user_attrs_accuracy_test.mean())\n",
    "        print(\"test_accuracies:\", df_opt.user_attrs_accuracy_test.values)\n",
    "    print(\"sparsity:\", df_opt.user_attrs_feature_sparsity.values)\n",
    "    print(\"Mean sparsity:\", df_opt.user_attrs_approximate_feature_sparsity.mean())\n",
    "    print(\"Standard Error sparsity:\", df_opt.user_attrs_approximate_feature_sparsity.std()/np.sqrt(50))\n",
    "#     print(\"Approx sparsity:\", df_opt.user_attrs_approximate_feature_sparsity.values)\n",
    "#     print(\"Mean approx sparsity:\", df_opt.user_attrs_feature_sparsity.mean())\n",
    "    print(\"Batch-sizes:\", df_opt.params_constant_batch_size.values*df_opt.params_batch_size_scaler.values)\n",
    "    print(\"Epochs:\", df_opt.user_attrs_num_epochs.values)\n",
    "    print(\"Number of Trees:\", df_opt.params_num_trees.values)\n",
    "    print(\"Depths:\", df_opt.params_depth.values)\n",
    "        \n",
    "#     df = df[df[\"user_attrs_approximate_feature_sparsity\"]<budget*df[\"user_attrs_approximate_feature_sparsity\"].max()]\n",
    "#     print(\"Number of trials satisfying the feature sparsity budget:\", df.shape[0])\n",
    "#     df = df.sort_values(by=[\"user_attrs_\"+criteria+\"_valid\"], ascending=False)\n",
    "#     best_value = df[\"user_attrs_\"+criteria+\"_valid\"].values[0]\n",
    "#     df_opt = df[df[\"user_attrs_\"+criteria+\"_valid\"]==best_value]\n",
    "\n",
    "#     df_opt = df_opt.sort_values(by='user_attrs_feature_sparsity')\n",
    "#     if criteria=='auc':\n",
    "#         print(\"valid_auc:\", df_opt.user_attrs_auc_valid.mean())\n",
    "#         print(\"test_auc:\", df_opt.user_attrs_auc_test.mean())\n",
    "#         print(\"test_aucs:\", df_opt.user_attrs_auc_test.values)\n",
    "#     elif criteria=='accuracy':\n",
    "#         print(\"valid_accuracy:\", df_opt.user_attrs_accuracy_valid.mean())\n",
    "#         print(\"test_accuracy:\", df_opt.user_attrs_accuracy_test.mean())\n",
    "#         print(\"test_accuracies:\", df_opt.user_attrs_accuracy_test.values)\n",
    "#     print(\"sparsity:\", df_opt.user_attrs_feature_sparsity.values)\n",
    "#     print(\"Mean sparsity:\", df_opt.user_attrs_approximate_feature_sparsity.mean())\n",
    "# #     print(\"Approx sparsity:\", df_opt.user_attrs_approximate_feature_sparsity.values)\n",
    "# #     print(\"Mean approx sparsity:\", df_opt.user_attrs_feature_sparsity.mean())\n",
    "# #     print(\"Batch-sizes:\", df_opt.params_batch_size.values)\n",
    "#     print(\"Depths:\", df_opt.params_depth.values)\n",
    "#     print(\"Epochs:\", df_opt.user_attrs_num_epochs.values)\n",
    "# #     print(\"Learning Rates:\", df_opt.params_learning_rate.values)\n"
   ]
  },
  {
   "cell_type": "markdown",
   "id": "44df7f11",
   "metadata": {},
   "source": [
    "# Effect of Batch-size "
   ]
  },
  {
   "cell_type": "code",
   "execution_count": 131,
   "id": "4c96d367",
   "metadata": {},
   "outputs": [
    {
     "name": "stdout",
     "output_type": "stream",
     "text": [
      "=============Sparsity:GroupL0L2, ======== Anneal:False ====== LR Schedule:False\n",
      "Missing: ./logs/soft_trees/publicdata/gisette/GroupL0L2/cross-entropy/59.0/study-shared-sigmoid-GroupL0L2-seed8.csv\n",
      "Missing: ./logs/soft_trees/publicdata/gisette/GroupL0L2/cross-entropy/59.1/study-shared-sigmoid-GroupL0L2-seed8.csv\n",
      "Missing: ./logs/soft_trees/publicdata/gisette/GroupL0L2/cross-entropy/59.2/study-shared-sigmoid-GroupL0L2-seed8.csv\n",
      "Missing: ./logs/soft_trees/publicdata/gisette/GroupL0L2/cross-entropy/59.8/study-shared-sigmoid-GroupL0L2-seed8.csv\n",
      "Missing: ./logs/soft_trees/publicdata/gisette/GroupL0L2/cross-entropy/59.9/study-shared-sigmoid-GroupL0L2-seed8.csv\n",
      "Missing: ./logs/soft_trees/publicdata/gisette/GroupL0L2/cross-entropy/59.10/study-shared-sigmoid-GroupL0L2-seed8.csv\n",
      "Missing: ./logs/soft_trees/publicdata/gisette/GroupL0L2/cross-entropy/59.11/study-shared-sigmoid-GroupL0L2-seed8.csv\n",
      "Missing: ./logs/soft_trees/publicdata/gisette/GroupL0L2/cross-entropy/59.12/study-shared-sigmoid-GroupL0L2-seed8.csv\n",
      "Missing: ./logs/soft_trees/publicdata/gisette/GroupL0L2/cross-entropy/59.13/study-shared-sigmoid-GroupL0L2-seed8.csv\n",
      "Missing: ./logs/soft_trees/publicdata/gisette/GroupL0L2/cross-entropy/59.14/study-shared-sigmoid-GroupL0L2-seed8.csv\n",
      "Missing: ./logs/soft_trees/publicdata/gisette/GroupL0L2/cross-entropy/59.15/study-shared-sigmoid-GroupL0L2-seed8.csv\n",
      "Missing: ./logs/soft_trees/publicdata/gisette/GroupL0L2/cross-entropy/59.16/study-shared-sigmoid-GroupL0L2-seed8.csv\n",
      "Missing: ./logs/soft_trees/publicdata/gisette/GroupL0L2/cross-entropy/59.17/study-shared-sigmoid-GroupL0L2-seed8.csv\n",
      "Missing: ./logs/soft_trees/publicdata/gisette/GroupL0L2/cross-entropy/59.18/study-shared-sigmoid-GroupL0L2-seed8.csv\n",
      "Missing: ./logs/soft_trees/publicdata/gisette/GroupL0L2/cross-entropy/59.19/study-shared-sigmoid-GroupL0L2-seed8.csv\n",
      "Missing: ./logs/soft_trees/publicdata/gisette/GroupL0L2/cross-entropy/59.20/study-shared-sigmoid-GroupL0L2-seed8.csv\n",
      "Missing: ./logs/soft_trees/publicdata/gisette/GroupL0L2/cross-entropy/59.21/study-shared-sigmoid-GroupL0L2-seed8.csv\n",
      "Missing: ./logs/soft_trees/publicdata/gisette/GroupL0L2/cross-entropy/59.22/study-shared-sigmoid-GroupL0L2-seed8.csv\n",
      "Missing: ./logs/soft_trees/publicdata/gisette/GroupL0L2/cross-entropy/59.23/study-shared-sigmoid-GroupL0L2-seed8.csv\n",
      "Missing: ./logs/soft_trees/publicdata/gisette/GroupL0L2/cross-entropy/59.24/study-shared-sigmoid-GroupL0L2-seed8.csv\n",
      "Missing: ./logs/soft_trees/publicdata/gisette/GroupL0L2/cross-entropy/59.25/study-shared-sigmoid-GroupL0L2-seed8.csv\n",
      "Missing: ./logs/soft_trees/publicdata/gisette/GroupL0L2/cross-entropy/59.26/study-shared-sigmoid-GroupL0L2-seed8.csv\n",
      "Missing: ./logs/soft_trees/publicdata/gisette/GroupL0L2/cross-entropy/59.27/study-shared-sigmoid-GroupL0L2-seed8.csv\n",
      "Missing: ./logs/soft_trees/publicdata/gisette/GroupL0L2/cross-entropy/59.28/study-shared-sigmoid-GroupL0L2-seed8.csv\n",
      "Missing: ./logs/soft_trees/publicdata/gisette/GroupL0L2/cross-entropy/59.29/study-shared-sigmoid-GroupL0L2-seed8.csv\n",
      "Missing: ./logs/soft_trees/publicdata/gisette/GroupL0L2/cross-entropy/59.30/study-shared-sigmoid-GroupL0L2-seed8.csv\n",
      "Missing: ./logs/soft_trees/publicdata/gisette/GroupL0L2/cross-entropy/59.31/study-shared-sigmoid-GroupL0L2-seed8.csv\n",
      "Number of total trials: 87\n",
      "Number of trials satisfying the feature sparsity budget: 87\n"
     ]
    },
    {
     "data": {
      "text/plain": [
       "(0.9, 1.0)"
      ]
     },
     "execution_count": 131,
     "metadata": {},
     "output_type": "execute_result"
    },
    {
     "data": {
      "image/png": "[encoded data removed]",
      "text/plain": [
       "<Figure size 750x750 with 1 Axes>"
      ]
     },
     "metadata": {},
     "output_type": "display_data"
    }
   ],
   "source": [
    "data = 'gisette'\n",
    "budget = 1.0\n",
    "sparsities = ['GroupL0L2']\n",
    "annealing = [False]\n",
    "learning_rate_scheduling = [False]\n",
    "criteria = 'auc'\n",
    "tuning_seeds = np.arange(32)\n",
    "\n",
    "dfs = {}\n",
    "for sparsity, anneal, lr_schedule in zip(sparsities, annealing, learning_rate_scheduling):\n",
    "    print(\"=============Sparsity:{}, ======== Anneal:{} ====== LR Schedule:{}\".format(sparsity, anneal, lr_schedule))\n",
    "\n",
    "    df = pd.DataFrame()\n",
    "    for tuning_seed in tuning_seeds:\n",
    "        path = \"./logs/soft_trees/publicdata/{}/{}/cross-entropy/59.{}/study-shared-sigmoid-{}\".format(data, sparsity, tuning_seed, sparsity)\n",
    "        if anneal:\n",
    "            path = path+\"-anneal\"\n",
    "        if lr_schedule:\n",
    "            path = path+\"-learning_rate_scheduling\"\n",
    "        path = path+\"-seed8.csv\"\n",
    "        try:\n",
    "            df_temp = pd.read_csv(path)\n",
    "        except:\n",
    "            print(\"Missing:\", path)\n",
    "            continue\n",
    "        df = pd.concat([df,df_temp],axis=0)\n",
    "        df.index = np.arange(len(df))\n",
    "    max_features = df[\"user_attrs_feature_sparsity\"].max()\n",
    "    print(\"Number of total trials:\", df.shape[0])\n",
    "#     df = df[df[\"user_attrs_feature_sparsity\"]<budget*df[\"user_attrs_feature_sparsity\"].max()]        \n",
    "#     df = df[df[\"user_attrs_feature_sparsity\"]>0]        \n",
    "    print(\"Number of trials satisfying the feature sparsity budget:\", df.shape[0])\n",
    "#     df = df.groupby(\"user_attrs_feature_sparsity\").agg({\"user_attrs_\"+criteria+\"_valid\":'max'})[[\"user_attrs_\"+criteria+\"_valid\"]].reset_index()    \n",
    "#     df = df[df[\"user_attrs_\"+criteria+\"_valid\"]>0.9*df[\"user_attrs_\"+criteria+\"_valid\"].max()]\n",
    "#     df = df.sort_values(by=\"user_attrs_feature_sparsity\")\n",
    "#     df = df.cummax(axis=0).reset_index()\n",
    "    dfs[\"Sparsity:{}, Anneal:{}, LR-Schedule:{}\".format(sparsity, anneal, lr_schedule)] = df\n",
    "    \n",
    "plt.figure(figsize=(7.5,7.5))\n",
    "markers = [\"o\", \"*\"]\n",
    "for i, (key, df) in enumerate(dfs.items()):\n",
    "    plt.scatter(df[\"user_attrs_feature_sparsity\"], df[\"user_attrs_\"+criteria+\"_valid\"], label=key, marker=markers[i])\n",
    "plt.legend()\n",
    "plt.ylim(0.9,1.0)"
   ]
  },
  {
   "cell_type": "code",
   "execution_count": 132,
   "id": "da0e8717",
   "metadata": {},
   "outputs": [
    {
     "data": {
      "text/plain": [
       "Index(['Unnamed: 0', 'number', 'value', 'datetime_start', 'datetime_complete',\n",
       "       'duration', 'params_batch_size_scaler', 'params_constant_learning_rate',\n",
       "       'params_depth', 'params_epochs', 'params_kernel_constraint',\n",
       "       'params_kernel_l2', 'params_num_trees', 'user_attrs_accuracy_test',\n",
       "       'user_attrs_accuracy_valid', 'user_attrs_approximate_feature_sparsity',\n",
       "       'user_attrs_approximate_feature_sparsity_history',\n",
       "       'user_attrs_approximate_weight_sparsity',\n",
       "       'user_attrs_approximate_weight_sparsity_history', 'user_attrs_auc_test',\n",
       "       'user_attrs_auc_valid', 'user_attrs_feature_sparsity',\n",
       "       'user_attrs_feature_sparsity_history', 'user_attrs_num_epochs',\n",
       "       'user_attrs_val_loss_history', 'user_attrs_weight_sparsity',\n",
       "       'user_attrs_weight_sparsity_history', 'state'],\n",
       "      dtype='object')"
      ]
     },
     "execution_count": 132,
     "metadata": {},
     "output_type": "execute_result"
    }
   ],
   "source": [
    "df.columns"
   ]
  },
  {
   "cell_type": "code",
   "execution_count": 133,
   "id": "ddeb6351",
   "metadata": {},
   "outputs": [
    {
     "data": {
      "text/plain": [
       "0     50.0\n",
       "62    50.0\n",
       "      ... \n",
       "31    50.0\n",
       "86    50.0\n",
       "Name: params_kernel_constraint, Length: 87, dtype: float64"
      ]
     },
     "execution_count": 133,
     "metadata": {},
     "output_type": "execute_result"
    }
   ],
   "source": [
    "df['params_kernel_constraint'].sort_values()"
   ]
  },
  {
   "cell_type": "code",
   "execution_count": 134,
   "id": "0f7b5191",
   "metadata": {},
   "outputs": [],
   "source": [
    "df['params_batch_size'] = df['params_batch_size_scaler']*16"
   ]
  },
  {
   "cell_type": "code",
   "execution_count": 135,
   "id": "709c8782",
   "metadata": {},
   "outputs": [
    {
     "data": {
      "text/plain": [
       "Index(['Unnamed: 0', 'number', 'value', 'datetime_start', 'datetime_complete',\n",
       "       'duration', 'params_batch_size_scaler', 'params_constant_learning_rate',\n",
       "       'params_depth', 'params_epochs', 'params_kernel_constraint',\n",
       "       'params_kernel_l2', 'params_num_trees', 'user_attrs_accuracy_test',\n",
       "       'user_attrs_accuracy_valid', 'user_attrs_approximate_feature_sparsity',\n",
       "       'user_attrs_approximate_feature_sparsity_history',\n",
       "       'user_attrs_approximate_weight_sparsity',\n",
       "       'user_attrs_approximate_weight_sparsity_history', 'user_attrs_auc_test',\n",
       "       'user_attrs_auc_valid', 'user_attrs_feature_sparsity',\n",
       "       'user_attrs_feature_sparsity_history', 'user_attrs_num_epochs',\n",
       "       'user_attrs_val_loss_history', 'user_attrs_weight_sparsity',\n",
       "       'user_attrs_weight_sparsity_history', 'state', 'params_batch_size'],\n",
       "      dtype='object')"
      ]
     },
     "execution_count": 135,
     "metadata": {},
     "output_type": "execute_result"
    }
   ],
   "source": [
    "df.columns"
   ]
  },
  {
   "cell_type": "code",
   "execution_count": 136,
   "id": "f91a7068",
   "metadata": {},
   "outputs": [],
   "source": [
    "df = df[['params_batch_size', \"user_attrs_feature_sparsity\", \"user_attrs_\"+criteria+\"_valid\", 'params_depth', 'params_num_trees', 'params_epochs', 'user_attrs_num_epochs']]"
   ]
  },
  {
   "cell_type": "code",
   "execution_count": 137,
   "id": "ee609c1e",
   "metadata": {},
   "outputs": [
    {
     "data": {
      "text/html": [
       "<div>\n",
       "<style scoped>\n",
       "    .dataframe tbody tr th:only-of-type {\n",
       "        vertical-align: middle;\n",
       "    }\n",
       "\n",
       "    .dataframe tbody tr th {\n",
       "        vertical-align: top;\n",
       "    }\n",
       "\n",
       "    .dataframe thead th {\n",
       "        text-align: right;\n",
       "    }\n",
       "</style>\n",
       "<table border=\"1\" class=\"dataframe\">\n",
       "  <thead>\n",
       "    <tr style=\"text-align: right;\">\n",
       "      <th></th>\n",
       "      <th>params_batch_size</th>\n",
       "      <th>user_attrs_feature_sparsity</th>\n",
       "      <th>user_attrs_auc_valid</th>\n",
       "      <th>params_depth</th>\n",
       "      <th>params_num_trees</th>\n",
       "      <th>params_epochs</th>\n",
       "      <th>user_attrs_num_epochs</th>\n",
       "    </tr>\n",
       "  </thead>\n",
       "  <tbody>\n",
       "    <tr>\n",
       "      <th>0</th>\n",
       "      <td>496</td>\n",
       "      <td>5000</td>\n",
       "      <td>NaN</td>\n",
       "      <td>3</td>\n",
       "      <td>50</td>\n",
       "      <td>1550</td>\n",
       "      <td>1550</td>\n",
       "    </tr>\n",
       "    <tr>\n",
       "      <th>1</th>\n",
       "      <td>640</td>\n",
       "      <td>5000</td>\n",
       "      <td>NaN</td>\n",
       "      <td>3</td>\n",
       "      <td>50</td>\n",
       "      <td>2000</td>\n",
       "      <td>2000</td>\n",
       "    </tr>\n",
       "    <tr>\n",
       "      <th>...</th>\n",
       "      <td>...</td>\n",
       "      <td>...</td>\n",
       "      <td>...</td>\n",
       "      <td>...</td>\n",
       "      <td>...</td>\n",
       "      <td>...</td>\n",
       "      <td>...</td>\n",
       "    </tr>\n",
       "    <tr>\n",
       "      <th>85</th>\n",
       "      <td>144</td>\n",
       "      <td>5000</td>\n",
       "      <td>NaN</td>\n",
       "      <td>3</td>\n",
       "      <td>50</td>\n",
       "      <td>450</td>\n",
       "      <td>450</td>\n",
       "    </tr>\n",
       "    <tr>\n",
       "      <th>86</th>\n",
       "      <td>880</td>\n",
       "      <td>5000</td>\n",
       "      <td>NaN</td>\n",
       "      <td>3</td>\n",
       "      <td>50</td>\n",
       "      <td>2750</td>\n",
       "      <td>2750</td>\n",
       "    </tr>\n",
       "  </tbody>\n",
       "</table>\n",
       "<p>87 rows × 7 columns</p>\n",
       "</div>"
      ],
      "text/plain": [
       "    params_batch_size  user_attrs_feature_sparsity  user_attrs_auc_valid  \\\n",
       "0                 496                         5000                   NaN   \n",
       "1                 640                         5000                   NaN   \n",
       "..                ...                          ...                   ...   \n",
       "85                144                         5000                   NaN   \n",
       "86                880                         5000                   NaN   \n",
       "\n",
       "    params_depth  params_num_trees  params_epochs  user_attrs_num_epochs  \n",
       "0              3                50           1550                   1550  \n",
       "1              3                50           2000                   2000  \n",
       "..           ...               ...            ...                    ...  \n",
       "85             3                50            450                    450  \n",
       "86             3                50           2750                   2750  \n",
       "\n",
       "[87 rows x 7 columns]"
      ]
     },
     "execution_count": 137,
     "metadata": {},
     "output_type": "execute_result"
    }
   ],
   "source": [
    "df"
   ]
  },
  {
   "cell_type": "code",
   "execution_count": 138,
   "id": "1943e6c0",
   "metadata": {},
   "outputs": [
    {
     "name": "stderr",
     "output_type": "stream",
     "text": [
      "/state/partition1/slurm_tmp/23960892.0.0/ipykernel_796525/4058380591.py:1: SettingWithCopyWarning: \n",
      "A value is trying to be set on a copy of a slice from a DataFrame.\n",
      "Try using .loc[row_indexer,col_indexer] = value instead\n",
      "\n",
      "See the caveats in the documentation: https://pandas.pydata.org/pandas-docs/stable/user_guide/indexing.html#returning-a-view-versus-a-copy\n",
      "  df[\"max_auc_valid\"] = np.zeros(df.shape[0])\n"
     ]
    }
   ],
   "source": [
    "df[\"max_auc_valid\"] = np.zeros(df.shape[0])"
   ]
  },
  {
   "cell_type": "code",
   "execution_count": 139,
   "id": "64f32fa7",
   "metadata": {},
   "outputs": [
    {
     "data": {
      "text/html": [
       "<div>\n",
       "<style scoped>\n",
       "    .dataframe tbody tr th:only-of-type {\n",
       "        vertical-align: middle;\n",
       "    }\n",
       "\n",
       "    .dataframe tbody tr th {\n",
       "        vertical-align: top;\n",
       "    }\n",
       "\n",
       "    .dataframe thead th {\n",
       "        text-align: right;\n",
       "    }\n",
       "</style>\n",
       "<table border=\"1\" class=\"dataframe\">\n",
       "  <thead>\n",
       "    <tr style=\"text-align: right;\">\n",
       "      <th></th>\n",
       "      <th>params_batch_size</th>\n",
       "      <th>user_attrs_feature_sparsity</th>\n",
       "      <th>user_attrs_auc_valid</th>\n",
       "      <th>params_depth</th>\n",
       "      <th>params_num_trees</th>\n",
       "      <th>params_epochs</th>\n",
       "      <th>user_attrs_num_epochs</th>\n",
       "      <th>max_auc_valid</th>\n",
       "    </tr>\n",
       "  </thead>\n",
       "  <tbody>\n",
       "    <tr>\n",
       "      <th>0</th>\n",
       "      <td>496</td>\n",
       "      <td>5000</td>\n",
       "      <td>NaN</td>\n",
       "      <td>3</td>\n",
       "      <td>50</td>\n",
       "      <td>1550</td>\n",
       "      <td>1550</td>\n",
       "      <td>0.0</td>\n",
       "    </tr>\n",
       "    <tr>\n",
       "      <th>1</th>\n",
       "      <td>640</td>\n",
       "      <td>5000</td>\n",
       "      <td>NaN</td>\n",
       "      <td>3</td>\n",
       "      <td>50</td>\n",
       "      <td>2000</td>\n",
       "      <td>2000</td>\n",
       "      <td>0.0</td>\n",
       "    </tr>\n",
       "    <tr>\n",
       "      <th>...</th>\n",
       "      <td>...</td>\n",
       "      <td>...</td>\n",
       "      <td>...</td>\n",
       "      <td>...</td>\n",
       "      <td>...</td>\n",
       "      <td>...</td>\n",
       "      <td>...</td>\n",
       "      <td>...</td>\n",
       "    </tr>\n",
       "    <tr>\n",
       "      <th>85</th>\n",
       "      <td>144</td>\n",
       "      <td>5000</td>\n",
       "      <td>NaN</td>\n",
       "      <td>3</td>\n",
       "      <td>50</td>\n",
       "      <td>450</td>\n",
       "      <td>450</td>\n",
       "      <td>0.0</td>\n",
       "    </tr>\n",
       "    <tr>\n",
       "      <th>86</th>\n",
       "      <td>880</td>\n",
       "      <td>5000</td>\n",
       "      <td>NaN</td>\n",
       "      <td>3</td>\n",
       "      <td>50</td>\n",
       "      <td>2750</td>\n",
       "      <td>2750</td>\n",
       "      <td>0.0</td>\n",
       "    </tr>\n",
       "  </tbody>\n",
       "</table>\n",
       "<p>87 rows × 8 columns</p>\n",
       "</div>"
      ],
      "text/plain": [
       "    params_batch_size  user_attrs_feature_sparsity  user_attrs_auc_valid  \\\n",
       "0                 496                         5000                   NaN   \n",
       "1                 640                         5000                   NaN   \n",
       "..                ...                          ...                   ...   \n",
       "85                144                         5000                   NaN   \n",
       "86                880                         5000                   NaN   \n",
       "\n",
       "    params_depth  params_num_trees  params_epochs  user_attrs_num_epochs  \\\n",
       "0              3                50           1550                   1550   \n",
       "1              3                50           2000                   2000   \n",
       "..           ...               ...            ...                    ...   \n",
       "85             3                50            450                    450   \n",
       "86             3                50           2750                   2750   \n",
       "\n",
       "    max_auc_valid  \n",
       "0             0.0  \n",
       "1             0.0  \n",
       "..            ...  \n",
       "85            0.0  \n",
       "86            0.0  \n",
       "\n",
       "[87 rows x 8 columns]"
      ]
     },
     "execution_count": 139,
     "metadata": {},
     "output_type": "execute_result"
    }
   ],
   "source": [
    "df"
   ]
  },
  {
   "cell_type": "code",
   "execution_count": 140,
   "id": "e7e76feb",
   "metadata": {},
   "outputs": [],
   "source": [
    "df = df.sort_values(by=\"params_batch_size\")"
   ]
  },
  {
   "cell_type": "code",
   "execution_count": 141,
   "id": "54f8e9cc",
   "metadata": {},
   "outputs": [
    {
     "data": {
      "text/html": [
       "<div>\n",
       "<style scoped>\n",
       "    .dataframe tbody tr th:only-of-type {\n",
       "        vertical-align: middle;\n",
       "    }\n",
       "\n",
       "    .dataframe tbody tr th {\n",
       "        vertical-align: top;\n",
       "    }\n",
       "\n",
       "    .dataframe thead th {\n",
       "        text-align: right;\n",
       "    }\n",
       "</style>\n",
       "<table border=\"1\" class=\"dataframe\">\n",
       "  <thead>\n",
       "    <tr style=\"text-align: right;\">\n",
       "      <th></th>\n",
       "      <th>params_batch_size</th>\n",
       "      <th>user_attrs_feature_sparsity</th>\n",
       "      <th>user_attrs_auc_valid</th>\n",
       "      <th>params_depth</th>\n",
       "      <th>params_num_trees</th>\n",
       "      <th>params_epochs</th>\n",
       "      <th>user_attrs_num_epochs</th>\n",
       "      <th>max_auc_valid</th>\n",
       "    </tr>\n",
       "  </thead>\n",
       "  <tbody>\n",
       "    <tr>\n",
       "      <th>42</th>\n",
       "      <td>16</td>\n",
       "      <td>5000</td>\n",
       "      <td>NaN</td>\n",
       "      <td>3</td>\n",
       "      <td>50</td>\n",
       "      <td>50</td>\n",
       "      <td>50</td>\n",
       "      <td>0.0</td>\n",
       "    </tr>\n",
       "    <tr>\n",
       "      <th>7</th>\n",
       "      <td>16</td>\n",
       "      <td>5000</td>\n",
       "      <td>NaN</td>\n",
       "      <td>3</td>\n",
       "      <td>50</td>\n",
       "      <td>50</td>\n",
       "      <td>50</td>\n",
       "      <td>0.0</td>\n",
       "    </tr>\n",
       "    <tr>\n",
       "      <th>...</th>\n",
       "      <td>...</td>\n",
       "      <td>...</td>\n",
       "      <td>...</td>\n",
       "      <td>...</td>\n",
       "      <td>...</td>\n",
       "      <td>...</td>\n",
       "      <td>...</td>\n",
       "      <td>...</td>\n",
       "    </tr>\n",
       "    <tr>\n",
       "      <th>13</th>\n",
       "      <td>1008</td>\n",
       "      <td>5000</td>\n",
       "      <td>NaN</td>\n",
       "      <td>3</td>\n",
       "      <td>50</td>\n",
       "      <td>3150</td>\n",
       "      <td>3150</td>\n",
       "      <td>0.0</td>\n",
       "    </tr>\n",
       "    <tr>\n",
       "      <th>73</th>\n",
       "      <td>1024</td>\n",
       "      <td>5000</td>\n",
       "      <td>NaN</td>\n",
       "      <td>3</td>\n",
       "      <td>50</td>\n",
       "      <td>3200</td>\n",
       "      <td>3200</td>\n",
       "      <td>0.0</td>\n",
       "    </tr>\n",
       "  </tbody>\n",
       "</table>\n",
       "<p>87 rows × 8 columns</p>\n",
       "</div>"
      ],
      "text/plain": [
       "    params_batch_size  user_attrs_feature_sparsity  user_attrs_auc_valid  \\\n",
       "42                 16                         5000                   NaN   \n",
       "7                  16                         5000                   NaN   \n",
       "..                ...                          ...                   ...   \n",
       "13               1008                         5000                   NaN   \n",
       "73               1024                         5000                   NaN   \n",
       "\n",
       "    params_depth  params_num_trees  params_epochs  user_attrs_num_epochs  \\\n",
       "42             3                50             50                     50   \n",
       "7              3                50             50                     50   \n",
       "..           ...               ...            ...                    ...   \n",
       "13             3                50           3150                   3150   \n",
       "73             3                50           3200                   3200   \n",
       "\n",
       "    max_auc_valid  \n",
       "42            0.0  \n",
       "7             0.0  \n",
       "..            ...  \n",
       "13            0.0  \n",
       "73            0.0  \n",
       "\n",
       "[87 rows x 8 columns]"
      ]
     },
     "execution_count": 141,
     "metadata": {},
     "output_type": "execute_result"
    }
   ],
   "source": [
    "df"
   ]
  },
  {
   "cell_type": "code",
   "execution_count": 142,
   "id": "fdebc485",
   "metadata": {},
   "outputs": [],
   "source": [
    "# for i, (index, row) in enumerate(df.iterrows()):\n",
    "#     max_auc_valid = df[df['user_attrs_feature_sparsity']==row[\"user_attrs_feature_sparsity\"]].user_attrs_auc_valid.max()\n",
    "# #     print(i, index, max_auc_valid)\n",
    "#     df.loc[index, \"max_auc_valid\"] = max_auc_valid"
   ]
  },
  {
   "cell_type": "code",
   "execution_count": 143,
   "id": "2ebdd5e9",
   "metadata": {},
   "outputs": [],
   "source": [
    "# df = df.sort_values(by=['user_attrs_feature_sparsity', 'max_auc_valid'], ascending=[True, True]).drop_duplicates(subset=['user_attrs_feature_sparsity'])"
   ]
  },
  {
   "cell_type": "code",
   "execution_count": 144,
   "id": "95a0e990",
   "metadata": {},
   "outputs": [
    {
     "data": {
      "text/html": [
       "<div>\n",
       "<style scoped>\n",
       "    .dataframe tbody tr th:only-of-type {\n",
       "        vertical-align: middle;\n",
       "    }\n",
       "\n",
       "    .dataframe tbody tr th {\n",
       "        vertical-align: top;\n",
       "    }\n",
       "\n",
       "    .dataframe thead th {\n",
       "        text-align: right;\n",
       "    }\n",
       "</style>\n",
       "<table border=\"1\" class=\"dataframe\">\n",
       "  <thead>\n",
       "    <tr style=\"text-align: right;\">\n",
       "      <th></th>\n",
       "      <th>params_batch_size</th>\n",
       "      <th>user_attrs_feature_sparsity</th>\n",
       "      <th>user_attrs_auc_valid</th>\n",
       "      <th>params_depth</th>\n",
       "      <th>params_num_trees</th>\n",
       "      <th>params_epochs</th>\n",
       "      <th>user_attrs_num_epochs</th>\n",
       "      <th>max_auc_valid</th>\n",
       "    </tr>\n",
       "  </thead>\n",
       "  <tbody>\n",
       "    <tr>\n",
       "      <th>42</th>\n",
       "      <td>16</td>\n",
       "      <td>5000</td>\n",
       "      <td>NaN</td>\n",
       "      <td>3</td>\n",
       "      <td>50</td>\n",
       "      <td>50</td>\n",
       "      <td>50</td>\n",
       "      <td>0.0</td>\n",
       "    </tr>\n",
       "    <tr>\n",
       "      <th>7</th>\n",
       "      <td>16</td>\n",
       "      <td>5000</td>\n",
       "      <td>NaN</td>\n",
       "      <td>3</td>\n",
       "      <td>50</td>\n",
       "      <td>50</td>\n",
       "      <td>50</td>\n",
       "      <td>0.0</td>\n",
       "    </tr>\n",
       "    <tr>\n",
       "      <th>...</th>\n",
       "      <td>...</td>\n",
       "      <td>...</td>\n",
       "      <td>...</td>\n",
       "      <td>...</td>\n",
       "      <td>...</td>\n",
       "      <td>...</td>\n",
       "      <td>...</td>\n",
       "      <td>...</td>\n",
       "    </tr>\n",
       "    <tr>\n",
       "      <th>13</th>\n",
       "      <td>1008</td>\n",
       "      <td>5000</td>\n",
       "      <td>NaN</td>\n",
       "      <td>3</td>\n",
       "      <td>50</td>\n",
       "      <td>3150</td>\n",
       "      <td>3150</td>\n",
       "      <td>0.0</td>\n",
       "    </tr>\n",
       "    <tr>\n",
       "      <th>73</th>\n",
       "      <td>1024</td>\n",
       "      <td>5000</td>\n",
       "      <td>NaN</td>\n",
       "      <td>3</td>\n",
       "      <td>50</td>\n",
       "      <td>3200</td>\n",
       "      <td>3200</td>\n",
       "      <td>0.0</td>\n",
       "    </tr>\n",
       "  </tbody>\n",
       "</table>\n",
       "<p>87 rows × 8 columns</p>\n",
       "</div>"
      ],
      "text/plain": [
       "    params_batch_size  user_attrs_feature_sparsity  user_attrs_auc_valid  \\\n",
       "42                 16                         5000                   NaN   \n",
       "7                  16                         5000                   NaN   \n",
       "..                ...                          ...                   ...   \n",
       "13               1008                         5000                   NaN   \n",
       "73               1024                         5000                   NaN   \n",
       "\n",
       "    params_depth  params_num_trees  params_epochs  user_attrs_num_epochs  \\\n",
       "42             3                50             50                     50   \n",
       "7              3                50             50                     50   \n",
       "..           ...               ...            ...                    ...   \n",
       "13             3                50           3150                   3150   \n",
       "73             3                50           3200                   3200   \n",
       "\n",
       "    max_auc_valid  \n",
       "42            0.0  \n",
       "7             0.0  \n",
       "..            ...  \n",
       "13            0.0  \n",
       "73            0.0  \n",
       "\n",
       "[87 rows x 8 columns]"
      ]
     },
     "execution_count": 144,
     "metadata": {},
     "output_type": "execute_result"
    }
   ],
   "source": [
    "df"
   ]
  },
  {
   "cell_type": "code",
   "execution_count": 145,
   "id": "5a57b8fc",
   "metadata": {},
   "outputs": [
    {
     "data": {
      "text/html": [
       "<div>\n",
       "<style scoped>\n",
       "    .dataframe tbody tr th:only-of-type {\n",
       "        vertical-align: middle;\n",
       "    }\n",
       "\n",
       "    .dataframe tbody tr th {\n",
       "        vertical-align: top;\n",
       "    }\n",
       "\n",
       "    .dataframe thead th {\n",
       "        text-align: right;\n",
       "    }\n",
       "</style>\n",
       "<table border=\"1\" class=\"dataframe\">\n",
       "  <thead>\n",
       "    <tr style=\"text-align: right;\">\n",
       "      <th></th>\n",
       "      <th>params_batch_size</th>\n",
       "      <th>user_attrs_feature_sparsity</th>\n",
       "      <th>user_attrs_auc_valid</th>\n",
       "      <th>params_depth</th>\n",
       "      <th>params_num_trees</th>\n",
       "      <th>params_epochs</th>\n",
       "      <th>user_attrs_num_epochs</th>\n",
       "      <th>max_auc_valid</th>\n",
       "    </tr>\n",
       "  </thead>\n",
       "  <tbody>\n",
       "    <tr>\n",
       "      <th>42</th>\n",
       "      <td>16</td>\n",
       "      <td>5000</td>\n",
       "      <td>NaN</td>\n",
       "      <td>3</td>\n",
       "      <td>50</td>\n",
       "      <td>50</td>\n",
       "      <td>50</td>\n",
       "      <td>0.0</td>\n",
       "    </tr>\n",
       "    <tr>\n",
       "      <th>7</th>\n",
       "      <td>16</td>\n",
       "      <td>5000</td>\n",
       "      <td>NaN</td>\n",
       "      <td>3</td>\n",
       "      <td>50</td>\n",
       "      <td>50</td>\n",
       "      <td>50</td>\n",
       "      <td>0.0</td>\n",
       "    </tr>\n",
       "    <tr>\n",
       "      <th>...</th>\n",
       "      <td>...</td>\n",
       "      <td>...</td>\n",
       "      <td>...</td>\n",
       "      <td>...</td>\n",
       "      <td>...</td>\n",
       "      <td>...</td>\n",
       "      <td>...</td>\n",
       "      <td>...</td>\n",
       "    </tr>\n",
       "    <tr>\n",
       "      <th>28</th>\n",
       "      <td>1008</td>\n",
       "      <td>5000</td>\n",
       "      <td>NaN</td>\n",
       "      <td>3</td>\n",
       "      <td>50</td>\n",
       "      <td>3150</td>\n",
       "      <td>3150</td>\n",
       "      <td>0.0</td>\n",
       "    </tr>\n",
       "    <tr>\n",
       "      <th>73</th>\n",
       "      <td>1024</td>\n",
       "      <td>5000</td>\n",
       "      <td>NaN</td>\n",
       "      <td>3</td>\n",
       "      <td>50</td>\n",
       "      <td>3200</td>\n",
       "      <td>3200</td>\n",
       "      <td>0.0</td>\n",
       "    </tr>\n",
       "  </tbody>\n",
       "</table>\n",
       "<p>87 rows × 8 columns</p>\n",
       "</div>"
      ],
      "text/plain": [
       "    params_batch_size  user_attrs_feature_sparsity  user_attrs_auc_valid  \\\n",
       "42                 16                         5000                   NaN   \n",
       "7                  16                         5000                   NaN   \n",
       "..                ...                          ...                   ...   \n",
       "28               1008                         5000                   NaN   \n",
       "73               1024                         5000                   NaN   \n",
       "\n",
       "    params_depth  params_num_trees  params_epochs  user_attrs_num_epochs  \\\n",
       "42             3                50             50                     50   \n",
       "7              3                50             50                     50   \n",
       "..           ...               ...            ...                    ...   \n",
       "28             3                50           3150                   3150   \n",
       "73             3                50           3200                   3200   \n",
       "\n",
       "    max_auc_valid  \n",
       "42            0.0  \n",
       "7             0.0  \n",
       "..            ...  \n",
       "28            0.0  \n",
       "73            0.0  \n",
       "\n",
       "[87 rows x 8 columns]"
      ]
     },
     "execution_count": 145,
     "metadata": {},
     "output_type": "execute_result"
    }
   ],
   "source": [
    "df = df.sort_values(by='params_batch_size')\n",
    "df"
   ]
  },
  {
   "cell_type": "code",
   "execution_count": 146,
   "id": "84f73674",
   "metadata": {},
   "outputs": [
    {
     "data": {
      "text/plain": [
       "array([  16,   16,   32,   48,   48,   80,   96,   96,  112,  112,  144,\n",
       "        144,  160,  160,  192,  208,  224,  224,  224,  256,  256,  288,\n",
       "        304,  304,  320,  320,  320,  352,  368,  384,  384,  400,  416,\n",
       "        416,  432,  448,  448,  448,  448,  464,  464,  464,  480,  480,\n",
       "        496,  496,  496,  512,  512,  544,  592,  592,  640,  640,  640,\n",
       "        640,  656,  720,  736,  768,  768,  768,  768,  784,  784,  800,\n",
       "        832,  864,  864,  880,  880,  880,  896,  896,  912,  912,  928,\n",
       "        944,  960,  960,  960,  992,  992,  992, 1008, 1008, 1024])"
      ]
     },
     "execution_count": 146,
     "metadata": {},
     "output_type": "execute_result"
    }
   ],
   "source": [
    "df.params_batch_size.values"
   ]
  },
  {
   "cell_type": "code",
   "execution_count": 147,
   "id": "acbfffc6",
   "metadata": {},
   "outputs": [
    {
     "data": {
      "text/plain": [
       "array([  50,   50,  100,  150,  150,  250,  300,  300,  350,  350,  450,\n",
       "        450,  500,  500,  600,  650,  700,  700,  700,  800,  800,  900,\n",
       "        950,  950, 1000, 1000, 1000, 1100, 1150, 1200, 1200, 1250, 1300,\n",
       "       1300, 1350, 1400, 1400, 1400, 1400, 1450, 1450, 1450, 1500, 1500,\n",
       "       1550, 1550, 1550, 1600, 1600, 1700, 1850, 1850, 2000, 2000, 2000,\n",
       "       2000, 2050, 2250, 2300, 2400, 2400, 2400, 2400, 2450, 2450, 2500,\n",
       "       2600, 2700, 2700, 2750, 2750, 2750, 2800, 2800, 2850, 2850, 2900,\n",
       "       2950, 3000, 3000, 3000, 3100, 3100, 3100, 3150, 3150, 3200])"
      ]
     },
     "execution_count": 147,
     "metadata": {},
     "output_type": "execute_result"
    }
   ],
   "source": [
    "df.user_attrs_num_epochs.values"
   ]
  },
  {
   "cell_type": "code",
   "execution_count": 148,
   "id": "126f05b6",
   "metadata": {},
   "outputs": [],
   "source": [
    "df_sparse = df.groupby([\"params_batch_size\"]).agg({\"user_attrs_feature_sparsity\":'median'})[[\"user_attrs_feature_sparsity\"]].reset_index()    \n"
   ]
  },
  {
   "cell_type": "code",
   "execution_count": 149,
   "id": "ae6df341",
   "metadata": {},
   "outputs": [
    {
     "data": {
      "text/html": [
       "<div>\n",
       "<style scoped>\n",
       "    .dataframe tbody tr th:only-of-type {\n",
       "        vertical-align: middle;\n",
       "    }\n",
       "\n",
       "    .dataframe tbody tr th {\n",
       "        vertical-align: top;\n",
       "    }\n",
       "\n",
       "    .dataframe thead th {\n",
       "        text-align: right;\n",
       "    }\n",
       "</style>\n",
       "<table border=\"1\" class=\"dataframe\">\n",
       "  <thead>\n",
       "    <tr style=\"text-align: right;\">\n",
       "      <th></th>\n",
       "      <th>params_batch_size</th>\n",
       "      <th>user_attrs_feature_sparsity</th>\n",
       "    </tr>\n",
       "  </thead>\n",
       "  <tbody>\n",
       "    <tr>\n",
       "      <th>0</th>\n",
       "      <td>16</td>\n",
       "      <td>5000.0</td>\n",
       "    </tr>\n",
       "    <tr>\n",
       "      <th>1</th>\n",
       "      <td>32</td>\n",
       "      <td>5000.0</td>\n",
       "    </tr>\n",
       "    <tr>\n",
       "      <th>...</th>\n",
       "      <td>...</td>\n",
       "      <td>...</td>\n",
       "    </tr>\n",
       "    <tr>\n",
       "      <th>44</th>\n",
       "      <td>1008</td>\n",
       "      <td>5000.0</td>\n",
       "    </tr>\n",
       "    <tr>\n",
       "      <th>45</th>\n",
       "      <td>1024</td>\n",
       "      <td>5000.0</td>\n",
       "    </tr>\n",
       "  </tbody>\n",
       "</table>\n",
       "<p>46 rows × 2 columns</p>\n",
       "</div>"
      ],
      "text/plain": [
       "    params_batch_size  user_attrs_feature_sparsity\n",
       "0                  16                       5000.0\n",
       "1                  32                       5000.0\n",
       "..                ...                          ...\n",
       "44               1008                       5000.0\n",
       "45               1024                       5000.0\n",
       "\n",
       "[46 rows x 2 columns]"
      ]
     },
     "execution_count": 149,
     "metadata": {},
     "output_type": "execute_result"
    }
   ],
   "source": [
    "df_sparse"
   ]
  },
  {
   "cell_type": "code",
   "execution_count": 150,
   "id": "e87127d0",
   "metadata": {},
   "outputs": [],
   "source": [
    "# df_sparse = df_sparse[df_sparse[\"params_depth\"]==3]\n",
    "# df_sparse = df_sparse[(df_sparse[\"params_num_trees\"]>30)&(df_sparse[\"params_num_trees\"]<70)]"
   ]
  },
  {
   "cell_type": "code",
   "execution_count": 151,
   "id": "66505668",
   "metadata": {},
   "outputs": [
    {
     "data": {
      "text/html": [
       "<div>\n",
       "<style scoped>\n",
       "    .dataframe tbody tr th:only-of-type {\n",
       "        vertical-align: middle;\n",
       "    }\n",
       "\n",
       "    .dataframe tbody tr th {\n",
       "        vertical-align: top;\n",
       "    }\n",
       "\n",
       "    .dataframe thead th {\n",
       "        text-align: right;\n",
       "    }\n",
       "</style>\n",
       "<table border=\"1\" class=\"dataframe\">\n",
       "  <thead>\n",
       "    <tr style=\"text-align: right;\">\n",
       "      <th></th>\n",
       "      <th>params_batch_size</th>\n",
       "      <th>user_attrs_feature_sparsity</th>\n",
       "    </tr>\n",
       "  </thead>\n",
       "  <tbody>\n",
       "    <tr>\n",
       "      <th>0</th>\n",
       "      <td>16</td>\n",
       "      <td>5000.0</td>\n",
       "    </tr>\n",
       "    <tr>\n",
       "      <th>1</th>\n",
       "      <td>32</td>\n",
       "      <td>5000.0</td>\n",
       "    </tr>\n",
       "    <tr>\n",
       "      <th>...</th>\n",
       "      <td>...</td>\n",
       "      <td>...</td>\n",
       "    </tr>\n",
       "    <tr>\n",
       "      <th>44</th>\n",
       "      <td>1008</td>\n",
       "      <td>5000.0</td>\n",
       "    </tr>\n",
       "    <tr>\n",
       "      <th>45</th>\n",
       "      <td>1024</td>\n",
       "      <td>5000.0</td>\n",
       "    </tr>\n",
       "  </tbody>\n",
       "</table>\n",
       "<p>46 rows × 2 columns</p>\n",
       "</div>"
      ],
      "text/plain": [
       "    params_batch_size  user_attrs_feature_sparsity\n",
       "0                  16                       5000.0\n",
       "1                  32                       5000.0\n",
       "..                ...                          ...\n",
       "44               1008                       5000.0\n",
       "45               1024                       5000.0\n",
       "\n",
       "[46 rows x 2 columns]"
      ]
     },
     "execution_count": 151,
     "metadata": {},
     "output_type": "execute_result"
    }
   ],
   "source": [
    "df_sparse"
   ]
  },
  {
   "cell_type": "code",
   "execution_count": 152,
   "id": "031368d8",
   "metadata": {},
   "outputs": [],
   "source": [
    "df_sparse[\"params_batch_size\"] = np.log2(df_sparse[\"params_batch_size\"])"
   ]
  },
  {
   "cell_type": "code",
   "execution_count": 153,
   "id": "5653a6ef",
   "metadata": {},
   "outputs": [
    {
     "data": {
      "text/html": [
       "<div>\n",
       "<style scoped>\n",
       "    .dataframe tbody tr th:only-of-type {\n",
       "        vertical-align: middle;\n",
       "    }\n",
       "\n",
       "    .dataframe tbody tr th {\n",
       "        vertical-align: top;\n",
       "    }\n",
       "\n",
       "    .dataframe thead th {\n",
       "        text-align: right;\n",
       "    }\n",
       "</style>\n",
       "<table border=\"1\" class=\"dataframe\">\n",
       "  <thead>\n",
       "    <tr style=\"text-align: right;\">\n",
       "      <th></th>\n",
       "      <th>params_batch_size</th>\n",
       "      <th>user_attrs_feature_sparsity</th>\n",
       "    </tr>\n",
       "  </thead>\n",
       "  <tbody>\n",
       "    <tr>\n",
       "      <th>0</th>\n",
       "      <td>4.00000</td>\n",
       "      <td>5000.0</td>\n",
       "    </tr>\n",
       "    <tr>\n",
       "      <th>1</th>\n",
       "      <td>5.00000</td>\n",
       "      <td>5000.0</td>\n",
       "    </tr>\n",
       "    <tr>\n",
       "      <th>...</th>\n",
       "      <td>...</td>\n",
       "      <td>...</td>\n",
       "    </tr>\n",
       "    <tr>\n",
       "      <th>44</th>\n",
       "      <td>9.97728</td>\n",
       "      <td>5000.0</td>\n",
       "    </tr>\n",
       "    <tr>\n",
       "      <th>45</th>\n",
       "      <td>10.00000</td>\n",
       "      <td>5000.0</td>\n",
       "    </tr>\n",
       "  </tbody>\n",
       "</table>\n",
       "<p>46 rows × 2 columns</p>\n",
       "</div>"
      ],
      "text/plain": [
       "    params_batch_size  user_attrs_feature_sparsity\n",
       "0             4.00000                       5000.0\n",
       "1             5.00000                       5000.0\n",
       "..                ...                          ...\n",
       "44            9.97728                       5000.0\n",
       "45           10.00000                       5000.0\n",
       "\n",
       "[46 rows x 2 columns]"
      ]
     },
     "execution_count": 153,
     "metadata": {},
     "output_type": "execute_result"
    }
   ],
   "source": [
    "df_sparse"
   ]
  },
  {
   "cell_type": "code",
   "execution_count": 154,
   "id": "15ed0b88",
   "metadata": {},
   "outputs": [],
   "source": [
    "# df_sparse = df_sparse.rolling(1).mean().dropna(axis=0)"
   ]
  },
  {
   "cell_type": "code",
   "execution_count": 155,
   "id": "210cd571",
   "metadata": {},
   "outputs": [
    {
     "data": {
      "text/html": [
       "<div>\n",
       "<style scoped>\n",
       "    .dataframe tbody tr th:only-of-type {\n",
       "        vertical-align: middle;\n",
       "    }\n",
       "\n",
       "    .dataframe tbody tr th {\n",
       "        vertical-align: top;\n",
       "    }\n",
       "\n",
       "    .dataframe thead th {\n",
       "        text-align: right;\n",
       "    }\n",
       "</style>\n",
       "<table border=\"1\" class=\"dataframe\">\n",
       "  <thead>\n",
       "    <tr style=\"text-align: right;\">\n",
       "      <th></th>\n",
       "      <th>params_batch_size</th>\n",
       "      <th>user_attrs_feature_sparsity</th>\n",
       "    </tr>\n",
       "  </thead>\n",
       "  <tbody>\n",
       "    <tr>\n",
       "      <th>0</th>\n",
       "      <td>4.00000</td>\n",
       "      <td>5000.0</td>\n",
       "    </tr>\n",
       "    <tr>\n",
       "      <th>1</th>\n",
       "      <td>5.00000</td>\n",
       "      <td>5000.0</td>\n",
       "    </tr>\n",
       "    <tr>\n",
       "      <th>...</th>\n",
       "      <td>...</td>\n",
       "      <td>...</td>\n",
       "    </tr>\n",
       "    <tr>\n",
       "      <th>44</th>\n",
       "      <td>9.97728</td>\n",
       "      <td>5000.0</td>\n",
       "    </tr>\n",
       "    <tr>\n",
       "      <th>45</th>\n",
       "      <td>10.00000</td>\n",
       "      <td>5000.0</td>\n",
       "    </tr>\n",
       "  </tbody>\n",
       "</table>\n",
       "<p>46 rows × 2 columns</p>\n",
       "</div>"
      ],
      "text/plain": [
       "    params_batch_size  user_attrs_feature_sparsity\n",
       "0             4.00000                       5000.0\n",
       "1             5.00000                       5000.0\n",
       "..                ...                          ...\n",
       "44            9.97728                       5000.0\n",
       "45           10.00000                       5000.0\n",
       "\n",
       "[46 rows x 2 columns]"
      ]
     },
     "execution_count": 155,
     "metadata": {},
     "output_type": "execute_result"
    }
   ],
   "source": [
    "df_sparse"
   ]
  },
  {
   "cell_type": "code",
   "execution_count": 156,
   "id": "0535ecbb",
   "metadata": {},
   "outputs": [
    {
     "data": {
      "text/plain": [
       "array([ 4.        ,  5.        ,  5.5849625 ,  6.32192809,  6.5849625 ,\n",
       "        6.80735492,  7.169925  ,  7.32192809,  7.5849625 ,  7.70043972,\n",
       "        7.80735492,  8.        ,  8.169925  ,  8.24792751,  8.32192809,\n",
       "        8.45943162,  8.52356196,  8.5849625 ,  8.64385619,  8.70043972,\n",
       "        8.7548875 ,  8.80735492,  8.857981  ,  8.9068906 ,  8.95419631,\n",
       "        9.        ,  9.08746284,  9.20945337,  9.32192809,  9.357552  ,\n",
       "        9.4918531 ,  9.52356196,  9.5849625 ,  9.61470984,  9.64385619,\n",
       "        9.70043972,  9.7548875 ,  9.78135971,  9.80735492,  9.83289001,\n",
       "        9.857981  ,  9.88264305,  9.9068906 ,  9.95419631,  9.97727992,\n",
       "       10.        ])"
      ]
     },
     "execution_count": 156,
     "metadata": {},
     "output_type": "execute_result"
    }
   ],
   "source": [
    "df_sparse.params_batch_size.values"
   ]
  },
  {
   "cell_type": "code",
   "execution_count": 157,
   "id": "805753b4",
   "metadata": {},
   "outputs": [
    {
     "name": "stderr",
     "output_type": "stream",
     "text": [
      "/home/gridsan/shibal/.local/lib/python3.8/site-packages/scipy/stats/_stats_py.py:4916: ConstantInputWarning: An input array is constant; the correlation coefficient is not defined.\n",
      "  warnings.warn(stats.ConstantInputWarning(warn_msg))\n"
     ]
    },
    {
     "data": {
      "text/plain": [
       "SignificanceResult(statistic=nan, pvalue=nan)"
      ]
     },
     "execution_count": 157,
     "metadata": {},
     "output_type": "execute_result"
    }
   ],
   "source": [
    "from scipy.stats import spearmanr \n",
    "spearmanr(df_sparse[\"params_batch_size\"].values, df_sparse[\"user_attrs_feature_sparsity\"].values)"
   ]
  },
  {
   "cell_type": "code",
   "execution_count": 158,
   "id": "a3ab9084",
   "metadata": {},
   "outputs": [
    {
     "data": {
      "text/plain": [
       "SignificanceResult(statistic=nan, pvalue=nan)"
      ]
     },
     "execution_count": 158,
     "metadata": {},
     "output_type": "execute_result"
    }
   ],
   "source": [
    "spearmanr(2**(df_sparse[\"params_batch_size\"].values), df_sparse[\"user_attrs_feature_sparsity\"].values)"
   ]
  },
  {
   "cell_type": "code",
   "execution_count": 283,
   "id": "e32cd299",
   "metadata": {},
   "outputs": [],
   "source": [
    "font = {'weight' : 'normal',\n",
    "        'size'   : 16}"
   ]
  },
  {
   "cell_type": "code",
   "execution_count": 292,
   "id": "e61f8cf8",
   "metadata": {},
   "outputs": [
    {
     "name": "stdout",
     "output_type": "stream",
     "text": [
      "PearsonRResult(statistic=-0.2636688025499189, pvalue=0.17518580551001878)\n"
     ]
    },
    {
     "data": {
      "image/png": "[encoded data removed]",
      "text/plain": [
       "<Figure size 600x400 with 1 Axes>"
      ]
     },
     "metadata": {},
     "output_type": "display_data"
    }
   ],
   "source": [
    "plt.rc('font', **font)\n",
    "fig, ax = plt.subplots(figsize=(6,4))\n",
    "plt.scatter(2**(df_sparse[\"params_batch_size\"]), df_sparse[\"user_attrs_feature_sparsity\"], marker=\"*\", color='b')\n",
    "\n",
    "x = 2**(df_sparse[\"params_batch_size\"])\n",
    "y = df_sparse[\"user_attrs_feature_sparsity\"]\n",
    "x = x[y<1100]\n",
    "y = y[y<1100]\n",
    "\n",
    "print(pearsonr(x, y))\n",
    "\n",
    "plt.plot(\n",
    "    np.unique(x),\n",
    "    np.poly1d(np.polyfit(x, y, 1))(np.unique(x)),\n",
    "    'r'\n",
    ")\n",
    "plt.xlabel(\"batch size\")\n",
    "plt.ylabel(\"#features\")\n",
    "ax = plt.gca()\n",
    "# ax.set_yscale('log')\n",
    "plt.draw()\n",
    "plt.savefig(\"sparsity-vs-batchsize-{}.pdf\".format(data+'-new'), bbox_inches='tight')\n",
    "plt.ylim([900,1100])\n",
    "plt.show()"
   ]
  },
  {
   "cell_type": "code",
   "execution_count": 242,
   "id": "5d6d96c4",
   "metadata": {},
   "outputs": [
    {
     "data": {
      "text/plain": [
       "2      48.0\n",
       "3      64.0\n",
       "      ...  \n",
       "29    480.0\n",
       "30    496.0\n",
       "Name: params_batch_size, Length: 29, dtype: float64"
      ]
     },
     "execution_count": 242,
     "metadata": {},
     "output_type": "execute_result"
    }
   ],
   "source": [
    "x"
   ]
  },
  {
   "cell_type": "code",
   "execution_count": null,
   "id": "36880bf4",
   "metadata": {},
   "outputs": [],
   "source": []
  }
 ],
 "metadata": {
  "kernelspec": {
   "display_name": "Python 3 (ipykernel)",
   "language": "python",
   "name": "python3"
  },
  "language_info": {
   "codemirror_mode": {
    "name": "ipython",
    "version": 3
   },
   "file_extension": ".py",
   "mimetype": "text/x-python",
   "name": "python",
   "nbconvert_exporter": "python",
   "pygments_lexer": "ipython3",
   "version": "3.8.15"
  },
  "latex_envs": {
   "LaTeX_envs_menu_present": true,
   "autoclose": false,
   "autocomplete": true,
   "bibliofile": "biblio.bib",
   "cite_by": "apalike",
   "current_citInitial": 1,
   "eqLabelWithNumbers": true,
   "eqNumInitial": 1,
   "hotkeys": {
    "equation": "Ctrl-E",
    "itemize": "Ctrl-I"
   },
   "labels_anchors": false,
   "latex_user_defs": false,
   "report_style_numbering": false,
   "user_envs_cfg": false
  },
  "toc": {
   "base_numbering": 1,
   "nav_menu": {},
   "number_sections": true,
   "sideBar": true,
   "skip_h1_title": false,
   "title_cell": "Table of Contents",
   "title_sidebar": "Contents",
   "toc_cell": false,
   "toc_position": {},
   "toc_section_display": true,
   "toc_window_display": false
  },
  "varInspector": {
   "cols": {
    "lenName": 16,
    "lenType": 16,
    "lenVar": 40
   },
   "kernels_config": {
    "python": {
     "delete_cmd_postfix": "",
     "delete_cmd_prefix": "del ",
     "library": "var_list.py",
     "varRefreshCmd": "print(var_dic_list())"
    },
    "r": {
     "delete_cmd_postfix": ") ",
     "delete_cmd_prefix": "rm(",
     "library": "var_list.r",
     "varRefreshCmd": "cat(var_dic_list()) "
    }
   },
   "types_to_exclude": [
    "module",
    "function",
    "builtin_function_or_method",
    "instance",
    "_Feature"
   ],
   "window_display": false
  }
 },
 "nbformat": 4,
 "nbformat_minor": 5
}
